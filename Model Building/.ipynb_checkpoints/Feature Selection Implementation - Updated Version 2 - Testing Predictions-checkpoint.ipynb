{
 "cells": [
  {
   "cell_type": "code",
   "execution_count": 169,
   "id": "b673e495",
   "metadata": {},
   "outputs": [],
   "source": [
    "import numpy as np\n",
    "import pandas as pd\n",
    "import matplotlib.pyplot as plt\n",
    "import seaborn as sns\n",
    "%matplotlib inline"
   ]
  },
  {
   "cell_type": "code",
   "execution_count": 170,
   "id": "e35618b2",
   "metadata": {},
   "outputs": [],
   "source": [
    "df = pd.read_csv('Clean Data_2.csv')"
   ]
  },
  {
   "cell_type": "code",
   "execution_count": 171,
   "id": "2b761f71",
   "metadata": {},
   "outputs": [
    {
     "data": {
      "text/html": [
       "<div>\n",
       "<style scoped>\n",
       "    .dataframe tbody tr th:only-of-type {\n",
       "        vertical-align: middle;\n",
       "    }\n",
       "\n",
       "    .dataframe tbody tr th {\n",
       "        vertical-align: top;\n",
       "    }\n",
       "\n",
       "    .dataframe thead th {\n",
       "        text-align: right;\n",
       "    }\n",
       "</style>\n",
       "<table border=\"1\" class=\"dataframe\">\n",
       "  <thead>\n",
       "    <tr style=\"text-align: right;\">\n",
       "      <th></th>\n",
       "      <th>Unnamed: 0</th>\n",
       "      <th>Age</th>\n",
       "      <th>Number of sexual partners</th>\n",
       "      <th>First sexual intercourse</th>\n",
       "      <th>Num of pregnancies</th>\n",
       "      <th>Smokes</th>\n",
       "      <th>Smokes (years)</th>\n",
       "      <th>Smokes (packs/year)</th>\n",
       "      <th>Hormonal Contraceptives</th>\n",
       "      <th>Hormonal Contraceptives (years)</th>\n",
       "      <th>...</th>\n",
       "      <th>STDs:HIV</th>\n",
       "      <th>STDs: Number of diagnosis</th>\n",
       "      <th>Dx:Cancer</th>\n",
       "      <th>Dx:CIN</th>\n",
       "      <th>Dx:HPV</th>\n",
       "      <th>Dx</th>\n",
       "      <th>Hinselmann</th>\n",
       "      <th>Schiller</th>\n",
       "      <th>Citology</th>\n",
       "      <th>Biopsy</th>\n",
       "    </tr>\n",
       "  </thead>\n",
       "  <tbody>\n",
       "    <tr>\n",
       "      <th>0</th>\n",
       "      <td>0</td>\n",
       "      <td>18</td>\n",
       "      <td>4.0</td>\n",
       "      <td>15.0</td>\n",
       "      <td>1.0</td>\n",
       "      <td>0.0</td>\n",
       "      <td>0.0</td>\n",
       "      <td>0.0</td>\n",
       "      <td>0.0</td>\n",
       "      <td>0.0</td>\n",
       "      <td>...</td>\n",
       "      <td>0.0</td>\n",
       "      <td>0</td>\n",
       "      <td>0</td>\n",
       "      <td>0</td>\n",
       "      <td>0</td>\n",
       "      <td>0</td>\n",
       "      <td>0</td>\n",
       "      <td>0</td>\n",
       "      <td>0</td>\n",
       "      <td>0</td>\n",
       "    </tr>\n",
       "    <tr>\n",
       "      <th>1</th>\n",
       "      <td>1</td>\n",
       "      <td>15</td>\n",
       "      <td>1.0</td>\n",
       "      <td>14.0</td>\n",
       "      <td>1.0</td>\n",
       "      <td>0.0</td>\n",
       "      <td>0.0</td>\n",
       "      <td>0.0</td>\n",
       "      <td>0.0</td>\n",
       "      <td>0.0</td>\n",
       "      <td>...</td>\n",
       "      <td>0.0</td>\n",
       "      <td>0</td>\n",
       "      <td>0</td>\n",
       "      <td>0</td>\n",
       "      <td>0</td>\n",
       "      <td>0</td>\n",
       "      <td>0</td>\n",
       "      <td>0</td>\n",
       "      <td>0</td>\n",
       "      <td>0</td>\n",
       "    </tr>\n",
       "    <tr>\n",
       "      <th>2</th>\n",
       "      <td>2</td>\n",
       "      <td>34</td>\n",
       "      <td>1.0</td>\n",
       "      <td>17.0</td>\n",
       "      <td>1.0</td>\n",
       "      <td>0.0</td>\n",
       "      <td>0.0</td>\n",
       "      <td>0.0</td>\n",
       "      <td>0.0</td>\n",
       "      <td>0.0</td>\n",
       "      <td>...</td>\n",
       "      <td>0.0</td>\n",
       "      <td>0</td>\n",
       "      <td>0</td>\n",
       "      <td>0</td>\n",
       "      <td>0</td>\n",
       "      <td>0</td>\n",
       "      <td>0</td>\n",
       "      <td>0</td>\n",
       "      <td>0</td>\n",
       "      <td>0</td>\n",
       "    </tr>\n",
       "    <tr>\n",
       "      <th>3</th>\n",
       "      <td>3</td>\n",
       "      <td>52</td>\n",
       "      <td>5.0</td>\n",
       "      <td>16.0</td>\n",
       "      <td>4.0</td>\n",
       "      <td>1.0</td>\n",
       "      <td>37.0</td>\n",
       "      <td>37.0</td>\n",
       "      <td>1.0</td>\n",
       "      <td>3.0</td>\n",
       "      <td>...</td>\n",
       "      <td>0.0</td>\n",
       "      <td>0</td>\n",
       "      <td>1</td>\n",
       "      <td>0</td>\n",
       "      <td>1</td>\n",
       "      <td>0</td>\n",
       "      <td>0</td>\n",
       "      <td>0</td>\n",
       "      <td>0</td>\n",
       "      <td>0</td>\n",
       "    </tr>\n",
       "    <tr>\n",
       "      <th>4</th>\n",
       "      <td>4</td>\n",
       "      <td>46</td>\n",
       "      <td>3.0</td>\n",
       "      <td>21.0</td>\n",
       "      <td>4.0</td>\n",
       "      <td>0.0</td>\n",
       "      <td>0.0</td>\n",
       "      <td>0.0</td>\n",
       "      <td>1.0</td>\n",
       "      <td>15.0</td>\n",
       "      <td>...</td>\n",
       "      <td>0.0</td>\n",
       "      <td>0</td>\n",
       "      <td>0</td>\n",
       "      <td>0</td>\n",
       "      <td>0</td>\n",
       "      <td>0</td>\n",
       "      <td>0</td>\n",
       "      <td>0</td>\n",
       "      <td>0</td>\n",
       "      <td>0</td>\n",
       "    </tr>\n",
       "  </tbody>\n",
       "</table>\n",
       "<p>5 rows × 25 columns</p>\n",
       "</div>"
      ],
      "text/plain": [
       "   Unnamed: 0  Age  Number of sexual partners  First sexual intercourse  \\\n",
       "0           0   18                        4.0                      15.0   \n",
       "1           1   15                        1.0                      14.0   \n",
       "2           2   34                        1.0                      17.0   \n",
       "3           3   52                        5.0                      16.0   \n",
       "4           4   46                        3.0                      21.0   \n",
       "\n",
       "   Num of pregnancies  Smokes  Smokes (years)  Smokes (packs/year)  \\\n",
       "0                 1.0     0.0             0.0                  0.0   \n",
       "1                 1.0     0.0             0.0                  0.0   \n",
       "2                 1.0     0.0             0.0                  0.0   \n",
       "3                 4.0     1.0            37.0                 37.0   \n",
       "4                 4.0     0.0             0.0                  0.0   \n",
       "\n",
       "   Hormonal Contraceptives  Hormonal Contraceptives (years)  ...  STDs:HIV  \\\n",
       "0                      0.0                              0.0  ...       0.0   \n",
       "1                      0.0                              0.0  ...       0.0   \n",
       "2                      0.0                              0.0  ...       0.0   \n",
       "3                      1.0                              3.0  ...       0.0   \n",
       "4                      1.0                             15.0  ...       0.0   \n",
       "\n",
       "   STDs: Number of diagnosis  Dx:Cancer  Dx:CIN  Dx:HPV  Dx  Hinselmann  \\\n",
       "0                          0          0       0       0   0           0   \n",
       "1                          0          0       0       0   0           0   \n",
       "2                          0          0       0       0   0           0   \n",
       "3                          0          1       0       1   0           0   \n",
       "4                          0          0       0       0   0           0   \n",
       "\n",
       "   Schiller  Citology  Biopsy  \n",
       "0         0         0       0  \n",
       "1         0         0       0  \n",
       "2         0         0       0  \n",
       "3         0         0       0  \n",
       "4         0         0       0  \n",
       "\n",
       "[5 rows x 25 columns]"
      ]
     },
     "execution_count": 171,
     "metadata": {},
     "output_type": "execute_result"
    }
   ],
   "source": [
    "df.head()"
   ]
  },
  {
   "cell_type": "code",
   "execution_count": 172,
   "id": "056f682e",
   "metadata": {},
   "outputs": [],
   "source": [
    "df.drop('Unnamed: 0',axis=1,inplace=True)"
   ]
  },
  {
   "cell_type": "code",
   "execution_count": 173,
   "id": "5f999d04",
   "metadata": {},
   "outputs": [],
   "source": [
    "from sklearn.model_selection import train_test_split"
   ]
  },
  {
   "cell_type": "code",
   "execution_count": 174,
   "id": "6189f627",
   "metadata": {},
   "outputs": [],
   "source": [
    "X = df.drop('Biopsy',axis=1)\n",
    "y = df['Biopsy']"
   ]
  },
  {
   "cell_type": "code",
   "execution_count": 175,
   "id": "f208f86a",
   "metadata": {},
   "outputs": [],
   "source": [
    "X_train, X_test, y_train, y_test = train_test_split(X, y, test_size=0.33, random_state=101)"
   ]
  },
  {
   "cell_type": "markdown",
   "id": "4a88a646",
   "metadata": {},
   "source": [
    "## Building Decision Tree model before implementing Feature Selection"
   ]
  },
  {
   "cell_type": "code",
   "execution_count": 176,
   "id": "387fa97f",
   "metadata": {},
   "outputs": [],
   "source": [
    "from sklearn.tree import DecisionTreeClassifier"
   ]
  },
  {
   "cell_type": "code",
   "execution_count": 177,
   "id": "d0492416",
   "metadata": {},
   "outputs": [],
   "source": [
    "model = DecisionTreeClassifier()"
   ]
  },
  {
   "cell_type": "code",
   "execution_count": 178,
   "id": "1a9e5eec",
   "metadata": {},
   "outputs": [
    {
     "data": {
      "text/plain": [
       "DecisionTreeClassifier()"
      ]
     },
     "execution_count": 178,
     "metadata": {},
     "output_type": "execute_result"
    }
   ],
   "source": [
    "model.fit(X_train,y_train)"
   ]
  },
  {
   "cell_type": "code",
   "execution_count": 179,
   "id": "e1359532",
   "metadata": {},
   "outputs": [],
   "source": [
    "predictions = model.predict(X_test)"
   ]
  },
  {
   "cell_type": "code",
   "execution_count": 180,
   "id": "b194a869",
   "metadata": {},
   "outputs": [
    {
     "name": "stdout",
     "output_type": "stream",
     "text": [
      "Accuracy Score: 0.9611307420494699\n",
      "\n",
      "\n",
      "              precision    recall  f1-score   support\n",
      "\n",
      "           0       0.97      0.98      0.98       263\n",
      "           1       0.76      0.65      0.70        20\n",
      "\n",
      "    accuracy                           0.96       283\n",
      "   macro avg       0.87      0.82      0.84       283\n",
      "weighted avg       0.96      0.96      0.96       283\n",
      "\n",
      "\n",
      "\n",
      "[[259   4]\n",
      " [  7  13]]\n"
     ]
    }
   ],
   "source": [
    "from sklearn.metrics import classification_report,confusion_matrix,accuracy_score\n",
    "\n",
    "print('Accuracy Score:',accuracy_score(y_test,predictions))\n",
    "print('\\n')\n",
    "print(classification_report(y_test,predictions))\n",
    "print('\\n')\n",
    "print(confusion_matrix(y_test,predictions))"
   ]
  },
  {
   "cell_type": "markdown",
   "id": "c18a3148",
   "metadata": {},
   "source": [
    "## Building Decision Tree model after implementing Feature Selection"
   ]
  },
  {
   "cell_type": "code",
   "execution_count": 181,
   "id": "5b03eeab",
   "metadata": {},
   "outputs": [],
   "source": [
    "from sklearn.ensemble import ExtraTreesClassifier\n",
    "from sklearn.feature_selection import SelectFromModel"
   ]
  },
  {
   "cell_type": "code",
   "execution_count": 182,
   "id": "6e6fd0c7",
   "metadata": {},
   "outputs": [
    {
     "data": {
      "text/plain": [
       "(856, 23)"
      ]
     },
     "execution_count": 182,
     "metadata": {},
     "output_type": "execute_result"
    }
   ],
   "source": [
    "X.shape"
   ]
  },
  {
   "cell_type": "code",
   "execution_count": 183,
   "id": "08eb5b55",
   "metadata": {},
   "outputs": [
    {
     "data": {
      "text/plain": [
       "array([0.07742455, 0.06011053, 0.07678803, 0.05050312, 0.00649506,\n",
       "       0.01441455, 0.0125461 , 0.02038842, 0.05972536, 0.01021225,\n",
       "       0.01639031, 0.00982861, 0.00747567, 0.00752113, 0.00697591,\n",
       "       0.00923543, 0.00843415, 0.00976697, 0.00975137, 0.01084048,\n",
       "       0.16316355, 0.29164776, 0.06036069])"
      ]
     },
     "execution_count": 183,
     "metadata": {},
     "output_type": "execute_result"
    }
   ],
   "source": [
    "clf = ExtraTreesClassifier(n_estimators=50)\n",
    "clf = clf.fit(X, y)\n",
    "clf.feature_importances_"
   ]
  },
  {
   "cell_type": "code",
   "execution_count": 184,
   "id": "b5f0805c",
   "metadata": {},
   "outputs": [],
   "source": [
    "feat_importances = pd.Series(clf.feature_importances_, index=X.columns)"
   ]
  },
  {
   "cell_type": "code",
   "execution_count": 185,
   "id": "c6875616",
   "metadata": {},
   "outputs": [
    {
     "data": {
      "text/plain": [
       "Age                                0.077425\n",
       "Number of sexual partners          0.060111\n",
       "First sexual intercourse           0.076788\n",
       "Num of pregnancies                 0.050503\n",
       "Smokes                             0.006495\n",
       "Smokes (years)                     0.014415\n",
       "Smokes (packs/year)                0.012546\n",
       "Hormonal Contraceptives            0.020388\n",
       "Hormonal Contraceptives (years)    0.059725\n",
       "IUD                                0.010212\n",
       "IUD (years)                        0.016390\n",
       "STDs                               0.009829\n",
       "STDs:condylomatosis                0.007476\n",
       "STDs:syphilis                      0.007521\n",
       "STDs:HIV                           0.006976\n",
       "STDs: Number of diagnosis          0.009235\n",
       "Dx:Cancer                          0.008434\n",
       "Dx:CIN                             0.009767\n",
       "Dx:HPV                             0.009751\n",
       "Dx                                 0.010840\n",
       "Hinselmann                         0.163164\n",
       "Schiller                           0.291648\n",
       "Citology                           0.060361\n",
       "dtype: float64"
      ]
     },
     "execution_count": 185,
     "metadata": {},
     "output_type": "execute_result"
    }
   ],
   "source": [
    "feat_importances"
   ]
  },
  {
   "cell_type": "code",
   "execution_count": 186,
   "id": "669dd885",
   "metadata": {},
   "outputs": [
    {
     "data": {
      "text/plain": [
       "<AxesSubplot:>"
      ]
     },
     "execution_count": 186,
     "metadata": {},
     "output_type": "execute_result"
    },
    {
     "data": {
      "image/png": "[encoded data removed]",
      "text/plain": [
       "<Figure size 432x288 with 1 Axes>"
      ]
     },
     "metadata": {
      "needs_background": "light"
     },
     "output_type": "display_data"
    }
   ],
   "source": [
    "feat_importances.nlargest(10).plot(kind='barh')"
   ]
  },
  {
   "cell_type": "code",
   "execution_count": 187,
   "id": "096fa7fb",
   "metadata": {},
   "outputs": [],
   "source": [
    "model = SelectFromModel(clf, prefit=True)"
   ]
  },
  {
   "cell_type": "code",
   "execution_count": 188,
   "id": "6a9da458",
   "metadata": {},
   "outputs": [],
   "source": [
    "X_new = model.transform(X)"
   ]
  },
  {
   "cell_type": "code",
   "execution_count": 189,
   "id": "ffceb273",
   "metadata": {},
   "outputs": [
    {
     "data": {
      "text/plain": [
       "(856, 8)"
      ]
     },
     "execution_count": 189,
     "metadata": {},
     "output_type": "execute_result"
    }
   ],
   "source": [
    "X_new.shape"
   ]
  },
  {
   "cell_type": "code",
   "execution_count": 190,
   "id": "07c5e522",
   "metadata": {},
   "outputs": [],
   "source": [
    "X_train, X_test, y_train, y_test = train_test_split(X_new, y, test_size=0.33, random_state=101)"
   ]
  },
  {
   "cell_type": "code",
   "execution_count": 191,
   "id": "38268c84",
   "metadata": {},
   "outputs": [],
   "source": [
    "new_model = DecisionTreeClassifier()"
   ]
  },
  {
   "cell_type": "code",
   "execution_count": 192,
   "id": "9e79346d",
   "metadata": {},
   "outputs": [
    {
     "data": {
      "text/plain": [
       "DecisionTreeClassifier()"
      ]
     },
     "execution_count": 192,
     "metadata": {},
     "output_type": "execute_result"
    }
   ],
   "source": [
    "new_model.fit(X_train,y_train)"
   ]
  },
  {
   "cell_type": "code",
   "execution_count": 193,
   "id": "a028e4d9",
   "metadata": {},
   "outputs": [],
   "source": [
    "predictions = new_model.predict(X_test)"
   ]
  },
  {
   "cell_type": "code",
   "execution_count": 194,
   "id": "cc28ae26",
   "metadata": {},
   "outputs": [
    {
     "name": "stdout",
     "output_type": "stream",
     "text": [
      "Accuracy Score: 0.9611307420494699\n",
      "\n",
      "\n",
      "              precision    recall  f1-score   support\n",
      "\n",
      "           0       0.97      0.98      0.98       263\n",
      "           1       0.76      0.65      0.70        20\n",
      "\n",
      "    accuracy                           0.96       283\n",
      "   macro avg       0.87      0.82      0.84       283\n",
      "weighted avg       0.96      0.96      0.96       283\n",
      "\n",
      "\n",
      "\n",
      "[[259   4]\n",
      " [  7  13]]\n"
     ]
    }
   ],
   "source": [
    "print('Accuracy Score:',accuracy_score(y_test,predictions))\n",
    "print('\\n')\n",
    "print(classification_report(y_test,predictions))\n",
    "print('\\n')\n",
    "print(confusion_matrix(y_test,predictions))"
   ]
  },
  {
   "cell_type": "code",
   "execution_count": 195,
   "id": "59555ff1",
   "metadata": {},
   "outputs": [
    {
     "data": {
      "text/plain": [
       "array([[18.,  4., 15., ...,  0.,  0.,  0.],\n",
       "       [15.,  1., 14., ...,  0.,  0.,  0.],\n",
       "       [34.,  1., 17., ...,  0.,  0.,  0.],\n",
       "       ...,\n",
       "       [25.,  2., 17., ...,  0.,  0.,  1.],\n",
       "       [33.,  2., 24., ...,  0.,  0.,  0.],\n",
       "       [29.,  2., 20., ...,  0.,  0.,  0.]])"
      ]
     },
     "execution_count": 195,
     "metadata": {},
     "output_type": "execute_result"
    }
   ],
   "source": [
    "X_new"
   ]
  },
  {
   "cell_type": "code",
   "execution_count": 196,
   "id": "cd0c9125",
   "metadata": {},
   "outputs": [],
   "source": [
    "selected_feature = pd.DataFrame(X_new)"
   ]
  },
  {
   "cell_type": "code",
   "execution_count": 197,
   "id": "00f96056",
   "metadata": {},
   "outputs": [
    {
     "data": {
      "text/html": [
       "<div>\n",
       "<style scoped>\n",
       "    .dataframe tbody tr th:only-of-type {\n",
       "        vertical-align: middle;\n",
       "    }\n",
       "\n",
       "    .dataframe tbody tr th {\n",
       "        vertical-align: top;\n",
       "    }\n",
       "\n",
       "    .dataframe thead th {\n",
       "        text-align: right;\n",
       "    }\n",
       "</style>\n",
       "<table border=\"1\" class=\"dataframe\">\n",
       "  <thead>\n",
       "    <tr style=\"text-align: right;\">\n",
       "      <th></th>\n",
       "      <th>0</th>\n",
       "      <th>1</th>\n",
       "      <th>2</th>\n",
       "      <th>3</th>\n",
       "      <th>4</th>\n",
       "      <th>5</th>\n",
       "      <th>6</th>\n",
       "      <th>7</th>\n",
       "    </tr>\n",
       "  </thead>\n",
       "  <tbody>\n",
       "    <tr>\n",
       "      <th>0</th>\n",
       "      <td>18.0</td>\n",
       "      <td>4.0</td>\n",
       "      <td>15.0</td>\n",
       "      <td>1.0</td>\n",
       "      <td>0.00</td>\n",
       "      <td>0.0</td>\n",
       "      <td>0.0</td>\n",
       "      <td>0.0</td>\n",
       "    </tr>\n",
       "    <tr>\n",
       "      <th>1</th>\n",
       "      <td>15.0</td>\n",
       "      <td>1.0</td>\n",
       "      <td>14.0</td>\n",
       "      <td>1.0</td>\n",
       "      <td>0.00</td>\n",
       "      <td>0.0</td>\n",
       "      <td>0.0</td>\n",
       "      <td>0.0</td>\n",
       "    </tr>\n",
       "    <tr>\n",
       "      <th>2</th>\n",
       "      <td>34.0</td>\n",
       "      <td>1.0</td>\n",
       "      <td>17.0</td>\n",
       "      <td>1.0</td>\n",
       "      <td>0.00</td>\n",
       "      <td>0.0</td>\n",
       "      <td>0.0</td>\n",
       "      <td>0.0</td>\n",
       "    </tr>\n",
       "    <tr>\n",
       "      <th>3</th>\n",
       "      <td>52.0</td>\n",
       "      <td>5.0</td>\n",
       "      <td>16.0</td>\n",
       "      <td>4.0</td>\n",
       "      <td>3.00</td>\n",
       "      <td>0.0</td>\n",
       "      <td>0.0</td>\n",
       "      <td>0.0</td>\n",
       "    </tr>\n",
       "    <tr>\n",
       "      <th>4</th>\n",
       "      <td>46.0</td>\n",
       "      <td>3.0</td>\n",
       "      <td>21.0</td>\n",
       "      <td>4.0</td>\n",
       "      <td>15.00</td>\n",
       "      <td>0.0</td>\n",
       "      <td>0.0</td>\n",
       "      <td>0.0</td>\n",
       "    </tr>\n",
       "    <tr>\n",
       "      <th>...</th>\n",
       "      <td>...</td>\n",
       "      <td>...</td>\n",
       "      <td>...</td>\n",
       "      <td>...</td>\n",
       "      <td>...</td>\n",
       "      <td>...</td>\n",
       "      <td>...</td>\n",
       "      <td>...</td>\n",
       "    </tr>\n",
       "    <tr>\n",
       "      <th>851</th>\n",
       "      <td>34.0</td>\n",
       "      <td>3.0</td>\n",
       "      <td>18.0</td>\n",
       "      <td>0.0</td>\n",
       "      <td>0.00</td>\n",
       "      <td>0.0</td>\n",
       "      <td>0.0</td>\n",
       "      <td>0.0</td>\n",
       "    </tr>\n",
       "    <tr>\n",
       "      <th>852</th>\n",
       "      <td>32.0</td>\n",
       "      <td>2.0</td>\n",
       "      <td>19.0</td>\n",
       "      <td>1.0</td>\n",
       "      <td>8.00</td>\n",
       "      <td>0.0</td>\n",
       "      <td>0.0</td>\n",
       "      <td>0.0</td>\n",
       "    </tr>\n",
       "    <tr>\n",
       "      <th>853</th>\n",
       "      <td>25.0</td>\n",
       "      <td>2.0</td>\n",
       "      <td>17.0</td>\n",
       "      <td>0.0</td>\n",
       "      <td>0.08</td>\n",
       "      <td>0.0</td>\n",
       "      <td>0.0</td>\n",
       "      <td>1.0</td>\n",
       "    </tr>\n",
       "    <tr>\n",
       "      <th>854</th>\n",
       "      <td>33.0</td>\n",
       "      <td>2.0</td>\n",
       "      <td>24.0</td>\n",
       "      <td>2.0</td>\n",
       "      <td>0.08</td>\n",
       "      <td>0.0</td>\n",
       "      <td>0.0</td>\n",
       "      <td>0.0</td>\n",
       "    </tr>\n",
       "    <tr>\n",
       "      <th>855</th>\n",
       "      <td>29.0</td>\n",
       "      <td>2.0</td>\n",
       "      <td>20.0</td>\n",
       "      <td>1.0</td>\n",
       "      <td>0.50</td>\n",
       "      <td>0.0</td>\n",
       "      <td>0.0</td>\n",
       "      <td>0.0</td>\n",
       "    </tr>\n",
       "  </tbody>\n",
       "</table>\n",
       "<p>856 rows × 8 columns</p>\n",
       "</div>"
      ],
      "text/plain": [
       "        0    1     2    3      4    5    6    7\n",
       "0    18.0  4.0  15.0  1.0   0.00  0.0  0.0  0.0\n",
       "1    15.0  1.0  14.0  1.0   0.00  0.0  0.0  0.0\n",
       "2    34.0  1.0  17.0  1.0   0.00  0.0  0.0  0.0\n",
       "3    52.0  5.0  16.0  4.0   3.00  0.0  0.0  0.0\n",
       "4    46.0  3.0  21.0  4.0  15.00  0.0  0.0  0.0\n",
       "..    ...  ...   ...  ...    ...  ...  ...  ...\n",
       "851  34.0  3.0  18.0  0.0   0.00  0.0  0.0  0.0\n",
       "852  32.0  2.0  19.0  1.0   8.00  0.0  0.0  0.0\n",
       "853  25.0  2.0  17.0  0.0   0.08  0.0  0.0  1.0\n",
       "854  33.0  2.0  24.0  2.0   0.08  0.0  0.0  0.0\n",
       "855  29.0  2.0  20.0  1.0   0.50  0.0  0.0  0.0\n",
       "\n",
       "[856 rows x 8 columns]"
      ]
     },
     "execution_count": 197,
     "metadata": {},
     "output_type": "execute_result"
    }
   ],
   "source": [
    "selected_feature"
   ]
  },
  {
   "cell_type": "markdown",
   "id": "87d88b5d",
   "metadata": {},
   "source": [
    "## Univariate feature selection"
   ]
  },
  {
   "cell_type": "code",
   "execution_count": 198,
   "id": "843b88dd",
   "metadata": {},
   "outputs": [],
   "source": [
    "from sklearn.feature_selection import SelectKBest\n",
    "from sklearn.feature_selection import chi2"
   ]
  },
  {
   "cell_type": "code",
   "execution_count": 199,
   "id": "81da3e8b",
   "metadata": {},
   "outputs": [],
   "source": [
    "bestfeatures = SelectKBest(score_func=chi2, k=10)"
   ]
  },
  {
   "cell_type": "code",
   "execution_count": 200,
   "id": "80ce03ac",
   "metadata": {},
   "outputs": [],
   "source": [
    "fit = bestfeatures.fit(X,y)"
   ]
  },
  {
   "cell_type": "code",
   "execution_count": 201,
   "id": "a869155a",
   "metadata": {},
   "outputs": [],
   "source": [
    "dfscores = pd.DataFrame(fit.scores_)\n",
    "dfcolumns = pd.DataFrame(X.columns)"
   ]
  },
  {
   "cell_type": "code",
   "execution_count": 202,
   "id": "38d08403",
   "metadata": {},
   "outputs": [],
   "source": [
    "featureScores = pd.concat([dfcolumns,dfscores],axis=1)"
   ]
  },
  {
   "cell_type": "code",
   "execution_count": 203,
   "id": "54a2265d",
   "metadata": {},
   "outputs": [],
   "source": [
    "featureScores.columns = ['Specs','Score']"
   ]
  },
  {
   "cell_type": "code",
   "execution_count": 210,
   "id": "765f73ec",
   "metadata": {},
   "outputs": [
    {
     "name": "stdout",
     "output_type": "stream",
     "text": [
      "                              Specs       Score\n",
      "21                         Schiller  420.338313\n",
      "20                       Hinselmann  245.975404\n",
      "22                         Citology   87.023526\n",
      "5                    Smokes (years)   44.465395\n",
      "8   Hormonal Contraceptives (years)   26.425415\n",
      "18                           Dx:HPV   21.676586\n",
      "16                        Dx:Cancer   21.676586\n",
      "19                               Dx   20.644255\n",
      "10                      IUD (years)   16.726887\n",
      "14                         STDs:HIV   13.649731\n",
      "17                           Dx:CIN   10.838293\n",
      "11                             STDs   10.093634\n",
      "15        STDs: Number of diagnosis    8.766596\n",
      "0                               Age    7.105021\n",
      "12              STDs:condylomatosis    6.944348\n",
      "6               Smokes (packs/year)    5.956898\n",
      "9                               IUD    4.515031\n",
      "13                    STDs:syphilis    1.304619\n",
      "3                Num of pregnancies    1.184499\n",
      "4                            Smokes    0.636779\n",
      "1         Number of sexual partners    0.041626\n",
      "2          First sexual intercourse    0.016008\n",
      "7           Hormonal Contraceptives    0.000895\n"
     ]
    }
   ],
   "source": [
    "print(featureScores.sort_values(ascending=False,by='Score'))"
   ]
  },
  {
   "cell_type": "code",
   "execution_count": 205,
   "id": "3bbfaca3",
   "metadata": {},
   "outputs": [
    {
     "data": {
      "text/plain": [
       "Text(0, 0.5, 'Accuracy Score')"
      ]
     },
     "execution_count": 205,
     "metadata": {},
     "output_type": "execute_result"
    },
    {
     "data": {
      "image/png": "[encoded data removed]",
      "text/plain": [
       "<Figure size 720x432 with 1 Axes>"
      ]
     },
     "metadata": {
      "needs_background": "light"
     },
     "output_type": "display_data"
    }
   ],
   "source": [
    "accuracy = []\n",
    "for i in range(1,20):\n",
    "    X_new = SelectKBest(chi2, k=i).fit_transform(X, y)\n",
    "    X_train, X_test, y_train, y_test = train_test_split(X_new, y, test_size=0.33, random_state=101)\n",
    "    new_model = DecisionTreeClassifier()\n",
    "    new_model.fit(X_train,y_train)\n",
    "    predictions = new_model.predict(X_test)\n",
    "    accuracy.append(accuracy_score(y_test,predictions))\n",
    "plt.figure(figsize=(10,6))\n",
    "plt.plot(range(1,20),accuracy,color='blue',linestyle='--',marker='o',markerfacecolor='red',markersize=10)\n",
    "plt.title('Accuracy Score vs K value')\n",
    "plt.xlabel('K')\n",
    "plt.ylabel('Accuracy Score')"
   ]
  },
  {
   "cell_type": "code",
   "execution_count": 206,
   "id": "17bd78c7",
   "metadata": {},
   "outputs": [],
   "source": [
    "X_new = SelectKBest(chi2, k=2).fit_transform(X, y)"
   ]
  },
  {
   "cell_type": "code",
   "execution_count": 207,
   "id": "2c032538",
   "metadata": {},
   "outputs": [
    {
     "data": {
      "text/plain": [
       "(856, 2)"
      ]
     },
     "execution_count": 207,
     "metadata": {},
     "output_type": "execute_result"
    }
   ],
   "source": [
    "X_new.shape"
   ]
  },
  {
   "cell_type": "code",
   "execution_count": 208,
   "id": "4391119f",
   "metadata": {},
   "outputs": [],
   "source": [
    "X_train, X_test, y_train, y_test = train_test_split(X_new, y, test_size=0.33, random_state=101)\n",
    "new_model = DecisionTreeClassifier()\n",
    "new_model.fit(X_train,y_train)\n",
    "predictions = new_model.predict(X_test)"
   ]
  },
  {
   "cell_type": "code",
   "execution_count": 209,
   "id": "831ec4de",
   "metadata": {},
   "outputs": [
    {
     "name": "stdout",
     "output_type": "stream",
     "text": [
      "Accuracy Score: 0.9646643109540636\n",
      "\n",
      "\n",
      "              precision    recall  f1-score   support\n",
      "\n",
      "           0       0.99      0.97      0.98       263\n",
      "           1       0.69      0.90      0.78        20\n",
      "\n",
      "    accuracy                           0.96       283\n",
      "   macro avg       0.84      0.93      0.88       283\n",
      "weighted avg       0.97      0.96      0.97       283\n",
      "\n",
      "\n",
      "\n",
      "[[255   8]\n",
      " [  2  18]]\n"
     ]
    }
   ],
   "source": [
    "print('Accuracy Score:',accuracy_score(y_test,predictions))\n",
    "print('\\n')\n",
    "print(classification_report(y_test,predictions))\n",
    "print('\\n')\n",
    "print(confusion_matrix(y_test,predictions))"
   ]
  },
  {
   "cell_type": "code",
   "execution_count": 168,
   "id": "dc81aec5",
   "metadata": {},
   "outputs": [
    {
     "data": {
      "text/html": [
       "<div>\n",
       "<style scoped>\n",
       "    .dataframe tbody tr th:only-of-type {\n",
       "        vertical-align: middle;\n",
       "    }\n",
       "\n",
       "    .dataframe tbody tr th {\n",
       "        vertical-align: top;\n",
       "    }\n",
       "\n",
       "    .dataframe thead th {\n",
       "        text-align: right;\n",
       "    }\n",
       "</style>\n",
       "<table border=\"1\" class=\"dataframe\">\n",
       "  <thead>\n",
       "    <tr style=\"text-align: right;\">\n",
       "      <th></th>\n",
       "      <th>Hinselmann</th>\n",
       "      <th>Schiller</th>\n",
       "    </tr>\n",
       "  </thead>\n",
       "  <tbody>\n",
       "    <tr>\n",
       "      <th>0</th>\n",
       "      <td>0</td>\n",
       "      <td>0</td>\n",
       "    </tr>\n",
       "    <tr>\n",
       "      <th>1</th>\n",
       "      <td>0</td>\n",
       "      <td>0</td>\n",
       "    </tr>\n",
       "    <tr>\n",
       "      <th>2</th>\n",
       "      <td>0</td>\n",
       "      <td>0</td>\n",
       "    </tr>\n",
       "    <tr>\n",
       "      <th>3</th>\n",
       "      <td>0</td>\n",
       "      <td>0</td>\n",
       "    </tr>\n",
       "    <tr>\n",
       "      <th>4</th>\n",
       "      <td>0</td>\n",
       "      <td>0</td>\n",
       "    </tr>\n",
       "    <tr>\n",
       "      <th>...</th>\n",
       "      <td>...</td>\n",
       "      <td>...</td>\n",
       "    </tr>\n",
       "    <tr>\n",
       "      <th>851</th>\n",
       "      <td>0</td>\n",
       "      <td>0</td>\n",
       "    </tr>\n",
       "    <tr>\n",
       "      <th>852</th>\n",
       "      <td>0</td>\n",
       "      <td>0</td>\n",
       "    </tr>\n",
       "    <tr>\n",
       "      <th>853</th>\n",
       "      <td>0</td>\n",
       "      <td>0</td>\n",
       "    </tr>\n",
       "    <tr>\n",
       "      <th>854</th>\n",
       "      <td>0</td>\n",
       "      <td>0</td>\n",
       "    </tr>\n",
       "    <tr>\n",
       "      <th>855</th>\n",
       "      <td>0</td>\n",
       "      <td>0</td>\n",
       "    </tr>\n",
       "  </tbody>\n",
       "</table>\n",
       "<p>856 rows × 2 columns</p>\n",
       "</div>"
      ],
      "text/plain": [
       "     Hinselmann  Schiller\n",
       "0             0         0\n",
       "1             0         0\n",
       "2             0         0\n",
       "3             0         0\n",
       "4             0         0\n",
       "..          ...       ...\n",
       "851           0         0\n",
       "852           0         0\n",
       "853           0         0\n",
       "854           0         0\n",
       "855           0         0\n",
       "\n",
       "[856 rows x 2 columns]"
      ]
     },
     "execution_count": 168,
     "metadata": {},
     "output_type": "execute_result"
    }
   ],
   "source": [
    "X[['Hinselmann','Schiller']]"
   ]
  },
  {
   "cell_type": "code",
   "execution_count": 101,
   "id": "41a1f2c6",
   "metadata": {},
   "outputs": [
    {
     "data": {
      "text/plain": [
       "array([[0., 0.],\n",
       "       [0., 0.],\n",
       "       [0., 0.],\n",
       "       ...,\n",
       "       [0., 0.],\n",
       "       [0., 0.],\n",
       "       [0., 0.]])"
      ]
     },
     "execution_count": 101,
     "metadata": {},
     "output_type": "execute_result"
    }
   ],
   "source": [
    "X_new"
   ]
  },
  {
   "cell_type": "markdown",
   "id": "33341b2a",
   "metadata": {},
   "source": [
    "## Building model using Logistic Regression"
   ]
  },
  {
   "cell_type": "code",
   "execution_count": 102,
   "id": "b8d1ae3b",
   "metadata": {},
   "outputs": [],
   "source": [
    "from sklearn.linear_model import LogisticRegression"
   ]
  },
  {
   "cell_type": "code",
   "execution_count": 103,
   "id": "68d8da1b",
   "metadata": {},
   "outputs": [],
   "source": [
    "model = LogisticRegression(max_iter=10000)"
   ]
  },
  {
   "cell_type": "code",
   "execution_count": 104,
   "id": "630b0398",
   "metadata": {},
   "outputs": [],
   "source": [
    "X = df.drop('Biopsy',axis=1)\n",
    "y = df['Biopsy']"
   ]
  },
  {
   "cell_type": "code",
   "execution_count": 105,
   "id": "1c84d7ad",
   "metadata": {},
   "outputs": [],
   "source": [
    "X_train, X_test, y_train, y_test = train_test_split(X, y, test_size=0.33, random_state=101)"
   ]
  },
  {
   "cell_type": "code",
   "execution_count": 106,
   "id": "38e8da19",
   "metadata": {},
   "outputs": [
    {
     "data": {
      "text/plain": [
       "LogisticRegression(max_iter=10000)"
      ]
     },
     "execution_count": 106,
     "metadata": {},
     "output_type": "execute_result"
    }
   ],
   "source": [
    "model.fit(X_train,y_train)"
   ]
  },
  {
   "cell_type": "code",
   "execution_count": 107,
   "id": "fc6ed648",
   "metadata": {},
   "outputs": [],
   "source": [
    "predictions = model.predict(X_test)"
   ]
  },
  {
   "cell_type": "code",
   "execution_count": 108,
   "id": "afec09c5",
   "metadata": {},
   "outputs": [
    {
     "name": "stdout",
     "output_type": "stream",
     "text": [
      "Accuracy Score: 0.9575971731448764\n",
      "\n",
      "\n",
      "              precision    recall  f1-score   support\n",
      "\n",
      "           0       0.97      0.98      0.98       263\n",
      "           1       0.72      0.65      0.68        20\n",
      "\n",
      "    accuracy                           0.96       283\n",
      "   macro avg       0.85      0.82      0.83       283\n",
      "weighted avg       0.96      0.96      0.96       283\n",
      "\n",
      "\n",
      "\n",
      "[[258   5]\n",
      " [  7  13]]\n"
     ]
    }
   ],
   "source": [
    "print('Accuracy Score:',accuracy_score(y_test,predictions))\n",
    "print('\\n')\n",
    "print(classification_report(y_test,predictions))\n",
    "print('\\n')\n",
    "print(confusion_matrix(y_test,predictions))"
   ]
  },
  {
   "cell_type": "markdown",
   "id": "1c459fee",
   "metadata": {},
   "source": [
    "# Building model using Logistic Regression with L1-based feature selection"
   ]
  },
  {
   "cell_type": "code",
   "execution_count": 109,
   "id": "06c472e1",
   "metadata": {},
   "outputs": [],
   "source": [
    "from sklearn.model_selection import GridSearchCV"
   ]
  },
  {
   "cell_type": "code",
   "execution_count": 110,
   "id": "870c71b8",
   "metadata": {},
   "outputs": [
    {
     "data": {
      "text/plain": [
       "GridSearchCV(estimator=LogisticRegression(penalty='l1', solver='liblinear'),\n",
       "             param_grid={'C': [0.01, 0.1, 1, 10, 100]})"
      ]
     },
     "execution_count": 110,
     "metadata": {},
     "output_type": "execute_result"
    }
   ],
   "source": [
    "# Perform GridSearchCV to tune best-fit LR model\n",
    "param = {'C': [10**-2,10**-1,10**0,10**1,10**2]}\n",
    "\n",
    "lr_model = LogisticRegression(penalty='l1', solver='liblinear')\n",
    "gs_model = GridSearchCV(estimator=lr_model, param_grid=param)\n",
    "gs_model.fit(X_train, y_train)"
   ]
  },
  {
   "cell_type": "code",
   "execution_count": 111,
   "id": "d5f3a91e",
   "metadata": {},
   "outputs": [
    {
     "data": {
      "text/plain": [
       "LogisticRegression(C=10, penalty='l1', solver='liblinear')"
      ]
     },
     "execution_count": 111,
     "metadata": {},
     "output_type": "execute_result"
    }
   ],
   "source": [
    "# Train a LR model with best parameters\n",
    "model = LogisticRegression(**gs_model.best_params_, penalty='l1', solver='liblinear')\n",
    "model.fit(X_train, y_train)"
   ]
  },
  {
   "cell_type": "code",
   "execution_count": 112,
   "id": "62f37349",
   "metadata": {},
   "outputs": [
    {
     "data": {
      "text/plain": [
       "array([-4.40177426e-02,  2.22983409e-01,  8.89353974e-03, -4.14032121e-03,\n",
       "        2.66439473e-01, -7.92187608e-02,  1.38177583e-01,  7.61835465e-01,\n",
       "        5.54988127e-02, -1.38754696e+00,  3.50231747e-01,  3.58002044e+00,\n",
       "       -2.97418297e+00, -6.33687797e+00, -1.33562329e+00,  4.12882391e-01,\n",
       "        0.00000000e+00,  3.57633978e+00,  0.00000000e+00,  1.63369019e+00,\n",
       "        3.32428462e-01,  5.58542121e+00,  1.57669237e-01])"
      ]
     },
     "execution_count": 112,
     "metadata": {},
     "output_type": "execute_result"
    }
   ],
   "source": [
    "coef = model.coef_[0]\n",
    "coef"
   ]
  },
  {
   "cell_type": "code",
   "execution_count": 113,
   "id": "398de5f5",
   "metadata": {},
   "outputs": [],
   "source": [
    "coef = model.coef_[0]\n",
    "imp_features = pd.Series(X.columns)[list(coef!=0)]\n",
    "X_train = X_train[imp_features]\n",
    "X_test = X_test[imp_features]"
   ]
  },
  {
   "cell_type": "code",
   "execution_count": 114,
   "id": "76561754",
   "metadata": {},
   "outputs": [
    {
     "data": {
      "text/plain": [
       "0                                 Age\n",
       "1           Number of sexual partners\n",
       "2            First sexual intercourse\n",
       "3                  Num of pregnancies\n",
       "4                              Smokes\n",
       "5                      Smokes (years)\n",
       "6                 Smokes (packs/year)\n",
       "7             Hormonal Contraceptives\n",
       "8     Hormonal Contraceptives (years)\n",
       "9                                 IUD\n",
       "10                        IUD (years)\n",
       "11                               STDs\n",
       "12                STDs:condylomatosis\n",
       "13                      STDs:syphilis\n",
       "14                           STDs:HIV\n",
       "15          STDs: Number of diagnosis\n",
       "17                             Dx:CIN\n",
       "19                                 Dx\n",
       "20                         Hinselmann\n",
       "21                           Schiller\n",
       "22                           Citology\n",
       "dtype: object"
      ]
     },
     "execution_count": 114,
     "metadata": {},
     "output_type": "execute_result"
    }
   ],
   "source": [
    "imp_features"
   ]
  },
  {
   "cell_type": "code",
   "execution_count": 115,
   "id": "ee93b069",
   "metadata": {},
   "outputs": [
    {
     "data": {
      "text/html": [
       "<div>\n",
       "<style scoped>\n",
       "    .dataframe tbody tr th:only-of-type {\n",
       "        vertical-align: middle;\n",
       "    }\n",
       "\n",
       "    .dataframe tbody tr th {\n",
       "        vertical-align: top;\n",
       "    }\n",
       "\n",
       "    .dataframe thead th {\n",
       "        text-align: right;\n",
       "    }\n",
       "</style>\n",
       "<table border=\"1\" class=\"dataframe\">\n",
       "  <thead>\n",
       "    <tr style=\"text-align: right;\">\n",
       "      <th></th>\n",
       "      <th>Age</th>\n",
       "      <th>Number of sexual partners</th>\n",
       "      <th>First sexual intercourse</th>\n",
       "      <th>Num of pregnancies</th>\n",
       "      <th>Smokes</th>\n",
       "      <th>Smokes (years)</th>\n",
       "      <th>Smokes (packs/year)</th>\n",
       "      <th>Hormonal Contraceptives</th>\n",
       "      <th>Hormonal Contraceptives (years)</th>\n",
       "      <th>IUD</th>\n",
       "      <th>...</th>\n",
       "      <th>STDs</th>\n",
       "      <th>STDs:condylomatosis</th>\n",
       "      <th>STDs:syphilis</th>\n",
       "      <th>STDs:HIV</th>\n",
       "      <th>STDs: Number of diagnosis</th>\n",
       "      <th>Dx:CIN</th>\n",
       "      <th>Dx</th>\n",
       "      <th>Hinselmann</th>\n",
       "      <th>Schiller</th>\n",
       "      <th>Citology</th>\n",
       "    </tr>\n",
       "  </thead>\n",
       "  <tbody>\n",
       "    <tr>\n",
       "      <th>72</th>\n",
       "      <td>34</td>\n",
       "      <td>2.0</td>\n",
       "      <td>21.0</td>\n",
       "      <td>2.0</td>\n",
       "      <td>0.0</td>\n",
       "      <td>0.0</td>\n",
       "      <td>0.0</td>\n",
       "      <td>1.0</td>\n",
       "      <td>0.33</td>\n",
       "      <td>0.0</td>\n",
       "      <td>...</td>\n",
       "      <td>0.0</td>\n",
       "      <td>0.0</td>\n",
       "      <td>0.0</td>\n",
       "      <td>0.0</td>\n",
       "      <td>0</td>\n",
       "      <td>0</td>\n",
       "      <td>0</td>\n",
       "      <td>0</td>\n",
       "      <td>0</td>\n",
       "      <td>0</td>\n",
       "    </tr>\n",
       "    <tr>\n",
       "      <th>567</th>\n",
       "      <td>44</td>\n",
       "      <td>2.0</td>\n",
       "      <td>25.0</td>\n",
       "      <td>1.0</td>\n",
       "      <td>0.0</td>\n",
       "      <td>0.0</td>\n",
       "      <td>0.0</td>\n",
       "      <td>0.0</td>\n",
       "      <td>0.00</td>\n",
       "      <td>0.0</td>\n",
       "      <td>...</td>\n",
       "      <td>0.0</td>\n",
       "      <td>0.0</td>\n",
       "      <td>0.0</td>\n",
       "      <td>0.0</td>\n",
       "      <td>0</td>\n",
       "      <td>0</td>\n",
       "      <td>0</td>\n",
       "      <td>0</td>\n",
       "      <td>0</td>\n",
       "      <td>0</td>\n",
       "    </tr>\n",
       "    <tr>\n",
       "      <th>58</th>\n",
       "      <td>35</td>\n",
       "      <td>2.0</td>\n",
       "      <td>18.0</td>\n",
       "      <td>6.0</td>\n",
       "      <td>0.0</td>\n",
       "      <td>0.0</td>\n",
       "      <td>0.0</td>\n",
       "      <td>1.0</td>\n",
       "      <td>1.00</td>\n",
       "      <td>0.0</td>\n",
       "      <td>...</td>\n",
       "      <td>0.0</td>\n",
       "      <td>0.0</td>\n",
       "      <td>0.0</td>\n",
       "      <td>0.0</td>\n",
       "      <td>0</td>\n",
       "      <td>0</td>\n",
       "      <td>0</td>\n",
       "      <td>1</td>\n",
       "      <td>1</td>\n",
       "      <td>1</td>\n",
       "    </tr>\n",
       "    <tr>\n",
       "      <th>712</th>\n",
       "      <td>29</td>\n",
       "      <td>2.0</td>\n",
       "      <td>17.0</td>\n",
       "      <td>2.0</td>\n",
       "      <td>0.0</td>\n",
       "      <td>0.0</td>\n",
       "      <td>0.0</td>\n",
       "      <td>1.0</td>\n",
       "      <td>7.00</td>\n",
       "      <td>0.0</td>\n",
       "      <td>...</td>\n",
       "      <td>0.0</td>\n",
       "      <td>0.0</td>\n",
       "      <td>0.0</td>\n",
       "      <td>0.0</td>\n",
       "      <td>0</td>\n",
       "      <td>0</td>\n",
       "      <td>0</td>\n",
       "      <td>0</td>\n",
       "      <td>0</td>\n",
       "      <td>0</td>\n",
       "    </tr>\n",
       "    <tr>\n",
       "      <th>659</th>\n",
       "      <td>23</td>\n",
       "      <td>5.0</td>\n",
       "      <td>16.0</td>\n",
       "      <td>1.0</td>\n",
       "      <td>0.0</td>\n",
       "      <td>0.0</td>\n",
       "      <td>0.0</td>\n",
       "      <td>1.0</td>\n",
       "      <td>0.25</td>\n",
       "      <td>0.0</td>\n",
       "      <td>...</td>\n",
       "      <td>0.0</td>\n",
       "      <td>0.0</td>\n",
       "      <td>0.0</td>\n",
       "      <td>0.0</td>\n",
       "      <td>0</td>\n",
       "      <td>0</td>\n",
       "      <td>0</td>\n",
       "      <td>0</td>\n",
       "      <td>0</td>\n",
       "      <td>0</td>\n",
       "    </tr>\n",
       "    <tr>\n",
       "      <th>...</th>\n",
       "      <td>...</td>\n",
       "      <td>...</td>\n",
       "      <td>...</td>\n",
       "      <td>...</td>\n",
       "      <td>...</td>\n",
       "      <td>...</td>\n",
       "      <td>...</td>\n",
       "      <td>...</td>\n",
       "      <td>...</td>\n",
       "      <td>...</td>\n",
       "      <td>...</td>\n",
       "      <td>...</td>\n",
       "      <td>...</td>\n",
       "      <td>...</td>\n",
       "      <td>...</td>\n",
       "      <td>...</td>\n",
       "      <td>...</td>\n",
       "      <td>...</td>\n",
       "      <td>...</td>\n",
       "      <td>...</td>\n",
       "      <td>...</td>\n",
       "    </tr>\n",
       "    <tr>\n",
       "      <th>599</th>\n",
       "      <td>28</td>\n",
       "      <td>3.0</td>\n",
       "      <td>18.0</td>\n",
       "      <td>2.0</td>\n",
       "      <td>0.0</td>\n",
       "      <td>0.0</td>\n",
       "      <td>0.0</td>\n",
       "      <td>1.0</td>\n",
       "      <td>6.00</td>\n",
       "      <td>0.0</td>\n",
       "      <td>...</td>\n",
       "      <td>0.0</td>\n",
       "      <td>0.0</td>\n",
       "      <td>0.0</td>\n",
       "      <td>0.0</td>\n",
       "      <td>0</td>\n",
       "      <td>0</td>\n",
       "      <td>0</td>\n",
       "      <td>0</td>\n",
       "      <td>0</td>\n",
       "      <td>0</td>\n",
       "    </tr>\n",
       "    <tr>\n",
       "      <th>575</th>\n",
       "      <td>20</td>\n",
       "      <td>4.0</td>\n",
       "      <td>14.0</td>\n",
       "      <td>1.0</td>\n",
       "      <td>0.0</td>\n",
       "      <td>0.0</td>\n",
       "      <td>0.0</td>\n",
       "      <td>0.0</td>\n",
       "      <td>0.00</td>\n",
       "      <td>0.0</td>\n",
       "      <td>...</td>\n",
       "      <td>0.0</td>\n",
       "      <td>0.0</td>\n",
       "      <td>0.0</td>\n",
       "      <td>0.0</td>\n",
       "      <td>0</td>\n",
       "      <td>0</td>\n",
       "      <td>0</td>\n",
       "      <td>0</td>\n",
       "      <td>1</td>\n",
       "      <td>0</td>\n",
       "    </tr>\n",
       "    <tr>\n",
       "      <th>838</th>\n",
       "      <td>24</td>\n",
       "      <td>2.0</td>\n",
       "      <td>16.0</td>\n",
       "      <td>3.0</td>\n",
       "      <td>0.0</td>\n",
       "      <td>0.0</td>\n",
       "      <td>0.0</td>\n",
       "      <td>1.0</td>\n",
       "      <td>5.00</td>\n",
       "      <td>0.0</td>\n",
       "      <td>...</td>\n",
       "      <td>0.0</td>\n",
       "      <td>0.0</td>\n",
       "      <td>0.0</td>\n",
       "      <td>0.0</td>\n",
       "      <td>0</td>\n",
       "      <td>0</td>\n",
       "      <td>0</td>\n",
       "      <td>0</td>\n",
       "      <td>0</td>\n",
       "      <td>0</td>\n",
       "    </tr>\n",
       "    <tr>\n",
       "      <th>337</th>\n",
       "      <td>20</td>\n",
       "      <td>5.0</td>\n",
       "      <td>14.0</td>\n",
       "      <td>3.0</td>\n",
       "      <td>1.0</td>\n",
       "      <td>4.0</td>\n",
       "      <td>3.0</td>\n",
       "      <td>1.0</td>\n",
       "      <td>3.71</td>\n",
       "      <td>0.0</td>\n",
       "      <td>...</td>\n",
       "      <td>0.0</td>\n",
       "      <td>0.0</td>\n",
       "      <td>0.0</td>\n",
       "      <td>0.0</td>\n",
       "      <td>0</td>\n",
       "      <td>0</td>\n",
       "      <td>0</td>\n",
       "      <td>0</td>\n",
       "      <td>0</td>\n",
       "      <td>0</td>\n",
       "    </tr>\n",
       "    <tr>\n",
       "      <th>523</th>\n",
       "      <td>17</td>\n",
       "      <td>1.0</td>\n",
       "      <td>16.0</td>\n",
       "      <td>1.0</td>\n",
       "      <td>0.0</td>\n",
       "      <td>0.0</td>\n",
       "      <td>0.0</td>\n",
       "      <td>0.0</td>\n",
       "      <td>0.00</td>\n",
       "      <td>0.0</td>\n",
       "      <td>...</td>\n",
       "      <td>0.0</td>\n",
       "      <td>0.0</td>\n",
       "      <td>0.0</td>\n",
       "      <td>0.0</td>\n",
       "      <td>0</td>\n",
       "      <td>0</td>\n",
       "      <td>0</td>\n",
       "      <td>0</td>\n",
       "      <td>0</td>\n",
       "      <td>0</td>\n",
       "    </tr>\n",
       "  </tbody>\n",
       "</table>\n",
       "<p>573 rows × 21 columns</p>\n",
       "</div>"
      ],
      "text/plain": [
       "     Age  Number of sexual partners  First sexual intercourse  \\\n",
       "72    34                        2.0                      21.0   \n",
       "567   44                        2.0                      25.0   \n",
       "58    35                        2.0                      18.0   \n",
       "712   29                        2.0                      17.0   \n",
       "659   23                        5.0                      16.0   \n",
       "..   ...                        ...                       ...   \n",
       "599   28                        3.0                      18.0   \n",
       "575   20                        4.0                      14.0   \n",
       "838   24                        2.0                      16.0   \n",
       "337   20                        5.0                      14.0   \n",
       "523   17                        1.0                      16.0   \n",
       "\n",
       "     Num of pregnancies  Smokes  Smokes (years)  Smokes (packs/year)  \\\n",
       "72                  2.0     0.0             0.0                  0.0   \n",
       "567                 1.0     0.0             0.0                  0.0   \n",
       "58                  6.0     0.0             0.0                  0.0   \n",
       "712                 2.0     0.0             0.0                  0.0   \n",
       "659                 1.0     0.0             0.0                  0.0   \n",
       "..                  ...     ...             ...                  ...   \n",
       "599                 2.0     0.0             0.0                  0.0   \n",
       "575                 1.0     0.0             0.0                  0.0   \n",
       "838                 3.0     0.0             0.0                  0.0   \n",
       "337                 3.0     1.0             4.0                  3.0   \n",
       "523                 1.0     0.0             0.0                  0.0   \n",
       "\n",
       "     Hormonal Contraceptives  Hormonal Contraceptives (years)  IUD  ...  STDs  \\\n",
       "72                       1.0                             0.33  0.0  ...   0.0   \n",
       "567                      0.0                             0.00  0.0  ...   0.0   \n",
       "58                       1.0                             1.00  0.0  ...   0.0   \n",
       "712                      1.0                             7.00  0.0  ...   0.0   \n",
       "659                      1.0                             0.25  0.0  ...   0.0   \n",
       "..                       ...                              ...  ...  ...   ...   \n",
       "599                      1.0                             6.00  0.0  ...   0.0   \n",
       "575                      0.0                             0.00  0.0  ...   0.0   \n",
       "838                      1.0                             5.00  0.0  ...   0.0   \n",
       "337                      1.0                             3.71  0.0  ...   0.0   \n",
       "523                      0.0                             0.00  0.0  ...   0.0   \n",
       "\n",
       "     STDs:condylomatosis  STDs:syphilis  STDs:HIV  STDs: Number of diagnosis  \\\n",
       "72                   0.0            0.0       0.0                          0   \n",
       "567                  0.0            0.0       0.0                          0   \n",
       "58                   0.0            0.0       0.0                          0   \n",
       "712                  0.0            0.0       0.0                          0   \n",
       "659                  0.0            0.0       0.0                          0   \n",
       "..                   ...            ...       ...                        ...   \n",
       "599                  0.0            0.0       0.0                          0   \n",
       "575                  0.0            0.0       0.0                          0   \n",
       "838                  0.0            0.0       0.0                          0   \n",
       "337                  0.0            0.0       0.0                          0   \n",
       "523                  0.0            0.0       0.0                          0   \n",
       "\n",
       "     Dx:CIN  Dx  Hinselmann  Schiller  Citology  \n",
       "72        0   0           0         0         0  \n",
       "567       0   0           0         0         0  \n",
       "58        0   0           1         1         1  \n",
       "712       0   0           0         0         0  \n",
       "659       0   0           0         0         0  \n",
       "..      ...  ..         ...       ...       ...  \n",
       "599       0   0           0         0         0  \n",
       "575       0   0           0         1         0  \n",
       "838       0   0           0         0         0  \n",
       "337       0   0           0         0         0  \n",
       "523       0   0           0         0         0  \n",
       "\n",
       "[573 rows x 21 columns]"
      ]
     },
     "execution_count": 115,
     "metadata": {},
     "output_type": "execute_result"
    }
   ],
   "source": [
    "X_train"
   ]
  },
  {
   "cell_type": "code",
   "execution_count": 116,
   "id": "a2b97d11",
   "metadata": {},
   "outputs": [
    {
     "name": "stdout",
     "output_type": "stream",
     "text": [
      "Redundant Feature Count: 2\n",
      "Redundant Feature Names: ['Dx:Cancer', 'Dx:HPV']\n"
     ]
    }
   ],
   "source": [
    "print('Redundant Feature Count:',sum(model.coef_[0]==0))\n",
    "print('Redundant Feature Names:',list(pd.Series(X.columns)[list(coef==0)]))"
   ]
  },
  {
   "cell_type": "code",
   "execution_count": 117,
   "id": "53b61f5a",
   "metadata": {},
   "outputs": [
    {
     "data": {
      "text/plain": [
       "LogisticRegression(C=10, penalty='l1', solver='liblinear')"
      ]
     },
     "execution_count": 117,
     "metadata": {},
     "output_type": "execute_result"
    }
   ],
   "source": [
    "model.fit(X_train,y_train)"
   ]
  },
  {
   "cell_type": "code",
   "execution_count": 118,
   "id": "d9354115",
   "metadata": {},
   "outputs": [],
   "source": [
    "predictions = model.predict(X_test)"
   ]
  },
  {
   "cell_type": "code",
   "execution_count": 119,
   "id": "0e858cc3",
   "metadata": {},
   "outputs": [
    {
     "name": "stdout",
     "output_type": "stream",
     "text": [
      "Accuracy Score: 0.9434628975265018\n",
      "\n",
      "\n",
      "              precision    recall  f1-score   support\n",
      "\n",
      "           0       0.98      0.96      0.97       263\n",
      "           1       0.58      0.70      0.64        20\n",
      "\n",
      "    accuracy                           0.94       283\n",
      "   macro avg       0.78      0.83      0.80       283\n",
      "weighted avg       0.95      0.94      0.95       283\n",
      "\n",
      "\n",
      "\n",
      "[[253  10]\n",
      " [  6  14]]\n"
     ]
    }
   ],
   "source": [
    "print('Accuracy Score:',accuracy_score(y_test,predictions))\n",
    "print('\\n')\n",
    "print(classification_report(y_test,predictions))\n",
    "print('\\n')\n",
    "print(confusion_matrix(y_test,predictions))"
   ]
  }
 ],
 "metadata": {
  "kernelspec": {
   "display_name": "Python 3",
   "language": "python",
   "name": "python3"
  },
  "language_info": {
   "codemirror_mode": {
    "name": "ipython",
    "version": 3
   },
   "file_extension": ".py",
   "mimetype": "text/x-python",
   "name": "python",
   "nbconvert_exporter": "python",
   "pygments_lexer": "ipython3",
   "version": "3.8.8"
  }
 },
 "nbformat": 4,
 "nbformat_minor": 5
}
