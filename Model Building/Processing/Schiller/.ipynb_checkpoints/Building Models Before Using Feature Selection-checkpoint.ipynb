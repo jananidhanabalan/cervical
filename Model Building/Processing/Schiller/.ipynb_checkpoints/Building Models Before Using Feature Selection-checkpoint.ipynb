{
 "cells": [
  {
   "cell_type": "code",
   "execution_count": 1,
   "id": "b8fd1173",
   "metadata": {},
   "outputs": [],
   "source": [
    "import pandas as pd\n",
    "import numpy as np\n",
    "import matplotlib.pyplot as plt\n",
    "import seaborn as sns\n",
    "%matplotlib inline"
   ]
  },
  {
   "cell_type": "code",
   "execution_count": 2,
   "id": "d8c79192",
   "metadata": {},
   "outputs": [],
   "source": [
    "df = pd.read_csv(\"Clean Data_2.csv\")"
   ]
  },
  {
   "cell_type": "code",
   "execution_count": 3,
   "id": "4c1d15e0",
   "metadata": {},
   "outputs": [
    {
     "data": {
      "text/html": [
       "<div>\n",
       "<style scoped>\n",
       "    .dataframe tbody tr th:only-of-type {\n",
       "        vertical-align: middle;\n",
       "    }\n",
       "\n",
       "    .dataframe tbody tr th {\n",
       "        vertical-align: top;\n",
       "    }\n",
       "\n",
       "    .dataframe thead th {\n",
       "        text-align: right;\n",
       "    }\n",
       "</style>\n",
       "<table border=\"1\" class=\"dataframe\">\n",
       "  <thead>\n",
       "    <tr style=\"text-align: right;\">\n",
       "      <th></th>\n",
       "      <th>Unnamed: 0</th>\n",
       "      <th>Age</th>\n",
       "      <th>Number of sexual partners</th>\n",
       "      <th>First sexual intercourse</th>\n",
       "      <th>Num of pregnancies</th>\n",
       "      <th>Smokes</th>\n",
       "      <th>Smokes (years)</th>\n",
       "      <th>Smokes (packs/year)</th>\n",
       "      <th>Hormonal Contraceptives</th>\n",
       "      <th>Hormonal Contraceptives (years)</th>\n",
       "      <th>...</th>\n",
       "      <th>STDs:HIV</th>\n",
       "      <th>STDs: Number of diagnosis</th>\n",
       "      <th>Dx:Cancer</th>\n",
       "      <th>Dx:CIN</th>\n",
       "      <th>Dx:HPV</th>\n",
       "      <th>Dx</th>\n",
       "      <th>Hinselmann</th>\n",
       "      <th>Schiller</th>\n",
       "      <th>Citology</th>\n",
       "      <th>Biopsy</th>\n",
       "    </tr>\n",
       "  </thead>\n",
       "  <tbody>\n",
       "    <tr>\n",
       "      <th>0</th>\n",
       "      <td>0</td>\n",
       "      <td>18</td>\n",
       "      <td>4.0</td>\n",
       "      <td>15.0</td>\n",
       "      <td>1.0</td>\n",
       "      <td>0.0</td>\n",
       "      <td>0.0</td>\n",
       "      <td>0.0</td>\n",
       "      <td>0.0</td>\n",
       "      <td>0.0</td>\n",
       "      <td>...</td>\n",
       "      <td>0.0</td>\n",
       "      <td>0</td>\n",
       "      <td>0</td>\n",
       "      <td>0</td>\n",
       "      <td>0</td>\n",
       "      <td>0</td>\n",
       "      <td>0</td>\n",
       "      <td>0</td>\n",
       "      <td>0</td>\n",
       "      <td>0</td>\n",
       "    </tr>\n",
       "    <tr>\n",
       "      <th>1</th>\n",
       "      <td>1</td>\n",
       "      <td>15</td>\n",
       "      <td>1.0</td>\n",
       "      <td>14.0</td>\n",
       "      <td>1.0</td>\n",
       "      <td>0.0</td>\n",
       "      <td>0.0</td>\n",
       "      <td>0.0</td>\n",
       "      <td>0.0</td>\n",
       "      <td>0.0</td>\n",
       "      <td>...</td>\n",
       "      <td>0.0</td>\n",
       "      <td>0</td>\n",
       "      <td>0</td>\n",
       "      <td>0</td>\n",
       "      <td>0</td>\n",
       "      <td>0</td>\n",
       "      <td>0</td>\n",
       "      <td>0</td>\n",
       "      <td>0</td>\n",
       "      <td>0</td>\n",
       "    </tr>\n",
       "    <tr>\n",
       "      <th>2</th>\n",
       "      <td>2</td>\n",
       "      <td>34</td>\n",
       "      <td>1.0</td>\n",
       "      <td>17.0</td>\n",
       "      <td>1.0</td>\n",
       "      <td>0.0</td>\n",
       "      <td>0.0</td>\n",
       "      <td>0.0</td>\n",
       "      <td>0.0</td>\n",
       "      <td>0.0</td>\n",
       "      <td>...</td>\n",
       "      <td>0.0</td>\n",
       "      <td>0</td>\n",
       "      <td>0</td>\n",
       "      <td>0</td>\n",
       "      <td>0</td>\n",
       "      <td>0</td>\n",
       "      <td>0</td>\n",
       "      <td>0</td>\n",
       "      <td>0</td>\n",
       "      <td>0</td>\n",
       "    </tr>\n",
       "    <tr>\n",
       "      <th>3</th>\n",
       "      <td>3</td>\n",
       "      <td>52</td>\n",
       "      <td>5.0</td>\n",
       "      <td>16.0</td>\n",
       "      <td>4.0</td>\n",
       "      <td>1.0</td>\n",
       "      <td>37.0</td>\n",
       "      <td>37.0</td>\n",
       "      <td>1.0</td>\n",
       "      <td>3.0</td>\n",
       "      <td>...</td>\n",
       "      <td>0.0</td>\n",
       "      <td>0</td>\n",
       "      <td>1</td>\n",
       "      <td>0</td>\n",
       "      <td>1</td>\n",
       "      <td>0</td>\n",
       "      <td>0</td>\n",
       "      <td>0</td>\n",
       "      <td>0</td>\n",
       "      <td>0</td>\n",
       "    </tr>\n",
       "    <tr>\n",
       "      <th>4</th>\n",
       "      <td>4</td>\n",
       "      <td>46</td>\n",
       "      <td>3.0</td>\n",
       "      <td>21.0</td>\n",
       "      <td>4.0</td>\n",
       "      <td>0.0</td>\n",
       "      <td>0.0</td>\n",
       "      <td>0.0</td>\n",
       "      <td>1.0</td>\n",
       "      <td>15.0</td>\n",
       "      <td>...</td>\n",
       "      <td>0.0</td>\n",
       "      <td>0</td>\n",
       "      <td>0</td>\n",
       "      <td>0</td>\n",
       "      <td>0</td>\n",
       "      <td>0</td>\n",
       "      <td>0</td>\n",
       "      <td>0</td>\n",
       "      <td>0</td>\n",
       "      <td>0</td>\n",
       "    </tr>\n",
       "  </tbody>\n",
       "</table>\n",
       "<p>5 rows × 26 columns</p>\n",
       "</div>"
      ],
      "text/plain": [
       "   Unnamed: 0  Age  Number of sexual partners  First sexual intercourse  \\\n",
       "0           0   18                        4.0                      15.0   \n",
       "1           1   15                        1.0                      14.0   \n",
       "2           2   34                        1.0                      17.0   \n",
       "3           3   52                        5.0                      16.0   \n",
       "4           4   46                        3.0                      21.0   \n",
       "\n",
       "   Num of pregnancies  Smokes  Smokes (years)  Smokes (packs/year)  \\\n",
       "0                 1.0     0.0             0.0                  0.0   \n",
       "1                 1.0     0.0             0.0                  0.0   \n",
       "2                 1.0     0.0             0.0                  0.0   \n",
       "3                 4.0     1.0            37.0                 37.0   \n",
       "4                 4.0     0.0             0.0                  0.0   \n",
       "\n",
       "   Hormonal Contraceptives  Hormonal Contraceptives (years)  ...  STDs:HIV  \\\n",
       "0                      0.0                              0.0  ...       0.0   \n",
       "1                      0.0                              0.0  ...       0.0   \n",
       "2                      0.0                              0.0  ...       0.0   \n",
       "3                      1.0                              3.0  ...       0.0   \n",
       "4                      1.0                             15.0  ...       0.0   \n",
       "\n",
       "   STDs: Number of diagnosis  Dx:Cancer  Dx:CIN  Dx:HPV  Dx  Hinselmann  \\\n",
       "0                          0          0       0       0   0           0   \n",
       "1                          0          0       0       0   0           0   \n",
       "2                          0          0       0       0   0           0   \n",
       "3                          0          1       0       1   0           0   \n",
       "4                          0          0       0       0   0           0   \n",
       "\n",
       "   Schiller  Citology  Biopsy  \n",
       "0         0         0       0  \n",
       "1         0         0       0  \n",
       "2         0         0       0  \n",
       "3         0         0       0  \n",
       "4         0         0       0  \n",
       "\n",
       "[5 rows x 26 columns]"
      ]
     },
     "execution_count": 3,
     "metadata": {},
     "output_type": "execute_result"
    }
   ],
   "source": [
    "df.head()"
   ]
  },
  {
   "cell_type": "code",
   "execution_count": 4,
   "id": "2c37f0fc",
   "metadata": {},
   "outputs": [],
   "source": [
    "df.drop('Unnamed: 0',inplace=True,axis=1)"
   ]
  },
  {
   "cell_type": "code",
   "execution_count": 5,
   "id": "376951e4",
   "metadata": {},
   "outputs": [],
   "source": [
    "from sklearn.model_selection import train_test_split"
   ]
  },
  {
   "cell_type": "code",
   "execution_count": 6,
   "id": "8459e006",
   "metadata": {},
   "outputs": [],
   "source": [
    "X = df.drop(['Hinselmann','Schiller','Citology','Biopsy'],axis=1)\n",
    "y = df['Schiller']"
   ]
  },
  {
   "cell_type": "code",
   "execution_count": 7,
   "id": "063c2f97",
   "metadata": {},
   "outputs": [],
   "source": [
    "X_train, X_test, y_train, y_test = train_test_split(X, y, test_size=0.2, random_state=101)"
   ]
  },
  {
   "cell_type": "code",
   "execution_count": 8,
   "id": "5410acae",
   "metadata": {},
   "outputs": [],
   "source": [
    "from sklearn.tree import DecisionTreeClassifier\n",
    "from sklearn.svm import SVC\n",
    "from sklearn.neighbors import KNeighborsClassifier\n",
    "from sklearn.linear_model import LogisticRegression\n",
    "from sklearn.ensemble import RandomForestClassifier\n",
    "from sklearn.model_selection import cross_val_score\n",
    "from sklearn.model_selection import GridSearchCV\n",
    "from sklearn.naive_bayes import GaussianNB\n",
    "from sklearn.metrics import accuracy_score, confusion_matrix, classification_report"
   ]
  },
  {
   "cell_type": "code",
   "execution_count": 9,
   "id": "ff406e06",
   "metadata": {},
   "outputs": [],
   "source": [
    "import xgboost as xgb"
   ]
  },
  {
   "cell_type": "markdown",
   "id": "9e2c8e1f",
   "metadata": {},
   "source": [
    "# Buidling Model before Feature Selection"
   ]
  },
  {
   "cell_type": "markdown",
   "id": "3cd42d86",
   "metadata": {},
   "source": [
    "### Logistic Regression"
   ]
  },
  {
   "cell_type": "code",
   "execution_count": 10,
   "id": "0b045ec5",
   "metadata": {},
   "outputs": [],
   "source": [
    "logmodel = LogisticRegression(max_iter=10000)"
   ]
  },
  {
   "cell_type": "code",
   "execution_count": 11,
   "id": "ab0197fa",
   "metadata": {},
   "outputs": [
    {
     "data": {
      "text/plain": [
       "LogisticRegression(max_iter=10000)"
      ]
     },
     "execution_count": 11,
     "metadata": {},
     "output_type": "execute_result"
    }
   ],
   "source": [
    "logmodel.fit(X_train,y_train)"
   ]
  },
  {
   "cell_type": "code",
   "execution_count": 12,
   "id": "badb65fc",
   "metadata": {},
   "outputs": [],
   "source": [
    "predictions = logmodel.predict(X_test)"
   ]
  },
  {
   "cell_type": "code",
   "execution_count": 13,
   "id": "5617920f",
   "metadata": {},
   "outputs": [
    {
     "name": "stdout",
     "output_type": "stream",
     "text": [
      "Accuracy:  0.9186046511627907\n",
      "\n",
      "\n",
      "              precision    recall  f1-score   support\n",
      "\n",
      "           0       0.92      0.99      0.96       157\n",
      "           1       0.67      0.13      0.22        15\n",
      "\n",
      "    accuracy                           0.92       172\n",
      "   macro avg       0.79      0.56      0.59       172\n",
      "weighted avg       0.90      0.92      0.89       172\n",
      "\n",
      "\n",
      "\n",
      "[[156   1]\n",
      " [ 13   2]]\n"
     ]
    }
   ],
   "source": [
    "print(\"Accuracy: \", accuracy_score(y_test,predictions))\n",
    "print(\"\\n\")\n",
    "print(classification_report(y_test,predictions))\n",
    "print(\"\\n\")\n",
    "print(confusion_matrix(y_test,predictions))"
   ]
  },
  {
   "cell_type": "markdown",
   "id": "968c0147",
   "metadata": {},
   "source": [
    "### KNN"
   ]
  },
  {
   "cell_type": "code",
   "execution_count": 14,
   "id": "e2fa3645",
   "metadata": {},
   "outputs": [],
   "source": [
    "error_rate = []\n",
    "\n",
    "for i in range(1,40):\n",
    "    knn = KNeighborsClassifier(n_neighbors=i)\n",
    "    knn.fit(X_train,y_train)\n",
    "    pred_i = knn.predict(X_test)\n",
    "    error_rate.append(np.mean(pred_i != y_test))"
   ]
  },
  {
   "cell_type": "code",
   "execution_count": 15,
   "id": "4edbd871",
   "metadata": {},
   "outputs": [
    {
     "data": {
      "text/plain": [
       "Text(0, 0.5, 'Error Rate')"
      ]
     },
     "execution_count": 15,
     "metadata": {},
     "output_type": "execute_result"
    },
    {
     "data": {
      "image/png": "[encoded data removed]",
      "text/plain": [
       "<Figure size 720x432 with 1 Axes>"
      ]
     },
     "metadata": {
      "needs_background": "light"
     },
     "output_type": "display_data"
    }
   ],
   "source": [
    "plt.figure(figsize=(10,6))\n",
    "plt.plot(range(1,40),error_rate,color='blue',linestyle='--',marker='o',markerfacecolor='red',markersize=10)\n",
    "plt.title('Error Rate vs K value')\n",
    "plt.xlabel('K')\n",
    "plt.ylabel('Error Rate')"
   ]
  },
  {
   "cell_type": "code",
   "execution_count": 16,
   "id": "aee3a839",
   "metadata": {},
   "outputs": [],
   "source": [
    "knn = KNeighborsClassifier(n_neighbors=2)\n",
    "knn.fit(X_train,y_train)\n",
    "predictions = knn.predict(X_test)"
   ]
  },
  {
   "cell_type": "code",
   "execution_count": 17,
   "id": "86a48fc9",
   "metadata": {},
   "outputs": [
    {
     "name": "stdout",
     "output_type": "stream",
     "text": [
      "Accuracy Score: 0.9127906976744186\n",
      "\n",
      "\n",
      "              precision    recall  f1-score   support\n",
      "\n",
      "           0       0.91      1.00      0.95       157\n",
      "           1       0.00      0.00      0.00        15\n",
      "\n",
      "    accuracy                           0.91       172\n",
      "   macro avg       0.46      0.50      0.48       172\n",
      "weighted avg       0.83      0.91      0.87       172\n",
      "\n",
      "\n",
      "\n",
      "[[157   0]\n",
      " [ 15   0]]\n"
     ]
    },
    {
     "name": "stderr",
     "output_type": "stream",
     "text": [
      "C:\\Users\\ngoa\\Anaconda3\\lib\\site-packages\\sklearn\\metrics\\_classification.py:1245: UndefinedMetricWarning: Precision and F-score are ill-defined and being set to 0.0 in labels with no predicted samples. Use `zero_division` parameter to control this behavior.\n",
      "  _warn_prf(average, modifier, msg_start, len(result))\n",
      "C:\\Users\\ngoa\\Anaconda3\\lib\\site-packages\\sklearn\\metrics\\_classification.py:1245: UndefinedMetricWarning: Precision and F-score are ill-defined and being set to 0.0 in labels with no predicted samples. Use `zero_division` parameter to control this behavior.\n",
      "  _warn_prf(average, modifier, msg_start, len(result))\n",
      "C:\\Users\\ngoa\\Anaconda3\\lib\\site-packages\\sklearn\\metrics\\_classification.py:1245: UndefinedMetricWarning: Precision and F-score are ill-defined and being set to 0.0 in labels with no predicted samples. Use `zero_division` parameter to control this behavior.\n",
      "  _warn_prf(average, modifier, msg_start, len(result))\n"
     ]
    }
   ],
   "source": [
    "print('Accuracy Score:',accuracy_score(y_test,predictions))\n",
    "print('\\n')\n",
    "print(classification_report(y_test,predictions))\n",
    "print('\\n')\n",
    "print(confusion_matrix(y_test,predictions))"
   ]
  },
  {
   "cell_type": "markdown",
   "id": "edd79d40",
   "metadata": {},
   "source": [
    "### Decision Tree"
   ]
  },
  {
   "cell_type": "code",
   "execution_count": 47,
   "id": "5340d022",
   "metadata": {},
   "outputs": [],
   "source": [
    "dtree = DecisionTreeClassifier()"
   ]
  },
  {
   "cell_type": "code",
   "execution_count": 48,
   "id": "630062ec",
   "metadata": {},
   "outputs": [
    {
     "data": {
      "text/plain": [
       "DecisionTreeClassifier()"
      ]
     },
     "execution_count": 48,
     "metadata": {},
     "output_type": "execute_result"
    }
   ],
   "source": [
    "dtree.fit(X_train,y_train)"
   ]
  },
  {
   "cell_type": "code",
   "execution_count": 49,
   "id": "7ffdf4bb",
   "metadata": {},
   "outputs": [],
   "source": [
    "predictions = dtree.predict(X_test)"
   ]
  },
  {
   "cell_type": "code",
   "execution_count": 50,
   "id": "692d5681",
   "metadata": {},
   "outputs": [
    {
     "name": "stdout",
     "output_type": "stream",
     "text": [
      "Accuracy:  0.8567493112947658\n",
      "\n",
      "\n",
      "              precision    recall  f1-score   support\n",
      "\n",
      "           0       0.81      0.83      0.82       289\n",
      "           1       0.89      0.87      0.88       437\n",
      "\n",
      "    accuracy                           0.86       726\n",
      "   macro avg       0.85      0.85      0.85       726\n",
      "weighted avg       0.86      0.86      0.86       726\n",
      "\n",
      "\n",
      "\n",
      "[[240  49]\n",
      " [ 55 382]]\n"
     ]
    }
   ],
   "source": [
    "print(\"Accuracy: \", accuracy_score(y_test,predictions))\n",
    "print(\"\\n\")\n",
    "print(classification_report(y_test,predictions))\n",
    "print(\"\\n\")\n",
    "print(confusion_matrix(y_test,predictions))"
   ]
  },
  {
   "cell_type": "markdown",
   "id": "3c3d9ff5",
   "metadata": {},
   "source": [
    "### Random Forest"
   ]
  },
  {
   "cell_type": "code",
   "execution_count": 51,
   "id": "416c07d0",
   "metadata": {},
   "outputs": [],
   "source": [
    "rfc = RandomForestClassifier(n_estimators=200)"
   ]
  },
  {
   "cell_type": "code",
   "execution_count": 52,
   "id": "09d61f88",
   "metadata": {},
   "outputs": [
    {
     "data": {
      "text/plain": [
       "RandomForestClassifier(n_estimators=200)"
      ]
     },
     "execution_count": 52,
     "metadata": {},
     "output_type": "execute_result"
    }
   ],
   "source": [
    "rfc.fit(X_train,y_train)"
   ]
  },
  {
   "cell_type": "code",
   "execution_count": 53,
   "id": "77603047",
   "metadata": {},
   "outputs": [],
   "source": [
    "predictions = rfc.predict(X_test)"
   ]
  },
  {
   "cell_type": "code",
   "execution_count": 54,
   "id": "69b7b8d0",
   "metadata": {},
   "outputs": [
    {
     "name": "stdout",
     "output_type": "stream",
     "text": [
      "Accuracy:  0.90633608815427\n",
      "\n",
      "\n",
      "              precision    recall  f1-score   support\n",
      "\n",
      "           0       0.92      0.84      0.88       289\n",
      "           1       0.90      0.95      0.92       437\n",
      "\n",
      "    accuracy                           0.91       726\n",
      "   macro avg       0.91      0.90      0.90       726\n",
      "weighted avg       0.91      0.91      0.91       726\n",
      "\n",
      "\n",
      "\n",
      "[[243  46]\n",
      " [ 22 415]]\n"
     ]
    }
   ],
   "source": [
    "print(\"Accuracy: \", accuracy_score(y_test,predictions))\n",
    "print(\"\\n\")\n",
    "print(classification_report(y_test,predictions))\n",
    "print(\"\\n\")\n",
    "print(confusion_matrix(y_test,predictions))"
   ]
  },
  {
   "cell_type": "markdown",
   "id": "29f910a8",
   "metadata": {},
   "source": [
    "### Support Vector Machine"
   ]
  },
  {
   "cell_type": "code",
   "execution_count": 55,
   "id": "70b2fd48",
   "metadata": {},
   "outputs": [],
   "source": [
    "model = SVC()"
   ]
  },
  {
   "cell_type": "code",
   "execution_count": 56,
   "id": "fc005442",
   "metadata": {},
   "outputs": [
    {
     "data": {
      "text/plain": [
       "SVC()"
      ]
     },
     "execution_count": 56,
     "metadata": {},
     "output_type": "execute_result"
    }
   ],
   "source": [
    "model.fit(X_train,y_train)"
   ]
  },
  {
   "cell_type": "code",
   "execution_count": 57,
   "id": "07a8de58",
   "metadata": {},
   "outputs": [],
   "source": [
    "predictions = model.predict(X_test)"
   ]
  },
  {
   "cell_type": "code",
   "execution_count": 58,
   "id": "dfff3b21",
   "metadata": {},
   "outputs": [
    {
     "name": "stdout",
     "output_type": "stream",
     "text": [
      "Accuracy:  0.6019283746556474\n",
      "\n",
      "\n",
      "              precision    recall  f1-score   support\n",
      "\n",
      "           0       0.00      0.00      0.00       289\n",
      "           1       0.60      1.00      0.75       437\n",
      "\n",
      "    accuracy                           0.60       726\n",
      "   macro avg       0.30      0.50      0.38       726\n",
      "weighted avg       0.36      0.60      0.45       726\n",
      "\n",
      "\n",
      "\n",
      "[[  0 289]\n",
      " [  0 437]]\n"
     ]
    },
    {
     "name": "stderr",
     "output_type": "stream",
     "text": [
      "C:\\Users\\ngoa\\Anaconda3\\lib\\site-packages\\sklearn\\metrics\\_classification.py:1245: UndefinedMetricWarning: Precision and F-score are ill-defined and being set to 0.0 in labels with no predicted samples. Use `zero_division` parameter to control this behavior.\n",
      "  _warn_prf(average, modifier, msg_start, len(result))\n",
      "C:\\Users\\ngoa\\Anaconda3\\lib\\site-packages\\sklearn\\metrics\\_classification.py:1245: UndefinedMetricWarning: Precision and F-score are ill-defined and being set to 0.0 in labels with no predicted samples. Use `zero_division` parameter to control this behavior.\n",
      "  _warn_prf(average, modifier, msg_start, len(result))\n",
      "C:\\Users\\ngoa\\Anaconda3\\lib\\site-packages\\sklearn\\metrics\\_classification.py:1245: UndefinedMetricWarning: Precision and F-score are ill-defined and being set to 0.0 in labels with no predicted samples. Use `zero_division` parameter to control this behavior.\n",
      "  _warn_prf(average, modifier, msg_start, len(result))\n"
     ]
    }
   ],
   "source": [
    "print(\"Accuracy: \", accuracy_score(y_test,predictions))\n",
    "print(\"\\n\")\n",
    "print(classification_report(y_test,predictions))\n",
    "print(\"\\n\")\n",
    "print(confusion_matrix(y_test,predictions))"
   ]
  },
  {
   "cell_type": "markdown",
   "id": "91ffbc0e",
   "metadata": {},
   "source": [
    "### Grid Search CV"
   ]
  },
  {
   "cell_type": "code",
   "execution_count": 59,
   "id": "cd425ff6",
   "metadata": {},
   "outputs": [],
   "source": [
    "param_grid = {'C':[0.1,1,10,100,1000],'gamma':[1,0.1,0.01,0.001,0.0001]}"
   ]
  },
  {
   "cell_type": "code",
   "execution_count": 63,
   "id": "5137eb0f",
   "metadata": {},
   "outputs": [],
   "source": [
    "grid = GridSearchCV(SVC(),param_grid,verbose=3)"
   ]
  },
  {
   "cell_type": "code",
   "execution_count": 64,
   "id": "02388d91",
   "metadata": {},
   "outputs": [
    {
     "name": "stdout",
     "output_type": "stream",
     "text": [
      "Fitting 5 folds for each of 25 candidates, totalling 125 fits\n",
      "[CV 1/5] END .................................C=0.1, gamma=1; total time=   0.5s\n",
      "[CV 2/5] END .................................C=0.1, gamma=1; total time=   0.5s\n",
      "[CV 3/5] END .................................C=0.1, gamma=1; total time=   0.5s\n",
      "[CV 4/5] END .................................C=0.1, gamma=1; total time=   0.5s\n",
      "[CV 5/5] END .................................C=0.1, gamma=1; total time=   0.5s\n",
      "[CV 1/5] END ...............................C=0.1, gamma=0.1; total time=   0.5s\n",
      "[CV 2/5] END ...............................C=0.1, gamma=0.1; total time=   0.5s\n",
      "[CV 3/5] END ...............................C=0.1, gamma=0.1; total time=   0.5s\n",
      "[CV 4/5] END ...............................C=0.1, gamma=0.1; total time=   0.5s\n",
      "[CV 5/5] END ...............................C=0.1, gamma=0.1; total time=   0.5s\n",
      "[CV 1/5] END ..............................C=0.1, gamma=0.01; total time=   0.5s\n",
      "[CV 2/5] END ..............................C=0.1, gamma=0.01; total time=   0.5s\n",
      "[CV 3/5] END ..............................C=0.1, gamma=0.01; total time=   0.5s\n",
      "[CV 4/5] END ..............................C=0.1, gamma=0.01; total time=   0.6s\n",
      "[CV 5/5] END ..............................C=0.1, gamma=0.01; total time=   0.5s\n",
      "[CV 1/5] END .............................C=0.1, gamma=0.001; total time=   0.3s\n",
      "[CV 2/5] END .............................C=0.1, gamma=0.001; total time=   0.3s\n",
      "[CV 3/5] END .............................C=0.1, gamma=0.001; total time=   0.3s\n",
      "[CV 4/5] END .............................C=0.1, gamma=0.001; total time=   0.4s\n",
      "[CV 5/5] END .............................C=0.1, gamma=0.001; total time=   0.4s\n",
      "[CV 1/5] END ............................C=0.1, gamma=0.0001; total time=   0.3s\n",
      "[CV 2/5] END ............................C=0.1, gamma=0.0001; total time=   0.3s\n",
      "[CV 3/5] END ............................C=0.1, gamma=0.0001; total time=   0.3s\n",
      "[CV 4/5] END ............................C=0.1, gamma=0.0001; total time=   0.3s\n",
      "[CV 5/5] END ............................C=0.1, gamma=0.0001; total time=   0.3s\n",
      "[CV 1/5] END ...................................C=1, gamma=1; total time=   0.5s\n",
      "[CV 2/5] END ...................................C=1, gamma=1; total time=   0.5s\n",
      "[CV 3/5] END ...................................C=1, gamma=1; total time=   0.5s\n",
      "[CV 4/5] END ...................................C=1, gamma=1; total time=   0.5s\n",
      "[CV 5/5] END ...................................C=1, gamma=1; total time=   0.5s\n",
      "[CV 1/5] END .................................C=1, gamma=0.1; total time=   0.5s\n",
      "[CV 2/5] END .................................C=1, gamma=0.1; total time=   0.5s\n",
      "[CV 3/5] END .................................C=1, gamma=0.1; total time=   0.5s\n",
      "[CV 4/5] END .................................C=1, gamma=0.1; total time=   0.5s\n",
      "[CV 5/5] END .................................C=1, gamma=0.1; total time=   0.5s\n",
      "[CV 1/5] END ................................C=1, gamma=0.01; total time=   0.5s\n",
      "[CV 2/5] END ................................C=1, gamma=0.01; total time=   0.5s\n",
      "[CV 3/5] END ................................C=1, gamma=0.01; total time=   0.5s\n",
      "[CV 4/5] END ................................C=1, gamma=0.01; total time=   0.5s\n",
      "[CV 5/5] END ................................C=1, gamma=0.01; total time=   0.5s\n",
      "[CV 1/5] END ...............................C=1, gamma=0.001; total time=   0.3s\n",
      "[CV 2/5] END ...............................C=1, gamma=0.001; total time=   0.2s\n",
      "[CV 3/5] END ...............................C=1, gamma=0.001; total time=   0.3s\n",
      "[CV 4/5] END ...............................C=1, gamma=0.001; total time=   0.3s\n",
      "[CV 5/5] END ...............................C=1, gamma=0.001; total time=   0.3s\n",
      "[CV 1/5] END ..............................C=1, gamma=0.0001; total time=   0.2s\n",
      "[CV 2/5] END ..............................C=1, gamma=0.0001; total time=   0.2s\n",
      "[CV 3/5] END ..............................C=1, gamma=0.0001; total time=   0.2s\n",
      "[CV 4/5] END ..............................C=1, gamma=0.0001; total time=   0.2s\n",
      "[CV 5/5] END ..............................C=1, gamma=0.0001; total time=   0.2s\n",
      "[CV 1/5] END ..................................C=10, gamma=1; total time=   0.5s\n",
      "[CV 2/5] END ..................................C=10, gamma=1; total time=   0.5s\n",
      "[CV 3/5] END ..................................C=10, gamma=1; total time=   0.6s\n",
      "[CV 4/5] END ..................................C=10, gamma=1; total time=   0.5s\n",
      "[CV 5/5] END ..................................C=10, gamma=1; total time=   0.5s\n",
      "[CV 1/5] END ................................C=10, gamma=0.1; total time=   0.5s\n",
      "[CV 2/5] END ................................C=10, gamma=0.1; total time=   0.5s\n",
      "[CV 3/5] END ................................C=10, gamma=0.1; total time=   0.5s\n",
      "[CV 4/5] END ................................C=10, gamma=0.1; total time=   0.5s\n",
      "[CV 5/5] END ................................C=10, gamma=0.1; total time=   0.5s\n",
      "[CV 1/5] END ...............................C=10, gamma=0.01; total time=   0.5s\n",
      "[CV 2/5] END ...............................C=10, gamma=0.01; total time=   0.5s\n",
      "[CV 3/5] END ...............................C=10, gamma=0.01; total time=   0.5s\n",
      "[CV 4/5] END ...............................C=10, gamma=0.01; total time=   0.5s\n",
      "[CV 5/5] END ...............................C=10, gamma=0.01; total time=   0.5s\n",
      "[CV 1/5] END ..............................C=10, gamma=0.001; total time=   0.3s\n",
      "[CV 2/5] END ..............................C=10, gamma=0.001; total time=   0.3s\n",
      "[CV 3/5] END ..............................C=10, gamma=0.001; total time=   0.3s\n",
      "[CV 4/5] END ..............................C=10, gamma=0.001; total time=   0.3s\n",
      "[CV 5/5] END ..............................C=10, gamma=0.001; total time=   0.3s\n",
      "[CV 1/5] END .............................C=10, gamma=0.0001; total time=   0.1s\n",
      "[CV 2/5] END .............................C=10, gamma=0.0001; total time=   0.1s\n",
      "[CV 3/5] END .............................C=10, gamma=0.0001; total time=   0.1s\n",
      "[CV 4/5] END .............................C=10, gamma=0.0001; total time=   0.1s\n",
      "[CV 5/5] END .............................C=10, gamma=0.0001; total time=   0.1s\n",
      "[CV 1/5] END .................................C=100, gamma=1; total time=   0.5s\n",
      "[CV 2/5] END .................................C=100, gamma=1; total time=   0.5s\n",
      "[CV 3/5] END .................................C=100, gamma=1; total time=   0.6s\n",
      "[CV 4/5] END .................................C=100, gamma=1; total time=   0.5s\n",
      "[CV 5/5] END .................................C=100, gamma=1; total time=   0.5s\n",
      "[CV 1/5] END ...............................C=100, gamma=0.1; total time=   0.5s\n",
      "[CV 2/5] END ...............................C=100, gamma=0.1; total time=   0.5s\n",
      "[CV 3/5] END ...............................C=100, gamma=0.1; total time=   0.5s\n",
      "[CV 4/5] END ...............................C=100, gamma=0.1; total time=   0.5s\n",
      "[CV 5/5] END ...............................C=100, gamma=0.1; total time=   0.5s\n",
      "[CV 1/5] END ..............................C=100, gamma=0.01; total time=   0.5s\n",
      "[CV 2/5] END ..............................C=100, gamma=0.01; total time=   0.5s\n",
      "[CV 3/5] END ..............................C=100, gamma=0.01; total time=   0.5s\n",
      "[CV 4/5] END ..............................C=100, gamma=0.01; total time=   0.5s\n",
      "[CV 5/5] END ..............................C=100, gamma=0.01; total time=   0.5s\n",
      "[CV 1/5] END .............................C=100, gamma=0.001; total time=   0.3s\n",
      "[CV 2/5] END .............................C=100, gamma=0.001; total time=   0.3s\n",
      "[CV 3/5] END .............................C=100, gamma=0.001; total time=   0.4s\n",
      "[CV 4/5] END .............................C=100, gamma=0.001; total time=   0.3s\n",
      "[CV 5/5] END .............................C=100, gamma=0.001; total time=   0.4s\n",
      "[CV 1/5] END ............................C=100, gamma=0.0001; total time=   0.2s\n",
      "[CV 2/5] END ............................C=100, gamma=0.0001; total time=   0.2s\n",
      "[CV 3/5] END ............................C=100, gamma=0.0001; total time=   0.2s\n",
      "[CV 4/5] END ............................C=100, gamma=0.0001; total time=   0.2s\n",
      "[CV 5/5] END ............................C=100, gamma=0.0001; total time=   0.2s\n",
      "[CV 1/5] END ................................C=1000, gamma=1; total time=   0.5s\n"
     ]
    },
    {
     "name": "stdout",
     "output_type": "stream",
     "text": [
      "[CV 2/5] END ................................C=1000, gamma=1; total time=   0.5s\n",
      "[CV 3/5] END ................................C=1000, gamma=1; total time=   0.5s\n",
      "[CV 4/5] END ................................C=1000, gamma=1; total time=   0.5s\n",
      "[CV 5/5] END ................................C=1000, gamma=1; total time=   0.5s\n",
      "[CV 1/5] END ..............................C=1000, gamma=0.1; total time=   0.5s\n",
      "[CV 2/5] END ..............................C=1000, gamma=0.1; total time=   0.5s\n",
      "[CV 3/5] END ..............................C=1000, gamma=0.1; total time=   0.5s\n",
      "[CV 4/5] END ..............................C=1000, gamma=0.1; total time=   0.5s\n",
      "[CV 5/5] END ..............................C=1000, gamma=0.1; total time=   0.5s\n",
      "[CV 1/5] END .............................C=1000, gamma=0.01; total time=   0.5s\n",
      "[CV 2/5] END .............................C=1000, gamma=0.01; total time=   0.5s\n",
      "[CV 3/5] END .............................C=1000, gamma=0.01; total time=   0.5s\n",
      "[CV 4/5] END .............................C=1000, gamma=0.01; total time=   0.5s\n",
      "[CV 5/5] END .............................C=1000, gamma=0.01; total time=   0.5s\n",
      "[CV 1/5] END ............................C=1000, gamma=0.001; total time=   0.3s\n",
      "[CV 2/5] END ............................C=1000, gamma=0.001; total time=   0.3s\n",
      "[CV 3/5] END ............................C=1000, gamma=0.001; total time=   0.3s\n",
      "[CV 4/5] END ............................C=1000, gamma=0.001; total time=   0.3s\n",
      "[CV 5/5] END ............................C=1000, gamma=0.001; total time=   0.3s\n",
      "[CV 1/5] END ...........................C=1000, gamma=0.0001; total time=   0.3s\n",
      "[CV 2/5] END ...........................C=1000, gamma=0.0001; total time=   0.3s\n",
      "[CV 3/5] END ...........................C=1000, gamma=0.0001; total time=   0.3s\n",
      "[CV 4/5] END ...........................C=1000, gamma=0.0001; total time=   0.3s\n",
      "[CV 5/5] END ...........................C=1000, gamma=0.0001; total time=   0.3s\n"
     ]
    },
    {
     "data": {
      "text/plain": [
       "GridSearchCV(estimator=SVC(),\n",
       "             param_grid={'C': [0.1, 1, 10, 100, 1000],\n",
       "                         'gamma': [1, 0.1, 0.01, 0.001, 0.0001]},\n",
       "             verbose=3)"
      ]
     },
     "execution_count": 64,
     "metadata": {},
     "output_type": "execute_result"
    }
   ],
   "source": [
    "grid.fit(X_train,y_train)"
   ]
  },
  {
   "cell_type": "code",
   "execution_count": 65,
   "id": "418259df",
   "metadata": {},
   "outputs": [
    {
     "data": {
      "text/plain": [
       "SVC(C=100, gamma=0.0001)"
      ]
     },
     "execution_count": 65,
     "metadata": {},
     "output_type": "execute_result"
    }
   ],
   "source": [
    "grid.best_estimator_"
   ]
  },
  {
   "cell_type": "code",
   "execution_count": 66,
   "id": "65d3da04",
   "metadata": {},
   "outputs": [
    {
     "data": {
      "text/plain": [
       "{'C': 100, 'gamma': 0.0001}"
      ]
     },
     "execution_count": 66,
     "metadata": {},
     "output_type": "execute_result"
    }
   ],
   "source": [
    "grid.best_params_"
   ]
  },
  {
   "cell_type": "code",
   "execution_count": 67,
   "id": "e0cfa6f9",
   "metadata": {},
   "outputs": [
    {
     "data": {
      "text/plain": [
       "0.8684598492492135"
      ]
     },
     "execution_count": 67,
     "metadata": {},
     "output_type": "execute_result"
    }
   ],
   "source": [
    "grid.best_score_"
   ]
  },
  {
   "cell_type": "code",
   "execution_count": 68,
   "id": "99ac22e4",
   "metadata": {},
   "outputs": [],
   "source": [
    "predictions = grid.predict(X_test)"
   ]
  },
  {
   "cell_type": "code",
   "execution_count": 69,
   "id": "3e713653",
   "metadata": {},
   "outputs": [
    {
     "name": "stdout",
     "output_type": "stream",
     "text": [
      "Accuracy:  0.871900826446281\n",
      "\n",
      "\n",
      "              precision    recall  f1-score   support\n",
      "\n",
      "           0       0.86      0.81      0.83       289\n",
      "           1       0.88      0.91      0.90       437\n",
      "\n",
      "    accuracy                           0.87       726\n",
      "   macro avg       0.87      0.86      0.86       726\n",
      "weighted avg       0.87      0.87      0.87       726\n",
      "\n",
      "\n",
      "\n",
      "[[234  55]\n",
      " [ 38 399]]\n"
     ]
    }
   ],
   "source": [
    "print(\"Accuracy: \", accuracy_score(y_test,predictions))\n",
    "print(\"\\n\")\n",
    "print(classification_report(y_test,predictions))\n",
    "print(\"\\n\")\n",
    "print(confusion_matrix(y_test,predictions))"
   ]
  },
  {
   "cell_type": "markdown",
   "id": "f3f53095",
   "metadata": {},
   "source": [
    "### Naive Bayes"
   ]
  },
  {
   "cell_type": "code",
   "execution_count": 72,
   "id": "7910acfc",
   "metadata": {},
   "outputs": [],
   "source": [
    "gnb = GaussianNB()"
   ]
  },
  {
   "cell_type": "code",
   "execution_count": 73,
   "id": "2d685338",
   "metadata": {},
   "outputs": [
    {
     "data": {
      "text/plain": [
       "GaussianNB()"
      ]
     },
     "execution_count": 73,
     "metadata": {},
     "output_type": "execute_result"
    }
   ],
   "source": [
    "gnb.fit(X_train,y_train)"
   ]
  },
  {
   "cell_type": "code",
   "execution_count": 74,
   "id": "b6d2f914",
   "metadata": {},
   "outputs": [],
   "source": [
    "predictions = gnb.predict(X_test)"
   ]
  },
  {
   "cell_type": "code",
   "execution_count": 75,
   "id": "3a97e180",
   "metadata": {},
   "outputs": [
    {
     "name": "stdout",
     "output_type": "stream",
     "text": [
      "Accuracy Score: 0.8278236914600551\n",
      "\n",
      "\n",
      "              precision    recall  f1-score   support\n",
      "\n",
      "           0       0.80      0.76      0.78       289\n",
      "           1       0.85      0.87      0.86       437\n",
      "\n",
      "    accuracy                           0.83       726\n",
      "   macro avg       0.82      0.82      0.82       726\n",
      "weighted avg       0.83      0.83      0.83       726\n",
      "\n",
      "\n",
      "\n",
      "[[219  70]\n",
      " [ 55 382]]\n"
     ]
    }
   ],
   "source": [
    "print('Accuracy Score:',accuracy_score(y_test,predictions))\n",
    "print('\\n')\n",
    "print(classification_report(y_test,predictions))\n",
    "print('\\n')\n",
    "print(confusion_matrix(y_test,predictions))"
   ]
  },
  {
   "cell_type": "markdown",
   "id": "e1df9e65",
   "metadata": {},
   "source": [
    "### XGBoost"
   ]
  },
  {
   "cell_type": "code",
   "execution_count": 76,
   "id": "762afada",
   "metadata": {},
   "outputs": [],
   "source": [
    "xgb_cl = xgb.XGBClassifier()"
   ]
  },
  {
   "cell_type": "code",
   "execution_count": 77,
   "id": "f1ef895b",
   "metadata": {},
   "outputs": [
    {
     "data": {
      "text/plain": [
       "XGBClassifier(base_score=0.5, booster='gbtree', callbacks=None,\n",
       "              colsample_bylevel=1, colsample_bynode=1, colsample_bytree=1,\n",
       "              early_stopping_rounds=None, enable_categorical=False,\n",
       "              eval_metric=None, gamma=0, gpu_id=-1, grow_policy='depthwise',\n",
       "              importance_type=None, interaction_constraints='',\n",
       "              learning_rate=0.300000012, max_bin=256, max_cat_to_onehot=4,\n",
       "              max_delta_step=0, max_depth=6, max_leaves=0, min_child_weight=1,\n",
       "              missing=nan, monotone_constraints='()', n_estimators=100,\n",
       "              n_jobs=0, num_parallel_tree=1, predictor='auto', random_state=0,\n",
       "              reg_alpha=0, reg_lambda=1, ...)"
      ]
     },
     "execution_count": 77,
     "metadata": {},
     "output_type": "execute_result"
    }
   ],
   "source": [
    "xgb_cl.fit(X_train, y_train)"
   ]
  },
  {
   "cell_type": "code",
   "execution_count": 78,
   "id": "f45f7ec1",
   "metadata": {},
   "outputs": [],
   "source": [
    "predictions = xgb_cl.predict(X_test)"
   ]
  },
  {
   "cell_type": "code",
   "execution_count": 79,
   "id": "80d2a68a",
   "metadata": {
    "scrolled": false
   },
   "outputs": [
    {
     "name": "stdout",
     "output_type": "stream",
     "text": [
      "Accuracy Score: 0.9104683195592287\n",
      "\n",
      "\n",
      "              precision    recall  f1-score   support\n",
      "\n",
      "           0       0.90      0.87      0.89       289\n",
      "           1       0.92      0.94      0.93       437\n",
      "\n",
      "    accuracy                           0.91       726\n",
      "   macro avg       0.91      0.90      0.91       726\n",
      "weighted avg       0.91      0.91      0.91       726\n",
      "\n",
      "\n",
      "\n",
      "[[251  38]\n",
      " [ 27 410]]\n"
     ]
    }
   ],
   "source": [
    "print('Accuracy Score:',accuracy_score(y_test,predictions))\n",
    "print('\\n')\n",
    "print(classification_report(y_test,predictions))\n",
    "print('\\n')\n",
    "print(confusion_matrix(y_test,predictions))"
   ]
  },
  {
   "cell_type": "markdown",
   "id": "41fa1cd7",
   "metadata": {},
   "source": [
    "### Neural Network"
   ]
  },
  {
   "cell_type": "code",
   "execution_count": 88,
   "id": "7a7038c7",
   "metadata": {},
   "outputs": [],
   "source": [
    "import tensorflow as tf\n",
    "from tensorflow.keras.models import Sequential\n",
    "from tensorflow.keras.layers import Dense, Activation, Dropout\n",
    "from tensorflow.keras.callbacks import EarlyStopping"
   ]
  },
  {
   "cell_type": "code",
   "execution_count": 89,
   "id": "694e71d8",
   "metadata": {},
   "outputs": [],
   "source": [
    "model = Sequential()\n",
    "\n",
    "# input layer\n",
    "model.add(Dense(units=36,activation='relu'))\n",
    "model.add(Dropout(0.5))\n",
    "\n",
    "# hidden layer\n",
    "model.add(Dense(units=18,activation='relu'))\n",
    "model.add(Dropout(0.5))\n",
    "\n",
    "# output layer\n",
    "model.add(Dense(units=1,activation='sigmoid'))\n",
    "\n",
    "# compiler\n",
    "model.compile(loss='binary_crossentropy', optimizer='adam')"
   ]
  },
  {
   "cell_type": "code",
   "execution_count": 90,
   "id": "018ba478",
   "metadata": {},
   "outputs": [],
   "source": [
    "early_stop = EarlyStopping(monitor='val_loss',mode='min',verbose=1,patience=25)"
   ]
  },
  {
   "cell_type": "code",
   "execution_count": 91,
   "id": "8a7cb99b",
   "metadata": {},
   "outputs": [
    {
     "name": "stdout",
     "output_type": "stream",
     "text": [
      "Epoch 1/600\n",
      "91/91 [==============================] - 1s 2ms/step - loss: 323.8211 - val_loss: 32.3097\n",
      "Epoch 2/600\n",
      "91/91 [==============================] - 0s 1ms/step - loss: 86.1419 - val_loss: 0.6826\n",
      "Epoch 3/600\n",
      "91/91 [==============================] - 0s 2ms/step - loss: 29.0735 - val_loss: 0.7906\n",
      "Epoch 4/600\n",
      "91/91 [==============================] - 0s 1ms/step - loss: 14.7785 - val_loss: 0.6744\n",
      "Epoch 5/600\n",
      "91/91 [==============================] - 0s 2ms/step - loss: 8.2881 - val_loss: 0.6728\n",
      "Epoch 6/600\n",
      "91/91 [==============================] - 0s 1ms/step - loss: 5.7691 - val_loss: 0.6802\n",
      "Epoch 7/600\n",
      "91/91 [==============================] - 0s 1ms/step - loss: 4.7451 - val_loss: 0.6755\n",
      "Epoch 8/600\n",
      "91/91 [==============================] - 0s 1ms/step - loss: 3.3704 - val_loss: 0.6758\n",
      "Epoch 9/600\n",
      "91/91 [==============================] - 0s 1ms/step - loss: 2.5948 - val_loss: 0.6732\n",
      "Epoch 10/600\n",
      "91/91 [==============================] - 0s 2ms/step - loss: 2.3690 - val_loss: 0.6711\n",
      "Epoch 11/600\n",
      "91/91 [==============================] - 0s 1ms/step - loss: 1.9076 - val_loss: 0.6717\n",
      "Epoch 12/600\n",
      "91/91 [==============================] - 0s 1ms/step - loss: 1.6235 - val_loss: 0.6714\n",
      "Epoch 13/600\n",
      "91/91 [==============================] - 0s 1ms/step - loss: 1.3458 - val_loss: 0.6712\n",
      "Epoch 14/600\n",
      "91/91 [==============================] - 0s 1ms/step - loss: 1.2156 - val_loss: 0.6723\n",
      "Epoch 15/600\n",
      "91/91 [==============================] - 0s 1ms/step - loss: 1.2476 - val_loss: 0.6718\n",
      "Epoch 16/600\n",
      "91/91 [==============================] - 0s 2ms/step - loss: 1.1012 - val_loss: 0.6723\n",
      "Epoch 17/600\n",
      "91/91 [==============================] - 0s 2ms/step - loss: 0.9624 - val_loss: 0.6737\n",
      "Epoch 18/600\n",
      "91/91 [==============================] - 0s 2ms/step - loss: 0.9903 - val_loss: 0.6717\n",
      "Epoch 19/600\n",
      "91/91 [==============================] - 0s 2ms/step - loss: 0.8860 - val_loss: 0.6715\n",
      "Epoch 20/600\n",
      "91/91 [==============================] - 0s 2ms/step - loss: 0.8183 - val_loss: 0.6718\n",
      "Epoch 21/600\n",
      "91/91 [==============================] - 0s 2ms/step - loss: 0.8591 - val_loss: 0.6718\n",
      "Epoch 22/600\n",
      "91/91 [==============================] - 0s 1ms/step - loss: 0.8387 - val_loss: 0.6713\n",
      "Epoch 23/600\n",
      "91/91 [==============================] - 0s 1ms/step - loss: 0.7875 - val_loss: 0.6712\n",
      "Epoch 24/600\n",
      "91/91 [==============================] - 0s 1ms/step - loss: 0.7996 - val_loss: 0.6712\n",
      "Epoch 25/600\n",
      "91/91 [==============================] - 0s 2ms/step - loss: 0.7559 - val_loss: 0.6714\n",
      "Epoch 26/600\n",
      "91/91 [==============================] - 0s 1ms/step - loss: 0.7352 - val_loss: 0.6712\n",
      "Epoch 27/600\n",
      "91/91 [==============================] - 0s 2ms/step - loss: 0.7409 - val_loss: 0.6712\n",
      "Epoch 28/600\n",
      "91/91 [==============================] - 0s 2ms/step - loss: 0.7599 - val_loss: 0.6712\n",
      "Epoch 29/600\n",
      "91/91 [==============================] - 0s 1ms/step - loss: 0.7804 - val_loss: 0.6712\n",
      "Epoch 30/600\n",
      "91/91 [==============================] - 0s 1ms/step - loss: 0.6966 - val_loss: 0.6713\n",
      "Epoch 31/600\n",
      "91/91 [==============================] - 0s 1ms/step - loss: 0.6866 - val_loss: 0.6712\n",
      "Epoch 32/600\n",
      "91/91 [==============================] - 0s 2ms/step - loss: 0.7126 - val_loss: 0.6712\n",
      "Epoch 33/600\n",
      "91/91 [==============================] - 0s 1ms/step - loss: 0.7102 - val_loss: 0.6713\n",
      "Epoch 34/600\n",
      "91/91 [==============================] - 0s 1ms/step - loss: 0.7022 - val_loss: 0.6715\n",
      "Epoch 35/600\n",
      "91/91 [==============================] - 0s 1ms/step - loss: 0.6977 - val_loss: 0.6715\n",
      "Epoch 35: early stopping\n"
     ]
    },
    {
     "data": {
      "text/plain": [
       "<keras.callbacks.History at 0x14eca5d90a0>"
      ]
     },
     "execution_count": 91,
     "metadata": {},
     "output_type": "execute_result"
    }
   ],
   "source": [
    "model.fit(x=X_train,y=y_train,epochs=600,validation_data=(X_test,y_test),callbacks=[early_stop])"
   ]
  },
  {
   "cell_type": "code",
   "execution_count": 92,
   "id": "3b85400b",
   "metadata": {},
   "outputs": [
    {
     "data": {
      "text/plain": [
       "<AxesSubplot:>"
      ]
     },
     "execution_count": 92,
     "metadata": {},
     "output_type": "execute_result"
    },
    {
     "data": {
      "image/png": "[encoded data removed]",
      "text/plain": [
       "<Figure size 432x288 with 1 Axes>"
      ]
     },
     "metadata": {
      "needs_background": "light"
     },
     "output_type": "display_data"
    }
   ],
   "source": [
    "losses = pd.DataFrame(model.history.history)\n",
    "losses.plot()"
   ]
  },
  {
   "cell_type": "code",
   "execution_count": 93,
   "id": "48e9c6c8",
   "metadata": {},
   "outputs": [],
   "source": [
    "predictions = (model.predict(X_test) > 0.5).astype(\"int32\")"
   ]
  },
  {
   "cell_type": "code",
   "execution_count": 94,
   "id": "35bd4dda",
   "metadata": {},
   "outputs": [
    {
     "name": "stdout",
     "output_type": "stream",
     "text": [
      "Accuracy Score: 0.6033057851239669\n",
      "\n",
      "\n",
      "              precision    recall  f1-score   support\n",
      "\n",
      "           0       1.00      0.00      0.01       289\n",
      "           1       0.60      1.00      0.75       437\n",
      "\n",
      "    accuracy                           0.60       726\n",
      "   macro avg       0.80      0.50      0.38       726\n",
      "weighted avg       0.76      0.60      0.46       726\n",
      "\n",
      "\n",
      "\n",
      "[[  1 288]\n",
      " [  0 437]]\n"
     ]
    }
   ],
   "source": [
    "print('Accuracy Score:',accuracy_score(y_test,predictions))\n",
    "print('\\n')\n",
    "print(classification_report(y_test,predictions))\n",
    "print('\\n')\n",
    "print(confusion_matrix(y_test,predictions))"
   ]
  },
  {
   "cell_type": "code",
   "execution_count": null,
   "id": "994c35e4",
   "metadata": {},
   "outputs": [],
   "source": []
  }
 ],
 "metadata": {
  "kernelspec": {
   "display_name": "Python 3",
   "language": "python",
   "name": "python3"
  },
  "language_info": {
   "codemirror_mode": {
    "name": "ipython",
    "version": 3
   },
   "file_extension": ".py",
   "mimetype": "text/x-python",
   "name": "python",
   "nbconvert_exporter": "python",
   "pygments_lexer": "ipython3",
   "version": "3.8.8"
  }
 },
 "nbformat": 4,
 "nbformat_minor": 5
}
