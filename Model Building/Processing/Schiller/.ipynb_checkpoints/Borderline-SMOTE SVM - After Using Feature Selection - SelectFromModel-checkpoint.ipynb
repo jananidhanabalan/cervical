{
 "cells": [
  {
   "cell_type": "code",
   "execution_count": 1,
   "id": "b8fd1173",
   "metadata": {},
   "outputs": [],
   "source": [
    "import pandas as pd\n",
    "import numpy as np\n",
    "import matplotlib.pyplot as plt\n",
    "import seaborn as sns\n",
    "%matplotlib inline"
   ]
  },
  {
   "cell_type": "code",
   "execution_count": 2,
   "id": "d8c79192",
   "metadata": {},
   "outputs": [],
   "source": [
    "df = pd.read_csv(\"Clean Data_2.csv\")"
   ]
  },
  {
   "cell_type": "code",
   "execution_count": 3,
   "id": "4c1d15e0",
   "metadata": {},
   "outputs": [
    {
     "data": {
      "text/html": [
       "<div>\n",
       "<style scoped>\n",
       "    .dataframe tbody tr th:only-of-type {\n",
       "        vertical-align: middle;\n",
       "    }\n",
       "\n",
       "    .dataframe tbody tr th {\n",
       "        vertical-align: top;\n",
       "    }\n",
       "\n",
       "    .dataframe thead th {\n",
       "        text-align: right;\n",
       "    }\n",
       "</style>\n",
       "<table border=\"1\" class=\"dataframe\">\n",
       "  <thead>\n",
       "    <tr style=\"text-align: right;\">\n",
       "      <th></th>\n",
       "      <th>Unnamed: 0</th>\n",
       "      <th>Age</th>\n",
       "      <th>Number of sexual partners</th>\n",
       "      <th>First sexual intercourse</th>\n",
       "      <th>Num of pregnancies</th>\n",
       "      <th>Smokes</th>\n",
       "      <th>Smokes (years)</th>\n",
       "      <th>Smokes (packs/year)</th>\n",
       "      <th>Hormonal Contraceptives</th>\n",
       "      <th>Hormonal Contraceptives (years)</th>\n",
       "      <th>...</th>\n",
       "      <th>STDs:HIV</th>\n",
       "      <th>STDs: Number of diagnosis</th>\n",
       "      <th>Dx:Cancer</th>\n",
       "      <th>Dx:CIN</th>\n",
       "      <th>Dx:HPV</th>\n",
       "      <th>Dx</th>\n",
       "      <th>Hinselmann</th>\n",
       "      <th>Schiller</th>\n",
       "      <th>Citology</th>\n",
       "      <th>Biopsy</th>\n",
       "    </tr>\n",
       "  </thead>\n",
       "  <tbody>\n",
       "    <tr>\n",
       "      <th>0</th>\n",
       "      <td>0</td>\n",
       "      <td>18</td>\n",
       "      <td>4.0</td>\n",
       "      <td>15.0</td>\n",
       "      <td>1.0</td>\n",
       "      <td>0.0</td>\n",
       "      <td>0.0</td>\n",
       "      <td>0.0</td>\n",
       "      <td>0.0</td>\n",
       "      <td>0.00</td>\n",
       "      <td>...</td>\n",
       "      <td>0.0</td>\n",
       "      <td>0</td>\n",
       "      <td>0</td>\n",
       "      <td>0</td>\n",
       "      <td>0</td>\n",
       "      <td>0</td>\n",
       "      <td>0</td>\n",
       "      <td>0</td>\n",
       "      <td>0</td>\n",
       "      <td>0</td>\n",
       "    </tr>\n",
       "    <tr>\n",
       "      <th>1</th>\n",
       "      <td>1</td>\n",
       "      <td>15</td>\n",
       "      <td>1.0</td>\n",
       "      <td>14.0</td>\n",
       "      <td>1.0</td>\n",
       "      <td>0.0</td>\n",
       "      <td>0.0</td>\n",
       "      <td>0.0</td>\n",
       "      <td>0.0</td>\n",
       "      <td>0.00</td>\n",
       "      <td>...</td>\n",
       "      <td>0.0</td>\n",
       "      <td>0</td>\n",
       "      <td>0</td>\n",
       "      <td>0</td>\n",
       "      <td>0</td>\n",
       "      <td>0</td>\n",
       "      <td>0</td>\n",
       "      <td>0</td>\n",
       "      <td>0</td>\n",
       "      <td>0</td>\n",
       "    </tr>\n",
       "    <tr>\n",
       "      <th>2</th>\n",
       "      <td>2</td>\n",
       "      <td>34</td>\n",
       "      <td>1.0</td>\n",
       "      <td>17.0</td>\n",
       "      <td>1.0</td>\n",
       "      <td>0.0</td>\n",
       "      <td>0.0</td>\n",
       "      <td>0.0</td>\n",
       "      <td>0.0</td>\n",
       "      <td>0.00</td>\n",
       "      <td>...</td>\n",
       "      <td>0.0</td>\n",
       "      <td>0</td>\n",
       "      <td>0</td>\n",
       "      <td>0</td>\n",
       "      <td>0</td>\n",
       "      <td>0</td>\n",
       "      <td>0</td>\n",
       "      <td>0</td>\n",
       "      <td>0</td>\n",
       "      <td>0</td>\n",
       "    </tr>\n",
       "    <tr>\n",
       "      <th>3</th>\n",
       "      <td>3</td>\n",
       "      <td>52</td>\n",
       "      <td>5.0</td>\n",
       "      <td>16.0</td>\n",
       "      <td>4.0</td>\n",
       "      <td>1.0</td>\n",
       "      <td>37.0</td>\n",
       "      <td>37.0</td>\n",
       "      <td>1.0</td>\n",
       "      <td>3.00</td>\n",
       "      <td>...</td>\n",
       "      <td>0.0</td>\n",
       "      <td>0</td>\n",
       "      <td>1</td>\n",
       "      <td>0</td>\n",
       "      <td>1</td>\n",
       "      <td>0</td>\n",
       "      <td>0</td>\n",
       "      <td>0</td>\n",
       "      <td>0</td>\n",
       "      <td>0</td>\n",
       "    </tr>\n",
       "    <tr>\n",
       "      <th>4</th>\n",
       "      <td>4</td>\n",
       "      <td>46</td>\n",
       "      <td>3.0</td>\n",
       "      <td>21.0</td>\n",
       "      <td>4.0</td>\n",
       "      <td>0.0</td>\n",
       "      <td>0.0</td>\n",
       "      <td>0.0</td>\n",
       "      <td>1.0</td>\n",
       "      <td>15.00</td>\n",
       "      <td>...</td>\n",
       "      <td>0.0</td>\n",
       "      <td>0</td>\n",
       "      <td>0</td>\n",
       "      <td>0</td>\n",
       "      <td>0</td>\n",
       "      <td>0</td>\n",
       "      <td>0</td>\n",
       "      <td>0</td>\n",
       "      <td>0</td>\n",
       "      <td>0</td>\n",
       "    </tr>\n",
       "    <tr>\n",
       "      <th>...</th>\n",
       "      <td>...</td>\n",
       "      <td>...</td>\n",
       "      <td>...</td>\n",
       "      <td>...</td>\n",
       "      <td>...</td>\n",
       "      <td>...</td>\n",
       "      <td>...</td>\n",
       "      <td>...</td>\n",
       "      <td>...</td>\n",
       "      <td>...</td>\n",
       "      <td>...</td>\n",
       "      <td>...</td>\n",
       "      <td>...</td>\n",
       "      <td>...</td>\n",
       "      <td>...</td>\n",
       "      <td>...</td>\n",
       "      <td>...</td>\n",
       "      <td>...</td>\n",
       "      <td>...</td>\n",
       "      <td>...</td>\n",
       "      <td>...</td>\n",
       "    </tr>\n",
       "    <tr>\n",
       "      <th>851</th>\n",
       "      <td>851</td>\n",
       "      <td>34</td>\n",
       "      <td>3.0</td>\n",
       "      <td>18.0</td>\n",
       "      <td>0.0</td>\n",
       "      <td>0.0</td>\n",
       "      <td>0.0</td>\n",
       "      <td>0.0</td>\n",
       "      <td>0.0</td>\n",
       "      <td>0.00</td>\n",
       "      <td>...</td>\n",
       "      <td>0.0</td>\n",
       "      <td>0</td>\n",
       "      <td>0</td>\n",
       "      <td>0</td>\n",
       "      <td>0</td>\n",
       "      <td>0</td>\n",
       "      <td>0</td>\n",
       "      <td>0</td>\n",
       "      <td>0</td>\n",
       "      <td>0</td>\n",
       "    </tr>\n",
       "    <tr>\n",
       "      <th>852</th>\n",
       "      <td>852</td>\n",
       "      <td>32</td>\n",
       "      <td>2.0</td>\n",
       "      <td>19.0</td>\n",
       "      <td>1.0</td>\n",
       "      <td>0.0</td>\n",
       "      <td>0.0</td>\n",
       "      <td>0.0</td>\n",
       "      <td>1.0</td>\n",
       "      <td>8.00</td>\n",
       "      <td>...</td>\n",
       "      <td>0.0</td>\n",
       "      <td>0</td>\n",
       "      <td>0</td>\n",
       "      <td>0</td>\n",
       "      <td>0</td>\n",
       "      <td>0</td>\n",
       "      <td>0</td>\n",
       "      <td>0</td>\n",
       "      <td>0</td>\n",
       "      <td>0</td>\n",
       "    </tr>\n",
       "    <tr>\n",
       "      <th>853</th>\n",
       "      <td>853</td>\n",
       "      <td>25</td>\n",
       "      <td>2.0</td>\n",
       "      <td>17.0</td>\n",
       "      <td>0.0</td>\n",
       "      <td>0.0</td>\n",
       "      <td>0.0</td>\n",
       "      <td>0.0</td>\n",
       "      <td>1.0</td>\n",
       "      <td>0.08</td>\n",
       "      <td>...</td>\n",
       "      <td>0.0</td>\n",
       "      <td>0</td>\n",
       "      <td>0</td>\n",
       "      <td>0</td>\n",
       "      <td>0</td>\n",
       "      <td>0</td>\n",
       "      <td>0</td>\n",
       "      <td>0</td>\n",
       "      <td>1</td>\n",
       "      <td>0</td>\n",
       "    </tr>\n",
       "    <tr>\n",
       "      <th>854</th>\n",
       "      <td>854</td>\n",
       "      <td>33</td>\n",
       "      <td>2.0</td>\n",
       "      <td>24.0</td>\n",
       "      <td>2.0</td>\n",
       "      <td>0.0</td>\n",
       "      <td>0.0</td>\n",
       "      <td>0.0</td>\n",
       "      <td>1.0</td>\n",
       "      <td>0.08</td>\n",
       "      <td>...</td>\n",
       "      <td>0.0</td>\n",
       "      <td>0</td>\n",
       "      <td>0</td>\n",
       "      <td>0</td>\n",
       "      <td>0</td>\n",
       "      <td>0</td>\n",
       "      <td>0</td>\n",
       "      <td>0</td>\n",
       "      <td>0</td>\n",
       "      <td>0</td>\n",
       "    </tr>\n",
       "    <tr>\n",
       "      <th>855</th>\n",
       "      <td>855</td>\n",
       "      <td>29</td>\n",
       "      <td>2.0</td>\n",
       "      <td>20.0</td>\n",
       "      <td>1.0</td>\n",
       "      <td>0.0</td>\n",
       "      <td>0.0</td>\n",
       "      <td>0.0</td>\n",
       "      <td>1.0</td>\n",
       "      <td>0.50</td>\n",
       "      <td>...</td>\n",
       "      <td>0.0</td>\n",
       "      <td>0</td>\n",
       "      <td>0</td>\n",
       "      <td>0</td>\n",
       "      <td>0</td>\n",
       "      <td>0</td>\n",
       "      <td>0</td>\n",
       "      <td>0</td>\n",
       "      <td>0</td>\n",
       "      <td>0</td>\n",
       "    </tr>\n",
       "  </tbody>\n",
       "</table>\n",
       "<p>856 rows × 26 columns</p>\n",
       "</div>"
      ],
      "text/plain": [
       "     Unnamed: 0  Age  Number of sexual partners  First sexual intercourse  \\\n",
       "0             0   18                        4.0                      15.0   \n",
       "1             1   15                        1.0                      14.0   \n",
       "2             2   34                        1.0                      17.0   \n",
       "3             3   52                        5.0                      16.0   \n",
       "4             4   46                        3.0                      21.0   \n",
       "..          ...  ...                        ...                       ...   \n",
       "851         851   34                        3.0                      18.0   \n",
       "852         852   32                        2.0                      19.0   \n",
       "853         853   25                        2.0                      17.0   \n",
       "854         854   33                        2.0                      24.0   \n",
       "855         855   29                        2.0                      20.0   \n",
       "\n",
       "     Num of pregnancies  Smokes  Smokes (years)  Smokes (packs/year)  \\\n",
       "0                   1.0     0.0             0.0                  0.0   \n",
       "1                   1.0     0.0             0.0                  0.0   \n",
       "2                   1.0     0.0             0.0                  0.0   \n",
       "3                   4.0     1.0            37.0                 37.0   \n",
       "4                   4.0     0.0             0.0                  0.0   \n",
       "..                  ...     ...             ...                  ...   \n",
       "851                 0.0     0.0             0.0                  0.0   \n",
       "852                 1.0     0.0             0.0                  0.0   \n",
       "853                 0.0     0.0             0.0                  0.0   \n",
       "854                 2.0     0.0             0.0                  0.0   \n",
       "855                 1.0     0.0             0.0                  0.0   \n",
       "\n",
       "     Hormonal Contraceptives  Hormonal Contraceptives (years)  ...  STDs:HIV  \\\n",
       "0                        0.0                             0.00  ...       0.0   \n",
       "1                        0.0                             0.00  ...       0.0   \n",
       "2                        0.0                             0.00  ...       0.0   \n",
       "3                        1.0                             3.00  ...       0.0   \n",
       "4                        1.0                            15.00  ...       0.0   \n",
       "..                       ...                              ...  ...       ...   \n",
       "851                      0.0                             0.00  ...       0.0   \n",
       "852                      1.0                             8.00  ...       0.0   \n",
       "853                      1.0                             0.08  ...       0.0   \n",
       "854                      1.0                             0.08  ...       0.0   \n",
       "855                      1.0                             0.50  ...       0.0   \n",
       "\n",
       "     STDs: Number of diagnosis  Dx:Cancer  Dx:CIN  Dx:HPV  Dx  Hinselmann  \\\n",
       "0                            0          0       0       0   0           0   \n",
       "1                            0          0       0       0   0           0   \n",
       "2                            0          0       0       0   0           0   \n",
       "3                            0          1       0       1   0           0   \n",
       "4                            0          0       0       0   0           0   \n",
       "..                         ...        ...     ...     ...  ..         ...   \n",
       "851                          0          0       0       0   0           0   \n",
       "852                          0          0       0       0   0           0   \n",
       "853                          0          0       0       0   0           0   \n",
       "854                          0          0       0       0   0           0   \n",
       "855                          0          0       0       0   0           0   \n",
       "\n",
       "     Schiller  Citology  Biopsy  \n",
       "0           0         0       0  \n",
       "1           0         0       0  \n",
       "2           0         0       0  \n",
       "3           0         0       0  \n",
       "4           0         0       0  \n",
       "..        ...       ...     ...  \n",
       "851         0         0       0  \n",
       "852         0         0       0  \n",
       "853         0         1       0  \n",
       "854         0         0       0  \n",
       "855         0         0       0  \n",
       "\n",
       "[856 rows x 26 columns]"
      ]
     },
     "execution_count": 3,
     "metadata": {},
     "output_type": "execute_result"
    }
   ],
   "source": [
    "df"
   ]
  },
  {
   "cell_type": "code",
   "execution_count": 4,
   "id": "90e204b0",
   "metadata": {},
   "outputs": [],
   "source": [
    "df.drop('Unnamed: 0',inplace=True,axis=1)"
   ]
  },
  {
   "cell_type": "code",
   "execution_count": 5,
   "id": "f5e1a473",
   "metadata": {},
   "outputs": [
    {
     "data": {
      "text/html": [
       "<div>\n",
       "<style scoped>\n",
       "    .dataframe tbody tr th:only-of-type {\n",
       "        vertical-align: middle;\n",
       "    }\n",
       "\n",
       "    .dataframe tbody tr th {\n",
       "        vertical-align: top;\n",
       "    }\n",
       "\n",
       "    .dataframe thead th {\n",
       "        text-align: right;\n",
       "    }\n",
       "</style>\n",
       "<table border=\"1\" class=\"dataframe\">\n",
       "  <thead>\n",
       "    <tr style=\"text-align: right;\">\n",
       "      <th></th>\n",
       "      <th>Age</th>\n",
       "      <th>Number of sexual partners</th>\n",
       "      <th>First sexual intercourse</th>\n",
       "      <th>Num of pregnancies</th>\n",
       "      <th>Smokes</th>\n",
       "      <th>Smokes (years)</th>\n",
       "      <th>Smokes (packs/year)</th>\n",
       "      <th>Hormonal Contraceptives</th>\n",
       "      <th>Hormonal Contraceptives (years)</th>\n",
       "      <th>IUD</th>\n",
       "      <th>...</th>\n",
       "      <th>STDs:HIV</th>\n",
       "      <th>STDs: Number of diagnosis</th>\n",
       "      <th>Dx:Cancer</th>\n",
       "      <th>Dx:CIN</th>\n",
       "      <th>Dx:HPV</th>\n",
       "      <th>Dx</th>\n",
       "      <th>Hinselmann</th>\n",
       "      <th>Schiller</th>\n",
       "      <th>Citology</th>\n",
       "      <th>Biopsy</th>\n",
       "    </tr>\n",
       "  </thead>\n",
       "  <tbody>\n",
       "    <tr>\n",
       "      <th>0</th>\n",
       "      <td>18</td>\n",
       "      <td>4.0</td>\n",
       "      <td>15.0</td>\n",
       "      <td>1.0</td>\n",
       "      <td>0.0</td>\n",
       "      <td>0.0</td>\n",
       "      <td>0.0</td>\n",
       "      <td>0.0</td>\n",
       "      <td>0.00</td>\n",
       "      <td>0.0</td>\n",
       "      <td>...</td>\n",
       "      <td>0.0</td>\n",
       "      <td>0</td>\n",
       "      <td>0</td>\n",
       "      <td>0</td>\n",
       "      <td>0</td>\n",
       "      <td>0</td>\n",
       "      <td>0</td>\n",
       "      <td>0</td>\n",
       "      <td>0</td>\n",
       "      <td>0</td>\n",
       "    </tr>\n",
       "    <tr>\n",
       "      <th>1</th>\n",
       "      <td>15</td>\n",
       "      <td>1.0</td>\n",
       "      <td>14.0</td>\n",
       "      <td>1.0</td>\n",
       "      <td>0.0</td>\n",
       "      <td>0.0</td>\n",
       "      <td>0.0</td>\n",
       "      <td>0.0</td>\n",
       "      <td>0.00</td>\n",
       "      <td>0.0</td>\n",
       "      <td>...</td>\n",
       "      <td>0.0</td>\n",
       "      <td>0</td>\n",
       "      <td>0</td>\n",
       "      <td>0</td>\n",
       "      <td>0</td>\n",
       "      <td>0</td>\n",
       "      <td>0</td>\n",
       "      <td>0</td>\n",
       "      <td>0</td>\n",
       "      <td>0</td>\n",
       "    </tr>\n",
       "    <tr>\n",
       "      <th>2</th>\n",
       "      <td>34</td>\n",
       "      <td>1.0</td>\n",
       "      <td>17.0</td>\n",
       "      <td>1.0</td>\n",
       "      <td>0.0</td>\n",
       "      <td>0.0</td>\n",
       "      <td>0.0</td>\n",
       "      <td>0.0</td>\n",
       "      <td>0.00</td>\n",
       "      <td>0.0</td>\n",
       "      <td>...</td>\n",
       "      <td>0.0</td>\n",
       "      <td>0</td>\n",
       "      <td>0</td>\n",
       "      <td>0</td>\n",
       "      <td>0</td>\n",
       "      <td>0</td>\n",
       "      <td>0</td>\n",
       "      <td>0</td>\n",
       "      <td>0</td>\n",
       "      <td>0</td>\n",
       "    </tr>\n",
       "    <tr>\n",
       "      <th>3</th>\n",
       "      <td>52</td>\n",
       "      <td>5.0</td>\n",
       "      <td>16.0</td>\n",
       "      <td>4.0</td>\n",
       "      <td>1.0</td>\n",
       "      <td>37.0</td>\n",
       "      <td>37.0</td>\n",
       "      <td>1.0</td>\n",
       "      <td>3.00</td>\n",
       "      <td>0.0</td>\n",
       "      <td>...</td>\n",
       "      <td>0.0</td>\n",
       "      <td>0</td>\n",
       "      <td>1</td>\n",
       "      <td>0</td>\n",
       "      <td>1</td>\n",
       "      <td>0</td>\n",
       "      <td>0</td>\n",
       "      <td>0</td>\n",
       "      <td>0</td>\n",
       "      <td>0</td>\n",
       "    </tr>\n",
       "    <tr>\n",
       "      <th>4</th>\n",
       "      <td>46</td>\n",
       "      <td>3.0</td>\n",
       "      <td>21.0</td>\n",
       "      <td>4.0</td>\n",
       "      <td>0.0</td>\n",
       "      <td>0.0</td>\n",
       "      <td>0.0</td>\n",
       "      <td>1.0</td>\n",
       "      <td>15.00</td>\n",
       "      <td>0.0</td>\n",
       "      <td>...</td>\n",
       "      <td>0.0</td>\n",
       "      <td>0</td>\n",
       "      <td>0</td>\n",
       "      <td>0</td>\n",
       "      <td>0</td>\n",
       "      <td>0</td>\n",
       "      <td>0</td>\n",
       "      <td>0</td>\n",
       "      <td>0</td>\n",
       "      <td>0</td>\n",
       "    </tr>\n",
       "    <tr>\n",
       "      <th>...</th>\n",
       "      <td>...</td>\n",
       "      <td>...</td>\n",
       "      <td>...</td>\n",
       "      <td>...</td>\n",
       "      <td>...</td>\n",
       "      <td>...</td>\n",
       "      <td>...</td>\n",
       "      <td>...</td>\n",
       "      <td>...</td>\n",
       "      <td>...</td>\n",
       "      <td>...</td>\n",
       "      <td>...</td>\n",
       "      <td>...</td>\n",
       "      <td>...</td>\n",
       "      <td>...</td>\n",
       "      <td>...</td>\n",
       "      <td>...</td>\n",
       "      <td>...</td>\n",
       "      <td>...</td>\n",
       "      <td>...</td>\n",
       "      <td>...</td>\n",
       "    </tr>\n",
       "    <tr>\n",
       "      <th>851</th>\n",
       "      <td>34</td>\n",
       "      <td>3.0</td>\n",
       "      <td>18.0</td>\n",
       "      <td>0.0</td>\n",
       "      <td>0.0</td>\n",
       "      <td>0.0</td>\n",
       "      <td>0.0</td>\n",
       "      <td>0.0</td>\n",
       "      <td>0.00</td>\n",
       "      <td>0.0</td>\n",
       "      <td>...</td>\n",
       "      <td>0.0</td>\n",
       "      <td>0</td>\n",
       "      <td>0</td>\n",
       "      <td>0</td>\n",
       "      <td>0</td>\n",
       "      <td>0</td>\n",
       "      <td>0</td>\n",
       "      <td>0</td>\n",
       "      <td>0</td>\n",
       "      <td>0</td>\n",
       "    </tr>\n",
       "    <tr>\n",
       "      <th>852</th>\n",
       "      <td>32</td>\n",
       "      <td>2.0</td>\n",
       "      <td>19.0</td>\n",
       "      <td>1.0</td>\n",
       "      <td>0.0</td>\n",
       "      <td>0.0</td>\n",
       "      <td>0.0</td>\n",
       "      <td>1.0</td>\n",
       "      <td>8.00</td>\n",
       "      <td>0.0</td>\n",
       "      <td>...</td>\n",
       "      <td>0.0</td>\n",
       "      <td>0</td>\n",
       "      <td>0</td>\n",
       "      <td>0</td>\n",
       "      <td>0</td>\n",
       "      <td>0</td>\n",
       "      <td>0</td>\n",
       "      <td>0</td>\n",
       "      <td>0</td>\n",
       "      <td>0</td>\n",
       "    </tr>\n",
       "    <tr>\n",
       "      <th>853</th>\n",
       "      <td>25</td>\n",
       "      <td>2.0</td>\n",
       "      <td>17.0</td>\n",
       "      <td>0.0</td>\n",
       "      <td>0.0</td>\n",
       "      <td>0.0</td>\n",
       "      <td>0.0</td>\n",
       "      <td>1.0</td>\n",
       "      <td>0.08</td>\n",
       "      <td>0.0</td>\n",
       "      <td>...</td>\n",
       "      <td>0.0</td>\n",
       "      <td>0</td>\n",
       "      <td>0</td>\n",
       "      <td>0</td>\n",
       "      <td>0</td>\n",
       "      <td>0</td>\n",
       "      <td>0</td>\n",
       "      <td>0</td>\n",
       "      <td>1</td>\n",
       "      <td>0</td>\n",
       "    </tr>\n",
       "    <tr>\n",
       "      <th>854</th>\n",
       "      <td>33</td>\n",
       "      <td>2.0</td>\n",
       "      <td>24.0</td>\n",
       "      <td>2.0</td>\n",
       "      <td>0.0</td>\n",
       "      <td>0.0</td>\n",
       "      <td>0.0</td>\n",
       "      <td>1.0</td>\n",
       "      <td>0.08</td>\n",
       "      <td>0.0</td>\n",
       "      <td>...</td>\n",
       "      <td>0.0</td>\n",
       "      <td>0</td>\n",
       "      <td>0</td>\n",
       "      <td>0</td>\n",
       "      <td>0</td>\n",
       "      <td>0</td>\n",
       "      <td>0</td>\n",
       "      <td>0</td>\n",
       "      <td>0</td>\n",
       "      <td>0</td>\n",
       "    </tr>\n",
       "    <tr>\n",
       "      <th>855</th>\n",
       "      <td>29</td>\n",
       "      <td>2.0</td>\n",
       "      <td>20.0</td>\n",
       "      <td>1.0</td>\n",
       "      <td>0.0</td>\n",
       "      <td>0.0</td>\n",
       "      <td>0.0</td>\n",
       "      <td>1.0</td>\n",
       "      <td>0.50</td>\n",
       "      <td>0.0</td>\n",
       "      <td>...</td>\n",
       "      <td>0.0</td>\n",
       "      <td>0</td>\n",
       "      <td>0</td>\n",
       "      <td>0</td>\n",
       "      <td>0</td>\n",
       "      <td>0</td>\n",
       "      <td>0</td>\n",
       "      <td>0</td>\n",
       "      <td>0</td>\n",
       "      <td>0</td>\n",
       "    </tr>\n",
       "  </tbody>\n",
       "</table>\n",
       "<p>856 rows × 25 columns</p>\n",
       "</div>"
      ],
      "text/plain": [
       "     Age  Number of sexual partners  First sexual intercourse  \\\n",
       "0     18                        4.0                      15.0   \n",
       "1     15                        1.0                      14.0   \n",
       "2     34                        1.0                      17.0   \n",
       "3     52                        5.0                      16.0   \n",
       "4     46                        3.0                      21.0   \n",
       "..   ...                        ...                       ...   \n",
       "851   34                        3.0                      18.0   \n",
       "852   32                        2.0                      19.0   \n",
       "853   25                        2.0                      17.0   \n",
       "854   33                        2.0                      24.0   \n",
       "855   29                        2.0                      20.0   \n",
       "\n",
       "     Num of pregnancies  Smokes  Smokes (years)  Smokes (packs/year)  \\\n",
       "0                   1.0     0.0             0.0                  0.0   \n",
       "1                   1.0     0.0             0.0                  0.0   \n",
       "2                   1.0     0.0             0.0                  0.0   \n",
       "3                   4.0     1.0            37.0                 37.0   \n",
       "4                   4.0     0.0             0.0                  0.0   \n",
       "..                  ...     ...             ...                  ...   \n",
       "851                 0.0     0.0             0.0                  0.0   \n",
       "852                 1.0     0.0             0.0                  0.0   \n",
       "853                 0.0     0.0             0.0                  0.0   \n",
       "854                 2.0     0.0             0.0                  0.0   \n",
       "855                 1.0     0.0             0.0                  0.0   \n",
       "\n",
       "     Hormonal Contraceptives  Hormonal Contraceptives (years)  IUD  ...  \\\n",
       "0                        0.0                             0.00  0.0  ...   \n",
       "1                        0.0                             0.00  0.0  ...   \n",
       "2                        0.0                             0.00  0.0  ...   \n",
       "3                        1.0                             3.00  0.0  ...   \n",
       "4                        1.0                            15.00  0.0  ...   \n",
       "..                       ...                              ...  ...  ...   \n",
       "851                      0.0                             0.00  0.0  ...   \n",
       "852                      1.0                             8.00  0.0  ...   \n",
       "853                      1.0                             0.08  0.0  ...   \n",
       "854                      1.0                             0.08  0.0  ...   \n",
       "855                      1.0                             0.50  0.0  ...   \n",
       "\n",
       "     STDs:HIV  STDs: Number of diagnosis  Dx:Cancer  Dx:CIN  Dx:HPV  Dx  \\\n",
       "0         0.0                          0          0       0       0   0   \n",
       "1         0.0                          0          0       0       0   0   \n",
       "2         0.0                          0          0       0       0   0   \n",
       "3         0.0                          0          1       0       1   0   \n",
       "4         0.0                          0          0       0       0   0   \n",
       "..        ...                        ...        ...     ...     ...  ..   \n",
       "851       0.0                          0          0       0       0   0   \n",
       "852       0.0                          0          0       0       0   0   \n",
       "853       0.0                          0          0       0       0   0   \n",
       "854       0.0                          0          0       0       0   0   \n",
       "855       0.0                          0          0       0       0   0   \n",
       "\n",
       "     Hinselmann  Schiller  Citology  Biopsy  \n",
       "0             0         0         0       0  \n",
       "1             0         0         0       0  \n",
       "2             0         0         0       0  \n",
       "3             0         0         0       0  \n",
       "4             0         0         0       0  \n",
       "..          ...       ...       ...     ...  \n",
       "851           0         0         0       0  \n",
       "852           0         0         0       0  \n",
       "853           0         0         1       0  \n",
       "854           0         0         0       0  \n",
       "855           0         0         0       0  \n",
       "\n",
       "[856 rows x 25 columns]"
      ]
     },
     "execution_count": 5,
     "metadata": {},
     "output_type": "execute_result"
    }
   ],
   "source": [
    "df"
   ]
  },
  {
   "cell_type": "code",
   "execution_count": 6,
   "id": "018a48b1",
   "metadata": {},
   "outputs": [
    {
     "data": {
      "text/plain": [
       "74"
      ]
     },
     "execution_count": 6,
     "metadata": {},
     "output_type": "execute_result"
    }
   ],
   "source": [
    "len(df[df['Schiller']==1])"
   ]
  },
  {
   "cell_type": "code",
   "execution_count": 7,
   "id": "cd0af845",
   "metadata": {},
   "outputs": [
    {
     "data": {
      "text/plain": [
       "0.08644859813084112"
      ]
     },
     "execution_count": 7,
     "metadata": {},
     "output_type": "execute_result"
    }
   ],
   "source": [
    "len(df[df['Schiller']==1])/len(df)"
   ]
  },
  {
   "cell_type": "code",
   "execution_count": 8,
   "id": "f62b0b5b",
   "metadata": {},
   "outputs": [
    {
     "name": "stdout",
     "output_type": "stream",
     "text": [
      "Counter({0: 782, 1: 74})\n",
      "Counter({0: 782, 1: 373})\n"
     ]
    },
    {
     "data": {
      "text/plain": [
       "<matplotlib.legend.Legend at 0x19e1f63fd30>"
      ]
     },
     "execution_count": 8,
     "metadata": {},
     "output_type": "execute_result"
    },
    {
     "data": {
      "image/png": "[encoded data removed]",
      "text/plain": [
       "<Figure size 432x288 with 1 Axes>"
      ]
     },
     "metadata": {
      "needs_background": "light"
     },
     "output_type": "display_data"
    }
   ],
   "source": [
    "# borderline-SMOTE with SVM for imbalanced dataset\n",
    "from collections import Counter\n",
    "from sklearn.datasets import make_classification\n",
    "from imblearn.over_sampling import SVMSMOTE\n",
    "from matplotlib import pyplot\n",
    "from numpy import where\n",
    "# define dataset\n",
    "X = df.drop(['Hinselmann','Schiller','Citology','Biopsy'],axis=1).values\n",
    "y = df['Schiller'].values\n",
    "# summarize class distribution\n",
    "counter = Counter(y)\n",
    "print(counter)\n",
    "# transform the dataset\n",
    "oversample = SVMSMOTE()\n",
    "X, y = oversample.fit_resample(X, y)\n",
    "# summarize the new class distribution\n",
    "counter = Counter(y)\n",
    "print(counter)\n",
    "# scatter plot of examples by class label\n",
    "for label, _ in counter.items():\n",
    "    row_ix = where(y == label)[0]\n",
    "    pyplot.scatter(X[row_ix, 0], X[row_ix, 1], label=str(label))\n",
    "pyplot.legend()"
   ]
  },
  {
   "cell_type": "code",
   "execution_count": 9,
   "id": "643766a9",
   "metadata": {},
   "outputs": [],
   "source": [
    "from sklearn.tree import DecisionTreeClassifier\n",
    "from sklearn.svm import SVC\n",
    "from sklearn.neighbors import KNeighborsClassifier\n",
    "from sklearn.linear_model import LogisticRegression\n",
    "from sklearn.ensemble import RandomForestClassifier\n",
    "from sklearn.model_selection import cross_val_score\n",
    "from sklearn.model_selection import GridSearchCV\n",
    "from sklearn.naive_bayes import GaussianNB\n",
    "from sklearn.metrics import accuracy_score, confusion_matrix, classification_report\n",
    "import xgboost as xgb\n",
    "from sklearn.ensemble import ExtraTreesClassifier\n",
    "from sklearn.feature_selection import SelectFromModel"
   ]
  },
  {
   "cell_type": "code",
   "execution_count": 10,
   "id": "55f72bf7",
   "metadata": {},
   "outputs": [],
   "source": [
    "from sklearn.model_selection import train_test_split"
   ]
  },
  {
   "cell_type": "code",
   "execution_count": 11,
   "id": "1ec6f892",
   "metadata": {},
   "outputs": [
    {
     "data": {
      "text/plain": [
       "array([0.11992062, 0.09211459, 0.08484884, 0.07617101, 0.0339991 ,\n",
       "       0.03254108, 0.02686641, 0.10151165, 0.12374812, 0.05149936,\n",
       "       0.02520108, 0.03621687, 0.02381419, 0.02404349, 0.00882373,\n",
       "       0.0196613 , 0.03160326, 0.03429022, 0.00339341, 0.03641136,\n",
       "       0.0133203 ])"
      ]
     },
     "execution_count": 11,
     "metadata": {},
     "output_type": "execute_result"
    }
   ],
   "source": [
    "clf = ExtraTreesClassifier(n_estimators=50)\n",
    "clf = clf.fit(X, y)\n",
    "clf.feature_importances_"
   ]
  },
  {
   "cell_type": "code",
   "execution_count": 12,
   "id": "51f84c51",
   "metadata": {},
   "outputs": [
    {
     "data": {
      "text/plain": [
       "Index(['Age', 'Number of sexual partners', 'First sexual intercourse',\n",
       "       'Num of pregnancies', 'Smokes', 'Smokes (years)', 'Smokes (packs/year)',\n",
       "       'Hormonal Contraceptives', 'Hormonal Contraceptives (years)', 'IUD',\n",
       "       'IUD (years)', 'STDs', 'STDs (number)', 'STDs:condylomatosis',\n",
       "       'STDs:syphilis', 'STDs:HIV', 'STDs: Number of diagnosis', 'Dx:Cancer',\n",
       "       'Dx:CIN', 'Dx:HPV', 'Dx', 'Hinselmann', 'Schiller', 'Citology',\n",
       "       'Biopsy'],\n",
       "      dtype='object')"
      ]
     },
     "execution_count": 12,
     "metadata": {},
     "output_type": "execute_result"
    }
   ],
   "source": [
    "df.columns"
   ]
  },
  {
   "cell_type": "code",
   "execution_count": 13,
   "id": "a79e1c1a",
   "metadata": {},
   "outputs": [],
   "source": [
    "features = ['Age', 'Number of sexual partners', 'First sexual intercourse',\n",
    "       'Num of pregnancies', 'Smokes', 'Smokes (years)', 'Smokes (packs/year)',\n",
    "       'Hormonal Contraceptives', 'Hormonal Contraceptives (years)', 'IUD',\n",
    "       'IUD (years)', 'STDs', 'STDs (number)', 'STDs:condylomatosis',\n",
    "       'STDs:syphilis', 'STDs:HIV', 'STDs: Number of diagnosis', 'Dx:Cancer',\n",
    "       'Dx:CIN', 'Dx:HPV', 'Dx']"
   ]
  },
  {
   "cell_type": "code",
   "execution_count": 14,
   "id": "57856bc6",
   "metadata": {},
   "outputs": [],
   "source": [
    "feat_importances = pd.Series(clf.feature_importances_, index=features)"
   ]
  },
  {
   "cell_type": "code",
   "execution_count": 15,
   "id": "aa7e944b",
   "metadata": {},
   "outputs": [
    {
     "data": {
      "text/plain": [
       "Dx:CIN                             0.003393\n",
       "STDs:syphilis                      0.008824\n",
       "Dx                                 0.013320\n",
       "STDs:HIV                           0.019661\n",
       "STDs (number)                      0.023814\n",
       "STDs:condylomatosis                0.024043\n",
       "IUD (years)                        0.025201\n",
       "Smokes (packs/year)                0.026866\n",
       "STDs: Number of diagnosis          0.031603\n",
       "Smokes (years)                     0.032541\n",
       "Smokes                             0.033999\n",
       "Dx:Cancer                          0.034290\n",
       "STDs                               0.036217\n",
       "Dx:HPV                             0.036411\n",
       "IUD                                0.051499\n",
       "Num of pregnancies                 0.076171\n",
       "First sexual intercourse           0.084849\n",
       "Number of sexual partners          0.092115\n",
       "Hormonal Contraceptives            0.101512\n",
       "Age                                0.119921\n",
       "Hormonal Contraceptives (years)    0.123748\n",
       "dtype: float64"
      ]
     },
     "execution_count": 15,
     "metadata": {},
     "output_type": "execute_result"
    }
   ],
   "source": [
    "feat_importances.sort_values()"
   ]
  },
  {
   "cell_type": "code",
   "execution_count": 16,
   "id": "78f0e479",
   "metadata": {},
   "outputs": [
    {
     "data": {
      "text/plain": [
       "<AxesSubplot:>"
      ]
     },
     "execution_count": 16,
     "metadata": {},
     "output_type": "execute_result"
    },
    {
     "data": {
      "image/png": "[encoded data removed]",
      "text/plain": [
       "<Figure size 432x288 with 1 Axes>"
      ]
     },
     "metadata": {
      "needs_background": "light"
     },
     "output_type": "display_data"
    }
   ],
   "source": [
    "feat_importances.nlargest(10).plot(kind='barh')"
   ]
  },
  {
   "cell_type": "code",
   "execution_count": 17,
   "id": "5b712511",
   "metadata": {},
   "outputs": [],
   "source": [
    "model = SelectFromModel(clf, prefit=True)"
   ]
  },
  {
   "cell_type": "code",
   "execution_count": 18,
   "id": "aed41f3c",
   "metadata": {},
   "outputs": [],
   "source": [
    "X_new = model.transform(X)"
   ]
  },
  {
   "cell_type": "code",
   "execution_count": 19,
   "id": "702393e7",
   "metadata": {},
   "outputs": [
    {
     "data": {
      "text/plain": [
       "(1155, 7)"
      ]
     },
     "execution_count": 19,
     "metadata": {},
     "output_type": "execute_result"
    }
   ],
   "source": [
    "X_new.shape"
   ]
  },
  {
   "cell_type": "code",
   "execution_count": 20,
   "id": "94402e32",
   "metadata": {},
   "outputs": [],
   "source": [
    "X_train, X_test, y_train, y_test = train_test_split(X_new, y, test_size=0.2, random_state=101)"
   ]
  },
  {
   "cell_type": "markdown",
   "id": "9e2c8e1f",
   "metadata": {},
   "source": [
    "# Buidling Model before Feature Selection"
   ]
  },
  {
   "cell_type": "markdown",
   "id": "3cd42d86",
   "metadata": {},
   "source": [
    "### Logistic Regression"
   ]
  },
  {
   "cell_type": "code",
   "execution_count": 21,
   "id": "0b045ec5",
   "metadata": {},
   "outputs": [],
   "source": [
    "logmodel = LogisticRegression(max_iter=10000)"
   ]
  },
  {
   "cell_type": "code",
   "execution_count": 22,
   "id": "ab0197fa",
   "metadata": {},
   "outputs": [
    {
     "data": {
      "text/plain": [
       "LogisticRegression(max_iter=10000)"
      ]
     },
     "execution_count": 22,
     "metadata": {},
     "output_type": "execute_result"
    }
   ],
   "source": [
    "logmodel.fit(X_train,y_train)"
   ]
  },
  {
   "cell_type": "code",
   "execution_count": 23,
   "id": "badb65fc",
   "metadata": {},
   "outputs": [],
   "source": [
    "predictions = logmodel.predict(X_test)"
   ]
  },
  {
   "cell_type": "code",
   "execution_count": 24,
   "id": "f32b17ae",
   "metadata": {},
   "outputs": [
    {
     "data": {
      "text/plain": [
       "array([0, 0, 1, 1, 0, 0, 0, 0, 1, 1, 0, 0, 0, 0, 0, 0, 0, 0, 0, 0, 0, 0,\n",
       "       0, 0, 0, 0, 0, 0, 0, 0, 0, 0, 0, 0, 0, 0, 0, 0, 0, 0, 0, 0, 0, 0,\n",
       "       0, 0, 0, 0, 0, 0, 0, 1, 1, 0, 0, 0, 0, 1, 0, 0, 0, 0, 0, 0, 0, 0,\n",
       "       0, 1, 0, 0, 0, 0, 0, 0, 0, 0, 1, 0, 0, 0, 0, 0, 1, 0, 0, 1, 0, 0,\n",
       "       0, 0, 0, 0, 1, 0, 1, 0, 0, 0, 0, 0, 0, 0, 0, 1, 1, 0, 0, 0, 0, 0,\n",
       "       0, 0, 0, 0, 0, 0, 0, 1, 1, 0, 0, 0, 1, 0, 1, 0, 0, 0, 0, 1, 0, 1,\n",
       "       0, 0, 1, 0, 0, 1, 1, 0, 0, 0, 0, 0, 1, 1, 0, 1, 0, 0, 0, 1, 1, 0,\n",
       "       1, 0, 0, 1, 0, 0, 0, 0, 0, 0, 0, 1, 0, 1, 0, 0, 0, 0, 0, 0, 0, 0,\n",
       "       0, 0, 0, 0, 0, 0, 1, 0, 1, 0, 0, 0, 0, 1, 0, 0, 0, 0, 0, 0, 1, 0,\n",
       "       0, 0, 0, 0, 0, 0, 1, 1, 0, 0, 0, 1, 0, 1, 0, 0, 0, 0, 1, 0, 0, 0,\n",
       "       0, 0, 0, 0, 0, 0, 0, 0, 0, 0, 0], dtype=int64)"
      ]
     },
     "execution_count": 24,
     "metadata": {},
     "output_type": "execute_result"
    }
   ],
   "source": [
    "predictions"
   ]
  },
  {
   "cell_type": "code",
   "execution_count": 25,
   "id": "5617920f",
   "metadata": {},
   "outputs": [
    {
     "name": "stdout",
     "output_type": "stream",
     "text": [
      "Accuracy:  0.6883116883116883\n",
      "\n",
      "\n",
      "              precision    recall  f1-score   support\n",
      "\n",
      "           0       0.73      0.87      0.79       159\n",
      "           1       0.50      0.29      0.37        72\n",
      "\n",
      "    accuracy                           0.69       231\n",
      "   macro avg       0.62      0.58      0.58       231\n",
      "weighted avg       0.66      0.69      0.66       231\n",
      "\n",
      "\n",
      "\n",
      "[[138  21]\n",
      " [ 51  21]]\n"
     ]
    }
   ],
   "source": [
    "print(\"Accuracy: \", accuracy_score(y_test,predictions))\n",
    "print(\"\\n\")\n",
    "print(classification_report(y_test,predictions))\n",
    "print(\"\\n\")\n",
    "print(confusion_matrix(y_test,predictions))"
   ]
  },
  {
   "cell_type": "markdown",
   "id": "968c0147",
   "metadata": {},
   "source": [
    "### KNN"
   ]
  },
  {
   "cell_type": "code",
   "execution_count": 26,
   "id": "e2fa3645",
   "metadata": {},
   "outputs": [],
   "source": [
    "error_rate = []\n",
    "\n",
    "for i in range(1,40):\n",
    "    knn = KNeighborsClassifier(n_neighbors=i)\n",
    "    knn.fit(X_train,y_train)\n",
    "    pred_i = knn.predict(X_test)\n",
    "    error_rate.append(np.mean(pred_i != y_test))"
   ]
  },
  {
   "cell_type": "code",
   "execution_count": 27,
   "id": "4edbd871",
   "metadata": {},
   "outputs": [
    {
     "data": {
      "text/plain": [
       "Text(0, 0.5, 'Error Rate')"
      ]
     },
     "execution_count": 27,
     "metadata": {},
     "output_type": "execute_result"
    },
    {
     "data": {
      "image/png": "[encoded data removed]",
      "text/plain": [
       "<Figure size 720x432 with 1 Axes>"
      ]
     },
     "metadata": {
      "needs_background": "light"
     },
     "output_type": "display_data"
    }
   ],
   "source": [
    "plt.figure(figsize=(10,6))\n",
    "plt.plot(range(1,40),error_rate,color='blue',linestyle='--',marker='o',markerfacecolor='red',markersize=10)\n",
    "plt.title('Error Rate vs K value')\n",
    "plt.xlabel('K')\n",
    "plt.ylabel('Error Rate')"
   ]
  },
  {
   "cell_type": "code",
   "execution_count": 28,
   "id": "aee3a839",
   "metadata": {},
   "outputs": [],
   "source": [
    "knn = KNeighborsClassifier(n_neighbors=2)\n",
    "knn.fit(X_train,y_train)\n",
    "predictions = knn.predict(X_test)"
   ]
  },
  {
   "cell_type": "code",
   "execution_count": 29,
   "id": "86a48fc9",
   "metadata": {},
   "outputs": [
    {
     "name": "stdout",
     "output_type": "stream",
     "text": [
      "Accuracy Score: 0.8441558441558441\n",
      "\n",
      "\n",
      "              precision    recall  f1-score   support\n",
      "\n",
      "           0       0.90      0.87      0.89       159\n",
      "           1       0.74      0.78      0.76        72\n",
      "\n",
      "    accuracy                           0.84       231\n",
      "   macro avg       0.82      0.83      0.82       231\n",
      "weighted avg       0.85      0.84      0.85       231\n",
      "\n",
      "\n",
      "\n",
      "[[139  20]\n",
      " [ 16  56]]\n"
     ]
    }
   ],
   "source": [
    "print('Accuracy Score:',accuracy_score(y_test,predictions))\n",
    "print('\\n')\n",
    "print(classification_report(y_test,predictions))\n",
    "print('\\n')\n",
    "print(confusion_matrix(y_test,predictions))"
   ]
  },
  {
   "cell_type": "markdown",
   "id": "edd79d40",
   "metadata": {},
   "source": [
    "### Decision Tree"
   ]
  },
  {
   "cell_type": "code",
   "execution_count": 30,
   "id": "5340d022",
   "metadata": {},
   "outputs": [],
   "source": [
    "dtree = DecisionTreeClassifier()"
   ]
  },
  {
   "cell_type": "code",
   "execution_count": 31,
   "id": "630062ec",
   "metadata": {},
   "outputs": [
    {
     "data": {
      "text/plain": [
       "DecisionTreeClassifier()"
      ]
     },
     "execution_count": 31,
     "metadata": {},
     "output_type": "execute_result"
    }
   ],
   "source": [
    "dtree.fit(X_train,y_train)"
   ]
  },
  {
   "cell_type": "code",
   "execution_count": 32,
   "id": "7ffdf4bb",
   "metadata": {},
   "outputs": [],
   "source": [
    "predictions = dtree.predict(X_test)"
   ]
  },
  {
   "cell_type": "code",
   "execution_count": 33,
   "id": "692d5681",
   "metadata": {},
   "outputs": [
    {
     "name": "stdout",
     "output_type": "stream",
     "text": [
      "Accuracy:  0.8181818181818182\n",
      "\n",
      "\n",
      "              precision    recall  f1-score   support\n",
      "\n",
      "           0       0.86      0.88      0.87       159\n",
      "           1       0.72      0.68      0.70        72\n",
      "\n",
      "    accuracy                           0.82       231\n",
      "   macro avg       0.79      0.78      0.78       231\n",
      "weighted avg       0.82      0.82      0.82       231\n",
      "\n",
      "\n",
      "\n",
      "[[140  19]\n",
      " [ 23  49]]\n"
     ]
    }
   ],
   "source": [
    "print(\"Accuracy: \", accuracy_score(y_test,predictions))\n",
    "print(\"\\n\")\n",
    "print(classification_report(y_test,predictions))\n",
    "print(\"\\n\")\n",
    "print(confusion_matrix(y_test,predictions))"
   ]
  },
  {
   "cell_type": "markdown",
   "id": "3c3d9ff5",
   "metadata": {},
   "source": [
    "### Random Forest"
   ]
  },
  {
   "cell_type": "code",
   "execution_count": 34,
   "id": "416c07d0",
   "metadata": {},
   "outputs": [],
   "source": [
    "rfc = RandomForestClassifier(n_estimators=200)"
   ]
  },
  {
   "cell_type": "code",
   "execution_count": 35,
   "id": "09d61f88",
   "metadata": {},
   "outputs": [
    {
     "data": {
      "text/plain": [
       "RandomForestClassifier(n_estimators=200)"
      ]
     },
     "execution_count": 35,
     "metadata": {},
     "output_type": "execute_result"
    }
   ],
   "source": [
    "rfc.fit(X_train,y_train)"
   ]
  },
  {
   "cell_type": "code",
   "execution_count": 36,
   "id": "77603047",
   "metadata": {},
   "outputs": [],
   "source": [
    "predictions = rfc.predict(X_test)"
   ]
  },
  {
   "cell_type": "code",
   "execution_count": 37,
   "id": "69b7b8d0",
   "metadata": {},
   "outputs": [
    {
     "name": "stdout",
     "output_type": "stream",
     "text": [
      "Accuracy:  0.9004329004329005\n",
      "\n",
      "\n",
      "              precision    recall  f1-score   support\n",
      "\n",
      "           0       0.90      0.97      0.93       159\n",
      "           1       0.92      0.75      0.82        72\n",
      "\n",
      "    accuracy                           0.90       231\n",
      "   macro avg       0.91      0.86      0.88       231\n",
      "weighted avg       0.90      0.90      0.90       231\n",
      "\n",
      "\n",
      "\n",
      "[[154   5]\n",
      " [ 18  54]]\n"
     ]
    }
   ],
   "source": [
    "print(\"Accuracy: \", accuracy_score(y_test,predictions))\n",
    "print(\"\\n\")\n",
    "print(classification_report(y_test,predictions))\n",
    "print(\"\\n\")\n",
    "print(confusion_matrix(y_test,predictions))"
   ]
  },
  {
   "cell_type": "markdown",
   "id": "29f910a8",
   "metadata": {},
   "source": [
    "### Support Vector Machine"
   ]
  },
  {
   "cell_type": "code",
   "execution_count": 38,
   "id": "70b2fd48",
   "metadata": {},
   "outputs": [],
   "source": [
    "model = SVC()"
   ]
  },
  {
   "cell_type": "code",
   "execution_count": 39,
   "id": "fc005442",
   "metadata": {},
   "outputs": [
    {
     "data": {
      "text/plain": [
       "SVC()"
      ]
     },
     "execution_count": 39,
     "metadata": {},
     "output_type": "execute_result"
    }
   ],
   "source": [
    "model.fit(X_train,y_train)"
   ]
  },
  {
   "cell_type": "code",
   "execution_count": 40,
   "id": "07a8de58",
   "metadata": {},
   "outputs": [],
   "source": [
    "predictions = model.predict(X_test)"
   ]
  },
  {
   "cell_type": "code",
   "execution_count": 41,
   "id": "dfff3b21",
   "metadata": {},
   "outputs": [
    {
     "name": "stdout",
     "output_type": "stream",
     "text": [
      "Accuracy:  0.7142857142857143\n",
      "\n",
      "\n",
      "              precision    recall  f1-score   support\n",
      "\n",
      "           0       0.73      0.94      0.82       159\n",
      "           1       0.62      0.22      0.33        72\n",
      "\n",
      "    accuracy                           0.71       231\n",
      "   macro avg       0.67      0.58      0.57       231\n",
      "weighted avg       0.69      0.71      0.67       231\n",
      "\n",
      "\n",
      "\n",
      "[[149  10]\n",
      " [ 56  16]]\n"
     ]
    }
   ],
   "source": [
    "print(\"Accuracy: \", accuracy_score(y_test,predictions))\n",
    "print(\"\\n\")\n",
    "print(classification_report(y_test,predictions))\n",
    "print(\"\\n\")\n",
    "print(confusion_matrix(y_test,predictions))"
   ]
  },
  {
   "cell_type": "markdown",
   "id": "91ffbc0e",
   "metadata": {},
   "source": [
    "### Grid Search CV"
   ]
  },
  {
   "cell_type": "code",
   "execution_count": 42,
   "id": "cd425ff6",
   "metadata": {},
   "outputs": [],
   "source": [
    "param_grid = {'C':[0.1,1,10,100,1000],'gamma':[1,0.1,0.01,0.001,0.0001]}"
   ]
  },
  {
   "cell_type": "code",
   "execution_count": 43,
   "id": "5137eb0f",
   "metadata": {},
   "outputs": [],
   "source": [
    "grid = GridSearchCV(SVC(),param_grid,verbose=3)"
   ]
  },
  {
   "cell_type": "code",
   "execution_count": 44,
   "id": "02388d91",
   "metadata": {},
   "outputs": [
    {
     "name": "stdout",
     "output_type": "stream",
     "text": [
      "Fitting 5 folds for each of 25 candidates, totalling 125 fits\n",
      "[CV 1/5] END .................................C=0.1, gamma=1; total time=   0.0s\n",
      "[CV 2/5] END .................................C=0.1, gamma=1; total time=   0.0s\n",
      "[CV 3/5] END .................................C=0.1, gamma=1; total time=   0.0s\n",
      "[CV 4/5] END .................................C=0.1, gamma=1; total time=   0.0s\n",
      "[CV 5/5] END .................................C=0.1, gamma=1; total time=   0.0s\n",
      "[CV 1/5] END ...............................C=0.1, gamma=0.1; total time=   0.0s\n",
      "[CV 2/5] END ...............................C=0.1, gamma=0.1; total time=   0.0s\n",
      "[CV 3/5] END ...............................C=0.1, gamma=0.1; total time=   0.0s\n",
      "[CV 4/5] END ...............................C=0.1, gamma=0.1; total time=   0.0s\n",
      "[CV 5/5] END ...............................C=0.1, gamma=0.1; total time=   0.0s\n",
      "[CV 1/5] END ..............................C=0.1, gamma=0.01; total time=   0.0s\n",
      "[CV 2/5] END ..............................C=0.1, gamma=0.01; total time=   0.0s\n",
      "[CV 3/5] END ..............................C=0.1, gamma=0.01; total time=   0.0s\n",
      "[CV 4/5] END ..............................C=0.1, gamma=0.01; total time=   0.0s\n",
      "[CV 5/5] END ..............................C=0.1, gamma=0.01; total time=   0.0s\n",
      "[CV 1/5] END .............................C=0.1, gamma=0.001; total time=   0.0s\n",
      "[CV 2/5] END .............................C=0.1, gamma=0.001; total time=   0.0s\n",
      "[CV 3/5] END .............................C=0.1, gamma=0.001; total time=   0.0s\n",
      "[CV 4/5] END .............................C=0.1, gamma=0.001; total time=   0.0s\n",
      "[CV 5/5] END .............................C=0.1, gamma=0.001; total time=   0.0s\n",
      "[CV 1/5] END ............................C=0.1, gamma=0.0001; total time=   0.0s\n",
      "[CV 2/5] END ............................C=0.1, gamma=0.0001; total time=   0.0s\n",
      "[CV 3/5] END ............................C=0.1, gamma=0.0001; total time=   0.0s\n",
      "[CV 4/5] END ............................C=0.1, gamma=0.0001; total time=   0.0s\n",
      "[CV 5/5] END ............................C=0.1, gamma=0.0001; total time=   0.0s\n",
      "[CV 1/5] END ...................................C=1, gamma=1; total time=   0.0s\n",
      "[CV 2/5] END ...................................C=1, gamma=1; total time=   0.0s\n",
      "[CV 3/5] END ...................................C=1, gamma=1; total time=   0.0s\n",
      "[CV 4/5] END ...................................C=1, gamma=1; total time=   0.0s\n",
      "[CV 5/5] END ...................................C=1, gamma=1; total time=   0.0s\n",
      "[CV 1/5] END .................................C=1, gamma=0.1; total time=   0.0s\n",
      "[CV 2/5] END .................................C=1, gamma=0.1; total time=   0.0s\n",
      "[CV 3/5] END .................................C=1, gamma=0.1; total time=   0.0s\n",
      "[CV 4/5] END .................................C=1, gamma=0.1; total time=   0.0s\n",
      "[CV 5/5] END .................................C=1, gamma=0.1; total time=   0.0s\n",
      "[CV 1/5] END ................................C=1, gamma=0.01; total time=   0.0s\n",
      "[CV 2/5] END ................................C=1, gamma=0.01; total time=   0.0s\n",
      "[CV 3/5] END ................................C=1, gamma=0.01; total time=   0.0s\n",
      "[CV 4/5] END ................................C=1, gamma=0.01; total time=   0.0s\n",
      "[CV 5/5] END ................................C=1, gamma=0.01; total time=   0.0s\n",
      "[CV 1/5] END ...............................C=1, gamma=0.001; total time=   0.0s\n",
      "[CV 2/5] END ...............................C=1, gamma=0.001; total time=   0.0s\n",
      "[CV 3/5] END ...............................C=1, gamma=0.001; total time=   0.0s\n",
      "[CV 4/5] END ...............................C=1, gamma=0.001; total time=   0.0s\n",
      "[CV 5/5] END ...............................C=1, gamma=0.001; total time=   0.0s\n",
      "[CV 1/5] END ..............................C=1, gamma=0.0001; total time=   0.0s\n",
      "[CV 2/5] END ..............................C=1, gamma=0.0001; total time=   0.0s\n",
      "[CV 3/5] END ..............................C=1, gamma=0.0001; total time=   0.0s\n",
      "[CV 4/5] END ..............................C=1, gamma=0.0001; total time=   0.0s\n",
      "[CV 5/5] END ..............................C=1, gamma=0.0001; total time=   0.0s\n",
      "[CV 1/5] END ..................................C=10, gamma=1; total time=   0.0s\n",
      "[CV 2/5] END ..................................C=10, gamma=1; total time=   0.0s\n",
      "[CV 3/5] END ..................................C=10, gamma=1; total time=   0.0s\n",
      "[CV 4/5] END ..................................C=10, gamma=1; total time=   0.0s\n",
      "[CV 5/5] END ..................................C=10, gamma=1; total time=   0.0s\n",
      "[CV 1/5] END ................................C=10, gamma=0.1; total time=   0.0s\n",
      "[CV 2/5] END ................................C=10, gamma=0.1; total time=   0.0s\n",
      "[CV 3/5] END ................................C=10, gamma=0.1; total time=   0.0s\n",
      "[CV 4/5] END ................................C=10, gamma=0.1; total time=   0.0s\n",
      "[CV 5/5] END ................................C=10, gamma=0.1; total time=   0.0s\n",
      "[CV 1/5] END ...............................C=10, gamma=0.01; total time=   0.0s\n",
      "[CV 2/5] END ...............................C=10, gamma=0.01; total time=   0.0s\n",
      "[CV 3/5] END ...............................C=10, gamma=0.01; total time=   0.0s\n",
      "[CV 4/5] END ...............................C=10, gamma=0.01; total time=   0.0s\n",
      "[CV 5/5] END ...............................C=10, gamma=0.01; total time=   0.0s\n",
      "[CV 1/5] END ..............................C=10, gamma=0.001; total time=   0.0s\n",
      "[CV 2/5] END ..............................C=10, gamma=0.001; total time=   0.0s\n",
      "[CV 3/5] END ..............................C=10, gamma=0.001; total time=   0.0s\n",
      "[CV 4/5] END ..............................C=10, gamma=0.001; total time=   0.0s\n",
      "[CV 5/5] END ..............................C=10, gamma=0.001; total time=   0.0s\n",
      "[CV 1/5] END .............................C=10, gamma=0.0001; total time=   0.0s\n",
      "[CV 2/5] END .............................C=10, gamma=0.0001; total time=   0.0s\n",
      "[CV 3/5] END .............................C=10, gamma=0.0001; total time=   0.0s\n",
      "[CV 4/5] END .............................C=10, gamma=0.0001; total time=   0.0s\n",
      "[CV 5/5] END .............................C=10, gamma=0.0001; total time=   0.0s\n",
      "[CV 1/5] END .................................C=100, gamma=1; total time=   0.0s\n",
      "[CV 2/5] END .................................C=100, gamma=1; total time=   0.0s\n",
      "[CV 3/5] END .................................C=100, gamma=1; total time=   0.0s\n",
      "[CV 4/5] END .................................C=100, gamma=1; total time=   0.0s\n",
      "[CV 5/5] END .................................C=100, gamma=1; total time=   0.0s\n",
      "[CV 1/5] END ...............................C=100, gamma=0.1; total time=   0.0s\n",
      "[CV 2/5] END ...............................C=100, gamma=0.1; total time=   0.0s\n",
      "[CV 3/5] END ...............................C=100, gamma=0.1; total time=   0.0s\n",
      "[CV 4/5] END ...............................C=100, gamma=0.1; total time=   0.0s\n",
      "[CV 5/5] END ...............................C=100, gamma=0.1; total time=   0.0s\n",
      "[CV 1/5] END ..............................C=100, gamma=0.01; total time=   0.0s\n",
      "[CV 2/5] END ..............................C=100, gamma=0.01; total time=   0.0s\n",
      "[CV 3/5] END ..............................C=100, gamma=0.01; total time=   0.0s\n",
      "[CV 4/5] END ..............................C=100, gamma=0.01; total time=   0.0s\n",
      "[CV 5/5] END ..............................C=100, gamma=0.01; total time=   0.0s\n",
      "[CV 1/5] END .............................C=100, gamma=0.001; total time=   0.0s\n",
      "[CV 2/5] END .............................C=100, gamma=0.001; total time=   0.0s\n",
      "[CV 3/5] END .............................C=100, gamma=0.001; total time=   0.0s\n",
      "[CV 4/5] END .............................C=100, gamma=0.001; total time=   0.0s\n",
      "[CV 5/5] END .............................C=100, gamma=0.001; total time=   0.0s\n",
      "[CV 1/5] END ............................C=100, gamma=0.0001; total time=   0.0s\n",
      "[CV 2/5] END ............................C=100, gamma=0.0001; total time=   0.0s\n",
      "[CV 3/5] END ............................C=100, gamma=0.0001; total time=   0.0s\n",
      "[CV 4/5] END ............................C=100, gamma=0.0001; total time=   0.0s\n",
      "[CV 5/5] END ............................C=100, gamma=0.0001; total time=   0.0s\n",
      "[CV 1/5] END ................................C=1000, gamma=1; total time=   0.0s\n",
      "[CV 2/5] END ................................C=1000, gamma=1; total time=   0.0s\n",
      "[CV 3/5] END ................................C=1000, gamma=1; total time=   0.0s\n",
      "[CV 4/5] END ................................C=1000, gamma=1; total time=   0.0s\n",
      "[CV 5/5] END ................................C=1000, gamma=1; total time=   0.0s\n",
      "[CV 1/5] END ..............................C=1000, gamma=0.1; total time=   0.0s\n"
     ]
    },
    {
     "name": "stdout",
     "output_type": "stream",
     "text": [
      "[CV 2/5] END ..............................C=1000, gamma=0.1; total time=   0.0s\n",
      "[CV 3/5] END ..............................C=1000, gamma=0.1; total time=   0.0s\n",
      "[CV 4/5] END ..............................C=1000, gamma=0.1; total time=   0.0s\n",
      "[CV 5/5] END ..............................C=1000, gamma=0.1; total time=   0.0s\n",
      "[CV 1/5] END .............................C=1000, gamma=0.01; total time=   0.0s\n",
      "[CV 2/5] END .............................C=1000, gamma=0.01; total time=   0.1s\n",
      "[CV 3/5] END .............................C=1000, gamma=0.01; total time=   0.0s\n",
      "[CV 4/5] END .............................C=1000, gamma=0.01; total time=   0.0s\n",
      "[CV 5/5] END .............................C=1000, gamma=0.01; total time=   0.0s\n",
      "[CV 1/5] END ............................C=1000, gamma=0.001; total time=   0.0s\n",
      "[CV 2/5] END ............................C=1000, gamma=0.001; total time=   0.0s\n",
      "[CV 3/5] END ............................C=1000, gamma=0.001; total time=   0.0s\n",
      "[CV 4/5] END ............................C=1000, gamma=0.001; total time=   0.0s\n",
      "[CV 5/5] END ............................C=1000, gamma=0.001; total time=   0.0s\n",
      "[CV 1/5] END ...........................C=1000, gamma=0.0001; total time=   0.0s\n",
      "[CV 2/5] END ...........................C=1000, gamma=0.0001; total time=   0.0s\n",
      "[CV 3/5] END ...........................C=1000, gamma=0.0001; total time=   0.0s\n",
      "[CV 4/5] END ...........................C=1000, gamma=0.0001; total time=   0.0s\n",
      "[CV 5/5] END ...........................C=1000, gamma=0.0001; total time=   0.0s\n"
     ]
    },
    {
     "data": {
      "text/plain": [
       "GridSearchCV(estimator=SVC(),\n",
       "             param_grid={'C': [0.1, 1, 10, 100, 1000],\n",
       "                         'gamma': [1, 0.1, 0.01, 0.001, 0.0001]},\n",
       "             verbose=3)"
      ]
     },
     "execution_count": 44,
     "metadata": {},
     "output_type": "execute_result"
    }
   ],
   "source": [
    "grid.fit(X_train,y_train)"
   ]
  },
  {
   "cell_type": "code",
   "execution_count": 45,
   "id": "418259df",
   "metadata": {},
   "outputs": [
    {
     "data": {
      "text/plain": [
       "SVC(C=100, gamma=1)"
      ]
     },
     "execution_count": 45,
     "metadata": {},
     "output_type": "execute_result"
    }
   ],
   "source": [
    "grid.best_estimator_"
   ]
  },
  {
   "cell_type": "code",
   "execution_count": 46,
   "id": "65d3da04",
   "metadata": {},
   "outputs": [
    {
     "data": {
      "text/plain": [
       "{'C': 100, 'gamma': 1}"
      ]
     },
     "execution_count": 46,
     "metadata": {},
     "output_type": "execute_result"
    }
   ],
   "source": [
    "grid.best_params_"
   ]
  },
  {
   "cell_type": "code",
   "execution_count": 47,
   "id": "e0cfa6f9",
   "metadata": {},
   "outputs": [
    {
     "data": {
      "text/plain": [
       "0.8723090481786133"
      ]
     },
     "execution_count": 47,
     "metadata": {},
     "output_type": "execute_result"
    }
   ],
   "source": [
    "grid.best_score_"
   ]
  },
  {
   "cell_type": "code",
   "execution_count": 48,
   "id": "99ac22e4",
   "metadata": {},
   "outputs": [],
   "source": [
    "predictions = grid.predict(X_test)"
   ]
  },
  {
   "cell_type": "code",
   "execution_count": 49,
   "id": "3e713653",
   "metadata": {},
   "outputs": [
    {
     "name": "stdout",
     "output_type": "stream",
     "text": [
      "Accuracy:  0.8874458874458875\n",
      "\n",
      "\n",
      "              precision    recall  f1-score   support\n",
      "\n",
      "           0       0.87      0.98      0.92       159\n",
      "           1       0.94      0.68      0.79        72\n",
      "\n",
      "    accuracy                           0.89       231\n",
      "   macro avg       0.91      0.83      0.86       231\n",
      "weighted avg       0.89      0.89      0.88       231\n",
      "\n",
      "\n",
      "\n",
      "[[156   3]\n",
      " [ 23  49]]\n"
     ]
    }
   ],
   "source": [
    "print(\"Accuracy: \", accuracy_score(y_test,predictions))\n",
    "print(\"\\n\")\n",
    "print(classification_report(y_test,predictions))\n",
    "print(\"\\n\")\n",
    "print(confusion_matrix(y_test,predictions))"
   ]
  },
  {
   "cell_type": "markdown",
   "id": "f3f53095",
   "metadata": {},
   "source": [
    "### Naive Bayes"
   ]
  },
  {
   "cell_type": "code",
   "execution_count": 50,
   "id": "7910acfc",
   "metadata": {},
   "outputs": [],
   "source": [
    "gnb = GaussianNB()"
   ]
  },
  {
   "cell_type": "code",
   "execution_count": 51,
   "id": "2d685338",
   "metadata": {},
   "outputs": [
    {
     "data": {
      "text/plain": [
       "GaussianNB()"
      ]
     },
     "execution_count": 51,
     "metadata": {},
     "output_type": "execute_result"
    }
   ],
   "source": [
    "gnb.fit(X_train,y_train)"
   ]
  },
  {
   "cell_type": "code",
   "execution_count": 52,
   "id": "b6d2f914",
   "metadata": {},
   "outputs": [],
   "source": [
    "predictions = gnb.predict(X_test)"
   ]
  },
  {
   "cell_type": "code",
   "execution_count": 53,
   "id": "3a97e180",
   "metadata": {},
   "outputs": [
    {
     "name": "stdout",
     "output_type": "stream",
     "text": [
      "Accuracy Score: 0.696969696969697\n",
      "\n",
      "\n",
      "              precision    recall  f1-score   support\n",
      "\n",
      "           0       0.76      0.82      0.79       159\n",
      "           1       0.52      0.43      0.47        72\n",
      "\n",
      "    accuracy                           0.70       231\n",
      "   macro avg       0.64      0.62      0.63       231\n",
      "weighted avg       0.68      0.70      0.69       231\n",
      "\n",
      "\n",
      "\n",
      "[[130  29]\n",
      " [ 41  31]]\n"
     ]
    }
   ],
   "source": [
    "print('Accuracy Score:',accuracy_score(y_test,predictions))\n",
    "print('\\n')\n",
    "print(classification_report(y_test,predictions))\n",
    "print('\\n')\n",
    "print(confusion_matrix(y_test,predictions))"
   ]
  },
  {
   "cell_type": "markdown",
   "id": "e1df9e65",
   "metadata": {},
   "source": [
    "### XGBoost"
   ]
  },
  {
   "cell_type": "code",
   "execution_count": 54,
   "id": "762afada",
   "metadata": {},
   "outputs": [],
   "source": [
    "xgb_cl = xgb.XGBClassifier()"
   ]
  },
  {
   "cell_type": "code",
   "execution_count": 55,
   "id": "f1ef895b",
   "metadata": {},
   "outputs": [
    {
     "data": {
      "text/plain": [
       "XGBClassifier(base_score=0.5, booster='gbtree', callbacks=None,\n",
       "              colsample_bylevel=1, colsample_bynode=1, colsample_bytree=1,\n",
       "              early_stopping_rounds=None, enable_categorical=False,\n",
       "              eval_metric=None, gamma=0, gpu_id=-1, grow_policy='depthwise',\n",
       "              importance_type=None, interaction_constraints='',\n",
       "              learning_rate=0.300000012, max_bin=256, max_cat_to_onehot=4,\n",
       "              max_delta_step=0, max_depth=6, max_leaves=0, min_child_weight=1,\n",
       "              missing=nan, monotone_constraints='()', n_estimators=100,\n",
       "              n_jobs=0, num_parallel_tree=1, predictor='auto', random_state=0,\n",
       "              reg_alpha=0, reg_lambda=1, ...)"
      ]
     },
     "execution_count": 55,
     "metadata": {},
     "output_type": "execute_result"
    }
   ],
   "source": [
    "xgb_cl.fit(X_train, y_train)"
   ]
  },
  {
   "cell_type": "code",
   "execution_count": 56,
   "id": "f45f7ec1",
   "metadata": {},
   "outputs": [],
   "source": [
    "predictions = xgb_cl.predict(X_test)"
   ]
  },
  {
   "cell_type": "code",
   "execution_count": 57,
   "id": "80d2a68a",
   "metadata": {
    "scrolled": false
   },
   "outputs": [
    {
     "name": "stdout",
     "output_type": "stream",
     "text": [
      "Accuracy Score: 0.8831168831168831\n",
      "\n",
      "\n",
      "              precision    recall  f1-score   support\n",
      "\n",
      "           0       0.88      0.96      0.92       159\n",
      "           1       0.89      0.71      0.79        72\n",
      "\n",
      "    accuracy                           0.88       231\n",
      "   macro avg       0.89      0.84      0.85       231\n",
      "weighted avg       0.88      0.88      0.88       231\n",
      "\n",
      "\n",
      "\n",
      "[[153   6]\n",
      " [ 21  51]]\n"
     ]
    }
   ],
   "source": [
    "print('Accuracy Score:',accuracy_score(y_test,predictions))\n",
    "print('\\n')\n",
    "print(classification_report(y_test,predictions))\n",
    "print('\\n')\n",
    "print(confusion_matrix(y_test,predictions))"
   ]
  },
  {
   "cell_type": "markdown",
   "id": "41fa1cd7",
   "metadata": {},
   "source": [
    "### Neural Network"
   ]
  },
  {
   "cell_type": "code",
   "execution_count": 58,
   "id": "7a7038c7",
   "metadata": {},
   "outputs": [],
   "source": [
    "import tensorflow as tf\n",
    "from tensorflow.keras.models import Sequential\n",
    "from tensorflow.keras.layers import Dense, Activation, Dropout\n",
    "from tensorflow.keras.callbacks import EarlyStopping"
   ]
  },
  {
   "cell_type": "code",
   "execution_count": 60,
   "id": "694e71d8",
   "metadata": {},
   "outputs": [],
   "source": [
    "model = Sequential()\n",
    "\n",
    "# input layer\n",
    "model.add(Dense(units=7,activation='relu'))\n",
    "model.add(Dropout(0.5))\n",
    "\n",
    "# hidden layer\n",
    "model.add(Dense(units=3,activation='relu'))\n",
    "model.add(Dropout(0.5))\n",
    "\n",
    "# output layer\n",
    "model.add(Dense(units=1,activation='sigmoid'))\n",
    "\n",
    "# compiler\n",
    "model.compile(loss='binary_crossentropy', optimizer='adam')"
   ]
  },
  {
   "cell_type": "code",
   "execution_count": 61,
   "id": "018ba478",
   "metadata": {},
   "outputs": [],
   "source": [
    "early_stop = EarlyStopping(monitor='val_loss',mode='min',verbose=1,patience=25)"
   ]
  },
  {
   "cell_type": "code",
   "execution_count": 62,
   "id": "8a7cb99b",
   "metadata": {},
   "outputs": [
    {
     "name": "stdout",
     "output_type": "stream",
     "text": [
      "Epoch 1/600\n",
      "29/29 [==============================] - 1s 5ms/step - loss: 1.7921 - val_loss: 0.6874\n",
      "Epoch 2/600\n",
      "29/29 [==============================] - 0s 2ms/step - loss: 1.5025 - val_loss: 0.6838\n",
      "Epoch 3/600\n",
      "29/29 [==============================] - 0s 2ms/step - loss: 1.0995 - val_loss: 0.6798\n",
      "Epoch 4/600\n",
      "29/29 [==============================] - 0s 2ms/step - loss: 0.9864 - val_loss: 0.6760\n",
      "Epoch 5/600\n",
      "29/29 [==============================] - 0s 2ms/step - loss: 0.8834 - val_loss: 0.6726\n",
      "Epoch 6/600\n",
      "29/29 [==============================] - 0s 3ms/step - loss: 1.0020 - val_loss: 0.6695\n",
      "Epoch 7/600\n",
      "29/29 [==============================] - 0s 3ms/step - loss: 0.9510 - val_loss: 0.6664\n",
      "Epoch 8/600\n",
      "29/29 [==============================] - 0s 2ms/step - loss: 0.9224 - val_loss: 0.6639\n",
      "Epoch 9/600\n",
      "29/29 [==============================] - 0s 2ms/step - loss: 0.7633 - val_loss: 0.6611\n",
      "Epoch 10/600\n",
      "29/29 [==============================] - 0s 2ms/step - loss: 0.8911 - val_loss: 0.6590\n",
      "Epoch 11/600\n",
      "29/29 [==============================] - 0s 2ms/step - loss: 0.8083 - val_loss: 0.6567\n",
      "Epoch 12/600\n",
      "29/29 [==============================] - 0s 2ms/step - loss: 0.7951 - val_loss: 0.6542\n",
      "Epoch 13/600\n",
      "29/29 [==============================] - 0s 2ms/step - loss: 0.7560 - val_loss: 0.6525\n",
      "Epoch 14/600\n",
      "29/29 [==============================] - 0s 2ms/step - loss: 0.7386 - val_loss: 0.6504\n",
      "Epoch 15/600\n",
      "29/29 [==============================] - 0s 2ms/step - loss: 0.6994 - val_loss: 0.6482\n",
      "Epoch 16/600\n",
      "29/29 [==============================] - 0s 2ms/step - loss: 0.7223 - val_loss: 0.6464\n",
      "Epoch 17/600\n",
      "29/29 [==============================] - 0s 2ms/step - loss: 0.7113 - val_loss: 0.6447\n",
      "Epoch 18/600\n",
      "29/29 [==============================] - 0s 2ms/step - loss: 0.6969 - val_loss: 0.6432\n",
      "Epoch 19/600\n",
      "29/29 [==============================] - 0s 2ms/step - loss: 0.6981 - val_loss: 0.6414\n",
      "Epoch 20/600\n",
      "29/29 [==============================] - 0s 2ms/step - loss: 0.6949 - val_loss: 0.6397\n",
      "Epoch 21/600\n",
      "29/29 [==============================] - 0s 2ms/step - loss: 0.6664 - val_loss: 0.6385\n",
      "Epoch 22/600\n",
      "29/29 [==============================] - 0s 2ms/step - loss: 0.6773 - val_loss: 0.6371\n",
      "Epoch 23/600\n",
      "29/29 [==============================] - 0s 3ms/step - loss: 0.6651 - val_loss: 0.6357\n",
      "Epoch 24/600\n",
      "29/29 [==============================] - 0s 2ms/step - loss: 0.6688 - val_loss: 0.6345\n",
      "Epoch 25/600\n",
      "29/29 [==============================] - 0s 2ms/step - loss: 0.6651 - val_loss: 0.6337\n",
      "Epoch 26/600\n",
      "29/29 [==============================] - 0s 2ms/step - loss: 0.6555 - val_loss: 0.6324\n",
      "Epoch 27/600\n",
      "29/29 [==============================] - 0s 2ms/step - loss: 0.6686 - val_loss: 0.6321\n",
      "Epoch 28/600\n",
      "29/29 [==============================] - 0s 2ms/step - loss: 0.6624 - val_loss: 0.6315\n",
      "Epoch 29/600\n",
      "29/29 [==============================] - 0s 2ms/step - loss: 0.6460 - val_loss: 0.6306\n",
      "Epoch 30/600\n",
      "29/29 [==============================] - 0s 2ms/step - loss: 0.6444 - val_loss: 0.6299\n",
      "Epoch 31/600\n",
      "29/29 [==============================] - 0s 3ms/step - loss: 0.6486 - val_loss: 0.6293\n",
      "Epoch 32/600\n",
      "29/29 [==============================] - 0s 2ms/step - loss: 0.6404 - val_loss: 0.6285\n",
      "Epoch 33/600\n",
      "29/29 [==============================] - 0s 2ms/step - loss: 0.6367 - val_loss: 0.6285\n",
      "Epoch 34/600\n",
      "29/29 [==============================] - 0s 2ms/step - loss: 0.6331 - val_loss: 0.6280\n",
      "Epoch 35/600\n",
      "29/29 [==============================] - 0s 2ms/step - loss: 0.6342 - val_loss: 0.6274\n",
      "Epoch 36/600\n",
      "29/29 [==============================] - 0s 2ms/step - loss: 0.6417 - val_loss: 0.6266\n",
      "Epoch 37/600\n",
      "29/29 [==============================] - 0s 2ms/step - loss: 0.6517 - val_loss: 0.6262\n",
      "Epoch 38/600\n",
      "29/29 [==============================] - 0s 2ms/step - loss: 0.6354 - val_loss: 0.6255\n",
      "Epoch 39/600\n",
      "29/29 [==============================] - 0s 4ms/step - loss: 0.6336 - val_loss: 0.6252\n",
      "Epoch 40/600\n",
      "29/29 [==============================] - 0s 2ms/step - loss: 0.6399 - val_loss: 0.6249\n",
      "Epoch 41/600\n",
      "29/29 [==============================] - 0s 2ms/step - loss: 0.6373 - val_loss: 0.6247\n",
      "Epoch 42/600\n",
      "29/29 [==============================] - 0s 2ms/step - loss: 0.6324 - val_loss: 0.6245\n",
      "Epoch 43/600\n",
      "29/29 [==============================] - 0s 2ms/step - loss: 0.6314 - val_loss: 0.6243\n",
      "Epoch 44/600\n",
      "29/29 [==============================] - 0s 2ms/step - loss: 0.6405 - val_loss: 0.6239\n",
      "Epoch 45/600\n",
      "29/29 [==============================] - 0s 2ms/step - loss: 0.6400 - val_loss: 0.6235\n",
      "Epoch 46/600\n",
      "29/29 [==============================] - 0s 2ms/step - loss: 0.6343 - val_loss: 0.6232\n",
      "Epoch 47/600\n",
      "29/29 [==============================] - 0s 2ms/step - loss: 0.6364 - val_loss: 0.6229\n",
      "Epoch 48/600\n",
      "29/29 [==============================] - 0s 2ms/step - loss: 0.6463 - val_loss: 0.6228\n",
      "Epoch 49/600\n",
      "29/29 [==============================] - 0s 3ms/step - loss: 0.6407 - val_loss: 0.6226\n",
      "Epoch 50/600\n",
      "29/29 [==============================] - 0s 3ms/step - loss: 0.6304 - val_loss: 0.6224\n",
      "Epoch 51/600\n",
      "29/29 [==============================] - 0s 3ms/step - loss: 0.6320 - val_loss: 0.6222\n",
      "Epoch 52/600\n",
      "29/29 [==============================] - 0s 3ms/step - loss: 0.6355 - val_loss: 0.6219\n",
      "Epoch 53/600\n",
      "29/29 [==============================] - 0s 3ms/step - loss: 0.6324 - val_loss: 0.6218\n",
      "Epoch 54/600\n",
      "29/29 [==============================] - 0s 3ms/step - loss: 0.6364 - val_loss: 0.6217\n",
      "Epoch 55/600\n",
      "29/29 [==============================] - 0s 3ms/step - loss: 0.6340 - val_loss: 0.6215\n",
      "Epoch 56/600\n",
      "29/29 [==============================] - 0s 3ms/step - loss: 0.6376 - val_loss: 0.6215\n",
      "Epoch 57/600\n",
      "29/29 [==============================] - 0s 3ms/step - loss: 0.6328 - val_loss: 0.6213\n",
      "Epoch 58/600\n",
      "29/29 [==============================] - 0s 3ms/step - loss: 0.6346 - val_loss: 0.6213\n",
      "Epoch 59/600\n",
      "29/29 [==============================] - 0s 3ms/step - loss: 0.6326 - val_loss: 0.6213\n",
      "Epoch 60/600\n",
      "29/29 [==============================] - 0s 2ms/step - loss: 0.6331 - val_loss: 0.6210\n",
      "Epoch 61/600\n",
      "29/29 [==============================] - 0s 2ms/step - loss: 0.6312 - val_loss: 0.6210\n",
      "Epoch 62/600\n",
      "29/29 [==============================] - 0s 3ms/step - loss: 0.6327 - val_loss: 0.6210\n",
      "Epoch 63/600\n",
      "29/29 [==============================] - 0s 2ms/step - loss: 0.6299 - val_loss: 0.6207\n",
      "Epoch 64/600\n",
      "29/29 [==============================] - 0s 3ms/step - loss: 0.6263 - val_loss: 0.6205\n",
      "Epoch 65/600\n",
      "29/29 [==============================] - 0s 3ms/step - loss: 0.6320 - val_loss: 0.6205\n",
      "Epoch 66/600\n",
      "29/29 [==============================] - 0s 2ms/step - loss: 0.6301 - val_loss: 0.6204\n",
      "Epoch 67/600\n",
      "29/29 [==============================] - 0s 2ms/step - loss: 0.6308 - val_loss: 0.6200\n",
      "Epoch 68/600\n",
      "29/29 [==============================] - 0s 3ms/step - loss: 0.6377 - val_loss: 0.6203\n",
      "Epoch 69/600\n",
      "29/29 [==============================] - 0s 2ms/step - loss: 0.6318 - val_loss: 0.6206\n",
      "Epoch 70/600\n",
      "29/29 [==============================] - 0s 2ms/step - loss: 0.6306 - val_loss: 0.6207\n",
      "Epoch 71/600\n",
      "29/29 [==============================] - 0s 2ms/step - loss: 0.6296 - val_loss: 0.6205\n",
      "Epoch 72/600\n",
      "29/29 [==============================] - 0s 2ms/step - loss: 0.6306 - val_loss: 0.6204\n",
      "Epoch 73/600\n",
      "29/29 [==============================] - 0s 2ms/step - loss: 0.6309 - val_loss: 0.6206\n",
      "Epoch 74/600\n",
      "29/29 [==============================] - 0s 2ms/step - loss: 0.6334 - val_loss: 0.6202\n",
      "Epoch 75/600\n",
      "29/29 [==============================] - 0s 2ms/step - loss: 0.6330 - val_loss: 0.6202\n",
      "Epoch 76/600\n",
      "29/29 [==============================] - 0s 2ms/step - loss: 0.6298 - val_loss: 0.6201\n",
      "Epoch 77/600\n",
      "29/29 [==============================] - 0s 2ms/step - loss: 0.6322 - val_loss: 0.6203\n",
      "Epoch 78/600\n",
      "29/29 [==============================] - 0s 2ms/step - loss: 0.6347 - val_loss: 0.6207\n",
      "Epoch 79/600\n",
      "29/29 [==============================] - 0s 2ms/step - loss: 0.6346 - val_loss: 0.6208\n",
      "Epoch 80/600\n",
      "29/29 [==============================] - 0s 3ms/step - loss: 0.6306 - val_loss: 0.6204\n",
      "Epoch 81/600\n",
      "29/29 [==============================] - 0s 2ms/step - loss: 0.6319 - val_loss: 0.6202\n",
      "Epoch 82/600\n",
      "29/29 [==============================] - 0s 2ms/step - loss: 0.6304 - val_loss: 0.6200\n",
      "Epoch 83/600\n"
     ]
    },
    {
     "name": "stdout",
     "output_type": "stream",
     "text": [
      "29/29 [==============================] - 0s 2ms/step - loss: 0.6313 - val_loss: 0.6203\n",
      "Epoch 84/600\n",
      "29/29 [==============================] - 0s 2ms/step - loss: 0.6301 - val_loss: 0.6202\n",
      "Epoch 85/600\n",
      "29/29 [==============================] - 0s 2ms/step - loss: 0.6294 - val_loss: 0.6200\n",
      "Epoch 86/600\n",
      "29/29 [==============================] - 0s 2ms/step - loss: 0.6292 - val_loss: 0.6196\n",
      "Epoch 87/600\n",
      "29/29 [==============================] - 0s 2ms/step - loss: 0.6309 - val_loss: 0.6197\n",
      "Epoch 88/600\n",
      "29/29 [==============================] - 0s 2ms/step - loss: 0.6346 - val_loss: 0.6199\n",
      "Epoch 89/600\n",
      "29/29 [==============================] - 0s 2ms/step - loss: 0.6285 - val_loss: 0.6199\n",
      "Epoch 90/600\n",
      "29/29 [==============================] - 0s 2ms/step - loss: 0.6313 - val_loss: 0.6199\n",
      "Epoch 91/600\n",
      "29/29 [==============================] - 0s 2ms/step - loss: 0.6306 - val_loss: 0.6199\n",
      "Epoch 92/600\n",
      "29/29 [==============================] - 0s 2ms/step - loss: 0.6310 - val_loss: 0.6200\n",
      "Epoch 93/600\n",
      "29/29 [==============================] - 0s 2ms/step - loss: 0.6321 - val_loss: 0.6195\n",
      "Epoch 94/600\n",
      "29/29 [==============================] - 0s 2ms/step - loss: 0.6313 - val_loss: 0.6195\n",
      "Epoch 95/600\n",
      "29/29 [==============================] - 0s 3ms/step - loss: 0.6315 - val_loss: 0.6197\n",
      "Epoch 96/600\n",
      "29/29 [==============================] - 0s 2ms/step - loss: 0.6312 - val_loss: 0.6197\n",
      "Epoch 97/600\n",
      "29/29 [==============================] - 0s 2ms/step - loss: 0.6313 - val_loss: 0.6200\n",
      "Epoch 98/600\n",
      "29/29 [==============================] - 0s 2ms/step - loss: 0.6303 - val_loss: 0.6197\n",
      "Epoch 99/600\n",
      "29/29 [==============================] - 0s 2ms/step - loss: 0.6305 - val_loss: 0.6197\n",
      "Epoch 100/600\n",
      "29/29 [==============================] - 0s 3ms/step - loss: 0.6311 - val_loss: 0.6198\n",
      "Epoch 101/600\n",
      "29/29 [==============================] - 0s 2ms/step - loss: 0.6295 - val_loss: 0.6198\n",
      "Epoch 102/600\n",
      "29/29 [==============================] - 0s 3ms/step - loss: 0.6308 - val_loss: 0.6197\n",
      "Epoch 103/600\n",
      "29/29 [==============================] - 0s 3ms/step - loss: 0.6334 - val_loss: 0.6199\n",
      "Epoch 104/600\n",
      "29/29 [==============================] - 0s 2ms/step - loss: 0.6326 - val_loss: 0.6199\n",
      "Epoch 105/600\n",
      "29/29 [==============================] - 0s 2ms/step - loss: 0.6311 - val_loss: 0.6199\n",
      "Epoch 106/600\n",
      "29/29 [==============================] - 0s 2ms/step - loss: 0.6314 - val_loss: 0.6201\n",
      "Epoch 107/600\n",
      "29/29 [==============================] - 0s 2ms/step - loss: 0.6323 - val_loss: 0.6201\n",
      "Epoch 108/600\n",
      "29/29 [==============================] - 0s 2ms/step - loss: 0.6307 - val_loss: 0.6197\n",
      "Epoch 109/600\n",
      "29/29 [==============================] - 0s 2ms/step - loss: 0.6310 - val_loss: 0.6195\n",
      "Epoch 110/600\n",
      "29/29 [==============================] - 0s 2ms/step - loss: 0.6315 - val_loss: 0.6196\n",
      "Epoch 111/600\n",
      "29/29 [==============================] - 0s 2ms/step - loss: 0.6306 - val_loss: 0.6196\n",
      "Epoch 112/600\n",
      "29/29 [==============================] - 0s 2ms/step - loss: 0.6306 - val_loss: 0.6193\n",
      "Epoch 113/600\n",
      "29/29 [==============================] - 0s 2ms/step - loss: 0.6318 - val_loss: 0.6193\n",
      "Epoch 114/600\n",
      "29/29 [==============================] - 0s 2ms/step - loss: 0.6302 - val_loss: 0.6193\n",
      "Epoch 115/600\n",
      "29/29 [==============================] - 0s 2ms/step - loss: 0.6306 - val_loss: 0.6192\n",
      "Epoch 116/600\n",
      "29/29 [==============================] - 0s 2ms/step - loss: 0.6316 - val_loss: 0.6197\n",
      "Epoch 117/600\n",
      "29/29 [==============================] - 0s 2ms/step - loss: 0.6302 - val_loss: 0.6197\n",
      "Epoch 118/600\n",
      "29/29 [==============================] - 0s 2ms/step - loss: 0.6305 - val_loss: 0.6195\n",
      "Epoch 119/600\n",
      "29/29 [==============================] - 0s 2ms/step - loss: 0.6314 - val_loss: 0.6198\n",
      "Epoch 120/600\n",
      "29/29 [==============================] - 0s 2ms/step - loss: 0.6294 - val_loss: 0.6193\n",
      "Epoch 121/600\n",
      "29/29 [==============================] - 0s 2ms/step - loss: 0.6319 - val_loss: 0.6192\n",
      "Epoch 122/600\n",
      "29/29 [==============================] - 0s 2ms/step - loss: 0.6289 - val_loss: 0.6190\n",
      "Epoch 123/600\n",
      "29/29 [==============================] - 0s 2ms/step - loss: 0.6299 - val_loss: 0.6190\n",
      "Epoch 124/600\n",
      "29/29 [==============================] - 0s 2ms/step - loss: 0.6334 - val_loss: 0.6196\n",
      "Epoch 125/600\n",
      "29/29 [==============================] - 0s 2ms/step - loss: 0.6316 - val_loss: 0.6200\n",
      "Epoch 126/600\n",
      "29/29 [==============================] - 0s 2ms/step - loss: 0.6313 - val_loss: 0.6200\n",
      "Epoch 127/600\n",
      "29/29 [==============================] - 0s 2ms/step - loss: 0.6314 - val_loss: 0.6196\n",
      "Epoch 128/600\n",
      "29/29 [==============================] - 0s 2ms/step - loss: 0.6291 - val_loss: 0.6194\n",
      "Epoch 129/600\n",
      "29/29 [==============================] - 0s 2ms/step - loss: 0.6317 - val_loss: 0.6194\n",
      "Epoch 130/600\n",
      "29/29 [==============================] - 0s 2ms/step - loss: 0.6317 - val_loss: 0.6198\n",
      "Epoch 131/600\n",
      "29/29 [==============================] - 0s 2ms/step - loss: 0.6320 - val_loss: 0.6197\n",
      "Epoch 132/600\n",
      "29/29 [==============================] - 0s 2ms/step - loss: 0.6300 - val_loss: 0.6194\n",
      "Epoch 133/600\n",
      "29/29 [==============================] - 0s 2ms/step - loss: 0.6295 - val_loss: 0.6190\n",
      "Epoch 134/600\n",
      "29/29 [==============================] - 0s 2ms/step - loss: 0.6312 - val_loss: 0.6191\n",
      "Epoch 135/600\n",
      "29/29 [==============================] - 0s 2ms/step - loss: 0.6304 - val_loss: 0.6191\n",
      "Epoch 136/600\n",
      "29/29 [==============================] - 0s 3ms/step - loss: 0.6320 - val_loss: 0.6194\n",
      "Epoch 137/600\n",
      "29/29 [==============================] - 0s 2ms/step - loss: 0.6309 - val_loss: 0.6193\n",
      "Epoch 138/600\n",
      "29/29 [==============================] - 0s 2ms/step - loss: 0.6264 - val_loss: 0.6185\n",
      "Epoch 139/600\n",
      "29/29 [==============================] - 0s 2ms/step - loss: 0.6283 - val_loss: 0.6182\n",
      "Epoch 140/600\n",
      "29/29 [==============================] - 0s 2ms/step - loss: 0.6325 - val_loss: 0.6186\n",
      "Epoch 141/600\n",
      "29/29 [==============================] - 0s 2ms/step - loss: 0.6324 - val_loss: 0.6191\n",
      "Epoch 142/600\n",
      "29/29 [==============================] - 0s 2ms/step - loss: 0.6311 - val_loss: 0.6194\n",
      "Epoch 143/600\n",
      "29/29 [==============================] - 0s 2ms/step - loss: 0.6298 - val_loss: 0.6194\n",
      "Epoch 144/600\n",
      "29/29 [==============================] - 0s 2ms/step - loss: 0.6303 - val_loss: 0.6190\n",
      "Epoch 145/600\n",
      "29/29 [==============================] - 0s 2ms/step - loss: 0.6299 - val_loss: 0.6189\n",
      "Epoch 146/600\n",
      "29/29 [==============================] - 0s 2ms/step - loss: 0.6335 - val_loss: 0.6192\n",
      "Epoch 147/600\n",
      "29/29 [==============================] - 0s 2ms/step - loss: 0.6297 - val_loss: 0.6192\n",
      "Epoch 148/600\n",
      "29/29 [==============================] - 0s 2ms/step - loss: 0.6292 - val_loss: 0.6189\n",
      "Epoch 149/600\n",
      "29/29 [==============================] - 0s 2ms/step - loss: 0.6312 - val_loss: 0.6188\n",
      "Epoch 150/600\n",
      "29/29 [==============================] - 0s 2ms/step - loss: 0.6291 - val_loss: 0.6185\n",
      "Epoch 151/600\n",
      "29/29 [==============================] - 0s 2ms/step - loss: 0.6307 - val_loss: 0.6185\n",
      "Epoch 152/600\n",
      "29/29 [==============================] - 0s 2ms/step - loss: 0.6289 - val_loss: 0.6185\n",
      "Epoch 153/600\n",
      "29/29 [==============================] - 0s 2ms/step - loss: 0.6296 - val_loss: 0.6181\n",
      "Epoch 154/600\n",
      "29/29 [==============================] - 0s 2ms/step - loss: 0.6330 - val_loss: 0.6184\n",
      "Epoch 155/600\n",
      "29/29 [==============================] - 0s 2ms/step - loss: 0.6291 - val_loss: 0.6183\n",
      "Epoch 156/600\n",
      "29/29 [==============================] - 0s 2ms/step - loss: 0.6311 - val_loss: 0.6182\n",
      "Epoch 157/600\n",
      "29/29 [==============================] - 0s 2ms/step - loss: 0.6309 - val_loss: 0.6185\n",
      "Epoch 158/600\n",
      "29/29 [==============================] - 0s 2ms/step - loss: 0.6323 - val_loss: 0.6189\n",
      "Epoch 159/600\n",
      "29/29 [==============================] - 0s 2ms/step - loss: 0.6304 - val_loss: 0.6187\n",
      "Epoch 160/600\n",
      "29/29 [==============================] - 0s 2ms/step - loss: 0.6321 - val_loss: 0.6188\n",
      "Epoch 161/600\n",
      "29/29 [==============================] - 0s 2ms/step - loss: 0.6294 - val_loss: 0.6191\n",
      "Epoch 162/600\n",
      "29/29 [==============================] - 0s 2ms/step - loss: 0.6308 - val_loss: 0.6190\n",
      "Epoch 163/600\n",
      "29/29 [==============================] - 0s 2ms/step - loss: 0.6293 - val_loss: 0.6185\n",
      "Epoch 164/600\n"
     ]
    },
    {
     "name": "stdout",
     "output_type": "stream",
     "text": [
      "29/29 [==============================] - 0s 2ms/step - loss: 0.6313 - val_loss: 0.6185\n",
      "Epoch 165/600\n",
      "29/29 [==============================] - 0s 2ms/step - loss: 0.6305 - val_loss: 0.6186\n",
      "Epoch 166/600\n",
      "29/29 [==============================] - 0s 2ms/step - loss: 0.6311 - val_loss: 0.6186\n",
      "Epoch 167/600\n",
      "29/29 [==============================] - 0s 2ms/step - loss: 0.6290 - val_loss: 0.6185\n",
      "Epoch 168/600\n",
      "29/29 [==============================] - 0s 2ms/step - loss: 0.6274 - val_loss: 0.6179\n",
      "Epoch 169/600\n",
      "29/29 [==============================] - 0s 2ms/step - loss: 0.6303 - val_loss: 0.6179\n",
      "Epoch 170/600\n",
      "29/29 [==============================] - 0s 2ms/step - loss: 0.6296 - val_loss: 0.6179\n",
      "Epoch 171/600\n",
      "29/29 [==============================] - 0s 2ms/step - loss: 0.6264 - val_loss: 0.6172\n",
      "Epoch 172/600\n",
      "29/29 [==============================] - 0s 2ms/step - loss: 0.6314 - val_loss: 0.6173\n",
      "Epoch 173/600\n",
      "29/29 [==============================] - 0s 2ms/step - loss: 0.6289 - val_loss: 0.6174\n",
      "Epoch 174/600\n",
      "29/29 [==============================] - 0s 2ms/step - loss: 0.6307 - val_loss: 0.6176\n",
      "Epoch 175/600\n",
      "29/29 [==============================] - 0s 2ms/step - loss: 0.6273 - val_loss: 0.6172\n",
      "Epoch 176/600\n",
      "29/29 [==============================] - 0s 2ms/step - loss: 0.6323 - val_loss: 0.6177\n",
      "Epoch 177/600\n",
      "29/29 [==============================] - 0s 2ms/step - loss: 0.6300 - val_loss: 0.6176\n",
      "Epoch 178/600\n",
      "29/29 [==============================] - 0s 2ms/step - loss: 0.6302 - val_loss: 0.6176\n",
      "Epoch 179/600\n",
      "29/29 [==============================] - 0s 2ms/step - loss: 0.6295 - val_loss: 0.6176\n",
      "Epoch 180/600\n",
      "29/29 [==============================] - 0s 4ms/step - loss: 0.6287 - val_loss: 0.6172\n",
      "Epoch 181/600\n",
      "29/29 [==============================] - 0s 2ms/step - loss: 0.6292 - val_loss: 0.6171\n",
      "Epoch 182/600\n",
      "29/29 [==============================] - 0s 2ms/step - loss: 0.6298 - val_loss: 0.6170\n",
      "Epoch 183/600\n",
      "29/29 [==============================] - 0s 2ms/step - loss: 0.6279 - val_loss: 0.6168\n",
      "Epoch 184/600\n",
      "29/29 [==============================] - 0s 2ms/step - loss: 0.6278 - val_loss: 0.6164\n",
      "Epoch 185/600\n",
      "29/29 [==============================] - 0s 2ms/step - loss: 0.6330 - val_loss: 0.6169\n",
      "Epoch 186/600\n",
      "29/29 [==============================] - 0s 2ms/step - loss: 0.6239 - val_loss: 0.6164\n",
      "Epoch 187/600\n",
      "29/29 [==============================] - 0s 2ms/step - loss: 0.6310 - val_loss: 0.6163\n",
      "Epoch 188/600\n",
      "29/29 [==============================] - 0s 2ms/step - loss: 0.6273 - val_loss: 0.6164\n",
      "Epoch 189/600\n",
      "29/29 [==============================] - 0s 2ms/step - loss: 0.6282 - val_loss: 0.6159\n",
      "Epoch 190/600\n",
      "29/29 [==============================] - 0s 2ms/step - loss: 0.6276 - val_loss: 0.6158\n",
      "Epoch 191/600\n",
      "29/29 [==============================] - 0s 2ms/step - loss: 0.6236 - val_loss: 0.6150\n",
      "Epoch 192/600\n",
      "29/29 [==============================] - 0s 2ms/step - loss: 0.6291 - val_loss: 0.6151\n",
      "Epoch 193/600\n",
      "29/29 [==============================] - 0s 2ms/step - loss: 0.6296 - val_loss: 0.6153\n",
      "Epoch 194/600\n",
      "29/29 [==============================] - 0s 2ms/step - loss: 0.6305 - val_loss: 0.6156\n",
      "Epoch 195/600\n",
      "29/29 [==============================] - 0s 2ms/step - loss: 0.6309 - val_loss: 0.6159\n",
      "Epoch 196/600\n",
      "29/29 [==============================] - 0s 2ms/step - loss: 0.6293 - val_loss: 0.6156\n",
      "Epoch 197/600\n",
      "29/29 [==============================] - 0s 2ms/step - loss: 0.6275 - val_loss: 0.6153\n",
      "Epoch 198/600\n",
      "29/29 [==============================] - 0s 2ms/step - loss: 0.6287 - val_loss: 0.6149\n",
      "Epoch 199/600\n",
      "29/29 [==============================] - 0s 2ms/step - loss: 0.6263 - val_loss: 0.6148\n",
      "Epoch 200/600\n",
      "29/29 [==============================] - 0s 2ms/step - loss: 0.6272 - val_loss: 0.6142\n",
      "Epoch 201/600\n",
      "29/29 [==============================] - 0s 2ms/step - loss: 0.6243 - val_loss: 0.6134\n",
      "Epoch 202/600\n",
      "29/29 [==============================] - 0s 2ms/step - loss: 0.6264 - val_loss: 0.6130\n",
      "Epoch 203/600\n",
      "29/29 [==============================] - 0s 2ms/step - loss: 0.6284 - val_loss: 0.6132\n",
      "Epoch 204/600\n",
      "29/29 [==============================] - 0s 2ms/step - loss: 0.6302 - val_loss: 0.6141\n",
      "Epoch 205/600\n",
      "29/29 [==============================] - 0s 2ms/step - loss: 0.6272 - val_loss: 0.6140\n",
      "Epoch 206/600\n",
      "29/29 [==============================] - 0s 2ms/step - loss: 0.6291 - val_loss: 0.6140\n",
      "Epoch 207/600\n",
      "29/29 [==============================] - 0s 2ms/step - loss: 0.6271 - val_loss: 0.6140\n",
      "Epoch 208/600\n",
      "29/29 [==============================] - 0s 2ms/step - loss: 0.6288 - val_loss: 0.6134\n",
      "Epoch 209/600\n",
      "29/29 [==============================] - 0s 2ms/step - loss: 0.6275 - val_loss: 0.6136\n",
      "Epoch 210/600\n",
      "29/29 [==============================] - 0s 2ms/step - loss: 0.6264 - val_loss: 0.6130\n",
      "Epoch 211/600\n",
      "29/29 [==============================] - 0s 2ms/step - loss: 0.6261 - val_loss: 0.6133\n",
      "Epoch 212/600\n",
      "29/29 [==============================] - 0s 2ms/step - loss: 0.6314 - val_loss: 0.6139\n",
      "Epoch 213/600\n",
      "29/29 [==============================] - 0s 2ms/step - loss: 0.6275 - val_loss: 0.6139\n",
      "Epoch 214/600\n",
      "29/29 [==============================] - 0s 2ms/step - loss: 0.6277 - val_loss: 0.6133\n",
      "Epoch 215/600\n",
      "29/29 [==============================] - 0s 2ms/step - loss: 0.6251 - val_loss: 0.6131\n",
      "Epoch 216/600\n",
      "29/29 [==============================] - 0s 2ms/step - loss: 0.6298 - val_loss: 0.6134\n",
      "Epoch 217/600\n",
      "29/29 [==============================] - 0s 2ms/step - loss: 0.6259 - val_loss: 0.6128\n",
      "Epoch 218/600\n",
      "29/29 [==============================] - 0s 2ms/step - loss: 0.6256 - val_loss: 0.6119\n",
      "Epoch 219/600\n",
      "29/29 [==============================] - 0s 2ms/step - loss: 0.6246 - val_loss: 0.6116\n",
      "Epoch 220/600\n",
      "29/29 [==============================] - 0s 2ms/step - loss: 0.6234 - val_loss: 0.6110\n",
      "Epoch 221/600\n",
      "29/29 [==============================] - 0s 2ms/step - loss: 0.6254 - val_loss: 0.6108\n",
      "Epoch 222/600\n",
      "29/29 [==============================] - 0s 2ms/step - loss: 0.6274 - val_loss: 0.6113\n",
      "Epoch 223/600\n",
      "29/29 [==============================] - 0s 2ms/step - loss: 0.6300 - val_loss: 0.6117\n",
      "Epoch 224/600\n",
      "29/29 [==============================] - 0s 2ms/step - loss: 0.6208 - val_loss: 0.6109\n",
      "Epoch 225/600\n",
      "29/29 [==============================] - 0s 2ms/step - loss: 0.6307 - val_loss: 0.6115\n",
      "Epoch 226/600\n",
      "29/29 [==============================] - 0s 2ms/step - loss: 0.6243 - val_loss: 0.6114\n",
      "Epoch 227/600\n",
      "29/29 [==============================] - 0s 2ms/step - loss: 0.6289 - val_loss: 0.6118\n",
      "Epoch 228/600\n",
      "29/29 [==============================] - 0s 2ms/step - loss: 0.6261 - val_loss: 0.6119\n",
      "Epoch 229/600\n",
      "29/29 [==============================] - 0s 2ms/step - loss: 0.6266 - val_loss: 0.6124\n",
      "Epoch 230/600\n",
      "29/29 [==============================] - 0s 2ms/step - loss: 0.6259 - val_loss: 0.6113\n",
      "Epoch 231/600\n",
      "29/29 [==============================] - 0s 2ms/step - loss: 0.6246 - val_loss: 0.6109\n",
      "Epoch 232/600\n",
      "29/29 [==============================] - 0s 2ms/step - loss: 0.6225 - val_loss: 0.6111\n",
      "Epoch 233/600\n",
      "29/29 [==============================] - 0s 2ms/step - loss: 0.6224 - val_loss: 0.6097\n",
      "Epoch 234/600\n",
      "29/29 [==============================] - 0s 2ms/step - loss: 0.6271 - val_loss: 0.6106\n",
      "Epoch 235/600\n",
      "29/29 [==============================] - 0s 2ms/step - loss: 0.6276 - val_loss: 0.6109\n",
      "Epoch 236/600\n",
      "29/29 [==============================] - 0s 2ms/step - loss: 0.6211 - val_loss: 0.6106\n",
      "Epoch 237/600\n",
      "29/29 [==============================] - 0s 2ms/step - loss: 0.6254 - val_loss: 0.6102\n",
      "Epoch 238/600\n",
      "29/29 [==============================] - 0s 2ms/step - loss: 0.6239 - val_loss: 0.6094\n",
      "Epoch 239/600\n",
      "29/29 [==============================] - 0s 2ms/step - loss: 0.6290 - val_loss: 0.6104\n",
      "Epoch 240/600\n",
      "29/29 [==============================] - 0s 2ms/step - loss: 0.6177 - val_loss: 0.6098\n",
      "Epoch 241/600\n",
      "29/29 [==============================] - 0s 2ms/step - loss: 0.6230 - val_loss: 0.6089\n",
      "Epoch 242/600\n",
      "29/29 [==============================] - 0s 2ms/step - loss: 0.6271 - val_loss: 0.6091\n",
      "Epoch 243/600\n",
      "29/29 [==============================] - 0s 2ms/step - loss: 0.6240 - val_loss: 0.6089\n",
      "Epoch 244/600\n",
      "29/29 [==============================] - 0s 2ms/step - loss: 0.6204 - val_loss: 0.6091\n",
      "Epoch 245/600\n"
     ]
    },
    {
     "name": "stdout",
     "output_type": "stream",
     "text": [
      "29/29 [==============================] - 0s 2ms/step - loss: 0.6215 - val_loss: 0.6089\n",
      "Epoch 246/600\n",
      "29/29 [==============================] - 0s 2ms/step - loss: 0.6238 - val_loss: 0.6084\n",
      "Epoch 247/600\n",
      "29/29 [==============================] - 0s 2ms/step - loss: 0.6290 - val_loss: 0.6098\n",
      "Epoch 248/600\n",
      "29/29 [==============================] - 0s 2ms/step - loss: 0.6212 - val_loss: 0.6093\n",
      "Epoch 249/600\n",
      "29/29 [==============================] - 0s 2ms/step - loss: 0.6233 - val_loss: 0.6092\n",
      "Epoch 250/600\n",
      "29/29 [==============================] - 0s 2ms/step - loss: 0.6275 - val_loss: 0.6094\n",
      "Epoch 251/600\n",
      "29/29 [==============================] - 0s 2ms/step - loss: 0.6252 - val_loss: 0.6091\n",
      "Epoch 252/600\n",
      "29/29 [==============================] - 0s 2ms/step - loss: 0.6228 - val_loss: 0.6087\n",
      "Epoch 253/600\n",
      "29/29 [==============================] - 0s 2ms/step - loss: 0.6208 - val_loss: 0.6085\n",
      "Epoch 254/600\n",
      "29/29 [==============================] - 0s 2ms/step - loss: 0.6308 - val_loss: 0.6095\n",
      "Epoch 255/600\n",
      "29/29 [==============================] - 0s 2ms/step - loss: 0.6226 - val_loss: 0.6095\n",
      "Epoch 256/600\n",
      "29/29 [==============================] - 0s 2ms/step - loss: 0.6226 - val_loss: 0.6092\n",
      "Epoch 257/600\n",
      "29/29 [==============================] - 0s 2ms/step - loss: 0.6235 - val_loss: 0.6092\n",
      "Epoch 258/600\n",
      "29/29 [==============================] - 0s 2ms/step - loss: 0.6173 - val_loss: 0.6085\n",
      "Epoch 259/600\n",
      "29/29 [==============================] - 0s 2ms/step - loss: 0.6264 - val_loss: 0.6092\n",
      "Epoch 260/600\n",
      "29/29 [==============================] - 0s 2ms/step - loss: 0.6237 - val_loss: 0.6095\n",
      "Epoch 261/600\n",
      "29/29 [==============================] - 0s 2ms/step - loss: 0.6244 - val_loss: 0.6096\n",
      "Epoch 262/600\n",
      "29/29 [==============================] - 0s 2ms/step - loss: 0.6243 - val_loss: 0.6095\n",
      "Epoch 263/600\n",
      "29/29 [==============================] - 0s 2ms/step - loss: 0.6252 - val_loss: 0.6098\n",
      "Epoch 264/600\n",
      "29/29 [==============================] - 0s 2ms/step - loss: 0.6216 - val_loss: 0.6094\n",
      "Epoch 265/600\n",
      "29/29 [==============================] - 0s 2ms/step - loss: 0.6233 - val_loss: 0.6095\n",
      "Epoch 266/600\n",
      "29/29 [==============================] - 0s 2ms/step - loss: 0.6196 - val_loss: 0.6094\n",
      "Epoch 267/600\n",
      "29/29 [==============================] - 0s 2ms/step - loss: 0.6195 - val_loss: 0.6088\n",
      "Epoch 268/600\n",
      "29/29 [==============================] - 0s 2ms/step - loss: 0.6246 - val_loss: 0.6090\n",
      "Epoch 269/600\n",
      "29/29 [==============================] - 0s 2ms/step - loss: 0.6233 - val_loss: 0.6089\n",
      "Epoch 270/600\n",
      "29/29 [==============================] - 0s 2ms/step - loss: 0.6199 - val_loss: 0.6088\n",
      "Epoch 271/600\n",
      "29/29 [==============================] - 0s 2ms/step - loss: 0.6222 - val_loss: 0.6084\n",
      "Epoch 271: early stopping\n"
     ]
    },
    {
     "data": {
      "text/plain": [
       "<keras.callbacks.History at 0x19e29c8d970>"
      ]
     },
     "execution_count": 62,
     "metadata": {},
     "output_type": "execute_result"
    }
   ],
   "source": [
    "model.fit(x=X_train,y=y_train,epochs=600,validation_data=(X_test,y_test),callbacks=[early_stop])"
   ]
  },
  {
   "cell_type": "code",
   "execution_count": 63,
   "id": "3b85400b",
   "metadata": {},
   "outputs": [
    {
     "data": {
      "text/plain": [
       "<AxesSubplot:>"
      ]
     },
     "execution_count": 63,
     "metadata": {},
     "output_type": "execute_result"
    },
    {
     "data": {
      "image/png": "[encoded data removed]",
      "text/plain": [
       "<Figure size 432x288 with 1 Axes>"
      ]
     },
     "metadata": {
      "needs_background": "light"
     },
     "output_type": "display_data"
    }
   ],
   "source": [
    "losses = pd.DataFrame(model.history.history)\n",
    "losses.plot()"
   ]
  },
  {
   "cell_type": "code",
   "execution_count": 64,
   "id": "48e9c6c8",
   "metadata": {},
   "outputs": [],
   "source": [
    "predictions = (model.predict(X_test) > 0.5).astype(\"int32\")"
   ]
  },
  {
   "cell_type": "code",
   "execution_count": 65,
   "id": "35bd4dda",
   "metadata": {},
   "outputs": [
    {
     "name": "stdout",
     "output_type": "stream",
     "text": [
      "Accuracy Score: 0.683982683982684\n",
      "\n",
      "\n",
      "              precision    recall  f1-score   support\n",
      "\n",
      "           0       0.69      0.97      0.81       159\n",
      "           1       0.43      0.04      0.08        72\n",
      "\n",
      "    accuracy                           0.68       231\n",
      "   macro avg       0.56      0.51      0.44       231\n",
      "weighted avg       0.61      0.68      0.58       231\n",
      "\n",
      "\n",
      "\n",
      "[[155   4]\n",
      " [ 69   3]]\n"
     ]
    }
   ],
   "source": [
    "print('Accuracy Score:',accuracy_score(y_test,predictions))\n",
    "print('\\n')\n",
    "print(classification_report(y_test,predictions))\n",
    "print('\\n')\n",
    "print(confusion_matrix(y_test,predictions))"
   ]
  },
  {
   "cell_type": "code",
   "execution_count": null,
   "id": "ddf92f01",
   "metadata": {},
   "outputs": [],
   "source": []
  }
 ],
 "metadata": {
  "kernelspec": {
   "display_name": "Python 3",
   "language": "python",
   "name": "python3"
  },
  "language_info": {
   "codemirror_mode": {
    "name": "ipython",
    "version": 3
   },
   "file_extension": ".py",
   "mimetype": "text/x-python",
   "name": "python",
   "nbconvert_exporter": "python",
   "pygments_lexer": "ipython3",
   "version": "3.8.8"
  }
 },
 "nbformat": 4,
 "nbformat_minor": 5
}
