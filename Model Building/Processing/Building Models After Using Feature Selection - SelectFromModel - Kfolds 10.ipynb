{
 "cells": [
  {
   "cell_type": "code",
   "execution_count": 1,
   "id": "b8fd1173",
   "metadata": {},
   "outputs": [],
   "source": [
    "import pandas as pd\n",
    "import numpy as np\n",
    "import matplotlib.pyplot as plt\n",
    "import seaborn as sns\n",
    "%matplotlib inline"
   ]
  },
  {
   "cell_type": "code",
   "execution_count": 2,
   "id": "d8c79192",
   "metadata": {},
   "outputs": [],
   "source": [
    "df = pd.read_csv(\"data.txt\")"
   ]
  },
  {
   "cell_type": "code",
   "execution_count": 3,
   "id": "4c1d15e0",
   "metadata": {},
   "outputs": [
    {
     "data": {
      "text/html": [
       "<div>\n",
       "<style scoped>\n",
       "    .dataframe tbody tr th:only-of-type {\n",
       "        vertical-align: middle;\n",
       "    }\n",
       "\n",
       "    .dataframe tbody tr th {\n",
       "        vertical-align: top;\n",
       "    }\n",
       "\n",
       "    .dataframe thead th {\n",
       "        text-align: right;\n",
       "    }\n",
       "</style>\n",
       "<table border=\"1\" class=\"dataframe\">\n",
       "  <thead>\n",
       "    <tr style=\"text-align: right;\">\n",
       "      <th></th>\n",
       "      <th>Marital status</th>\n",
       "      <th>Application mode</th>\n",
       "      <th>Application order</th>\n",
       "      <th>Course</th>\n",
       "      <th>Daytime/evening attendance\\t</th>\n",
       "      <th>Previous qualification</th>\n",
       "      <th>Previous qualification (grade)</th>\n",
       "      <th>Nacionality</th>\n",
       "      <th>Mother's qualification</th>\n",
       "      <th>Father's qualification</th>\n",
       "      <th>...</th>\n",
       "      <th>Curricular units 2nd sem (credited)</th>\n",
       "      <th>Curricular units 2nd sem (enrolled)</th>\n",
       "      <th>Curricular units 2nd sem (evaluations)</th>\n",
       "      <th>Curricular units 2nd sem (approved)</th>\n",
       "      <th>Curricular units 2nd sem (grade)</th>\n",
       "      <th>Curricular units 2nd sem (without evaluations)</th>\n",
       "      <th>Unemployment rate</th>\n",
       "      <th>Inflation rate</th>\n",
       "      <th>GDP</th>\n",
       "      <th>Target</th>\n",
       "    </tr>\n",
       "  </thead>\n",
       "  <tbody>\n",
       "    <tr>\n",
       "      <th>0</th>\n",
       "      <td>1</td>\n",
       "      <td>17</td>\n",
       "      <td>5</td>\n",
       "      <td>171</td>\n",
       "      <td>1</td>\n",
       "      <td>1</td>\n",
       "      <td>122.0</td>\n",
       "      <td>1</td>\n",
       "      <td>19</td>\n",
       "      <td>12</td>\n",
       "      <td>...</td>\n",
       "      <td>0</td>\n",
       "      <td>0</td>\n",
       "      <td>0</td>\n",
       "      <td>0</td>\n",
       "      <td>0.000000</td>\n",
       "      <td>0</td>\n",
       "      <td>10.8</td>\n",
       "      <td>1.4</td>\n",
       "      <td>1.74</td>\n",
       "      <td>Dropout</td>\n",
       "    </tr>\n",
       "    <tr>\n",
       "      <th>1</th>\n",
       "      <td>1</td>\n",
       "      <td>15</td>\n",
       "      <td>1</td>\n",
       "      <td>9254</td>\n",
       "      <td>1</td>\n",
       "      <td>1</td>\n",
       "      <td>160.0</td>\n",
       "      <td>1</td>\n",
       "      <td>1</td>\n",
       "      <td>3</td>\n",
       "      <td>...</td>\n",
       "      <td>0</td>\n",
       "      <td>6</td>\n",
       "      <td>6</td>\n",
       "      <td>6</td>\n",
       "      <td>13.666667</td>\n",
       "      <td>0</td>\n",
       "      <td>13.9</td>\n",
       "      <td>-0.3</td>\n",
       "      <td>0.79</td>\n",
       "      <td>Graduate</td>\n",
       "    </tr>\n",
       "    <tr>\n",
       "      <th>2</th>\n",
       "      <td>1</td>\n",
       "      <td>1</td>\n",
       "      <td>5</td>\n",
       "      <td>9070</td>\n",
       "      <td>1</td>\n",
       "      <td>1</td>\n",
       "      <td>122.0</td>\n",
       "      <td>1</td>\n",
       "      <td>37</td>\n",
       "      <td>37</td>\n",
       "      <td>...</td>\n",
       "      <td>0</td>\n",
       "      <td>6</td>\n",
       "      <td>0</td>\n",
       "      <td>0</td>\n",
       "      <td>0.000000</td>\n",
       "      <td>0</td>\n",
       "      <td>10.8</td>\n",
       "      <td>1.4</td>\n",
       "      <td>1.74</td>\n",
       "      <td>Dropout</td>\n",
       "    </tr>\n",
       "    <tr>\n",
       "      <th>3</th>\n",
       "      <td>1</td>\n",
       "      <td>17</td>\n",
       "      <td>2</td>\n",
       "      <td>9773</td>\n",
       "      <td>1</td>\n",
       "      <td>1</td>\n",
       "      <td>122.0</td>\n",
       "      <td>1</td>\n",
       "      <td>38</td>\n",
       "      <td>37</td>\n",
       "      <td>...</td>\n",
       "      <td>0</td>\n",
       "      <td>6</td>\n",
       "      <td>10</td>\n",
       "      <td>5</td>\n",
       "      <td>12.400000</td>\n",
       "      <td>0</td>\n",
       "      <td>9.4</td>\n",
       "      <td>-0.8</td>\n",
       "      <td>-3.12</td>\n",
       "      <td>Graduate</td>\n",
       "    </tr>\n",
       "    <tr>\n",
       "      <th>4</th>\n",
       "      <td>2</td>\n",
       "      <td>39</td>\n",
       "      <td>1</td>\n",
       "      <td>8014</td>\n",
       "      <td>0</td>\n",
       "      <td>1</td>\n",
       "      <td>100.0</td>\n",
       "      <td>1</td>\n",
       "      <td>37</td>\n",
       "      <td>38</td>\n",
       "      <td>...</td>\n",
       "      <td>0</td>\n",
       "      <td>6</td>\n",
       "      <td>6</td>\n",
       "      <td>6</td>\n",
       "      <td>13.000000</td>\n",
       "      <td>0</td>\n",
       "      <td>13.9</td>\n",
       "      <td>-0.3</td>\n",
       "      <td>0.79</td>\n",
       "      <td>Graduate</td>\n",
       "    </tr>\n",
       "  </tbody>\n",
       "</table>\n",
       "<p>5 rows × 37 columns</p>\n",
       "</div>"
      ],
      "text/plain": [
       "   Marital status  Application mode  Application order  Course  \\\n",
       "0               1                17                  5     171   \n",
       "1               1                15                  1    9254   \n",
       "2               1                 1                  5    9070   \n",
       "3               1                17                  2    9773   \n",
       "4               2                39                  1    8014   \n",
       "\n",
       "   Daytime/evening attendance\\t  Previous qualification  \\\n",
       "0                             1                       1   \n",
       "1                             1                       1   \n",
       "2                             1                       1   \n",
       "3                             1                       1   \n",
       "4                             0                       1   \n",
       "\n",
       "   Previous qualification (grade)  Nacionality  Mother's qualification  \\\n",
       "0                           122.0            1                      19   \n",
       "1                           160.0            1                       1   \n",
       "2                           122.0            1                      37   \n",
       "3                           122.0            1                      38   \n",
       "4                           100.0            1                      37   \n",
       "\n",
       "   Father's qualification  ...  Curricular units 2nd sem (credited)  \\\n",
       "0                      12  ...                                    0   \n",
       "1                       3  ...                                    0   \n",
       "2                      37  ...                                    0   \n",
       "3                      37  ...                                    0   \n",
       "4                      38  ...                                    0   \n",
       "\n",
       "   Curricular units 2nd sem (enrolled)  \\\n",
       "0                                    0   \n",
       "1                                    6   \n",
       "2                                    6   \n",
       "3                                    6   \n",
       "4                                    6   \n",
       "\n",
       "   Curricular units 2nd sem (evaluations)  \\\n",
       "0                                       0   \n",
       "1                                       6   \n",
       "2                                       0   \n",
       "3                                      10   \n",
       "4                                       6   \n",
       "\n",
       "   Curricular units 2nd sem (approved)  Curricular units 2nd sem (grade)  \\\n",
       "0                                    0                          0.000000   \n",
       "1                                    6                         13.666667   \n",
       "2                                    0                          0.000000   \n",
       "3                                    5                         12.400000   \n",
       "4                                    6                         13.000000   \n",
       "\n",
       "   Curricular units 2nd sem (without evaluations)  Unemployment rate  \\\n",
       "0                                               0               10.8   \n",
       "1                                               0               13.9   \n",
       "2                                               0               10.8   \n",
       "3                                               0                9.4   \n",
       "4                                               0               13.9   \n",
       "\n",
       "   Inflation rate   GDP    Target  \n",
       "0             1.4  1.74   Dropout  \n",
       "1            -0.3  0.79  Graduate  \n",
       "2             1.4  1.74   Dropout  \n",
       "3            -0.8 -3.12  Graduate  \n",
       "4            -0.3  0.79  Graduate  \n",
       "\n",
       "[5 rows x 37 columns]"
      ]
     },
     "execution_count": 3,
     "metadata": {},
     "output_type": "execute_result"
    }
   ],
   "source": [
    "df.head()"
   ]
  },
  {
   "cell_type": "code",
   "execution_count": 4,
   "id": "2c37f0fc",
   "metadata": {},
   "outputs": [],
   "source": [
    "df = df[(df['Target'] == 'Graduate') | (df['Target'] == 'Dropout')]"
   ]
  },
  {
   "cell_type": "code",
   "execution_count": 5,
   "id": "376951e4",
   "metadata": {},
   "outputs": [],
   "source": [
    "df['Target'] = df['Target'].map({'Dropout': 0, 'Graduate': 1})"
   ]
  },
  {
   "cell_type": "code",
   "execution_count": 6,
   "id": "fadfc305",
   "metadata": {},
   "outputs": [],
   "source": [
    "df.reset_index(inplace=True)"
   ]
  },
  {
   "cell_type": "code",
   "execution_count": 7,
   "id": "90e204b0",
   "metadata": {},
   "outputs": [],
   "source": [
    "df.drop('index',inplace=True,axis=1)"
   ]
  },
  {
   "cell_type": "code",
   "execution_count": 8,
   "id": "ce07fee6",
   "metadata": {},
   "outputs": [],
   "source": [
    "from sklearn.feature_selection import SelectKBest\n",
    "from sklearn.feature_selection import chi2"
   ]
  },
  {
   "cell_type": "code",
   "execution_count": 9,
   "id": "747ff106",
   "metadata": {},
   "outputs": [],
   "source": [
    "from sklearn.preprocessing import MinMaxScaler"
   ]
  },
  {
   "cell_type": "code",
   "execution_count": 10,
   "id": "55f72bf7",
   "metadata": {},
   "outputs": [],
   "source": [
    "from sklearn.model_selection import train_test_split"
   ]
  },
  {
   "cell_type": "code",
   "execution_count": 11,
   "id": "8459e006",
   "metadata": {},
   "outputs": [],
   "source": [
    "X = df.drop('Target',axis=1)\n",
    "y = df['Target']"
   ]
  },
  {
   "cell_type": "code",
   "execution_count": 12,
   "id": "54ba2c8e",
   "metadata": {},
   "outputs": [],
   "source": [
    "scaler = MinMaxScaler()"
   ]
  },
  {
   "cell_type": "code",
   "execution_count": 13,
   "id": "32a3ea5f",
   "metadata": {},
   "outputs": [],
   "source": [
    "X_transform = scaler.fit_transform(X)"
   ]
  },
  {
   "cell_type": "code",
   "execution_count": 14,
   "id": "063c2f97",
   "metadata": {},
   "outputs": [],
   "source": [
    "X_train, X_test, y_train, y_test = train_test_split(X_transform, y, test_size=0.2, random_state=101)"
   ]
  },
  {
   "cell_type": "code",
   "execution_count": 15,
   "id": "832a4cf0",
   "metadata": {},
   "outputs": [],
   "source": [
    "bestfeatures = SelectKBest(score_func=chi2, k=10)"
   ]
  },
  {
   "cell_type": "code",
   "execution_count": 16,
   "id": "ceca23a1",
   "metadata": {},
   "outputs": [],
   "source": [
    "fit = bestfeatures.fit(X_transform,y)"
   ]
  },
  {
   "cell_type": "code",
   "execution_count": 17,
   "id": "8e5cfe7c",
   "metadata": {},
   "outputs": [],
   "source": [
    "dfscores = pd.DataFrame(fit.scores_)\n",
    "dfcolumns = pd.DataFrame(X.columns)"
   ]
  },
  {
   "cell_type": "code",
   "execution_count": 18,
   "id": "f72ca02b",
   "metadata": {},
   "outputs": [],
   "source": [
    "featureScores = pd.concat([dfcolumns,dfscores],axis=1)"
   ]
  },
  {
   "cell_type": "code",
   "execution_count": 19,
   "id": "c0f9e73c",
   "metadata": {},
   "outputs": [],
   "source": [
    "featureScores.columns = ['Specs','Score']"
   ]
  },
  {
   "cell_type": "code",
   "execution_count": 20,
   "id": "0939fa0e",
   "metadata": {},
   "outputs": [
    {
     "name": "stdout",
     "output_type": "stream",
     "text": [
      "                                             Specs       Score\n",
      "18                              Scholarship holder  260.724932\n",
      "15                                          Debtor  229.692794\n",
      "31                Curricular units 2nd sem (grade)  214.399992\n",
      "30             Curricular units 2nd sem (approved)  171.768316\n",
      "17                                          Gender  151.148802\n",
      "25                Curricular units 1st sem (grade)  126.200550\n",
      "16                         Tuition fees up to date   95.006019\n",
      "24             Curricular units 1st sem (approved)   94.028043\n",
      "1                                 Application mode   67.006863\n",
      "19                               Age at enrollment   46.373536\n",
      "13                                       Displaced   26.035663\n",
      "0                                   Marital status   14.941084\n",
      "32  Curricular units 2nd sem (without evaluations)   12.540434\n",
      "5                           Previous qualification    9.547234\n",
      "26  Curricular units 1st sem (without evaluations)    6.027220\n",
      "2                                Application order    5.473835\n",
      "28             Curricular units 2nd sem (enrolled)    4.292926\n",
      "12                                 Admission grade    4.141248\n",
      "22             Curricular units 1st sem (enrolled)    3.776363\n",
      "27             Curricular units 2nd sem (credited)    3.688068\n",
      "21             Curricular units 1st sem (credited)    3.247321\n",
      "29          Curricular units 2nd sem (evaluations)    3.165022\n",
      "8                           Mother's qualification    3.147141\n",
      "4                     Daytime/evening attendance\\t    2.912942\n",
      "6                   Previous qualification (grade)    2.115423\n",
      "35                                             GDP    1.526916\n",
      "34                                  Inflation rate    0.700176\n",
      "23          Curricular units 1st sem (evaluations)    0.656264\n",
      "7                                      Nacionality    0.434309\n",
      "3                                           Course    0.257143\n",
      "14                       Educational special needs    0.188890\n",
      "20                                   International    0.135409\n",
      "9                           Father's qualification    0.031407\n",
      "11                             Father's occupation    0.023307\n",
      "33                               Unemployment rate    0.013131\n",
      "10                             Mother's occupation    0.000598\n"
     ]
    }
   ],
   "source": [
    "print(featureScores.sort_values(ascending=False,by='Score'))"
   ]
  },
  {
   "cell_type": "code",
   "execution_count": 21,
   "id": "5410acae",
   "metadata": {},
   "outputs": [],
   "source": [
    "from sklearn.tree import DecisionTreeClassifier\n",
    "from sklearn.svm import SVC\n",
    "from sklearn.neighbors import KNeighborsClassifier\n",
    "from sklearn.linear_model import LogisticRegression\n",
    "from sklearn.ensemble import RandomForestClassifier\n",
    "from sklearn.model_selection import cross_val_score\n",
    "from sklearn.model_selection import GridSearchCV\n",
    "from sklearn.naive_bayes import GaussianNB\n",
    "from sklearn.metrics import accuracy_score, confusion_matrix, classification_report\n",
    "import xgboost as xgb\n",
    "from sklearn.ensemble import ExtraTreesClassifier\n",
    "from sklearn.feature_selection import SelectFromModel"
   ]
  },
  {
   "cell_type": "code",
   "execution_count": 22,
   "id": "ac67ccee",
   "metadata": {},
   "outputs": [
    {
     "data": {
      "text/plain": [
       "array([0.00452652, 0.02490071, 0.01195753, 0.02629326, 0.00399141,\n",
       "       0.00587469, 0.01873697, 0.00236591, 0.01589454, 0.01504889,\n",
       "       0.01595762, 0.01614409, 0.01884998, 0.00979614, 0.00162956,\n",
       "       0.02798974, 0.09012433, 0.02373305, 0.03665413, 0.02297921,\n",
       "       0.00235709, 0.00791434, 0.01862809, 0.02192033, 0.07391692,\n",
       "       0.0719122 , 0.00573139, 0.00668199, 0.01998968, 0.0307596 ,\n",
       "       0.16479312, 0.13194006, 0.00531377, 0.01512047, 0.014033  ,\n",
       "       0.0155397 ])"
      ]
     },
     "execution_count": 22,
     "metadata": {},
     "output_type": "execute_result"
    }
   ],
   "source": [
    "clf = ExtraTreesClassifier(n_estimators=50)\n",
    "clf = clf.fit(X, y)\n",
    "clf.feature_importances_"
   ]
  },
  {
   "cell_type": "code",
   "execution_count": 23,
   "id": "53af81dd",
   "metadata": {},
   "outputs": [],
   "source": [
    "feat_importances = pd.Series(clf.feature_importances_, index=X.columns)"
   ]
  },
  {
   "cell_type": "code",
   "execution_count": 87,
   "id": "9d1f6c1c",
   "metadata": {
    "scrolled": false
   },
   "outputs": [
    {
     "data": {
      "text/plain": [
       "Educational special needs                         0.001630\n",
       "International                                     0.002357\n",
       "Nacionality                                       0.002366\n",
       "Daytime/evening attendance\\t                      0.003991\n",
       "Marital status                                    0.004527\n",
       "Curricular units 2nd sem (without evaluations)    0.005314\n",
       "Curricular units 1st sem (without evaluations)    0.005731\n",
       "Previous qualification                            0.005875\n",
       "Curricular units 2nd sem (credited)               0.006682\n",
       "Curricular units 1st sem (credited)               0.007914\n",
       "Displaced                                         0.009796\n",
       "Application order                                 0.011958\n",
       "Inflation rate                                    0.014033\n",
       "Father's qualification                            0.015049\n",
       "Unemployment rate                                 0.015120\n",
       "GDP                                               0.015540\n",
       "Mother's qualification                            0.015895\n",
       "Mother's occupation                               0.015958\n",
       "Father's occupation                               0.016144\n",
       "Curricular units 1st sem (enrolled)               0.018628\n",
       "Previous qualification (grade)                    0.018737\n",
       "Admission grade                                   0.018850\n",
       "Curricular units 2nd sem (enrolled)               0.019990\n",
       "Curricular units 1st sem (evaluations)            0.021920\n",
       "Age at enrollment                                 0.022979\n",
       "Gender                                            0.023733\n",
       "Application mode                                  0.024901\n",
       "Course                                            0.026293\n",
       "Debtor                                            0.027990\n",
       "Curricular units 2nd sem (evaluations)            0.030760\n",
       "Scholarship holder                                0.036654\n",
       "Curricular units 1st sem (grade)                  0.071912\n",
       "Curricular units 1st sem (approved)               0.073917\n",
       "Tuition fees up to date                           0.090124\n",
       "Curricular units 2nd sem (grade)                  0.131940\n",
       "Curricular units 2nd sem (approved)               0.164793\n",
       "dtype: float64"
      ]
     },
     "execution_count": 87,
     "metadata": {},
     "output_type": "execute_result"
    }
   ],
   "source": [
    "feat_importances.sort_values()"
   ]
  },
  {
   "cell_type": "code",
   "execution_count": 25,
   "id": "a3edca97",
   "metadata": {},
   "outputs": [
    {
     "data": {
      "text/plain": [
       "<AxesSubplot:>"
      ]
     },
     "execution_count": 25,
     "metadata": {},
     "output_type": "execute_result"
    },
    {
     "data": {
      "image/png": "[encoded data removed]",
      "text/plain": [
       "<Figure size 432x288 with 1 Axes>"
      ]
     },
     "metadata": {
      "needs_background": "light"
     },
     "output_type": "display_data"
    }
   ],
   "source": [
    "feat_importances.nlargest(10).plot(kind='barh')"
   ]
  },
  {
   "cell_type": "code",
   "execution_count": 26,
   "id": "eb7b098c",
   "metadata": {},
   "outputs": [],
   "source": [
    "model = SelectFromModel(clf, prefit=True)"
   ]
  },
  {
   "cell_type": "code",
   "execution_count": 27,
   "id": "c70acb82",
   "metadata": {},
   "outputs": [],
   "source": [
    "X_new = model.transform(X)"
   ]
  },
  {
   "cell_type": "code",
   "execution_count": 28,
   "id": "8badf5d1",
   "metadata": {},
   "outputs": [
    {
     "data": {
      "text/plain": [
       "(3630, 8)"
      ]
     },
     "execution_count": 28,
     "metadata": {},
     "output_type": "execute_result"
    }
   ],
   "source": [
    "X_new.shape"
   ]
  },
  {
   "cell_type": "code",
   "execution_count": 29,
   "id": "1bac1768",
   "metadata": {},
   "outputs": [],
   "source": [
    "X_train, X_test, y_train, y_test = train_test_split(X_new, y, test_size=0.33, random_state=101)"
   ]
  },
  {
   "cell_type": "markdown",
   "id": "9e2c8e1f",
   "metadata": {},
   "source": [
    "# Buidling Model After Feature Selection"
   ]
  },
  {
   "cell_type": "markdown",
   "id": "3cd42d86",
   "metadata": {},
   "source": [
    "### Logistic Regression"
   ]
  },
  {
   "cell_type": "code",
   "execution_count": 30,
   "id": "0b045ec5",
   "metadata": {},
   "outputs": [
    {
     "data": {
      "text/plain": [
       "0.8897895162922485"
      ]
     },
     "execution_count": 30,
     "metadata": {},
     "output_type": "execute_result"
    }
   ],
   "source": [
    "model = LogisticRegression(max_iter=10000)\n",
    "model.fit(X_train, y_train)\n",
    "scores = cross_val_score(model, X_train, y_train, cv=10, scoring='accuracy')\n",
    "scores.mean()"
   ]
  },
  {
   "cell_type": "code",
   "execution_count": 31,
   "id": "97d99d69",
   "metadata": {},
   "outputs": [
    {
     "data": {
      "text/plain": [
       "0.8897895162922485"
      ]
     },
     "execution_count": 31,
     "metadata": {},
     "output_type": "execute_result"
    }
   ],
   "source": [
    "scores.mean()"
   ]
  },
  {
   "cell_type": "code",
   "execution_count": 32,
   "id": "badb65fc",
   "metadata": {},
   "outputs": [],
   "source": [
    "predictions = model.predict(X_test)"
   ]
  },
  {
   "cell_type": "code",
   "execution_count": 33,
   "id": "5617920f",
   "metadata": {},
   "outputs": [
    {
     "name": "stdout",
     "output_type": "stream",
     "text": [
      "Accuracy:  0.8772954924874792\n",
      "\n",
      "\n",
      "              precision    recall  f1-score   support\n",
      "\n",
      "           0       0.86      0.82      0.84       476\n",
      "           1       0.88      0.92      0.90       722\n",
      "\n",
      "    accuracy                           0.88      1198\n",
      "   macro avg       0.87      0.87      0.87      1198\n",
      "weighted avg       0.88      0.88      0.88      1198\n",
      "\n",
      "\n",
      "\n",
      "[[390  86]\n",
      " [ 61 661]]\n"
     ]
    }
   ],
   "source": [
    "print(\"Accuracy: \", accuracy_score(y_test,predictions))\n",
    "print(\"\\n\")\n",
    "print(classification_report(y_test,predictions))\n",
    "print(\"\\n\")\n",
    "print(confusion_matrix(y_test,predictions))"
   ]
  },
  {
   "cell_type": "markdown",
   "id": "968c0147",
   "metadata": {},
   "source": [
    "### KNN"
   ]
  },
  {
   "cell_type": "code",
   "execution_count": 34,
   "id": "e2fa3645",
   "metadata": {},
   "outputs": [],
   "source": [
    "error_rate = []\n",
    "\n",
    "for i in range(1,40):\n",
    "    knn = KNeighborsClassifier(n_neighbors=i)\n",
    "    knn.fit(X_train,y_train)\n",
    "    pred_i = knn.predict(X_test)\n",
    "    error_rate.append(np.mean(pred_i != y_test))"
   ]
  },
  {
   "cell_type": "code",
   "execution_count": 35,
   "id": "4edbd871",
   "metadata": {},
   "outputs": [
    {
     "data": {
      "text/plain": [
       "Text(0, 0.5, 'Error Rate')"
      ]
     },
     "execution_count": 35,
     "metadata": {},
     "output_type": "execute_result"
    },
    {
     "data": {
      "image/png": "[encoded data removed]",
      "text/plain": [
       "<Figure size 720x432 with 1 Axes>"
      ]
     },
     "metadata": {
      "needs_background": "light"
     },
     "output_type": "display_data"
    }
   ],
   "source": [
    "plt.figure(figsize=(10,6))\n",
    "plt.plot(range(1,40),error_rate,color='blue',linestyle='--',marker='o',markerfacecolor='red',markersize=10)\n",
    "plt.title('Error Rate vs K value')\n",
    "plt.xlabel('K')\n",
    "plt.ylabel('Error Rate')"
   ]
  },
  {
   "cell_type": "code",
   "execution_count": 80,
   "id": "13dc0ef8",
   "metadata": {},
   "outputs": [],
   "source": [
    "model = KNeighborsClassifier(n_neighbors=9)\n",
    "model.fit(X_train, y_train)\n",
    "scores = cross_val_score(model, X_train, y_train, cv=10, scoring='accuracy')\n",
    "predictions = model.predict(X_test)"
   ]
  },
  {
   "cell_type": "code",
   "execution_count": 81,
   "id": "86a48fc9",
   "metadata": {},
   "outputs": [
    {
     "name": "stdout",
     "output_type": "stream",
     "text": [
      "Accuracy Score: 0.8814691151919867\n",
      "\n",
      "\n",
      "              precision    recall  f1-score   support\n",
      "\n",
      "           0       0.91      0.78      0.84       476\n",
      "           1       0.87      0.95      0.91       722\n",
      "\n",
      "    accuracy                           0.88      1198\n",
      "   macro avg       0.89      0.86      0.87      1198\n",
      "weighted avg       0.88      0.88      0.88      1198\n",
      "\n",
      "\n",
      "\n",
      "[[372 104]\n",
      " [ 38 684]]\n"
     ]
    }
   ],
   "source": [
    "print('Accuracy Score:',accuracy_score(y_test,predictions))\n",
    "print('\\n')\n",
    "print(classification_report(y_test,predictions))\n",
    "print('\\n')\n",
    "print(confusion_matrix(y_test,predictions))"
   ]
  },
  {
   "cell_type": "code",
   "execution_count": 83,
   "id": "619820d1",
   "metadata": {},
   "outputs": [],
   "source": [
    "model = KNeighborsClassifier(n_neighbors=9)"
   ]
  },
  {
   "cell_type": "code",
   "execution_count": 84,
   "id": "49b2a332",
   "metadata": {},
   "outputs": [
    {
     "data": {
      "text/plain": [
       "KNeighborsClassifier(n_neighbors=9)"
      ]
     },
     "execution_count": 84,
     "metadata": {},
     "output_type": "execute_result"
    }
   ],
   "source": [
    "model.fit(X_train, y_train)"
   ]
  },
  {
   "cell_type": "code",
   "execution_count": 85,
   "id": "50c93d10",
   "metadata": {},
   "outputs": [
    {
     "data": {
      "text/plain": [
       "0.8741584024826284"
      ]
     },
     "execution_count": 85,
     "metadata": {},
     "output_type": "execute_result"
    }
   ],
   "source": [
    "scores = cross_val_score(model, X_train, y_train, cv=10, scoring='accuracy')\n",
    "scores.mean()"
   ]
  },
  {
   "cell_type": "markdown",
   "id": "edd79d40",
   "metadata": {},
   "source": [
    "### Decision Tree"
   ]
  },
  {
   "cell_type": "code",
   "execution_count": 39,
   "id": "5340d022",
   "metadata": {},
   "outputs": [],
   "source": [
    "dtree = DecisionTreeClassifier()"
   ]
  },
  {
   "cell_type": "code",
   "execution_count": 40,
   "id": "630062ec",
   "metadata": {},
   "outputs": [
    {
     "data": {
      "text/plain": [
       "DecisionTreeClassifier()"
      ]
     },
     "execution_count": 40,
     "metadata": {},
     "output_type": "execute_result"
    }
   ],
   "source": [
    "dtree.fit(X_train,y_train)"
   ]
  },
  {
   "cell_type": "code",
   "execution_count": 41,
   "id": "7ffdf4bb",
   "metadata": {},
   "outputs": [],
   "source": [
    "predictions = dtree.predict(X_test)"
   ]
  },
  {
   "cell_type": "code",
   "execution_count": 42,
   "id": "692d5681",
   "metadata": {},
   "outputs": [
    {
     "name": "stdout",
     "output_type": "stream",
     "text": [
      "Accuracy:  0.8472454090150251\n",
      "\n",
      "\n",
      "              precision    recall  f1-score   support\n",
      "\n",
      "           0       0.80      0.82      0.81       476\n",
      "           1       0.88      0.86      0.87       722\n",
      "\n",
      "    accuracy                           0.85      1198\n",
      "   macro avg       0.84      0.84      0.84      1198\n",
      "weighted avg       0.85      0.85      0.85      1198\n",
      "\n",
      "\n",
      "\n",
      "[[391  85]\n",
      " [ 98 624]]\n"
     ]
    }
   ],
   "source": [
    "print(\"Accuracy: \", accuracy_score(y_test,predictions))\n",
    "print(\"\\n\")\n",
    "print(classification_report(y_test,predictions))\n",
    "print(\"\\n\")\n",
    "print(confusion_matrix(y_test,predictions))"
   ]
  },
  {
   "cell_type": "code",
   "execution_count": 43,
   "id": "c211a336",
   "metadata": {},
   "outputs": [
    {
     "data": {
      "text/plain": [
       "0.8425285030020913"
      ]
     },
     "execution_count": 43,
     "metadata": {},
     "output_type": "execute_result"
    }
   ],
   "source": [
    "model = DecisionTreeClassifier()\n",
    "model.fit(X_train, y_train)\n",
    "scores = cross_val_score(model, X_train, y_train, cv=10, scoring='accuracy')\n",
    "scores.mean()"
   ]
  },
  {
   "cell_type": "markdown",
   "id": "3c3d9ff5",
   "metadata": {},
   "source": [
    "### Random Forest"
   ]
  },
  {
   "cell_type": "code",
   "execution_count": 44,
   "id": "416c07d0",
   "metadata": {},
   "outputs": [],
   "source": [
    "rfc = RandomForestClassifier(n_estimators=200)"
   ]
  },
  {
   "cell_type": "code",
   "execution_count": 45,
   "id": "09d61f88",
   "metadata": {},
   "outputs": [
    {
     "data": {
      "text/plain": [
       "RandomForestClassifier(n_estimators=200)"
      ]
     },
     "execution_count": 45,
     "metadata": {},
     "output_type": "execute_result"
    }
   ],
   "source": [
    "rfc.fit(X_train,y_train)"
   ]
  },
  {
   "cell_type": "code",
   "execution_count": 46,
   "id": "77603047",
   "metadata": {},
   "outputs": [],
   "source": [
    "predictions = rfc.predict(X_test)"
   ]
  },
  {
   "cell_type": "code",
   "execution_count": 47,
   "id": "69b7b8d0",
   "metadata": {},
   "outputs": [
    {
     "name": "stdout",
     "output_type": "stream",
     "text": [
      "Accuracy:  0.8914858096828047\n",
      "\n",
      "\n",
      "              precision    recall  f1-score   support\n",
      "\n",
      "           0       0.89      0.83      0.86       476\n",
      "           1       0.89      0.93      0.91       722\n",
      "\n",
      "    accuracy                           0.89      1198\n",
      "   macro avg       0.89      0.88      0.89      1198\n",
      "weighted avg       0.89      0.89      0.89      1198\n",
      "\n",
      "\n",
      "\n",
      "[[395  81]\n",
      " [ 49 673]]\n"
     ]
    }
   ],
   "source": [
    "print(\"Accuracy: \", accuracy_score(y_test,predictions))\n",
    "print(\"\\n\")\n",
    "print(classification_report(y_test,predictions))\n",
    "print(\"\\n\")\n",
    "print(confusion_matrix(y_test,predictions))"
   ]
  },
  {
   "cell_type": "code",
   "execution_count": 48,
   "id": "0db3d3dd",
   "metadata": {},
   "outputs": [
    {
     "data": {
      "text/plain": [
       "0.8922569655265467"
      ]
     },
     "execution_count": 48,
     "metadata": {},
     "output_type": "execute_result"
    }
   ],
   "source": [
    "model = RandomForestClassifier(n_estimators=200)\n",
    "model.fit(X_train, y_train)\n",
    "scores = cross_val_score(model, X_train, y_train, cv=10, scoring='accuracy')\n",
    "scores.mean()"
   ]
  },
  {
   "cell_type": "markdown",
   "id": "29f910a8",
   "metadata": {},
   "source": [
    "### Support Vector Machine"
   ]
  },
  {
   "cell_type": "code",
   "execution_count": 49,
   "id": "70b2fd48",
   "metadata": {},
   "outputs": [],
   "source": [
    "model = SVC()"
   ]
  },
  {
   "cell_type": "code",
   "execution_count": 50,
   "id": "fc005442",
   "metadata": {},
   "outputs": [
    {
     "data": {
      "text/plain": [
       "SVC()"
      ]
     },
     "execution_count": 50,
     "metadata": {},
     "output_type": "execute_result"
    }
   ],
   "source": [
    "model.fit(X_train,y_train)"
   ]
  },
  {
   "cell_type": "code",
   "execution_count": 51,
   "id": "07a8de58",
   "metadata": {},
   "outputs": [],
   "source": [
    "predictions = model.predict(X_test)"
   ]
  },
  {
   "cell_type": "code",
   "execution_count": 52,
   "id": "dfff3b21",
   "metadata": {},
   "outputs": [
    {
     "name": "stdout",
     "output_type": "stream",
     "text": [
      "Accuracy:  0.8831385642737897\n",
      "\n",
      "\n",
      "              precision    recall  f1-score   support\n",
      "\n",
      "           0       0.89      0.80      0.84       476\n",
      "           1       0.88      0.94      0.91       722\n",
      "\n",
      "    accuracy                           0.88      1198\n",
      "   macro avg       0.89      0.87      0.88      1198\n",
      "weighted avg       0.88      0.88      0.88      1198\n",
      "\n",
      "\n",
      "\n",
      "[[381  95]\n",
      " [ 45 677]]\n"
     ]
    }
   ],
   "source": [
    "print(\"Accuracy: \", accuracy_score(y_test,predictions))\n",
    "print(\"\\n\")\n",
    "print(classification_report(y_test,predictions))\n",
    "print(\"\\n\")\n",
    "print(confusion_matrix(y_test,predictions))"
   ]
  },
  {
   "cell_type": "code",
   "execution_count": 53,
   "id": "d29ac519",
   "metadata": {},
   "outputs": [
    {
     "data": {
      "text/plain": [
       "0.8860841260203737"
      ]
     },
     "execution_count": 53,
     "metadata": {},
     "output_type": "execute_result"
    }
   ],
   "source": [
    "model = SVC()\n",
    "model.fit(X_train, y_train)\n",
    "scores = cross_val_score(model, X_train, y_train, cv=10, scoring='accuracy')\n",
    "scores.mean()"
   ]
  },
  {
   "cell_type": "markdown",
   "id": "91ffbc0e",
   "metadata": {},
   "source": [
    "### Grid Search CV"
   ]
  },
  {
   "cell_type": "code",
   "execution_count": 54,
   "id": "cd425ff6",
   "metadata": {},
   "outputs": [],
   "source": [
    "param_grid = {'C':[0.1,1,10,100,1000],'gamma':[1,0.1,0.01,0.001,0.0001]}"
   ]
  },
  {
   "cell_type": "code",
   "execution_count": 55,
   "id": "5137eb0f",
   "metadata": {},
   "outputs": [],
   "source": [
    "grid = GridSearchCV(SVC(),param_grid,verbose=3)"
   ]
  },
  {
   "cell_type": "code",
   "execution_count": 56,
   "id": "02388d91",
   "metadata": {},
   "outputs": [
    {
     "name": "stdout",
     "output_type": "stream",
     "text": [
      "Fitting 5 folds for each of 25 candidates, totalling 125 fits\n",
      "[CV 1/5] END .................................C=0.1, gamma=1; total time=   0.1s\n",
      "[CV 2/5] END .................................C=0.1, gamma=1; total time=   0.1s\n",
      "[CV 3/5] END .................................C=0.1, gamma=1; total time=   0.1s\n",
      "[CV 4/5] END .................................C=0.1, gamma=1; total time=   0.1s\n",
      "[CV 5/5] END .................................C=0.1, gamma=1; total time=   0.1s\n",
      "[CV 1/5] END ...............................C=0.1, gamma=0.1; total time=   0.0s\n",
      "[CV 2/5] END ...............................C=0.1, gamma=0.1; total time=   0.0s\n",
      "[CV 3/5] END ...............................C=0.1, gamma=0.1; total time=   0.0s\n",
      "[CV 4/5] END ...............................C=0.1, gamma=0.1; total time=   0.0s\n",
      "[CV 5/5] END ...............................C=0.1, gamma=0.1; total time=   0.0s\n",
      "[CV 1/5] END ..............................C=0.1, gamma=0.01; total time=   0.0s\n",
      "[CV 2/5] END ..............................C=0.1, gamma=0.01; total time=   0.0s\n",
      "[CV 3/5] END ..............................C=0.1, gamma=0.01; total time=   0.0s\n",
      "[CV 4/5] END ..............................C=0.1, gamma=0.01; total time=   0.0s\n",
      "[CV 5/5] END ..............................C=0.1, gamma=0.01; total time=   0.0s\n",
      "[CV 1/5] END .............................C=0.1, gamma=0.001; total time=   0.0s\n",
      "[CV 2/5] END .............................C=0.1, gamma=0.001; total time=   0.0s\n",
      "[CV 3/5] END .............................C=0.1, gamma=0.001; total time=   0.0s\n",
      "[CV 4/5] END .............................C=0.1, gamma=0.001; total time=   0.0s\n",
      "[CV 5/5] END .............................C=0.1, gamma=0.001; total time=   0.0s\n",
      "[CV 1/5] END ............................C=0.1, gamma=0.0001; total time=   0.1s\n",
      "[CV 2/5] END ............................C=0.1, gamma=0.0001; total time=   0.1s\n",
      "[CV 3/5] END ............................C=0.1, gamma=0.0001; total time=   0.1s\n",
      "[CV 4/5] END ............................C=0.1, gamma=0.0001; total time=   0.1s\n",
      "[CV 5/5] END ............................C=0.1, gamma=0.0001; total time=   0.1s\n",
      "[CV 1/5] END ...................................C=1, gamma=1; total time=   0.1s\n",
      "[CV 2/5] END ...................................C=1, gamma=1; total time=   0.1s\n",
      "[CV 3/5] END ...................................C=1, gamma=1; total time=   0.1s\n",
      "[CV 4/5] END ...................................C=1, gamma=1; total time=   0.2s\n",
      "[CV 5/5] END ...................................C=1, gamma=1; total time=   0.1s\n",
      "[CV 1/5] END .................................C=1, gamma=0.1; total time=   0.0s\n",
      "[CV 2/5] END .................................C=1, gamma=0.1; total time=   0.0s\n",
      "[CV 3/5] END .................................C=1, gamma=0.1; total time=   0.0s\n",
      "[CV 4/5] END .................................C=1, gamma=0.1; total time=   0.0s\n",
      "[CV 5/5] END .................................C=1, gamma=0.1; total time=   0.0s\n",
      "[CV 1/5] END ................................C=1, gamma=0.01; total time=   0.0s\n",
      "[CV 2/5] END ................................C=1, gamma=0.01; total time=   0.0s\n",
      "[CV 3/5] END ................................C=1, gamma=0.01; total time=   0.0s\n",
      "[CV 4/5] END ................................C=1, gamma=0.01; total time=   0.0s\n",
      "[CV 5/5] END ................................C=1, gamma=0.01; total time=   0.0s\n",
      "[CV 1/5] END ...............................C=1, gamma=0.001; total time=   0.0s\n",
      "[CV 2/5] END ...............................C=1, gamma=0.001; total time=   0.0s\n",
      "[CV 3/5] END ...............................C=1, gamma=0.001; total time=   0.0s\n",
      "[CV 4/5] END ...............................C=1, gamma=0.001; total time=   0.0s\n",
      "[CV 5/5] END ...............................C=1, gamma=0.001; total time=   0.0s\n",
      "[CV 1/5] END ..............................C=1, gamma=0.0001; total time=   0.0s\n",
      "[CV 2/5] END ..............................C=1, gamma=0.0001; total time=   0.0s\n",
      "[CV 3/5] END ..............................C=1, gamma=0.0001; total time=   0.0s\n",
      "[CV 4/5] END ..............................C=1, gamma=0.0001; total time=   0.0s\n",
      "[CV 5/5] END ..............................C=1, gamma=0.0001; total time=   0.0s\n",
      "[CV 1/5] END ..................................C=10, gamma=1; total time=   0.1s\n",
      "[CV 2/5] END ..................................C=10, gamma=1; total time=   0.1s\n",
      "[CV 3/5] END ..................................C=10, gamma=1; total time=   0.1s\n",
      "[CV 4/5] END ..................................C=10, gamma=1; total time=   0.1s\n",
      "[CV 5/5] END ..................................C=10, gamma=1; total time=   0.1s\n",
      "[CV 1/5] END ................................C=10, gamma=0.1; total time=   0.0s\n",
      "[CV 2/5] END ................................C=10, gamma=0.1; total time=   0.0s\n",
      "[CV 3/5] END ................................C=10, gamma=0.1; total time=   0.0s\n",
      "[CV 4/5] END ................................C=10, gamma=0.1; total time=   0.0s\n",
      "[CV 5/5] END ................................C=10, gamma=0.1; total time=   0.0s\n",
      "[CV 1/5] END ...............................C=10, gamma=0.01; total time=   0.0s\n",
      "[CV 2/5] END ...............................C=10, gamma=0.01; total time=   0.0s\n",
      "[CV 3/5] END ...............................C=10, gamma=0.01; total time=   0.0s\n",
      "[CV 4/5] END ...............................C=10, gamma=0.01; total time=   0.0s\n",
      "[CV 5/5] END ...............................C=10, gamma=0.01; total time=   0.0s\n",
      "[CV 1/5] END ..............................C=10, gamma=0.001; total time=   0.0s\n",
      "[CV 2/5] END ..............................C=10, gamma=0.001; total time=   0.0s\n",
      "[CV 3/5] END ..............................C=10, gamma=0.001; total time=   0.0s\n",
      "[CV 4/5] END ..............................C=10, gamma=0.001; total time=   0.0s\n",
      "[CV 5/5] END ..............................C=10, gamma=0.001; total time=   0.0s\n",
      "[CV 1/5] END .............................C=10, gamma=0.0001; total time=   0.0s\n",
      "[CV 2/5] END .............................C=10, gamma=0.0001; total time=   0.0s\n",
      "[CV 3/5] END .............................C=10, gamma=0.0001; total time=   0.0s\n",
      "[CV 4/5] END .............................C=10, gamma=0.0001; total time=   0.0s\n",
      "[CV 5/5] END .............................C=10, gamma=0.0001; total time=   0.0s\n",
      "[CV 1/5] END .................................C=100, gamma=1; total time=   0.1s\n",
      "[CV 2/5] END .................................C=100, gamma=1; total time=   0.1s\n",
      "[CV 3/5] END .................................C=100, gamma=1; total time=   0.1s\n",
      "[CV 4/5] END .................................C=100, gamma=1; total time=   0.1s\n",
      "[CV 5/5] END .................................C=100, gamma=1; total time=   0.1s\n",
      "[CV 1/5] END ...............................C=100, gamma=0.1; total time=   0.1s\n",
      "[CV 2/5] END ...............................C=100, gamma=0.1; total time=   0.1s\n",
      "[CV 3/5] END ...............................C=100, gamma=0.1; total time=   0.1s\n",
      "[CV 4/5] END ...............................C=100, gamma=0.1; total time=   0.1s\n",
      "[CV 5/5] END ...............................C=100, gamma=0.1; total time=   0.1s\n",
      "[CV 1/5] END ..............................C=100, gamma=0.01; total time=   0.0s\n",
      "[CV 2/5] END ..............................C=100, gamma=0.01; total time=   0.0s\n",
      "[CV 3/5] END ..............................C=100, gamma=0.01; total time=   0.0s\n",
      "[CV 4/5] END ..............................C=100, gamma=0.01; total time=   0.0s\n",
      "[CV 5/5] END ..............................C=100, gamma=0.01; total time=   0.0s\n",
      "[CV 1/5] END .............................C=100, gamma=0.001; total time=   0.0s\n",
      "[CV 2/5] END .............................C=100, gamma=0.001; total time=   0.0s\n",
      "[CV 3/5] END .............................C=100, gamma=0.001; total time=   0.0s\n",
      "[CV 4/5] END .............................C=100, gamma=0.001; total time=   0.0s\n",
      "[CV 5/5] END .............................C=100, gamma=0.001; total time=   0.0s\n",
      "[CV 1/5] END ............................C=100, gamma=0.0001; total time=   0.0s\n",
      "[CV 2/5] END ............................C=100, gamma=0.0001; total time=   0.0s\n",
      "[CV 3/5] END ............................C=100, gamma=0.0001; total time=   0.0s\n",
      "[CV 4/5] END ............................C=100, gamma=0.0001; total time=   0.0s\n",
      "[CV 5/5] END ............................C=100, gamma=0.0001; total time=   0.0s\n",
      "[CV 1/5] END ................................C=1000, gamma=1; total time=   0.1s\n",
      "[CV 2/5] END ................................C=1000, gamma=1; total time=   0.1s\n"
     ]
    },
    {
     "name": "stdout",
     "output_type": "stream",
     "text": [
      "[CV 3/5] END ................................C=1000, gamma=1; total time=   0.1s\n",
      "[CV 4/5] END ................................C=1000, gamma=1; total time=   0.1s\n",
      "[CV 5/5] END ................................C=1000, gamma=1; total time=   0.1s\n",
      "[CV 1/5] END ..............................C=1000, gamma=0.1; total time=   0.6s\n",
      "[CV 2/5] END ..............................C=1000, gamma=0.1; total time=   0.3s\n",
      "[CV 3/5] END ..............................C=1000, gamma=0.1; total time=   0.3s\n",
      "[CV 4/5] END ..............................C=1000, gamma=0.1; total time=   0.4s\n",
      "[CV 5/5] END ..............................C=1000, gamma=0.1; total time=   0.4s\n",
      "[CV 1/5] END .............................C=1000, gamma=0.01; total time=   0.4s\n",
      "[CV 2/5] END .............................C=1000, gamma=0.01; total time=   0.4s\n",
      "[CV 3/5] END .............................C=1000, gamma=0.01; total time=   0.4s\n",
      "[CV 4/5] END .............................C=1000, gamma=0.01; total time=   0.3s\n",
      "[CV 5/5] END .............................C=1000, gamma=0.01; total time=   0.5s\n",
      "[CV 1/5] END ............................C=1000, gamma=0.001; total time=   0.1s\n",
      "[CV 2/5] END ............................C=1000, gamma=0.001; total time=   0.1s\n",
      "[CV 3/5] END ............................C=1000, gamma=0.001; total time=   0.0s\n",
      "[CV 4/5] END ............................C=1000, gamma=0.001; total time=   0.1s\n",
      "[CV 5/5] END ............................C=1000, gamma=0.001; total time=   0.1s\n",
      "[CV 1/5] END ...........................C=1000, gamma=0.0001; total time=   0.0s\n",
      "[CV 2/5] END ...........................C=1000, gamma=0.0001; total time=   0.0s\n",
      "[CV 3/5] END ...........................C=1000, gamma=0.0001; total time=   0.0s\n",
      "[CV 4/5] END ...........................C=1000, gamma=0.0001; total time=   0.0s\n",
      "[CV 5/5] END ...........................C=1000, gamma=0.0001; total time=   0.0s\n"
     ]
    },
    {
     "data": {
      "text/plain": [
       "GridSearchCV(estimator=SVC(),\n",
       "             param_grid={'C': [0.1, 1, 10, 100, 1000],\n",
       "                         'gamma': [1, 0.1, 0.01, 0.001, 0.0001]},\n",
       "             verbose=3)"
      ]
     },
     "execution_count": 56,
     "metadata": {},
     "output_type": "execute_result"
    }
   ],
   "source": [
    "grid.fit(X_train,y_train)"
   ]
  },
  {
   "cell_type": "code",
   "execution_count": 57,
   "id": "418259df",
   "metadata": {},
   "outputs": [
    {
     "data": {
      "text/plain": [
       "SVC(C=1000, gamma=0.001)"
      ]
     },
     "execution_count": 57,
     "metadata": {},
     "output_type": "execute_result"
    }
   ],
   "source": [
    "grid.best_estimator_"
   ]
  },
  {
   "cell_type": "code",
   "execution_count": 58,
   "id": "65d3da04",
   "metadata": {},
   "outputs": [
    {
     "data": {
      "text/plain": [
       "{'C': 1000, 'gamma': 0.001}"
      ]
     },
     "execution_count": 58,
     "metadata": {},
     "output_type": "execute_result"
    }
   ],
   "source": [
    "grid.best_params_"
   ]
  },
  {
   "cell_type": "code",
   "execution_count": 59,
   "id": "e0cfa6f9",
   "metadata": {},
   "outputs": [
    {
     "data": {
      "text/plain": [
       "0.8996628387456587"
      ]
     },
     "execution_count": 59,
     "metadata": {},
     "output_type": "execute_result"
    }
   ],
   "source": [
    "grid.best_score_"
   ]
  },
  {
   "cell_type": "code",
   "execution_count": 60,
   "id": "99ac22e4",
   "metadata": {},
   "outputs": [],
   "source": [
    "predictions = grid.predict(X_test)"
   ]
  },
  {
   "cell_type": "code",
   "execution_count": 61,
   "id": "3e713653",
   "metadata": {},
   "outputs": [
    {
     "name": "stdout",
     "output_type": "stream",
     "text": [
      "Accuracy:  0.8956594323873122\n",
      "\n",
      "\n",
      "              precision    recall  f1-score   support\n",
      "\n",
      "           0       0.90      0.83      0.86       476\n",
      "           1       0.89      0.94      0.92       722\n",
      "\n",
      "    accuracy                           0.90      1198\n",
      "   macro avg       0.90      0.88      0.89      1198\n",
      "weighted avg       0.90      0.90      0.89      1198\n",
      "\n",
      "\n",
      "\n",
      "[[393  83]\n",
      " [ 42 680]]\n"
     ]
    }
   ],
   "source": [
    "print(\"Accuracy: \", accuracy_score(y_test,predictions))\n",
    "print(\"\\n\")\n",
    "print(classification_report(y_test,predictions))\n",
    "print(\"\\n\")\n",
    "print(confusion_matrix(y_test,predictions))"
   ]
  },
  {
   "cell_type": "markdown",
   "id": "f3f53095",
   "metadata": {},
   "source": [
    "### Naive Bayes"
   ]
  },
  {
   "cell_type": "code",
   "execution_count": 62,
   "id": "7910acfc",
   "metadata": {},
   "outputs": [],
   "source": [
    "gnb = GaussianNB()"
   ]
  },
  {
   "cell_type": "code",
   "execution_count": 63,
   "id": "2d685338",
   "metadata": {},
   "outputs": [
    {
     "data": {
      "text/plain": [
       "GaussianNB()"
      ]
     },
     "execution_count": 63,
     "metadata": {},
     "output_type": "execute_result"
    }
   ],
   "source": [
    "gnb.fit(X_train,y_train)"
   ]
  },
  {
   "cell_type": "code",
   "execution_count": 64,
   "id": "b6d2f914",
   "metadata": {},
   "outputs": [],
   "source": [
    "predictions = gnb.predict(X_test)"
   ]
  },
  {
   "cell_type": "code",
   "execution_count": 65,
   "id": "3a97e180",
   "metadata": {},
   "outputs": [
    {
     "name": "stdout",
     "output_type": "stream",
     "text": [
      "Accuracy Score: 0.8447412353923205\n",
      "\n",
      "\n",
      "              precision    recall  f1-score   support\n",
      "\n",
      "           0       0.87      0.71      0.78       476\n",
      "           1       0.83      0.93      0.88       722\n",
      "\n",
      "    accuracy                           0.84      1198\n",
      "   macro avg       0.85      0.82      0.83      1198\n",
      "weighted avg       0.85      0.84      0.84      1198\n",
      "\n",
      "\n",
      "\n",
      "[[339 137]\n",
      " [ 49 673]]\n"
     ]
    }
   ],
   "source": [
    "print('Accuracy Score:',accuracy_score(y_test,predictions))\n",
    "print('\\n')\n",
    "print(classification_report(y_test,predictions))\n",
    "print('\\n')\n",
    "print(confusion_matrix(y_test,predictions))"
   ]
  },
  {
   "cell_type": "code",
   "execution_count": 66,
   "id": "62989c6a",
   "metadata": {},
   "outputs": [
    {
     "data": {
      "text/plain": [
       "0.8478631181272347"
      ]
     },
     "execution_count": 66,
     "metadata": {},
     "output_type": "execute_result"
    }
   ],
   "source": [
    "model = GaussianNB()\n",
    "model.fit(X_train, y_train)\n",
    "scores = cross_val_score(model, X_train, y_train, cv=10, scoring='accuracy')\n",
    "scores.mean()"
   ]
  },
  {
   "cell_type": "markdown",
   "id": "e1df9e65",
   "metadata": {},
   "source": [
    "### XGBoost"
   ]
  },
  {
   "cell_type": "code",
   "execution_count": 67,
   "id": "762afada",
   "metadata": {},
   "outputs": [],
   "source": [
    "xgb_cl = xgb.XGBClassifier()"
   ]
  },
  {
   "cell_type": "code",
   "execution_count": 68,
   "id": "f1ef895b",
   "metadata": {},
   "outputs": [
    {
     "data": {
      "text/plain": [
       "XGBClassifier(base_score=0.5, booster='gbtree', callbacks=None,\n",
       "              colsample_bylevel=1, colsample_bynode=1, colsample_bytree=1,\n",
       "              early_stopping_rounds=None, enable_categorical=False,\n",
       "              eval_metric=None, gamma=0, gpu_id=-1, grow_policy='depthwise',\n",
       "              importance_type=None, interaction_constraints='',\n",
       "              learning_rate=0.300000012, max_bin=256, max_cat_to_onehot=4,\n",
       "              max_delta_step=0, max_depth=6, max_leaves=0, min_child_weight=1,\n",
       "              missing=nan, monotone_constraints='()', n_estimators=100,\n",
       "              n_jobs=0, num_parallel_tree=1, predictor='auto', random_state=0,\n",
       "              reg_alpha=0, reg_lambda=1, ...)"
      ]
     },
     "execution_count": 68,
     "metadata": {},
     "output_type": "execute_result"
    }
   ],
   "source": [
    "xgb_cl.fit(X_train, y_train)"
   ]
  },
  {
   "cell_type": "code",
   "execution_count": 69,
   "id": "f45f7ec1",
   "metadata": {},
   "outputs": [],
   "source": [
    "predictions = xgb_cl.predict(X_test)"
   ]
  },
  {
   "cell_type": "code",
   "execution_count": 70,
   "id": "80d2a68a",
   "metadata": {
    "scrolled": false
   },
   "outputs": [
    {
     "name": "stdout",
     "output_type": "stream",
     "text": [
      "Accuracy Score: 0.8823038397328882\n",
      "\n",
      "\n",
      "              precision    recall  f1-score   support\n",
      "\n",
      "           0       0.87      0.83      0.85       476\n",
      "           1       0.89      0.92      0.90       722\n",
      "\n",
      "    accuracy                           0.88      1198\n",
      "   macro avg       0.88      0.87      0.88      1198\n",
      "weighted avg       0.88      0.88      0.88      1198\n",
      "\n",
      "\n",
      "\n",
      "[[395  81]\n",
      " [ 60 662]]\n"
     ]
    }
   ],
   "source": [
    "print('Accuracy Score:',accuracy_score(y_test,predictions))\n",
    "print('\\n')\n",
    "print(classification_report(y_test,predictions))\n",
    "print('\\n')\n",
    "print(confusion_matrix(y_test,predictions))"
   ]
  },
  {
   "cell_type": "code",
   "execution_count": 71,
   "id": "340c45de",
   "metadata": {},
   "outputs": [
    {
     "data": {
      "text/plain": [
       "0.88814511232544"
      ]
     },
     "execution_count": 71,
     "metadata": {},
     "output_type": "execute_result"
    }
   ],
   "source": [
    "model = xgb.XGBClassifier()\n",
    "model.fit(X_train, y_train)\n",
    "scores = cross_val_score(model, X_train, y_train, cv=10, scoring='accuracy')\n",
    "scores.mean()"
   ]
  },
  {
   "cell_type": "markdown",
   "id": "41fa1cd7",
   "metadata": {},
   "source": [
    "### Neural Network"
   ]
  },
  {
   "cell_type": "code",
   "execution_count": 72,
   "id": "7a7038c7",
   "metadata": {},
   "outputs": [],
   "source": [
    "import tensorflow as tf\n",
    "from tensorflow.keras.models import Sequential\n",
    "from tensorflow.keras.layers import Dense, Activation, Dropout\n",
    "from tensorflow.keras.callbacks import EarlyStopping"
   ]
  },
  {
   "cell_type": "code",
   "execution_count": 73,
   "id": "694e71d8",
   "metadata": {},
   "outputs": [],
   "source": [
    "model = Sequential()\n",
    "\n",
    "# input layer\n",
    "model.add(Dense(units=36,activation='relu'))\n",
    "model.add(Dropout(0.5))\n",
    "\n",
    "# hidden layer\n",
    "model.add(Dense(units=18,activation='relu'))\n",
    "model.add(Dropout(0.5))\n",
    "\n",
    "# output layer\n",
    "model.add(Dense(units=1,activation='sigmoid'))\n",
    "\n",
    "# compiler\n",
    "model.compile(loss='binary_crossentropy', optimizer='adam')"
   ]
  },
  {
   "cell_type": "code",
   "execution_count": 74,
   "id": "018ba478",
   "metadata": {},
   "outputs": [],
   "source": [
    "early_stop = EarlyStopping(monitor='val_loss',mode='min',verbose=1,patience=25)"
   ]
  },
  {
   "cell_type": "code",
   "execution_count": 75,
   "id": "8a7cb99b",
   "metadata": {},
   "outputs": [
    {
     "name": "stdout",
     "output_type": "stream",
     "text": [
      "Epoch 1/600\n",
      "76/76 [==============================] - 1s 3ms/step - loss: 0.9969 - val_loss: 0.5551\n",
      "Epoch 2/600\n",
      "76/76 [==============================] - 0s 1ms/step - loss: 0.7157 - val_loss: 0.5292\n",
      "Epoch 3/600\n",
      "76/76 [==============================] - 0s 1ms/step - loss: 0.5785 - val_loss: 0.4513\n",
      "Epoch 4/600\n",
      "76/76 [==============================] - 0s 1ms/step - loss: 0.5245 - val_loss: 0.4235\n",
      "Epoch 5/600\n",
      "76/76 [==============================] - 0s 1ms/step - loss: 0.4879 - val_loss: 0.3993\n",
      "Epoch 6/600\n",
      "76/76 [==============================] - 0s 1ms/step - loss: 0.4687 - val_loss: 0.3922\n",
      "Epoch 7/600\n",
      "76/76 [==============================] - 0s 1ms/step - loss: 0.4588 - val_loss: 0.3729\n",
      "Epoch 8/600\n",
      "76/76 [==============================] - 0s 2ms/step - loss: 0.4215 - val_loss: 0.3608\n",
      "Epoch 9/600\n",
      "76/76 [==============================] - 0s 1ms/step - loss: 0.4269 - val_loss: 0.3622\n",
      "Epoch 10/600\n",
      "76/76 [==============================] - 0s 1ms/step - loss: 0.4037 - val_loss: 0.3526\n",
      "Epoch 11/600\n",
      "76/76 [==============================] - 0s 2ms/step - loss: 0.3863 - val_loss: 0.3447\n",
      "Epoch 12/600\n",
      "76/76 [==============================] - 0s 1ms/step - loss: 0.3915 - val_loss: 0.3363\n",
      "Epoch 13/600\n",
      "76/76 [==============================] - 0s 1ms/step - loss: 0.3837 - val_loss: 0.3390\n",
      "Epoch 14/600\n",
      "76/76 [==============================] - 0s 1ms/step - loss: 0.3968 - val_loss: 0.3319\n",
      "Epoch 15/600\n",
      "76/76 [==============================] - 0s 2ms/step - loss: 0.3833 - val_loss: 0.3317\n",
      "Epoch 16/600\n",
      "76/76 [==============================] - 0s 1ms/step - loss: 0.3674 - val_loss: 0.3279\n",
      "Epoch 17/600\n",
      "76/76 [==============================] - 0s 1ms/step - loss: 0.3685 - val_loss: 0.3275\n",
      "Epoch 18/600\n",
      "76/76 [==============================] - 0s 1ms/step - loss: 0.3783 - val_loss: 0.3295\n",
      "Epoch 19/600\n",
      "76/76 [==============================] - 0s 1ms/step - loss: 0.3510 - val_loss: 0.3227\n",
      "Epoch 20/600\n",
      "76/76 [==============================] - 0s 1ms/step - loss: 0.3662 - val_loss: 0.3226\n",
      "Epoch 21/600\n",
      "76/76 [==============================] - 0s 1ms/step - loss: 0.3574 - val_loss: 0.3236\n",
      "Epoch 22/600\n",
      "76/76 [==============================] - 0s 1ms/step - loss: 0.3512 - val_loss: 0.3197\n",
      "Epoch 23/600\n",
      "76/76 [==============================] - 0s 1ms/step - loss: 0.3548 - val_loss: 0.3169\n",
      "Epoch 24/600\n",
      "76/76 [==============================] - 0s 1ms/step - loss: 0.3412 - val_loss: 0.3187\n",
      "Epoch 25/600\n",
      "76/76 [==============================] - 0s 1ms/step - loss: 0.3460 - val_loss: 0.3203\n",
      "Epoch 26/600\n",
      "76/76 [==============================] - 0s 1ms/step - loss: 0.3391 - val_loss: 0.3197\n",
      "Epoch 27/600\n",
      "76/76 [==============================] - 0s 1ms/step - loss: 0.3349 - val_loss: 0.3130\n",
      "Epoch 28/600\n",
      "76/76 [==============================] - 0s 1ms/step - loss: 0.3402 - val_loss: 0.3188\n",
      "Epoch 29/600\n",
      "76/76 [==============================] - 0s 1ms/step - loss: 0.3474 - val_loss: 0.3149\n",
      "Epoch 30/600\n",
      "76/76 [==============================] - 0s 1ms/step - loss: 0.3414 - val_loss: 0.3152\n",
      "Epoch 31/600\n",
      "76/76 [==============================] - 0s 1ms/step - loss: 0.3194 - val_loss: 0.3088\n",
      "Epoch 32/600\n",
      "76/76 [==============================] - 0s 1ms/step - loss: 0.3399 - val_loss: 0.3116\n",
      "Epoch 33/600\n",
      "76/76 [==============================] - 0s 1ms/step - loss: 0.3222 - val_loss: 0.3125\n",
      "Epoch 34/600\n",
      "76/76 [==============================] - 0s 1ms/step - loss: 0.3351 - val_loss: 0.3149\n",
      "Epoch 35/600\n",
      "76/76 [==============================] - 0s 1ms/step - loss: 0.3340 - val_loss: 0.3155\n",
      "Epoch 36/600\n",
      "76/76 [==============================] - 0s 1ms/step - loss: 0.3224 - val_loss: 0.3153\n",
      "Epoch 37/600\n",
      "76/76 [==============================] - 0s 2ms/step - loss: 0.3278 - val_loss: 0.3121\n",
      "Epoch 38/600\n",
      "76/76 [==============================] - 0s 2ms/step - loss: 0.3208 - val_loss: 0.3090\n",
      "Epoch 39/600\n",
      "76/76 [==============================] - 0s 2ms/step - loss: 0.3152 - val_loss: 0.3061\n",
      "Epoch 40/600\n",
      "76/76 [==============================] - 0s 1ms/step - loss: 0.3356 - val_loss: 0.3083\n",
      "Epoch 41/600\n",
      "76/76 [==============================] - 0s 1ms/step - loss: 0.3184 - val_loss: 0.3060\n",
      "Epoch 42/600\n",
      "76/76 [==============================] - 0s 1ms/step - loss: 0.3319 - val_loss: 0.3060\n",
      "Epoch 43/600\n",
      "76/76 [==============================] - 0s 1ms/step - loss: 0.3270 - val_loss: 0.3063\n",
      "Epoch 44/600\n",
      "76/76 [==============================] - 0s 1ms/step - loss: 0.3190 - val_loss: 0.3068\n",
      "Epoch 45/600\n",
      "76/76 [==============================] - 0s 1ms/step - loss: 0.3314 - val_loss: 0.3055\n",
      "Epoch 46/600\n",
      "76/76 [==============================] - 0s 1ms/step - loss: 0.3239 - val_loss: 0.3062\n",
      "Epoch 47/600\n",
      "76/76 [==============================] - 0s 1ms/step - loss: 0.3074 - val_loss: 0.3089\n",
      "Epoch 48/600\n",
      "76/76 [==============================] - 0s 1ms/step - loss: 0.3191 - val_loss: 0.3039\n",
      "Epoch 49/600\n",
      "76/76 [==============================] - 0s 1ms/step - loss: 0.3161 - val_loss: 0.3041\n",
      "Epoch 50/600\n",
      "76/76 [==============================] - 0s 1ms/step - loss: 0.3252 - val_loss: 0.3017\n",
      "Epoch 51/600\n",
      "76/76 [==============================] - 0s 1ms/step - loss: 0.3216 - val_loss: 0.3054\n",
      "Epoch 52/600\n",
      "76/76 [==============================] - 0s 1ms/step - loss: 0.3192 - val_loss: 0.3003\n",
      "Epoch 53/600\n",
      "76/76 [==============================] - 0s 1ms/step - loss: 0.3269 - val_loss: 0.3052\n",
      "Epoch 54/600\n",
      "76/76 [==============================] - 0s 1ms/step - loss: 0.3166 - val_loss: 0.3018\n",
      "Epoch 55/600\n",
      "76/76 [==============================] - 0s 1ms/step - loss: 0.3157 - val_loss: 0.3048\n",
      "Epoch 56/600\n",
      "76/76 [==============================] - 0s 1ms/step - loss: 0.3226 - val_loss: 0.3045\n",
      "Epoch 57/600\n",
      "76/76 [==============================] - 0s 1ms/step - loss: 0.3256 - val_loss: 0.3001\n",
      "Epoch 58/600\n",
      "76/76 [==============================] - 0s 1ms/step - loss: 0.3147 - val_loss: 0.3053\n",
      "Epoch 59/600\n",
      "76/76 [==============================] - 0s 1ms/step - loss: 0.3073 - val_loss: 0.3113\n",
      "Epoch 60/600\n",
      "76/76 [==============================] - 0s 1ms/step - loss: 0.3032 - val_loss: 0.3065\n",
      "Epoch 61/600\n",
      "76/76 [==============================] - 0s 1ms/step - loss: 0.3152 - val_loss: 0.3023\n",
      "Epoch 62/600\n",
      "76/76 [==============================] - 0s 1ms/step - loss: 0.3187 - val_loss: 0.2988\n",
      "Epoch 63/600\n",
      "76/76 [==============================] - 0s 1ms/step - loss: 0.3145 - val_loss: 0.2996\n",
      "Epoch 64/600\n",
      "76/76 [==============================] - 0s 1ms/step - loss: 0.3107 - val_loss: 0.3013\n",
      "Epoch 65/600\n",
      "76/76 [==============================] - 0s 1ms/step - loss: 0.3112 - val_loss: 0.3078\n",
      "Epoch 66/600\n",
      "76/76 [==============================] - 0s 1ms/step - loss: 0.3087 - val_loss: 0.3033\n",
      "Epoch 67/600\n",
      "76/76 [==============================] - 0s 1ms/step - loss: 0.3145 - val_loss: 0.2986\n",
      "Epoch 68/600\n",
      "76/76 [==============================] - 0s 1ms/step - loss: 0.3148 - val_loss: 0.2999\n",
      "Epoch 69/600\n",
      "76/76 [==============================] - 0s 1ms/step - loss: 0.3023 - val_loss: 0.2997\n",
      "Epoch 70/600\n",
      "76/76 [==============================] - 0s 1ms/step - loss: 0.3075 - val_loss: 0.3034\n",
      "Epoch 71/600\n",
      "76/76 [==============================] - 0s 1ms/step - loss: 0.3097 - val_loss: 0.2974\n",
      "Epoch 72/600\n",
      "76/76 [==============================] - 0s 1ms/step - loss: 0.3051 - val_loss: 0.3006\n",
      "Epoch 73/600\n",
      "76/76 [==============================] - 0s 1ms/step - loss: 0.3102 - val_loss: 0.3020\n",
      "Epoch 74/600\n",
      "76/76 [==============================] - 0s 1ms/step - loss: 0.3036 - val_loss: 0.3033\n",
      "Epoch 75/600\n",
      "76/76 [==============================] - 0s 1ms/step - loss: 0.3087 - val_loss: 0.3018\n",
      "Epoch 76/600\n",
      "76/76 [==============================] - 0s 1ms/step - loss: 0.3070 - val_loss: 0.3025\n",
      "Epoch 77/600\n",
      "76/76 [==============================] - 0s 1ms/step - loss: 0.3061 - val_loss: 0.3011\n",
      "Epoch 78/600\n",
      "76/76 [==============================] - 0s 1ms/step - loss: 0.3064 - val_loss: 0.2978\n",
      "Epoch 79/600\n",
      "76/76 [==============================] - 0s 1ms/step - loss: 0.3058 - val_loss: 0.2995\n",
      "Epoch 80/600\n",
      "76/76 [==============================] - 0s 1ms/step - loss: 0.3062 - val_loss: 0.2976\n",
      "Epoch 81/600\n",
      "76/76 [==============================] - 0s 1ms/step - loss: 0.3025 - val_loss: 0.3025\n",
      "Epoch 82/600\n",
      "76/76 [==============================] - 0s 1ms/step - loss: 0.3057 - val_loss: 0.2972\n",
      "Epoch 83/600\n"
     ]
    },
    {
     "name": "stdout",
     "output_type": "stream",
     "text": [
      "76/76 [==============================] - 0s 1ms/step - loss: 0.3160 - val_loss: 0.2999\n",
      "Epoch 84/600\n",
      "76/76 [==============================] - 0s 1ms/step - loss: 0.3002 - val_loss: 0.3044\n",
      "Epoch 85/600\n",
      "76/76 [==============================] - 0s 1ms/step - loss: 0.3087 - val_loss: 0.3021\n",
      "Epoch 86/600\n",
      "76/76 [==============================] - 0s 1ms/step - loss: 0.3060 - val_loss: 0.3004\n",
      "Epoch 87/600\n",
      "76/76 [==============================] - 0s 1ms/step - loss: 0.3109 - val_loss: 0.2996\n",
      "Epoch 88/600\n",
      "76/76 [==============================] - 0s 1ms/step - loss: 0.3097 - val_loss: 0.2978\n",
      "Epoch 89/600\n",
      "76/76 [==============================] - 0s 1ms/step - loss: 0.3045 - val_loss: 0.2978\n",
      "Epoch 90/600\n",
      "76/76 [==============================] - 0s 1ms/step - loss: 0.3062 - val_loss: 0.3008\n",
      "Epoch 91/600\n",
      "76/76 [==============================] - 0s 1ms/step - loss: 0.3047 - val_loss: 0.2993\n",
      "Epoch 92/600\n",
      "76/76 [==============================] - 0s 1ms/step - loss: 0.3099 - val_loss: 0.2985\n",
      "Epoch 93/600\n",
      "76/76 [==============================] - 0s 1ms/step - loss: 0.3041 - val_loss: 0.2984\n",
      "Epoch 94/600\n",
      "76/76 [==============================] - 0s 1ms/step - loss: 0.3049 - val_loss: 0.2977\n",
      "Epoch 95/600\n",
      "76/76 [==============================] - 0s 1ms/step - loss: 0.3066 - val_loss: 0.2968\n",
      "Epoch 96/600\n",
      "76/76 [==============================] - 0s 1ms/step - loss: 0.2988 - val_loss: 0.3006\n",
      "Epoch 97/600\n",
      "76/76 [==============================] - 0s 1ms/step - loss: 0.3060 - val_loss: 0.2986\n",
      "Epoch 98/600\n",
      "76/76 [==============================] - 0s 1ms/step - loss: 0.3047 - val_loss: 0.2952\n",
      "Epoch 99/600\n",
      "76/76 [==============================] - 0s 1ms/step - loss: 0.3148 - val_loss: 0.2977\n",
      "Epoch 100/600\n",
      "76/76 [==============================] - 0s 1ms/step - loss: 0.3083 - val_loss: 0.3005\n",
      "Epoch 101/600\n",
      "76/76 [==============================] - 0s 1ms/step - loss: 0.3060 - val_loss: 0.2979\n",
      "Epoch 102/600\n",
      "76/76 [==============================] - 0s 1ms/step - loss: 0.3030 - val_loss: 0.2979\n",
      "Epoch 103/600\n",
      "76/76 [==============================] - 0s 1ms/step - loss: 0.2969 - val_loss: 0.2949\n",
      "Epoch 104/600\n",
      "76/76 [==============================] - 0s 1ms/step - loss: 0.2972 - val_loss: 0.2974\n",
      "Epoch 105/600\n",
      "76/76 [==============================] - 0s 1ms/step - loss: 0.3022 - val_loss: 0.2972\n",
      "Epoch 106/600\n",
      "76/76 [==============================] - 0s 1ms/step - loss: 0.3078 - val_loss: 0.3017\n",
      "Epoch 107/600\n",
      "76/76 [==============================] - 0s 1ms/step - loss: 0.2950 - val_loss: 0.3042\n",
      "Epoch 108/600\n",
      "76/76 [==============================] - 0s 1ms/step - loss: 0.2988 - val_loss: 0.2973\n",
      "Epoch 109/600\n",
      "76/76 [==============================] - 0s 1ms/step - loss: 0.2996 - val_loss: 0.2949\n",
      "Epoch 110/600\n",
      "76/76 [==============================] - 0s 1ms/step - loss: 0.3044 - val_loss: 0.3017\n",
      "Epoch 111/600\n",
      "76/76 [==============================] - 0s 1ms/step - loss: 0.3070 - val_loss: 0.2969\n",
      "Epoch 112/600\n",
      "76/76 [==============================] - 0s 1ms/step - loss: 0.2926 - val_loss: 0.2967\n",
      "Epoch 113/600\n",
      "76/76 [==============================] - 0s 1ms/step - loss: 0.2984 - val_loss: 0.2973\n",
      "Epoch 114/600\n",
      "76/76 [==============================] - 0s 1ms/step - loss: 0.3081 - val_loss: 0.2977\n",
      "Epoch 115/600\n",
      "76/76 [==============================] - 0s 1ms/step - loss: 0.3025 - val_loss: 0.3005\n",
      "Epoch 116/600\n",
      "76/76 [==============================] - 0s 1ms/step - loss: 0.2930 - val_loss: 0.3000\n",
      "Epoch 117/600\n",
      "76/76 [==============================] - 0s 1ms/step - loss: 0.3060 - val_loss: 0.3005\n",
      "Epoch 118/600\n",
      "76/76 [==============================] - 0s 1ms/step - loss: 0.3065 - val_loss: 0.2922\n",
      "Epoch 119/600\n",
      "76/76 [==============================] - 0s 1ms/step - loss: 0.2966 - val_loss: 0.2941\n",
      "Epoch 120/600\n",
      "76/76 [==============================] - 0s 1ms/step - loss: 0.3040 - val_loss: 0.2961\n",
      "Epoch 121/600\n",
      "76/76 [==============================] - 0s 1ms/step - loss: 0.2982 - val_loss: 0.2973\n",
      "Epoch 122/600\n",
      "76/76 [==============================] - 0s 1ms/step - loss: 0.3004 - val_loss: 0.2959\n",
      "Epoch 123/600\n",
      "76/76 [==============================] - 0s 1ms/step - loss: 0.3100 - val_loss: 0.2990\n",
      "Epoch 124/600\n",
      "76/76 [==============================] - 0s 1ms/step - loss: 0.3023 - val_loss: 0.3003\n",
      "Epoch 125/600\n",
      "76/76 [==============================] - 0s 1ms/step - loss: 0.2979 - val_loss: 0.3039\n",
      "Epoch 126/600\n",
      "76/76 [==============================] - 0s 1ms/step - loss: 0.3009 - val_loss: 0.2983\n",
      "Epoch 127/600\n",
      "76/76 [==============================] - 0s 1ms/step - loss: 0.2896 - val_loss: 0.2969\n",
      "Epoch 128/600\n",
      "76/76 [==============================] - 0s 1ms/step - loss: 0.2907 - val_loss: 0.3000\n",
      "Epoch 129/600\n",
      "76/76 [==============================] - 0s 1ms/step - loss: 0.2955 - val_loss: 0.3000\n",
      "Epoch 130/600\n",
      "76/76 [==============================] - 0s 1ms/step - loss: 0.2961 - val_loss: 0.3033\n",
      "Epoch 131/600\n",
      "76/76 [==============================] - 0s 1ms/step - loss: 0.3092 - val_loss: 0.2953\n",
      "Epoch 132/600\n",
      "76/76 [==============================] - 0s 1ms/step - loss: 0.3011 - val_loss: 0.2970\n",
      "Epoch 133/600\n",
      "76/76 [==============================] - 0s 1ms/step - loss: 0.2919 - val_loss: 0.2999\n",
      "Epoch 134/600\n",
      "76/76 [==============================] - 0s 1ms/step - loss: 0.2971 - val_loss: 0.3034\n",
      "Epoch 135/600\n",
      "76/76 [==============================] - 0s 1ms/step - loss: 0.2968 - val_loss: 0.3044\n",
      "Epoch 136/600\n",
      "76/76 [==============================] - 0s 1ms/step - loss: 0.2964 - val_loss: 0.2964\n",
      "Epoch 137/600\n",
      "76/76 [==============================] - 0s 1ms/step - loss: 0.2957 - val_loss: 0.2961\n",
      "Epoch 138/600\n",
      "76/76 [==============================] - 0s 1ms/step - loss: 0.3013 - val_loss: 0.2966\n",
      "Epoch 139/600\n",
      "76/76 [==============================] - 0s 1ms/step - loss: 0.3006 - val_loss: 0.2979\n",
      "Epoch 140/600\n",
      "76/76 [==============================] - 0s 1ms/step - loss: 0.2997 - val_loss: 0.2936\n",
      "Epoch 141/600\n",
      "76/76 [==============================] - 0s 1ms/step - loss: 0.3020 - val_loss: 0.2998\n",
      "Epoch 142/600\n",
      "76/76 [==============================] - 0s 1ms/step - loss: 0.2995 - val_loss: 0.2985\n",
      "Epoch 143/600\n",
      "76/76 [==============================] - 0s 1ms/step - loss: 0.2999 - val_loss: 0.2981\n",
      "Epoch 143: early stopping\n"
     ]
    },
    {
     "data": {
      "text/plain": [
       "<keras.callbacks.History at 0x231ffec8e50>"
      ]
     },
     "execution_count": 75,
     "metadata": {},
     "output_type": "execute_result"
    }
   ],
   "source": [
    "model.fit(x=X_train,y=y_train,epochs=600,validation_data=(X_test,y_test),callbacks=[early_stop])"
   ]
  },
  {
   "cell_type": "code",
   "execution_count": 76,
   "id": "3b85400b",
   "metadata": {},
   "outputs": [
    {
     "data": {
      "text/plain": [
       "<AxesSubplot:>"
      ]
     },
     "execution_count": 76,
     "metadata": {},
     "output_type": "execute_result"
    },
    {
     "data": {
      "image/png": "[encoded data removed]",
      "text/plain": [
       "<Figure size 432x288 with 1 Axes>"
      ]
     },
     "metadata": {
      "needs_background": "light"
     },
     "output_type": "display_data"
    }
   ],
   "source": [
    "losses = pd.DataFrame(model.history.history)\n",
    "losses.plot()"
   ]
  },
  {
   "cell_type": "code",
   "execution_count": 77,
   "id": "48e9c6c8",
   "metadata": {},
   "outputs": [],
   "source": [
    "predictions = (model.predict(X_test) > 0.5).astype(\"int32\")"
   ]
  },
  {
   "cell_type": "code",
   "execution_count": 78,
   "id": "35bd4dda",
   "metadata": {},
   "outputs": [
    {
     "name": "stdout",
     "output_type": "stream",
     "text": [
      "Accuracy Score: 0.8889816360601002\n",
      "\n",
      "\n",
      "              precision    recall  f1-score   support\n",
      "\n",
      "           0       0.90      0.81      0.85       476\n",
      "           1       0.88      0.94      0.91       722\n",
      "\n",
      "    accuracy                           0.89      1198\n",
      "   macro avg       0.89      0.87      0.88      1198\n",
      "weighted avg       0.89      0.89      0.89      1198\n",
      "\n",
      "\n",
      "\n",
      "[[384  92]\n",
      " [ 41 681]]\n"
     ]
    }
   ],
   "source": [
    "print('Accuracy Score:',accuracy_score(y_test,predictions))\n",
    "print('\\n')\n",
    "print(classification_report(y_test,predictions))\n",
    "print('\\n')\n",
    "print(confusion_matrix(y_test,predictions))"
   ]
  }
 ],
 "metadata": {
  "kernelspec": {
   "display_name": "Python 3",
   "language": "python",
   "name": "python3"
  },
  "language_info": {
   "codemirror_mode": {
    "name": "ipython",
    "version": 3
   },
   "file_extension": ".py",
   "mimetype": "text/x-python",
   "name": "python",
   "nbconvert_exporter": "python",
   "pygments_lexer": "ipython3",
   "version": "3.8.8"
  }
 },
 "nbformat": 4,
 "nbformat_minor": 5
}
