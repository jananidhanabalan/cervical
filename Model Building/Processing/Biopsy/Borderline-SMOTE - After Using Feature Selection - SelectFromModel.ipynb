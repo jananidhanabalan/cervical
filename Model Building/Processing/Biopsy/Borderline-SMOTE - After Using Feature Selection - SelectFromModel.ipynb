{
 "cells": [
  {
   "cell_type": "code",
   "execution_count": 1,
   "id": "b8fd1173",
   "metadata": {},
   "outputs": [],
   "source": [
    "import pandas as pd\n",
    "import numpy as np\n",
    "import matplotlib.pyplot as plt\n",
    "import seaborn as sns\n",
    "%matplotlib inline"
   ]
  },
  {
   "cell_type": "code",
   "execution_count": 2,
   "id": "d8c79192",
   "metadata": {},
   "outputs": [],
   "source": [
    "df = pd.read_csv(\"Clean Data_2.csv\")"
   ]
  },
  {
   "cell_type": "code",
   "execution_count": 3,
   "id": "4c1d15e0",
   "metadata": {},
   "outputs": [
    {
     "data": {
      "text/html": [
       "<div>\n",
       "<style scoped>\n",
       "    .dataframe tbody tr th:only-of-type {\n",
       "        vertical-align: middle;\n",
       "    }\n",
       "\n",
       "    .dataframe tbody tr th {\n",
       "        vertical-align: top;\n",
       "    }\n",
       "\n",
       "    .dataframe thead th {\n",
       "        text-align: right;\n",
       "    }\n",
       "</style>\n",
       "<table border=\"1\" class=\"dataframe\">\n",
       "  <thead>\n",
       "    <tr style=\"text-align: right;\">\n",
       "      <th></th>\n",
       "      <th>Unnamed: 0</th>\n",
       "      <th>Age</th>\n",
       "      <th>Number of sexual partners</th>\n",
       "      <th>First sexual intercourse</th>\n",
       "      <th>Num of pregnancies</th>\n",
       "      <th>Smokes</th>\n",
       "      <th>Smokes (years)</th>\n",
       "      <th>Smokes (packs/year)</th>\n",
       "      <th>Hormonal Contraceptives</th>\n",
       "      <th>Hormonal Contraceptives (years)</th>\n",
       "      <th>...</th>\n",
       "      <th>STDs:HIV</th>\n",
       "      <th>STDs: Number of diagnosis</th>\n",
       "      <th>Dx:Cancer</th>\n",
       "      <th>Dx:CIN</th>\n",
       "      <th>Dx:HPV</th>\n",
       "      <th>Dx</th>\n",
       "      <th>Hinselmann</th>\n",
       "      <th>Schiller</th>\n",
       "      <th>Citology</th>\n",
       "      <th>Biopsy</th>\n",
       "    </tr>\n",
       "  </thead>\n",
       "  <tbody>\n",
       "    <tr>\n",
       "      <th>0</th>\n",
       "      <td>0</td>\n",
       "      <td>18</td>\n",
       "      <td>4.0</td>\n",
       "      <td>15.0</td>\n",
       "      <td>1.0</td>\n",
       "      <td>0.0</td>\n",
       "      <td>0.0</td>\n",
       "      <td>0.0</td>\n",
       "      <td>0.0</td>\n",
       "      <td>0.00</td>\n",
       "      <td>...</td>\n",
       "      <td>0.0</td>\n",
       "      <td>0</td>\n",
       "      <td>0</td>\n",
       "      <td>0</td>\n",
       "      <td>0</td>\n",
       "      <td>0</td>\n",
       "      <td>0</td>\n",
       "      <td>0</td>\n",
       "      <td>0</td>\n",
       "      <td>0</td>\n",
       "    </tr>\n",
       "    <tr>\n",
       "      <th>1</th>\n",
       "      <td>1</td>\n",
       "      <td>15</td>\n",
       "      <td>1.0</td>\n",
       "      <td>14.0</td>\n",
       "      <td>1.0</td>\n",
       "      <td>0.0</td>\n",
       "      <td>0.0</td>\n",
       "      <td>0.0</td>\n",
       "      <td>0.0</td>\n",
       "      <td>0.00</td>\n",
       "      <td>...</td>\n",
       "      <td>0.0</td>\n",
       "      <td>0</td>\n",
       "      <td>0</td>\n",
       "      <td>0</td>\n",
       "      <td>0</td>\n",
       "      <td>0</td>\n",
       "      <td>0</td>\n",
       "      <td>0</td>\n",
       "      <td>0</td>\n",
       "      <td>0</td>\n",
       "    </tr>\n",
       "    <tr>\n",
       "      <th>2</th>\n",
       "      <td>2</td>\n",
       "      <td>34</td>\n",
       "      <td>1.0</td>\n",
       "      <td>17.0</td>\n",
       "      <td>1.0</td>\n",
       "      <td>0.0</td>\n",
       "      <td>0.0</td>\n",
       "      <td>0.0</td>\n",
       "      <td>0.0</td>\n",
       "      <td>0.00</td>\n",
       "      <td>...</td>\n",
       "      <td>0.0</td>\n",
       "      <td>0</td>\n",
       "      <td>0</td>\n",
       "      <td>0</td>\n",
       "      <td>0</td>\n",
       "      <td>0</td>\n",
       "      <td>0</td>\n",
       "      <td>0</td>\n",
       "      <td>0</td>\n",
       "      <td>0</td>\n",
       "    </tr>\n",
       "    <tr>\n",
       "      <th>3</th>\n",
       "      <td>3</td>\n",
       "      <td>52</td>\n",
       "      <td>5.0</td>\n",
       "      <td>16.0</td>\n",
       "      <td>4.0</td>\n",
       "      <td>1.0</td>\n",
       "      <td>37.0</td>\n",
       "      <td>37.0</td>\n",
       "      <td>1.0</td>\n",
       "      <td>3.00</td>\n",
       "      <td>...</td>\n",
       "      <td>0.0</td>\n",
       "      <td>0</td>\n",
       "      <td>1</td>\n",
       "      <td>0</td>\n",
       "      <td>1</td>\n",
       "      <td>0</td>\n",
       "      <td>0</td>\n",
       "      <td>0</td>\n",
       "      <td>0</td>\n",
       "      <td>0</td>\n",
       "    </tr>\n",
       "    <tr>\n",
       "      <th>4</th>\n",
       "      <td>4</td>\n",
       "      <td>46</td>\n",
       "      <td>3.0</td>\n",
       "      <td>21.0</td>\n",
       "      <td>4.0</td>\n",
       "      <td>0.0</td>\n",
       "      <td>0.0</td>\n",
       "      <td>0.0</td>\n",
       "      <td>1.0</td>\n",
       "      <td>15.00</td>\n",
       "      <td>...</td>\n",
       "      <td>0.0</td>\n",
       "      <td>0</td>\n",
       "      <td>0</td>\n",
       "      <td>0</td>\n",
       "      <td>0</td>\n",
       "      <td>0</td>\n",
       "      <td>0</td>\n",
       "      <td>0</td>\n",
       "      <td>0</td>\n",
       "      <td>0</td>\n",
       "    </tr>\n",
       "    <tr>\n",
       "      <th>...</th>\n",
       "      <td>...</td>\n",
       "      <td>...</td>\n",
       "      <td>...</td>\n",
       "      <td>...</td>\n",
       "      <td>...</td>\n",
       "      <td>...</td>\n",
       "      <td>...</td>\n",
       "      <td>...</td>\n",
       "      <td>...</td>\n",
       "      <td>...</td>\n",
       "      <td>...</td>\n",
       "      <td>...</td>\n",
       "      <td>...</td>\n",
       "      <td>...</td>\n",
       "      <td>...</td>\n",
       "      <td>...</td>\n",
       "      <td>...</td>\n",
       "      <td>...</td>\n",
       "      <td>...</td>\n",
       "      <td>...</td>\n",
       "      <td>...</td>\n",
       "    </tr>\n",
       "    <tr>\n",
       "      <th>851</th>\n",
       "      <td>851</td>\n",
       "      <td>34</td>\n",
       "      <td>3.0</td>\n",
       "      <td>18.0</td>\n",
       "      <td>0.0</td>\n",
       "      <td>0.0</td>\n",
       "      <td>0.0</td>\n",
       "      <td>0.0</td>\n",
       "      <td>0.0</td>\n",
       "      <td>0.00</td>\n",
       "      <td>...</td>\n",
       "      <td>0.0</td>\n",
       "      <td>0</td>\n",
       "      <td>0</td>\n",
       "      <td>0</td>\n",
       "      <td>0</td>\n",
       "      <td>0</td>\n",
       "      <td>0</td>\n",
       "      <td>0</td>\n",
       "      <td>0</td>\n",
       "      <td>0</td>\n",
       "    </tr>\n",
       "    <tr>\n",
       "      <th>852</th>\n",
       "      <td>852</td>\n",
       "      <td>32</td>\n",
       "      <td>2.0</td>\n",
       "      <td>19.0</td>\n",
       "      <td>1.0</td>\n",
       "      <td>0.0</td>\n",
       "      <td>0.0</td>\n",
       "      <td>0.0</td>\n",
       "      <td>1.0</td>\n",
       "      <td>8.00</td>\n",
       "      <td>...</td>\n",
       "      <td>0.0</td>\n",
       "      <td>0</td>\n",
       "      <td>0</td>\n",
       "      <td>0</td>\n",
       "      <td>0</td>\n",
       "      <td>0</td>\n",
       "      <td>0</td>\n",
       "      <td>0</td>\n",
       "      <td>0</td>\n",
       "      <td>0</td>\n",
       "    </tr>\n",
       "    <tr>\n",
       "      <th>853</th>\n",
       "      <td>853</td>\n",
       "      <td>25</td>\n",
       "      <td>2.0</td>\n",
       "      <td>17.0</td>\n",
       "      <td>0.0</td>\n",
       "      <td>0.0</td>\n",
       "      <td>0.0</td>\n",
       "      <td>0.0</td>\n",
       "      <td>1.0</td>\n",
       "      <td>0.08</td>\n",
       "      <td>...</td>\n",
       "      <td>0.0</td>\n",
       "      <td>0</td>\n",
       "      <td>0</td>\n",
       "      <td>0</td>\n",
       "      <td>0</td>\n",
       "      <td>0</td>\n",
       "      <td>0</td>\n",
       "      <td>0</td>\n",
       "      <td>1</td>\n",
       "      <td>0</td>\n",
       "    </tr>\n",
       "    <tr>\n",
       "      <th>854</th>\n",
       "      <td>854</td>\n",
       "      <td>33</td>\n",
       "      <td>2.0</td>\n",
       "      <td>24.0</td>\n",
       "      <td>2.0</td>\n",
       "      <td>0.0</td>\n",
       "      <td>0.0</td>\n",
       "      <td>0.0</td>\n",
       "      <td>1.0</td>\n",
       "      <td>0.08</td>\n",
       "      <td>...</td>\n",
       "      <td>0.0</td>\n",
       "      <td>0</td>\n",
       "      <td>0</td>\n",
       "      <td>0</td>\n",
       "      <td>0</td>\n",
       "      <td>0</td>\n",
       "      <td>0</td>\n",
       "      <td>0</td>\n",
       "      <td>0</td>\n",
       "      <td>0</td>\n",
       "    </tr>\n",
       "    <tr>\n",
       "      <th>855</th>\n",
       "      <td>855</td>\n",
       "      <td>29</td>\n",
       "      <td>2.0</td>\n",
       "      <td>20.0</td>\n",
       "      <td>1.0</td>\n",
       "      <td>0.0</td>\n",
       "      <td>0.0</td>\n",
       "      <td>0.0</td>\n",
       "      <td>1.0</td>\n",
       "      <td>0.50</td>\n",
       "      <td>...</td>\n",
       "      <td>0.0</td>\n",
       "      <td>0</td>\n",
       "      <td>0</td>\n",
       "      <td>0</td>\n",
       "      <td>0</td>\n",
       "      <td>0</td>\n",
       "      <td>0</td>\n",
       "      <td>0</td>\n",
       "      <td>0</td>\n",
       "      <td>0</td>\n",
       "    </tr>\n",
       "  </tbody>\n",
       "</table>\n",
       "<p>856 rows × 26 columns</p>\n",
       "</div>"
      ],
      "text/plain": [
       "     Unnamed: 0  Age  Number of sexual partners  First sexual intercourse  \\\n",
       "0             0   18                        4.0                      15.0   \n",
       "1             1   15                        1.0                      14.0   \n",
       "2             2   34                        1.0                      17.0   \n",
       "3             3   52                        5.0                      16.0   \n",
       "4             4   46                        3.0                      21.0   \n",
       "..          ...  ...                        ...                       ...   \n",
       "851         851   34                        3.0                      18.0   \n",
       "852         852   32                        2.0                      19.0   \n",
       "853         853   25                        2.0                      17.0   \n",
       "854         854   33                        2.0                      24.0   \n",
       "855         855   29                        2.0                      20.0   \n",
       "\n",
       "     Num of pregnancies  Smokes  Smokes (years)  Smokes (packs/year)  \\\n",
       "0                   1.0     0.0             0.0                  0.0   \n",
       "1                   1.0     0.0             0.0                  0.0   \n",
       "2                   1.0     0.0             0.0                  0.0   \n",
       "3                   4.0     1.0            37.0                 37.0   \n",
       "4                   4.0     0.0             0.0                  0.0   \n",
       "..                  ...     ...             ...                  ...   \n",
       "851                 0.0     0.0             0.0                  0.0   \n",
       "852                 1.0     0.0             0.0                  0.0   \n",
       "853                 0.0     0.0             0.0                  0.0   \n",
       "854                 2.0     0.0             0.0                  0.0   \n",
       "855                 1.0     0.0             0.0                  0.0   \n",
       "\n",
       "     Hormonal Contraceptives  Hormonal Contraceptives (years)  ...  STDs:HIV  \\\n",
       "0                        0.0                             0.00  ...       0.0   \n",
       "1                        0.0                             0.00  ...       0.0   \n",
       "2                        0.0                             0.00  ...       0.0   \n",
       "3                        1.0                             3.00  ...       0.0   \n",
       "4                        1.0                            15.00  ...       0.0   \n",
       "..                       ...                              ...  ...       ...   \n",
       "851                      0.0                             0.00  ...       0.0   \n",
       "852                      1.0                             8.00  ...       0.0   \n",
       "853                      1.0                             0.08  ...       0.0   \n",
       "854                      1.0                             0.08  ...       0.0   \n",
       "855                      1.0                             0.50  ...       0.0   \n",
       "\n",
       "     STDs: Number of diagnosis  Dx:Cancer  Dx:CIN  Dx:HPV  Dx  Hinselmann  \\\n",
       "0                            0          0       0       0   0           0   \n",
       "1                            0          0       0       0   0           0   \n",
       "2                            0          0       0       0   0           0   \n",
       "3                            0          1       0       1   0           0   \n",
       "4                            0          0       0       0   0           0   \n",
       "..                         ...        ...     ...     ...  ..         ...   \n",
       "851                          0          0       0       0   0           0   \n",
       "852                          0          0       0       0   0           0   \n",
       "853                          0          0       0       0   0           0   \n",
       "854                          0          0       0       0   0           0   \n",
       "855                          0          0       0       0   0           0   \n",
       "\n",
       "     Schiller  Citology  Biopsy  \n",
       "0           0         0       0  \n",
       "1           0         0       0  \n",
       "2           0         0       0  \n",
       "3           0         0       0  \n",
       "4           0         0       0  \n",
       "..        ...       ...     ...  \n",
       "851         0         0       0  \n",
       "852         0         0       0  \n",
       "853         0         1       0  \n",
       "854         0         0       0  \n",
       "855         0         0       0  \n",
       "\n",
       "[856 rows x 26 columns]"
      ]
     },
     "execution_count": 3,
     "metadata": {},
     "output_type": "execute_result"
    }
   ],
   "source": [
    "df"
   ]
  },
  {
   "cell_type": "code",
   "execution_count": 4,
   "id": "90e204b0",
   "metadata": {},
   "outputs": [],
   "source": [
    "df.drop('Unnamed: 0',inplace=True,axis=1)"
   ]
  },
  {
   "cell_type": "code",
   "execution_count": 5,
   "id": "f5e1a473",
   "metadata": {},
   "outputs": [
    {
     "data": {
      "text/html": [
       "<div>\n",
       "<style scoped>\n",
       "    .dataframe tbody tr th:only-of-type {\n",
       "        vertical-align: middle;\n",
       "    }\n",
       "\n",
       "    .dataframe tbody tr th {\n",
       "        vertical-align: top;\n",
       "    }\n",
       "\n",
       "    .dataframe thead th {\n",
       "        text-align: right;\n",
       "    }\n",
       "</style>\n",
       "<table border=\"1\" class=\"dataframe\">\n",
       "  <thead>\n",
       "    <tr style=\"text-align: right;\">\n",
       "      <th></th>\n",
       "      <th>Age</th>\n",
       "      <th>Number of sexual partners</th>\n",
       "      <th>First sexual intercourse</th>\n",
       "      <th>Num of pregnancies</th>\n",
       "      <th>Smokes</th>\n",
       "      <th>Smokes (years)</th>\n",
       "      <th>Smokes (packs/year)</th>\n",
       "      <th>Hormonal Contraceptives</th>\n",
       "      <th>Hormonal Contraceptives (years)</th>\n",
       "      <th>IUD</th>\n",
       "      <th>...</th>\n",
       "      <th>STDs:HIV</th>\n",
       "      <th>STDs: Number of diagnosis</th>\n",
       "      <th>Dx:Cancer</th>\n",
       "      <th>Dx:CIN</th>\n",
       "      <th>Dx:HPV</th>\n",
       "      <th>Dx</th>\n",
       "      <th>Hinselmann</th>\n",
       "      <th>Schiller</th>\n",
       "      <th>Citology</th>\n",
       "      <th>Biopsy</th>\n",
       "    </tr>\n",
       "  </thead>\n",
       "  <tbody>\n",
       "    <tr>\n",
       "      <th>0</th>\n",
       "      <td>18</td>\n",
       "      <td>4.0</td>\n",
       "      <td>15.0</td>\n",
       "      <td>1.0</td>\n",
       "      <td>0.0</td>\n",
       "      <td>0.0</td>\n",
       "      <td>0.0</td>\n",
       "      <td>0.0</td>\n",
       "      <td>0.00</td>\n",
       "      <td>0.0</td>\n",
       "      <td>...</td>\n",
       "      <td>0.0</td>\n",
       "      <td>0</td>\n",
       "      <td>0</td>\n",
       "      <td>0</td>\n",
       "      <td>0</td>\n",
       "      <td>0</td>\n",
       "      <td>0</td>\n",
       "      <td>0</td>\n",
       "      <td>0</td>\n",
       "      <td>0</td>\n",
       "    </tr>\n",
       "    <tr>\n",
       "      <th>1</th>\n",
       "      <td>15</td>\n",
       "      <td>1.0</td>\n",
       "      <td>14.0</td>\n",
       "      <td>1.0</td>\n",
       "      <td>0.0</td>\n",
       "      <td>0.0</td>\n",
       "      <td>0.0</td>\n",
       "      <td>0.0</td>\n",
       "      <td>0.00</td>\n",
       "      <td>0.0</td>\n",
       "      <td>...</td>\n",
       "      <td>0.0</td>\n",
       "      <td>0</td>\n",
       "      <td>0</td>\n",
       "      <td>0</td>\n",
       "      <td>0</td>\n",
       "      <td>0</td>\n",
       "      <td>0</td>\n",
       "      <td>0</td>\n",
       "      <td>0</td>\n",
       "      <td>0</td>\n",
       "    </tr>\n",
       "    <tr>\n",
       "      <th>2</th>\n",
       "      <td>34</td>\n",
       "      <td>1.0</td>\n",
       "      <td>17.0</td>\n",
       "      <td>1.0</td>\n",
       "      <td>0.0</td>\n",
       "      <td>0.0</td>\n",
       "      <td>0.0</td>\n",
       "      <td>0.0</td>\n",
       "      <td>0.00</td>\n",
       "      <td>0.0</td>\n",
       "      <td>...</td>\n",
       "      <td>0.0</td>\n",
       "      <td>0</td>\n",
       "      <td>0</td>\n",
       "      <td>0</td>\n",
       "      <td>0</td>\n",
       "      <td>0</td>\n",
       "      <td>0</td>\n",
       "      <td>0</td>\n",
       "      <td>0</td>\n",
       "      <td>0</td>\n",
       "    </tr>\n",
       "    <tr>\n",
       "      <th>3</th>\n",
       "      <td>52</td>\n",
       "      <td>5.0</td>\n",
       "      <td>16.0</td>\n",
       "      <td>4.0</td>\n",
       "      <td>1.0</td>\n",
       "      <td>37.0</td>\n",
       "      <td>37.0</td>\n",
       "      <td>1.0</td>\n",
       "      <td>3.00</td>\n",
       "      <td>0.0</td>\n",
       "      <td>...</td>\n",
       "      <td>0.0</td>\n",
       "      <td>0</td>\n",
       "      <td>1</td>\n",
       "      <td>0</td>\n",
       "      <td>1</td>\n",
       "      <td>0</td>\n",
       "      <td>0</td>\n",
       "      <td>0</td>\n",
       "      <td>0</td>\n",
       "      <td>0</td>\n",
       "    </tr>\n",
       "    <tr>\n",
       "      <th>4</th>\n",
       "      <td>46</td>\n",
       "      <td>3.0</td>\n",
       "      <td>21.0</td>\n",
       "      <td>4.0</td>\n",
       "      <td>0.0</td>\n",
       "      <td>0.0</td>\n",
       "      <td>0.0</td>\n",
       "      <td>1.0</td>\n",
       "      <td>15.00</td>\n",
       "      <td>0.0</td>\n",
       "      <td>...</td>\n",
       "      <td>0.0</td>\n",
       "      <td>0</td>\n",
       "      <td>0</td>\n",
       "      <td>0</td>\n",
       "      <td>0</td>\n",
       "      <td>0</td>\n",
       "      <td>0</td>\n",
       "      <td>0</td>\n",
       "      <td>0</td>\n",
       "      <td>0</td>\n",
       "    </tr>\n",
       "    <tr>\n",
       "      <th>...</th>\n",
       "      <td>...</td>\n",
       "      <td>...</td>\n",
       "      <td>...</td>\n",
       "      <td>...</td>\n",
       "      <td>...</td>\n",
       "      <td>...</td>\n",
       "      <td>...</td>\n",
       "      <td>...</td>\n",
       "      <td>...</td>\n",
       "      <td>...</td>\n",
       "      <td>...</td>\n",
       "      <td>...</td>\n",
       "      <td>...</td>\n",
       "      <td>...</td>\n",
       "      <td>...</td>\n",
       "      <td>...</td>\n",
       "      <td>...</td>\n",
       "      <td>...</td>\n",
       "      <td>...</td>\n",
       "      <td>...</td>\n",
       "      <td>...</td>\n",
       "    </tr>\n",
       "    <tr>\n",
       "      <th>851</th>\n",
       "      <td>34</td>\n",
       "      <td>3.0</td>\n",
       "      <td>18.0</td>\n",
       "      <td>0.0</td>\n",
       "      <td>0.0</td>\n",
       "      <td>0.0</td>\n",
       "      <td>0.0</td>\n",
       "      <td>0.0</td>\n",
       "      <td>0.00</td>\n",
       "      <td>0.0</td>\n",
       "      <td>...</td>\n",
       "      <td>0.0</td>\n",
       "      <td>0</td>\n",
       "      <td>0</td>\n",
       "      <td>0</td>\n",
       "      <td>0</td>\n",
       "      <td>0</td>\n",
       "      <td>0</td>\n",
       "      <td>0</td>\n",
       "      <td>0</td>\n",
       "      <td>0</td>\n",
       "    </tr>\n",
       "    <tr>\n",
       "      <th>852</th>\n",
       "      <td>32</td>\n",
       "      <td>2.0</td>\n",
       "      <td>19.0</td>\n",
       "      <td>1.0</td>\n",
       "      <td>0.0</td>\n",
       "      <td>0.0</td>\n",
       "      <td>0.0</td>\n",
       "      <td>1.0</td>\n",
       "      <td>8.00</td>\n",
       "      <td>0.0</td>\n",
       "      <td>...</td>\n",
       "      <td>0.0</td>\n",
       "      <td>0</td>\n",
       "      <td>0</td>\n",
       "      <td>0</td>\n",
       "      <td>0</td>\n",
       "      <td>0</td>\n",
       "      <td>0</td>\n",
       "      <td>0</td>\n",
       "      <td>0</td>\n",
       "      <td>0</td>\n",
       "    </tr>\n",
       "    <tr>\n",
       "      <th>853</th>\n",
       "      <td>25</td>\n",
       "      <td>2.0</td>\n",
       "      <td>17.0</td>\n",
       "      <td>0.0</td>\n",
       "      <td>0.0</td>\n",
       "      <td>0.0</td>\n",
       "      <td>0.0</td>\n",
       "      <td>1.0</td>\n",
       "      <td>0.08</td>\n",
       "      <td>0.0</td>\n",
       "      <td>...</td>\n",
       "      <td>0.0</td>\n",
       "      <td>0</td>\n",
       "      <td>0</td>\n",
       "      <td>0</td>\n",
       "      <td>0</td>\n",
       "      <td>0</td>\n",
       "      <td>0</td>\n",
       "      <td>0</td>\n",
       "      <td>1</td>\n",
       "      <td>0</td>\n",
       "    </tr>\n",
       "    <tr>\n",
       "      <th>854</th>\n",
       "      <td>33</td>\n",
       "      <td>2.0</td>\n",
       "      <td>24.0</td>\n",
       "      <td>2.0</td>\n",
       "      <td>0.0</td>\n",
       "      <td>0.0</td>\n",
       "      <td>0.0</td>\n",
       "      <td>1.0</td>\n",
       "      <td>0.08</td>\n",
       "      <td>0.0</td>\n",
       "      <td>...</td>\n",
       "      <td>0.0</td>\n",
       "      <td>0</td>\n",
       "      <td>0</td>\n",
       "      <td>0</td>\n",
       "      <td>0</td>\n",
       "      <td>0</td>\n",
       "      <td>0</td>\n",
       "      <td>0</td>\n",
       "      <td>0</td>\n",
       "      <td>0</td>\n",
       "    </tr>\n",
       "    <tr>\n",
       "      <th>855</th>\n",
       "      <td>29</td>\n",
       "      <td>2.0</td>\n",
       "      <td>20.0</td>\n",
       "      <td>1.0</td>\n",
       "      <td>0.0</td>\n",
       "      <td>0.0</td>\n",
       "      <td>0.0</td>\n",
       "      <td>1.0</td>\n",
       "      <td>0.50</td>\n",
       "      <td>0.0</td>\n",
       "      <td>...</td>\n",
       "      <td>0.0</td>\n",
       "      <td>0</td>\n",
       "      <td>0</td>\n",
       "      <td>0</td>\n",
       "      <td>0</td>\n",
       "      <td>0</td>\n",
       "      <td>0</td>\n",
       "      <td>0</td>\n",
       "      <td>0</td>\n",
       "      <td>0</td>\n",
       "    </tr>\n",
       "  </tbody>\n",
       "</table>\n",
       "<p>856 rows × 25 columns</p>\n",
       "</div>"
      ],
      "text/plain": [
       "     Age  Number of sexual partners  First sexual intercourse  \\\n",
       "0     18                        4.0                      15.0   \n",
       "1     15                        1.0                      14.0   \n",
       "2     34                        1.0                      17.0   \n",
       "3     52                        5.0                      16.0   \n",
       "4     46                        3.0                      21.0   \n",
       "..   ...                        ...                       ...   \n",
       "851   34                        3.0                      18.0   \n",
       "852   32                        2.0                      19.0   \n",
       "853   25                        2.0                      17.0   \n",
       "854   33                        2.0                      24.0   \n",
       "855   29                        2.0                      20.0   \n",
       "\n",
       "     Num of pregnancies  Smokes  Smokes (years)  Smokes (packs/year)  \\\n",
       "0                   1.0     0.0             0.0                  0.0   \n",
       "1                   1.0     0.0             0.0                  0.0   \n",
       "2                   1.0     0.0             0.0                  0.0   \n",
       "3                   4.0     1.0            37.0                 37.0   \n",
       "4                   4.0     0.0             0.0                  0.0   \n",
       "..                  ...     ...             ...                  ...   \n",
       "851                 0.0     0.0             0.0                  0.0   \n",
       "852                 1.0     0.0             0.0                  0.0   \n",
       "853                 0.0     0.0             0.0                  0.0   \n",
       "854                 2.0     0.0             0.0                  0.0   \n",
       "855                 1.0     0.0             0.0                  0.0   \n",
       "\n",
       "     Hormonal Contraceptives  Hormonal Contraceptives (years)  IUD  ...  \\\n",
       "0                        0.0                             0.00  0.0  ...   \n",
       "1                        0.0                             0.00  0.0  ...   \n",
       "2                        0.0                             0.00  0.0  ...   \n",
       "3                        1.0                             3.00  0.0  ...   \n",
       "4                        1.0                            15.00  0.0  ...   \n",
       "..                       ...                              ...  ...  ...   \n",
       "851                      0.0                             0.00  0.0  ...   \n",
       "852                      1.0                             8.00  0.0  ...   \n",
       "853                      1.0                             0.08  0.0  ...   \n",
       "854                      1.0                             0.08  0.0  ...   \n",
       "855                      1.0                             0.50  0.0  ...   \n",
       "\n",
       "     STDs:HIV  STDs: Number of diagnosis  Dx:Cancer  Dx:CIN  Dx:HPV  Dx  \\\n",
       "0         0.0                          0          0       0       0   0   \n",
       "1         0.0                          0          0       0       0   0   \n",
       "2         0.0                          0          0       0       0   0   \n",
       "3         0.0                          0          1       0       1   0   \n",
       "4         0.0                          0          0       0       0   0   \n",
       "..        ...                        ...        ...     ...     ...  ..   \n",
       "851       0.0                          0          0       0       0   0   \n",
       "852       0.0                          0          0       0       0   0   \n",
       "853       0.0                          0          0       0       0   0   \n",
       "854       0.0                          0          0       0       0   0   \n",
       "855       0.0                          0          0       0       0   0   \n",
       "\n",
       "     Hinselmann  Schiller  Citology  Biopsy  \n",
       "0             0         0         0       0  \n",
       "1             0         0         0       0  \n",
       "2             0         0         0       0  \n",
       "3             0         0         0       0  \n",
       "4             0         0         0       0  \n",
       "..          ...       ...       ...     ...  \n",
       "851           0         0         0       0  \n",
       "852           0         0         0       0  \n",
       "853           0         0         1       0  \n",
       "854           0         0         0       0  \n",
       "855           0         0         0       0  \n",
       "\n",
       "[856 rows x 25 columns]"
      ]
     },
     "execution_count": 5,
     "metadata": {},
     "output_type": "execute_result"
    }
   ],
   "source": [
    "df"
   ]
  },
  {
   "cell_type": "code",
   "execution_count": 6,
   "id": "018a48b1",
   "metadata": {},
   "outputs": [
    {
     "data": {
      "text/plain": [
       "55"
      ]
     },
     "execution_count": 6,
     "metadata": {},
     "output_type": "execute_result"
    }
   ],
   "source": [
    "len(df[df['Biopsy']==1])"
   ]
  },
  {
   "cell_type": "code",
   "execution_count": 7,
   "id": "cd0af845",
   "metadata": {},
   "outputs": [
    {
     "data": {
      "text/plain": [
       "0.06425233644859812"
      ]
     },
     "execution_count": 7,
     "metadata": {},
     "output_type": "execute_result"
    }
   ],
   "source": [
    "len(df[df['Biopsy']==1])/len(df)"
   ]
  },
  {
   "cell_type": "code",
   "execution_count": 8,
   "id": "1a9ffc6a",
   "metadata": {},
   "outputs": [
    {
     "name": "stdout",
     "output_type": "stream",
     "text": [
      "Counter({0: 801, 1: 55})\n",
      "Counter({0: 801, 1: 801})\n"
     ]
    },
    {
     "data": {
      "text/plain": [
       "<matplotlib.legend.Legend at 0x1f7b15c8e80>"
      ]
     },
     "execution_count": 8,
     "metadata": {},
     "output_type": "execute_result"
    },
    {
     "data": {
      "image/png": "[encoded data removed]",
      "text/plain": [
       "<Figure size 432x288 with 1 Axes>"
      ]
     },
     "metadata": {
      "needs_background": "light"
     },
     "output_type": "display_data"
    }
   ],
   "source": [
    "# borderline-SMOTE for imbalanced dataset\n",
    "from collections import Counter\n",
    "from sklearn.datasets import make_classification\n",
    "from imblearn.over_sampling import BorderlineSMOTE\n",
    "from matplotlib import pyplot\n",
    "from numpy import where\n",
    "# define dataset\n",
    "X = df.drop(['Hinselmann','Schiller','Citology','Biopsy'],axis=1).values\n",
    "y = df['Biopsy'].values\n",
    "# summarize class distribution\n",
    "counter = Counter(y)\n",
    "print(counter)\n",
    "# transform the dataset\n",
    "oversample = BorderlineSMOTE()\n",
    "X, y = oversample.fit_resample(X, y)\n",
    "# summarize the new class distribution\n",
    "counter = Counter(y)\n",
    "print(counter)\n",
    "# scatter plot of examples by class label\n",
    "for label, _ in counter.items():\n",
    "    row_ix = where(y == label)[0]\n",
    "    pyplot.scatter(X[row_ix, 0], X[row_ix, 1], label=str(label))\n",
    "pyplot.legend()"
   ]
  },
  {
   "cell_type": "code",
   "execution_count": 9,
   "id": "643766a9",
   "metadata": {},
   "outputs": [],
   "source": [
    "from sklearn.tree import DecisionTreeClassifier\n",
    "from sklearn.svm import SVC\n",
    "from sklearn.neighbors import KNeighborsClassifier\n",
    "from sklearn.linear_model import LogisticRegression\n",
    "from sklearn.ensemble import RandomForestClassifier\n",
    "from sklearn.model_selection import cross_val_score\n",
    "from sklearn.model_selection import GridSearchCV\n",
    "from sklearn.naive_bayes import GaussianNB\n",
    "from sklearn.metrics import accuracy_score, confusion_matrix, classification_report\n",
    "import xgboost as xgb\n",
    "from sklearn.ensemble import ExtraTreesClassifier\n",
    "from sklearn.feature_selection import SelectFromModel"
   ]
  },
  {
   "cell_type": "code",
   "execution_count": 10,
   "id": "55f72bf7",
   "metadata": {},
   "outputs": [],
   "source": [
    "from sklearn.model_selection import train_test_split"
   ]
  },
  {
   "cell_type": "code",
   "execution_count": 11,
   "id": "1ec6f892",
   "metadata": {},
   "outputs": [
    {
     "data": {
      "text/plain": [
       "array([0.09809845, 0.13072892, 0.08518383, 0.0705214 , 0.0228822 ,\n",
       "       0.02332707, 0.02051653, 0.10713932, 0.09402814, 0.0407003 ,\n",
       "       0.03369905, 0.03102146, 0.02162038, 0.02301601, 0.0067676 ,\n",
       "       0.0097329 , 0.01897718, 0.04472654, 0.02712391, 0.04894471,\n",
       "       0.0412441 ])"
      ]
     },
     "execution_count": 11,
     "metadata": {},
     "output_type": "execute_result"
    }
   ],
   "source": [
    "clf = ExtraTreesClassifier(n_estimators=50)\n",
    "clf = clf.fit(X, y)\n",
    "clf.feature_importances_"
   ]
  },
  {
   "cell_type": "code",
   "execution_count": 12,
   "id": "51f84c51",
   "metadata": {},
   "outputs": [
    {
     "data": {
      "text/plain": [
       "Index(['Age', 'Number of sexual partners', 'First sexual intercourse',\n",
       "       'Num of pregnancies', 'Smokes', 'Smokes (years)', 'Smokes (packs/year)',\n",
       "       'Hormonal Contraceptives', 'Hormonal Contraceptives (years)', 'IUD',\n",
       "       'IUD (years)', 'STDs', 'STDs (number)', 'STDs:condylomatosis',\n",
       "       'STDs:syphilis', 'STDs:HIV', 'STDs: Number of diagnosis', 'Dx:Cancer',\n",
       "       'Dx:CIN', 'Dx:HPV', 'Dx', 'Hinselmann', 'Schiller', 'Citology',\n",
       "       'Biopsy'],\n",
       "      dtype='object')"
      ]
     },
     "execution_count": 12,
     "metadata": {},
     "output_type": "execute_result"
    }
   ],
   "source": [
    "df.columns"
   ]
  },
  {
   "cell_type": "code",
   "execution_count": 13,
   "id": "a79e1c1a",
   "metadata": {},
   "outputs": [],
   "source": [
    "features = ['Age', 'Number of sexual partners', 'First sexual intercourse',\n",
    "       'Num of pregnancies', 'Smokes', 'Smokes (years)', 'Smokes (packs/year)',\n",
    "       'Hormonal Contraceptives', 'Hormonal Contraceptives (years)', 'IUD',\n",
    "       'IUD (years)', 'STDs', 'STDs (number)', 'STDs:condylomatosis',\n",
    "       'STDs:syphilis', 'STDs:HIV', 'STDs: Number of diagnosis', 'Dx:Cancer',\n",
    "       'Dx:CIN', 'Dx:HPV', 'Dx']"
   ]
  },
  {
   "cell_type": "code",
   "execution_count": 14,
   "id": "57856bc6",
   "metadata": {},
   "outputs": [],
   "source": [
    "feat_importances = pd.Series(clf.feature_importances_, index=features)"
   ]
  },
  {
   "cell_type": "code",
   "execution_count": 15,
   "id": "aa7e944b",
   "metadata": {},
   "outputs": [
    {
     "data": {
      "text/plain": [
       "STDs:syphilis                      0.006768\n",
       "STDs:HIV                           0.009733\n",
       "STDs: Number of diagnosis          0.018977\n",
       "Smokes (packs/year)                0.020517\n",
       "STDs (number)                      0.021620\n",
       "Smokes                             0.022882\n",
       "STDs:condylomatosis                0.023016\n",
       "Smokes (years)                     0.023327\n",
       "Dx:CIN                             0.027124\n",
       "STDs                               0.031021\n",
       "IUD (years)                        0.033699\n",
       "IUD                                0.040700\n",
       "Dx                                 0.041244\n",
       "Dx:Cancer                          0.044727\n",
       "Dx:HPV                             0.048945\n",
       "Num of pregnancies                 0.070521\n",
       "First sexual intercourse           0.085184\n",
       "Hormonal Contraceptives (years)    0.094028\n",
       "Age                                0.098098\n",
       "Hormonal Contraceptives            0.107139\n",
       "Number of sexual partners          0.130729\n",
       "dtype: float64"
      ]
     },
     "execution_count": 15,
     "metadata": {},
     "output_type": "execute_result"
    }
   ],
   "source": [
    "feat_importances.sort_values()"
   ]
  },
  {
   "cell_type": "code",
   "execution_count": 16,
   "id": "78f0e479",
   "metadata": {},
   "outputs": [
    {
     "data": {
      "text/plain": [
       "<AxesSubplot:>"
      ]
     },
     "execution_count": 16,
     "metadata": {},
     "output_type": "execute_result"
    },
    {
     "data": {
      "image/png": "[encoded data removed]",
      "text/plain": [
       "<Figure size 432x288 with 1 Axes>"
      ]
     },
     "metadata": {
      "needs_background": "light"
     },
     "output_type": "display_data"
    }
   ],
   "source": [
    "feat_importances.nlargest(10).plot(kind='barh')"
   ]
  },
  {
   "cell_type": "code",
   "execution_count": 17,
   "id": "5b712511",
   "metadata": {},
   "outputs": [],
   "source": [
    "model = SelectFromModel(clf, prefit=True)"
   ]
  },
  {
   "cell_type": "code",
   "execution_count": 18,
   "id": "aed41f3c",
   "metadata": {},
   "outputs": [],
   "source": [
    "X_new = model.transform(X)"
   ]
  },
  {
   "cell_type": "code",
   "execution_count": 19,
   "id": "702393e7",
   "metadata": {},
   "outputs": [
    {
     "data": {
      "text/plain": [
       "(1602, 7)"
      ]
     },
     "execution_count": 19,
     "metadata": {},
     "output_type": "execute_result"
    }
   ],
   "source": [
    "X_new.shape"
   ]
  },
  {
   "cell_type": "code",
   "execution_count": 20,
   "id": "94402e32",
   "metadata": {},
   "outputs": [],
   "source": [
    "X_train, X_test, y_train, y_test = train_test_split(X_new, y, test_size=0.2, random_state=101)"
   ]
  },
  {
   "cell_type": "markdown",
   "id": "9e2c8e1f",
   "metadata": {},
   "source": [
    "# Buidling Model before Feature Selection"
   ]
  },
  {
   "cell_type": "markdown",
   "id": "3cd42d86",
   "metadata": {},
   "source": [
    "### Logistic Regression"
   ]
  },
  {
   "cell_type": "code",
   "execution_count": 21,
   "id": "0b045ec5",
   "metadata": {},
   "outputs": [],
   "source": [
    "logmodel = LogisticRegression(max_iter=10000)"
   ]
  },
  {
   "cell_type": "code",
   "execution_count": 22,
   "id": "ab0197fa",
   "metadata": {},
   "outputs": [
    {
     "data": {
      "text/plain": [
       "LogisticRegression(max_iter=10000)"
      ]
     },
     "execution_count": 22,
     "metadata": {},
     "output_type": "execute_result"
    }
   ],
   "source": [
    "logmodel.fit(X_train,y_train)"
   ]
  },
  {
   "cell_type": "code",
   "execution_count": 23,
   "id": "badb65fc",
   "metadata": {},
   "outputs": [],
   "source": [
    "predictions = logmodel.predict(X_test)"
   ]
  },
  {
   "cell_type": "code",
   "execution_count": 24,
   "id": "f32b17ae",
   "metadata": {},
   "outputs": [
    {
     "data": {
      "text/plain": [
       "array([1, 1, 0, 0, 0, 1, 1, 0, 1, 0, 1, 1, 0, 0, 1, 0, 0, 1, 1, 0, 1, 1,\n",
       "       0, 0, 0, 0, 0, 1, 0, 1, 0, 0, 0, 0, 0, 0, 0, 0, 0, 0, 0, 1, 0, 1,\n",
       "       1, 0, 1, 1, 0, 0, 0, 0, 0, 1, 1, 1, 0, 1, 0, 1, 0, 1, 0, 0, 0, 0,\n",
       "       1, 0, 0, 0, 1, 0, 1, 1, 0, 0, 1, 0, 1, 1, 1, 0, 0, 0, 1, 1, 1, 0,\n",
       "       1, 1, 1, 0, 0, 1, 1, 0, 1, 0, 0, 0, 1, 1, 1, 1, 0, 1, 0, 1, 1, 1,\n",
       "       0, 1, 0, 1, 1, 1, 1, 0, 1, 0, 0, 0, 1, 0, 0, 1, 0, 0, 0, 1, 0, 1,\n",
       "       1, 0, 1, 0, 1, 1, 0, 1, 1, 1, 1, 0, 1, 1, 1, 0, 0, 0, 1, 1, 1, 0,\n",
       "       1, 1, 0, 1, 1, 1, 1, 1, 0, 1, 1, 1, 1, 0, 0, 0, 0, 0, 1, 0, 0, 0,\n",
       "       0, 1, 1, 0, 0, 0, 1, 0, 1, 0, 0, 0, 0, 0, 0, 1, 0, 0, 0, 0, 0, 0,\n",
       "       0, 1, 1, 0, 0, 1, 1, 0, 1, 1, 0, 1, 0, 1, 0, 0, 1, 0, 0, 1, 1, 0,\n",
       "       0, 0, 1, 1, 0, 0, 0, 0, 0, 1, 0, 0, 1, 1, 0, 0, 0, 0, 0, 0, 1, 0,\n",
       "       1, 0, 1, 0, 0, 0, 0, 0, 1, 0, 1, 1, 1, 0, 0, 0, 1, 1, 0, 1, 0, 1,\n",
       "       1, 0, 1, 1, 0, 0, 0, 1, 1, 0, 1, 0, 0, 1, 0, 1, 1, 1, 1, 1, 1, 1,\n",
       "       1, 0, 0, 0, 0, 0, 0, 1, 0, 1, 1, 0, 1, 0, 1, 1, 1, 0, 0, 1, 1, 1,\n",
       "       0, 1, 1, 1, 0, 0, 1, 1, 0, 0, 0, 0, 1], dtype=int64)"
      ]
     },
     "execution_count": 24,
     "metadata": {},
     "output_type": "execute_result"
    }
   ],
   "source": [
    "predictions"
   ]
  },
  {
   "cell_type": "code",
   "execution_count": 25,
   "id": "5617920f",
   "metadata": {},
   "outputs": [
    {
     "name": "stdout",
     "output_type": "stream",
     "text": [
      "Accuracy:  0.6666666666666666\n",
      "\n",
      "\n",
      "              precision    recall  f1-score   support\n",
      "\n",
      "           0       0.66      0.70      0.68       161\n",
      "           1       0.68      0.63      0.65       160\n",
      "\n",
      "    accuracy                           0.67       321\n",
      "   macro avg       0.67      0.67      0.67       321\n",
      "weighted avg       0.67      0.67      0.67       321\n",
      "\n",
      "\n",
      "\n",
      "[[113  48]\n",
      " [ 59 101]]\n"
     ]
    }
   ],
   "source": [
    "print(\"Accuracy: \", accuracy_score(y_test,predictions))\n",
    "print(\"\\n\")\n",
    "print(classification_report(y_test,predictions))\n",
    "print(\"\\n\")\n",
    "print(confusion_matrix(y_test,predictions))"
   ]
  },
  {
   "cell_type": "markdown",
   "id": "968c0147",
   "metadata": {},
   "source": [
    "### KNN"
   ]
  },
  {
   "cell_type": "code",
   "execution_count": 26,
   "id": "e2fa3645",
   "metadata": {},
   "outputs": [],
   "source": [
    "error_rate = []\n",
    "\n",
    "for i in range(1,40):\n",
    "    knn = KNeighborsClassifier(n_neighbors=i)\n",
    "    knn.fit(X_train,y_train)\n",
    "    pred_i = knn.predict(X_test)\n",
    "    error_rate.append(np.mean(pred_i != y_test))"
   ]
  },
  {
   "cell_type": "code",
   "execution_count": 27,
   "id": "4edbd871",
   "metadata": {},
   "outputs": [
    {
     "data": {
      "text/plain": [
       "Text(0, 0.5, 'Error Rate')"
      ]
     },
     "execution_count": 27,
     "metadata": {},
     "output_type": "execute_result"
    },
    {
     "data": {
      "image/png": "[encoded data removed]",
      "text/plain": [
       "<Figure size 720x432 with 1 Axes>"
      ]
     },
     "metadata": {
      "needs_background": "light"
     },
     "output_type": "display_data"
    }
   ],
   "source": [
    "plt.figure(figsize=(10,6))\n",
    "plt.plot(range(1,40),error_rate,color='blue',linestyle='--',marker='o',markerfacecolor='red',markersize=10)\n",
    "plt.title('Error Rate vs K value')\n",
    "plt.xlabel('K')\n",
    "plt.ylabel('Error Rate')"
   ]
  },
  {
   "cell_type": "code",
   "execution_count": 28,
   "id": "aee3a839",
   "metadata": {},
   "outputs": [],
   "source": [
    "knn = KNeighborsClassifier(n_neighbors=2)\n",
    "knn.fit(X_train,y_train)\n",
    "predictions = knn.predict(X_test)"
   ]
  },
  {
   "cell_type": "code",
   "execution_count": 29,
   "id": "86a48fc9",
   "metadata": {},
   "outputs": [
    {
     "name": "stdout",
     "output_type": "stream",
     "text": [
      "Accuracy Score: 0.9003115264797508\n",
      "\n",
      "\n",
      "              precision    recall  f1-score   support\n",
      "\n",
      "           0       0.94      0.86      0.90       161\n",
      "           1       0.87      0.94      0.90       160\n",
      "\n",
      "    accuracy                           0.90       321\n",
      "   macro avg       0.90      0.90      0.90       321\n",
      "weighted avg       0.90      0.90      0.90       321\n",
      "\n",
      "\n",
      "\n",
      "[[138  23]\n",
      " [  9 151]]\n"
     ]
    }
   ],
   "source": [
    "print('Accuracy Score:',accuracy_score(y_test,predictions))\n",
    "print('\\n')\n",
    "print(classification_report(y_test,predictions))\n",
    "print('\\n')\n",
    "print(confusion_matrix(y_test,predictions))"
   ]
  },
  {
   "cell_type": "markdown",
   "id": "edd79d40",
   "metadata": {},
   "source": [
    "### Decision Tree"
   ]
  },
  {
   "cell_type": "code",
   "execution_count": 30,
   "id": "5340d022",
   "metadata": {},
   "outputs": [],
   "source": [
    "dtree = DecisionTreeClassifier()"
   ]
  },
  {
   "cell_type": "code",
   "execution_count": 31,
   "id": "630062ec",
   "metadata": {},
   "outputs": [
    {
     "data": {
      "text/plain": [
       "DecisionTreeClassifier()"
      ]
     },
     "execution_count": 31,
     "metadata": {},
     "output_type": "execute_result"
    }
   ],
   "source": [
    "dtree.fit(X_train,y_train)"
   ]
  },
  {
   "cell_type": "code",
   "execution_count": 32,
   "id": "7ffdf4bb",
   "metadata": {},
   "outputs": [],
   "source": [
    "predictions = dtree.predict(X_test)"
   ]
  },
  {
   "cell_type": "code",
   "execution_count": 33,
   "id": "692d5681",
   "metadata": {},
   "outputs": [
    {
     "name": "stdout",
     "output_type": "stream",
     "text": [
      "Accuracy:  0.9252336448598131\n",
      "\n",
      "\n",
      "              precision    recall  f1-score   support\n",
      "\n",
      "           0       0.95      0.90      0.92       161\n",
      "           1       0.90      0.95      0.93       160\n",
      "\n",
      "    accuracy                           0.93       321\n",
      "   macro avg       0.93      0.93      0.93       321\n",
      "weighted avg       0.93      0.93      0.93       321\n",
      "\n",
      "\n",
      "\n",
      "[[145  16]\n",
      " [  8 152]]\n"
     ]
    }
   ],
   "source": [
    "print(\"Accuracy: \", accuracy_score(y_test,predictions))\n",
    "print(\"\\n\")\n",
    "print(classification_report(y_test,predictions))\n",
    "print(\"\\n\")\n",
    "print(confusion_matrix(y_test,predictions))"
   ]
  },
  {
   "cell_type": "markdown",
   "id": "3c3d9ff5",
   "metadata": {},
   "source": [
    "### Random Forest"
   ]
  },
  {
   "cell_type": "code",
   "execution_count": 34,
   "id": "416c07d0",
   "metadata": {},
   "outputs": [],
   "source": [
    "rfc = RandomForestClassifier(n_estimators=200)"
   ]
  },
  {
   "cell_type": "code",
   "execution_count": 35,
   "id": "09d61f88",
   "metadata": {},
   "outputs": [
    {
     "data": {
      "text/plain": [
       "RandomForestClassifier(n_estimators=200)"
      ]
     },
     "execution_count": 35,
     "metadata": {},
     "output_type": "execute_result"
    }
   ],
   "source": [
    "rfc.fit(X_train,y_train)"
   ]
  },
  {
   "cell_type": "code",
   "execution_count": 36,
   "id": "77603047",
   "metadata": {},
   "outputs": [],
   "source": [
    "predictions = rfc.predict(X_test)"
   ]
  },
  {
   "cell_type": "code",
   "execution_count": 37,
   "id": "69b7b8d0",
   "metadata": {},
   "outputs": [
    {
     "name": "stdout",
     "output_type": "stream",
     "text": [
      "Accuracy:  0.9532710280373832\n",
      "\n",
      "\n",
      "              precision    recall  f1-score   support\n",
      "\n",
      "           0       0.93      0.98      0.95       161\n",
      "           1       0.97      0.93      0.95       160\n",
      "\n",
      "    accuracy                           0.95       321\n",
      "   macro avg       0.95      0.95      0.95       321\n",
      "weighted avg       0.95      0.95      0.95       321\n",
      "\n",
      "\n",
      "\n",
      "[[157   4]\n",
      " [ 11 149]]\n"
     ]
    }
   ],
   "source": [
    "print(\"Accuracy: \", accuracy_score(y_test,predictions))\n",
    "print(\"\\n\")\n",
    "print(classification_report(y_test,predictions))\n",
    "print(\"\\n\")\n",
    "print(confusion_matrix(y_test,predictions))"
   ]
  },
  {
   "cell_type": "markdown",
   "id": "29f910a8",
   "metadata": {},
   "source": [
    "### Support Vector Machine"
   ]
  },
  {
   "cell_type": "code",
   "execution_count": 38,
   "id": "70b2fd48",
   "metadata": {},
   "outputs": [],
   "source": [
    "model = SVC()"
   ]
  },
  {
   "cell_type": "code",
   "execution_count": 39,
   "id": "fc005442",
   "metadata": {},
   "outputs": [
    {
     "data": {
      "text/plain": [
       "SVC()"
      ]
     },
     "execution_count": 39,
     "metadata": {},
     "output_type": "execute_result"
    }
   ],
   "source": [
    "model.fit(X_train,y_train)"
   ]
  },
  {
   "cell_type": "code",
   "execution_count": 40,
   "id": "07a8de58",
   "metadata": {},
   "outputs": [],
   "source": [
    "predictions = model.predict(X_test)"
   ]
  },
  {
   "cell_type": "code",
   "execution_count": 41,
   "id": "dfff3b21",
   "metadata": {},
   "outputs": [
    {
     "name": "stdout",
     "output_type": "stream",
     "text": [
      "Accuracy:  0.6915887850467289\n",
      "\n",
      "\n",
      "              precision    recall  f1-score   support\n",
      "\n",
      "           0       0.75      0.57      0.65       161\n",
      "           1       0.65      0.81      0.72       160\n",
      "\n",
      "    accuracy                           0.69       321\n",
      "   macro avg       0.70      0.69      0.69       321\n",
      "weighted avg       0.70      0.69      0.69       321\n",
      "\n",
      "\n",
      "\n",
      "[[ 92  69]\n",
      " [ 30 130]]\n"
     ]
    }
   ],
   "source": [
    "print(\"Accuracy: \", accuracy_score(y_test,predictions))\n",
    "print(\"\\n\")\n",
    "print(classification_report(y_test,predictions))\n",
    "print(\"\\n\")\n",
    "print(confusion_matrix(y_test,predictions))"
   ]
  },
  {
   "cell_type": "markdown",
   "id": "91ffbc0e",
   "metadata": {},
   "source": [
    "### Grid Search CV"
   ]
  },
  {
   "cell_type": "code",
   "execution_count": 42,
   "id": "cd425ff6",
   "metadata": {},
   "outputs": [],
   "source": [
    "param_grid = {'C':[0.1,1,10,100,1000],'gamma':[1,0.1,0.01,0.001,0.0001]}"
   ]
  },
  {
   "cell_type": "code",
   "execution_count": 43,
   "id": "5137eb0f",
   "metadata": {},
   "outputs": [],
   "source": [
    "grid = GridSearchCV(SVC(),param_grid,verbose=3)"
   ]
  },
  {
   "cell_type": "code",
   "execution_count": 44,
   "id": "02388d91",
   "metadata": {},
   "outputs": [
    {
     "name": "stdout",
     "output_type": "stream",
     "text": [
      "Fitting 5 folds for each of 25 candidates, totalling 125 fits\n",
      "[CV 1/5] END .................................C=0.1, gamma=1; total time=   0.0s\n",
      "[CV 2/5] END .................................C=0.1, gamma=1; total time=   0.0s\n",
      "[CV 3/5] END .................................C=0.1, gamma=1; total time=   0.0s\n",
      "[CV 4/5] END .................................C=0.1, gamma=1; total time=   0.0s\n",
      "[CV 5/5] END .................................C=0.1, gamma=1; total time=   0.0s\n",
      "[CV 1/5] END ...............................C=0.1, gamma=0.1; total time=   0.0s\n",
      "[CV 2/5] END ...............................C=0.1, gamma=0.1; total time=   0.0s\n",
      "[CV 3/5] END ...............................C=0.1, gamma=0.1; total time=   0.0s\n",
      "[CV 4/5] END ...............................C=0.1, gamma=0.1; total time=   0.0s\n",
      "[CV 5/5] END ...............................C=0.1, gamma=0.1; total time=   0.0s\n",
      "[CV 1/5] END ..............................C=0.1, gamma=0.01; total time=   0.0s\n",
      "[CV 2/5] END ..............................C=0.1, gamma=0.01; total time=   0.0s\n",
      "[CV 3/5] END ..............................C=0.1, gamma=0.01; total time=   0.0s\n",
      "[CV 4/5] END ..............................C=0.1, gamma=0.01; total time=   0.0s\n",
      "[CV 5/5] END ..............................C=0.1, gamma=0.01; total time=   0.0s\n",
      "[CV 1/5] END .............................C=0.1, gamma=0.001; total time=   0.0s\n",
      "[CV 2/5] END .............................C=0.1, gamma=0.001; total time=   0.0s\n",
      "[CV 3/5] END .............................C=0.1, gamma=0.001; total time=   0.0s\n",
      "[CV 4/5] END .............................C=0.1, gamma=0.001; total time=   0.0s\n",
      "[CV 5/5] END .............................C=0.1, gamma=0.001; total time=   0.0s\n",
      "[CV 1/5] END ............................C=0.1, gamma=0.0001; total time=   0.0s\n",
      "[CV 2/5] END ............................C=0.1, gamma=0.0001; total time=   0.0s\n",
      "[CV 3/5] END ............................C=0.1, gamma=0.0001; total time=   0.0s\n",
      "[CV 4/5] END ............................C=0.1, gamma=0.0001; total time=   0.0s\n",
      "[CV 5/5] END ............................C=0.1, gamma=0.0001; total time=   0.0s\n",
      "[CV 1/5] END ...................................C=1, gamma=1; total time=   0.0s\n",
      "[CV 2/5] END ...................................C=1, gamma=1; total time=   0.0s\n",
      "[CV 3/5] END ...................................C=1, gamma=1; total time=   0.0s\n",
      "[CV 4/5] END ...................................C=1, gamma=1; total time=   0.0s\n",
      "[CV 5/5] END ...................................C=1, gamma=1; total time=   0.0s\n",
      "[CV 1/5] END .................................C=1, gamma=0.1; total time=   0.0s\n",
      "[CV 2/5] END .................................C=1, gamma=0.1; total time=   0.0s\n",
      "[CV 3/5] END .................................C=1, gamma=0.1; total time=   0.0s\n",
      "[CV 4/5] END .................................C=1, gamma=0.1; total time=   0.0s\n",
      "[CV 5/5] END .................................C=1, gamma=0.1; total time=   0.0s\n",
      "[CV 1/5] END ................................C=1, gamma=0.01; total time=   0.0s\n",
      "[CV 2/5] END ................................C=1, gamma=0.01; total time=   0.0s\n",
      "[CV 3/5] END ................................C=1, gamma=0.01; total time=   0.0s\n",
      "[CV 4/5] END ................................C=1, gamma=0.01; total time=   0.0s\n",
      "[CV 5/5] END ................................C=1, gamma=0.01; total time=   0.0s\n",
      "[CV 1/5] END ...............................C=1, gamma=0.001; total time=   0.0s\n",
      "[CV 2/5] END ...............................C=1, gamma=0.001; total time=   0.0s\n",
      "[CV 3/5] END ...............................C=1, gamma=0.001; total time=   0.0s\n",
      "[CV 4/5] END ...............................C=1, gamma=0.001; total time=   0.0s\n",
      "[CV 5/5] END ...............................C=1, gamma=0.001; total time=   0.0s\n",
      "[CV 1/5] END ..............................C=1, gamma=0.0001; total time=   0.0s\n",
      "[CV 2/5] END ..............................C=1, gamma=0.0001; total time=   0.0s\n",
      "[CV 3/5] END ..............................C=1, gamma=0.0001; total time=   0.0s\n",
      "[CV 4/5] END ..............................C=1, gamma=0.0001; total time=   0.0s\n",
      "[CV 5/5] END ..............................C=1, gamma=0.0001; total time=   0.0s\n",
      "[CV 1/5] END ..................................C=10, gamma=1; total time=   0.0s\n",
      "[CV 2/5] END ..................................C=10, gamma=1; total time=   0.0s\n",
      "[CV 3/5] END ..................................C=10, gamma=1; total time=   0.0s\n",
      "[CV 4/5] END ..................................C=10, gamma=1; total time=   0.0s\n",
      "[CV 5/5] END ..................................C=10, gamma=1; total time=   0.0s\n",
      "[CV 1/5] END ................................C=10, gamma=0.1; total time=   0.0s\n",
      "[CV 2/5] END ................................C=10, gamma=0.1; total time=   0.0s\n",
      "[CV 3/5] END ................................C=10, gamma=0.1; total time=   0.0s\n",
      "[CV 4/5] END ................................C=10, gamma=0.1; total time=   0.0s\n",
      "[CV 5/5] END ................................C=10, gamma=0.1; total time=   0.0s\n",
      "[CV 1/5] END ...............................C=10, gamma=0.01; total time=   0.0s\n",
      "[CV 2/5] END ...............................C=10, gamma=0.01; total time=   0.0s\n",
      "[CV 3/5] END ...............................C=10, gamma=0.01; total time=   0.0s\n",
      "[CV 4/5] END ...............................C=10, gamma=0.01; total time=   0.0s\n",
      "[CV 5/5] END ...............................C=10, gamma=0.01; total time=   0.0s\n",
      "[CV 1/5] END ..............................C=10, gamma=0.001; total time=   0.0s\n",
      "[CV 2/5] END ..............................C=10, gamma=0.001; total time=   0.0s\n",
      "[CV 3/5] END ..............................C=10, gamma=0.001; total time=   0.0s\n",
      "[CV 4/5] END ..............................C=10, gamma=0.001; total time=   0.0s\n",
      "[CV 5/5] END ..............................C=10, gamma=0.001; total time=   0.0s\n",
      "[CV 1/5] END .............................C=10, gamma=0.0001; total time=   0.0s\n",
      "[CV 2/5] END .............................C=10, gamma=0.0001; total time=   0.0s\n",
      "[CV 3/5] END .............................C=10, gamma=0.0001; total time=   0.0s\n",
      "[CV 4/5] END .............................C=10, gamma=0.0001; total time=   0.0s\n",
      "[CV 5/5] END .............................C=10, gamma=0.0001; total time=   0.0s\n",
      "[CV 1/5] END .................................C=100, gamma=1; total time=   0.0s\n",
      "[CV 2/5] END .................................C=100, gamma=1; total time=   0.0s\n",
      "[CV 3/5] END .................................C=100, gamma=1; total time=   0.0s\n",
      "[CV 4/5] END .................................C=100, gamma=1; total time=   0.0s\n",
      "[CV 5/5] END .................................C=100, gamma=1; total time=   0.0s\n",
      "[CV 1/5] END ...............................C=100, gamma=0.1; total time=   0.0s\n",
      "[CV 2/5] END ...............................C=100, gamma=0.1; total time=   0.0s\n",
      "[CV 3/5] END ...............................C=100, gamma=0.1; total time=   0.0s\n",
      "[CV 4/5] END ...............................C=100, gamma=0.1; total time=   0.0s\n",
      "[CV 5/5] END ...............................C=100, gamma=0.1; total time=   0.0s\n",
      "[CV 1/5] END ..............................C=100, gamma=0.01; total time=   0.0s\n",
      "[CV 2/5] END ..............................C=100, gamma=0.01; total time=   0.0s\n",
      "[CV 3/5] END ..............................C=100, gamma=0.01; total time=   0.0s\n",
      "[CV 4/5] END ..............................C=100, gamma=0.01; total time=   0.0s\n",
      "[CV 5/5] END ..............................C=100, gamma=0.01; total time=   0.0s\n",
      "[CV 1/5] END .............................C=100, gamma=0.001; total time=   0.0s\n",
      "[CV 2/5] END .............................C=100, gamma=0.001; total time=   0.0s\n",
      "[CV 3/5] END .............................C=100, gamma=0.001; total time=   0.0s\n",
      "[CV 4/5] END .............................C=100, gamma=0.001; total time=   0.0s\n",
      "[CV 5/5] END .............................C=100, gamma=0.001; total time=   0.0s\n",
      "[CV 1/5] END ............................C=100, gamma=0.0001; total time=   0.0s\n",
      "[CV 2/5] END ............................C=100, gamma=0.0001; total time=   0.0s\n",
      "[CV 3/5] END ............................C=100, gamma=0.0001; total time=   0.0s\n",
      "[CV 4/5] END ............................C=100, gamma=0.0001; total time=   0.0s\n",
      "[CV 5/5] END ............................C=100, gamma=0.0001; total time=   0.0s\n",
      "[CV 1/5] END ................................C=1000, gamma=1; total time=   0.0s\n"
     ]
    },
    {
     "name": "stdout",
     "output_type": "stream",
     "text": [
      "[CV 2/5] END ................................C=1000, gamma=1; total time=   0.0s\n",
      "[CV 3/5] END ................................C=1000, gamma=1; total time=   0.0s\n",
      "[CV 4/5] END ................................C=1000, gamma=1; total time=   0.0s\n",
      "[CV 5/5] END ................................C=1000, gamma=1; total time=   0.0s\n",
      "[CV 1/5] END ..............................C=1000, gamma=0.1; total time=   0.0s\n",
      "[CV 2/5] END ..............................C=1000, gamma=0.1; total time=   0.0s\n",
      "[CV 3/5] END ..............................C=1000, gamma=0.1; total time=   0.0s\n",
      "[CV 4/5] END ..............................C=1000, gamma=0.1; total time=   0.0s\n",
      "[CV 5/5] END ..............................C=1000, gamma=0.1; total time=   0.0s\n",
      "[CV 1/5] END .............................C=1000, gamma=0.01; total time=   0.0s\n",
      "[CV 2/5] END .............................C=1000, gamma=0.01; total time=   0.0s\n",
      "[CV 3/5] END .............................C=1000, gamma=0.01; total time=   0.0s\n",
      "[CV 4/5] END .............................C=1000, gamma=0.01; total time=   0.1s\n",
      "[CV 5/5] END .............................C=1000, gamma=0.01; total time=   0.0s\n",
      "[CV 1/5] END ............................C=1000, gamma=0.001; total time=   0.0s\n",
      "[CV 2/5] END ............................C=1000, gamma=0.001; total time=   0.0s\n",
      "[CV 3/5] END ............................C=1000, gamma=0.001; total time=   0.0s\n",
      "[CV 4/5] END ............................C=1000, gamma=0.001; total time=   0.0s\n",
      "[CV 5/5] END ............................C=1000, gamma=0.001; total time=   0.0s\n",
      "[CV 1/5] END ...........................C=1000, gamma=0.0001; total time=   0.0s\n",
      "[CV 2/5] END ...........................C=1000, gamma=0.0001; total time=   0.0s\n",
      "[CV 3/5] END ...........................C=1000, gamma=0.0001; total time=   0.0s\n",
      "[CV 4/5] END ...........................C=1000, gamma=0.0001; total time=   0.0s\n",
      "[CV 5/5] END ...........................C=1000, gamma=0.0001; total time=   0.0s\n"
     ]
    },
    {
     "data": {
      "text/plain": [
       "GridSearchCV(estimator=SVC(),\n",
       "             param_grid={'C': [0.1, 1, 10, 100, 1000],\n",
       "                         'gamma': [1, 0.1, 0.01, 0.001, 0.0001]},\n",
       "             verbose=3)"
      ]
     },
     "execution_count": 44,
     "metadata": {},
     "output_type": "execute_result"
    }
   ],
   "source": [
    "grid.fit(X_train,y_train)"
   ]
  },
  {
   "cell_type": "code",
   "execution_count": 45,
   "id": "418259df",
   "metadata": {},
   "outputs": [
    {
     "data": {
      "text/plain": [
       "SVC(C=10, gamma=1)"
      ]
     },
     "execution_count": 45,
     "metadata": {},
     "output_type": "execute_result"
    }
   ],
   "source": [
    "grid.best_estimator_"
   ]
  },
  {
   "cell_type": "code",
   "execution_count": 46,
   "id": "65d3da04",
   "metadata": {},
   "outputs": [
    {
     "data": {
      "text/plain": [
       "{'C': 10, 'gamma': 1}"
      ]
     },
     "execution_count": 46,
     "metadata": {},
     "output_type": "execute_result"
    }
   ],
   "source": [
    "grid.best_params_"
   ]
  },
  {
   "cell_type": "code",
   "execution_count": 47,
   "id": "e0cfa6f9",
   "metadata": {},
   "outputs": [
    {
     "data": {
      "text/plain": [
       "0.9359952577821012"
      ]
     },
     "execution_count": 47,
     "metadata": {},
     "output_type": "execute_result"
    }
   ],
   "source": [
    "grid.best_score_"
   ]
  },
  {
   "cell_type": "code",
   "execution_count": 48,
   "id": "99ac22e4",
   "metadata": {},
   "outputs": [],
   "source": [
    "predictions = grid.predict(X_test)"
   ]
  },
  {
   "cell_type": "code",
   "execution_count": 49,
   "id": "3e713653",
   "metadata": {},
   "outputs": [
    {
     "name": "stdout",
     "output_type": "stream",
     "text": [
      "Accuracy:  0.9532710280373832\n",
      "\n",
      "\n",
      "              precision    recall  f1-score   support\n",
      "\n",
      "           0       0.94      0.97      0.95       161\n",
      "           1       0.97      0.94      0.95       160\n",
      "\n",
      "    accuracy                           0.95       321\n",
      "   macro avg       0.95      0.95      0.95       321\n",
      "weighted avg       0.95      0.95      0.95       321\n",
      "\n",
      "\n",
      "\n",
      "[[156   5]\n",
      " [ 10 150]]\n"
     ]
    }
   ],
   "source": [
    "print(\"Accuracy: \", accuracy_score(y_test,predictions))\n",
    "print(\"\\n\")\n",
    "print(classification_report(y_test,predictions))\n",
    "print(\"\\n\")\n",
    "print(confusion_matrix(y_test,predictions))"
   ]
  },
  {
   "cell_type": "markdown",
   "id": "f3f53095",
   "metadata": {},
   "source": [
    "### Naive Bayes"
   ]
  },
  {
   "cell_type": "code",
   "execution_count": 50,
   "id": "7910acfc",
   "metadata": {},
   "outputs": [],
   "source": [
    "gnb = GaussianNB()"
   ]
  },
  {
   "cell_type": "code",
   "execution_count": 51,
   "id": "2d685338",
   "metadata": {},
   "outputs": [
    {
     "data": {
      "text/plain": [
       "GaussianNB()"
      ]
     },
     "execution_count": 51,
     "metadata": {},
     "output_type": "execute_result"
    }
   ],
   "source": [
    "gnb.fit(X_train,y_train)"
   ]
  },
  {
   "cell_type": "code",
   "execution_count": 52,
   "id": "b6d2f914",
   "metadata": {},
   "outputs": [],
   "source": [
    "predictions = gnb.predict(X_test)"
   ]
  },
  {
   "cell_type": "code",
   "execution_count": 53,
   "id": "3a97e180",
   "metadata": {},
   "outputs": [
    {
     "name": "stdout",
     "output_type": "stream",
     "text": [
      "Accuracy Score: 0.6417445482866043\n",
      "\n",
      "\n",
      "              precision    recall  f1-score   support\n",
      "\n",
      "           0       0.59      0.91      0.72       161\n",
      "           1       0.80      0.38      0.51       160\n",
      "\n",
      "    accuracy                           0.64       321\n",
      "   macro avg       0.70      0.64      0.61       321\n",
      "weighted avg       0.70      0.64      0.61       321\n",
      "\n",
      "\n",
      "\n",
      "[[146  15]\n",
      " [100  60]]\n"
     ]
    }
   ],
   "source": [
    "print('Accuracy Score:',accuracy_score(y_test,predictions))\n",
    "print('\\n')\n",
    "print(classification_report(y_test,predictions))\n",
    "print('\\n')\n",
    "print(confusion_matrix(y_test,predictions))"
   ]
  },
  {
   "cell_type": "markdown",
   "id": "e1df9e65",
   "metadata": {},
   "source": [
    "### XGBoost"
   ]
  },
  {
   "cell_type": "code",
   "execution_count": 54,
   "id": "762afada",
   "metadata": {},
   "outputs": [],
   "source": [
    "xgb_cl = xgb.XGBClassifier()"
   ]
  },
  {
   "cell_type": "code",
   "execution_count": 55,
   "id": "f1ef895b",
   "metadata": {},
   "outputs": [
    {
     "data": {
      "text/plain": [
       "XGBClassifier(base_score=0.5, booster='gbtree', callbacks=None,\n",
       "              colsample_bylevel=1, colsample_bynode=1, colsample_bytree=1,\n",
       "              early_stopping_rounds=None, enable_categorical=False,\n",
       "              eval_metric=None, gamma=0, gpu_id=-1, grow_policy='depthwise',\n",
       "              importance_type=None, interaction_constraints='',\n",
       "              learning_rate=0.300000012, max_bin=256, max_cat_to_onehot=4,\n",
       "              max_delta_step=0, max_depth=6, max_leaves=0, min_child_weight=1,\n",
       "              missing=nan, monotone_constraints='()', n_estimators=100,\n",
       "              n_jobs=0, num_parallel_tree=1, predictor='auto', random_state=0,\n",
       "              reg_alpha=0, reg_lambda=1, ...)"
      ]
     },
     "execution_count": 55,
     "metadata": {},
     "output_type": "execute_result"
    }
   ],
   "source": [
    "xgb_cl.fit(X_train, y_train)"
   ]
  },
  {
   "cell_type": "code",
   "execution_count": 56,
   "id": "f45f7ec1",
   "metadata": {},
   "outputs": [],
   "source": [
    "predictions = xgb_cl.predict(X_test)"
   ]
  },
  {
   "cell_type": "code",
   "execution_count": 57,
   "id": "80d2a68a",
   "metadata": {
    "scrolled": false
   },
   "outputs": [
    {
     "name": "stdout",
     "output_type": "stream",
     "text": [
      "Accuracy Score: 0.9595015576323987\n",
      "\n",
      "\n",
      "              precision    recall  f1-score   support\n",
      "\n",
      "           0       0.94      0.98      0.96       161\n",
      "           1       0.98      0.94      0.96       160\n",
      "\n",
      "    accuracy                           0.96       321\n",
      "   macro avg       0.96      0.96      0.96       321\n",
      "weighted avg       0.96      0.96      0.96       321\n",
      "\n",
      "\n",
      "\n",
      "[[158   3]\n",
      " [ 10 150]]\n"
     ]
    }
   ],
   "source": [
    "print('Accuracy Score:',accuracy_score(y_test,predictions))\n",
    "print('\\n')\n",
    "print(classification_report(y_test,predictions))\n",
    "print('\\n')\n",
    "print(confusion_matrix(y_test,predictions))"
   ]
  },
  {
   "cell_type": "markdown",
   "id": "41fa1cd7",
   "metadata": {},
   "source": [
    "### Neural Network"
   ]
  },
  {
   "cell_type": "code",
   "execution_count": 58,
   "id": "7a7038c7",
   "metadata": {},
   "outputs": [],
   "source": [
    "import tensorflow as tf\n",
    "from tensorflow.keras.models import Sequential\n",
    "from tensorflow.keras.layers import Dense, Activation, Dropout\n",
    "from tensorflow.keras.callbacks import EarlyStopping"
   ]
  },
  {
   "cell_type": "code",
   "execution_count": 59,
   "id": "694e71d8",
   "metadata": {},
   "outputs": [],
   "source": [
    "model = Sequential()\n",
    "\n",
    "# input layer\n",
    "model.add(Dense(units=9,activation='relu'))\n",
    "model.add(Dropout(0.5))\n",
    "\n",
    "# hidden layer\n",
    "model.add(Dense(units=5,activation='relu'))\n",
    "model.add(Dropout(0.5))\n",
    "\n",
    "# output layer\n",
    "model.add(Dense(units=1,activation='sigmoid'))\n",
    "\n",
    "# compiler\n",
    "model.compile(loss='binary_crossentropy', optimizer='adam')"
   ]
  },
  {
   "cell_type": "code",
   "execution_count": 60,
   "id": "018ba478",
   "metadata": {},
   "outputs": [],
   "source": [
    "early_stop = EarlyStopping(monitor='val_loss',mode='min',verbose=1,patience=25)"
   ]
  },
  {
   "cell_type": "code",
   "execution_count": 61,
   "id": "8a7cb99b",
   "metadata": {},
   "outputs": [
    {
     "name": "stdout",
     "output_type": "stream",
     "text": [
      "Epoch 1/600\n",
      "41/41 [==============================] - 1s 6ms/step - loss: 1.4508 - val_loss: 0.7150\n",
      "Epoch 2/600\n",
      "41/41 [==============================] - 0s 2ms/step - loss: 1.1356 - val_loss: 0.6936\n",
      "Epoch 3/600\n",
      "41/41 [==============================] - 0s 2ms/step - loss: 0.9919 - val_loss: 0.6934\n",
      "Epoch 4/600\n",
      "41/41 [==============================] - 0s 2ms/step - loss: 0.9274 - val_loss: 0.6935\n",
      "Epoch 5/600\n",
      "41/41 [==============================] - 0s 2ms/step - loss: 0.8134 - val_loss: 0.6936\n",
      "Epoch 6/600\n",
      "41/41 [==============================] - 0s 2ms/step - loss: 0.7574 - val_loss: 0.6937\n",
      "Epoch 7/600\n",
      "41/41 [==============================] - 0s 2ms/step - loss: 0.7346 - val_loss: 0.6936\n",
      "Epoch 8/600\n",
      "41/41 [==============================] - 0s 2ms/step - loss: 0.7213 - val_loss: 0.6937\n",
      "Epoch 9/600\n",
      "41/41 [==============================] - 0s 2ms/step - loss: 0.7337 - val_loss: 0.6938\n",
      "Epoch 10/600\n",
      "41/41 [==============================] - 0s 2ms/step - loss: 0.7050 - val_loss: 0.6937\n",
      "Epoch 11/600\n",
      "41/41 [==============================] - 0s 2ms/step - loss: 0.7141 - val_loss: 0.6936\n",
      "Epoch 12/600\n",
      "41/41 [==============================] - 0s 2ms/step - loss: 0.7004 - val_loss: 0.6936\n",
      "Epoch 13/600\n",
      "41/41 [==============================] - 0s 2ms/step - loss: 0.7073 - val_loss: 0.6937\n",
      "Epoch 14/600\n",
      "41/41 [==============================] - 0s 2ms/step - loss: 0.6993 - val_loss: 0.6935\n",
      "Epoch 15/600\n",
      "41/41 [==============================] - 0s 2ms/step - loss: 0.6922 - val_loss: 0.6935\n",
      "Epoch 16/600\n",
      "41/41 [==============================] - 0s 2ms/step - loss: 0.6913 - val_loss: 0.6935\n",
      "Epoch 17/600\n",
      "41/41 [==============================] - 0s 2ms/step - loss: 0.6765 - val_loss: 0.6934\n",
      "Epoch 18/600\n",
      "41/41 [==============================] - 0s 2ms/step - loss: 0.6839 - val_loss: 0.6934\n",
      "Epoch 19/600\n",
      "41/41 [==============================] - 0s 2ms/step - loss: 0.6829 - val_loss: 0.6934\n",
      "Epoch 20/600\n",
      "41/41 [==============================] - 0s 2ms/step - loss: 0.6879 - val_loss: 0.6933\n",
      "Epoch 21/600\n",
      "41/41 [==============================] - 0s 2ms/step - loss: 0.6793 - val_loss: 0.6933\n",
      "Epoch 22/600\n",
      "41/41 [==============================] - 0s 2ms/step - loss: 0.6939 - val_loss: 0.6932\n",
      "Epoch 23/600\n",
      "41/41 [==============================] - 0s 2ms/step - loss: 0.6802 - val_loss: 0.6932\n",
      "Epoch 24/600\n",
      "41/41 [==============================] - 0s 2ms/step - loss: 0.6957 - val_loss: 0.6932\n",
      "Epoch 25/600\n",
      "41/41 [==============================] - 0s 2ms/step - loss: 0.6792 - val_loss: 0.6932\n",
      "Epoch 26/600\n",
      "41/41 [==============================] - 0s 2ms/step - loss: 0.6936 - val_loss: 0.6932\n",
      "Epoch 27/600\n",
      "41/41 [==============================] - 0s 2ms/step - loss: 0.6769 - val_loss: 0.6932\n",
      "Epoch 28/600\n",
      "41/41 [==============================] - 0s 2ms/step - loss: 0.6846 - val_loss: 0.6932\n",
      "Epoch 29/600\n",
      "41/41 [==============================] - 0s 2ms/step - loss: 0.6889 - val_loss: 0.6932\n",
      "Epoch 30/600\n",
      "41/41 [==============================] - 0s 2ms/step - loss: 0.6688 - val_loss: 0.6932\n",
      "Epoch 31/600\n",
      "41/41 [==============================] - 0s 2ms/step - loss: 0.6803 - val_loss: 0.6932\n",
      "Epoch 32/600\n",
      "41/41 [==============================] - 0s 2ms/step - loss: 0.6804 - val_loss: 0.6932\n",
      "Epoch 33/600\n",
      "41/41 [==============================] - 0s 2ms/step - loss: 0.6790 - val_loss: 0.6932\n",
      "Epoch 34/600\n",
      "41/41 [==============================] - 0s 2ms/step - loss: 0.6857 - val_loss: 0.6932\n",
      "Epoch 35/600\n",
      "41/41 [==============================] - 0s 2ms/step - loss: 0.6781 - val_loss: 0.6932\n",
      "Epoch 36/600\n",
      "41/41 [==============================] - 0s 2ms/step - loss: 0.6792 - val_loss: 0.6929\n",
      "Epoch 37/600\n",
      "41/41 [==============================] - 0s 2ms/step - loss: 0.6811 - val_loss: 0.6931\n",
      "Epoch 38/600\n",
      "41/41 [==============================] - 0s 2ms/step - loss: 0.6801 - val_loss: 0.6921\n",
      "Epoch 39/600\n",
      "41/41 [==============================] - 0s 2ms/step - loss: 0.6778 - val_loss: 0.6899\n",
      "Epoch 40/600\n",
      "41/41 [==============================] - 0s 2ms/step - loss: 0.6790 - val_loss: 0.6851\n",
      "Epoch 41/600\n",
      "41/41 [==============================] - 0s 2ms/step - loss: 0.6716 - val_loss: 0.6824\n",
      "Epoch 42/600\n",
      "41/41 [==============================] - 0s 2ms/step - loss: 0.6684 - val_loss: 0.6785\n",
      "Epoch 43/600\n",
      "41/41 [==============================] - 0s 2ms/step - loss: 0.6725 - val_loss: 0.6813\n",
      "Epoch 44/600\n",
      "41/41 [==============================] - 0s 2ms/step - loss: 0.6690 - val_loss: 0.6759\n",
      "Epoch 45/600\n",
      "41/41 [==============================] - 0s 2ms/step - loss: 0.6725 - val_loss: 0.6795\n",
      "Epoch 46/600\n",
      "41/41 [==============================] - 0s 2ms/step - loss: 0.6680 - val_loss: 0.6795\n",
      "Epoch 47/600\n",
      "41/41 [==============================] - 0s 2ms/step - loss: 0.6657 - val_loss: 0.6771\n",
      "Epoch 48/600\n",
      "41/41 [==============================] - 0s 2ms/step - loss: 0.6743 - val_loss: 0.6741\n",
      "Epoch 49/600\n",
      "41/41 [==============================] - 0s 2ms/step - loss: 0.6711 - val_loss: 0.6733\n",
      "Epoch 50/600\n",
      "41/41 [==============================] - 0s 2ms/step - loss: 0.6748 - val_loss: 0.6732\n",
      "Epoch 51/600\n",
      "41/41 [==============================] - 0s 2ms/step - loss: 0.6651 - val_loss: 0.6706\n",
      "Epoch 52/600\n",
      "41/41 [==============================] - 0s 2ms/step - loss: 0.6725 - val_loss: 0.6748\n",
      "Epoch 53/600\n",
      "41/41 [==============================] - 0s 2ms/step - loss: 0.6680 - val_loss: 0.6713\n",
      "Epoch 54/600\n",
      "41/41 [==============================] - 0s 2ms/step - loss: 0.6693 - val_loss: 0.6720\n",
      "Epoch 55/600\n",
      "41/41 [==============================] - 0s 1ms/step - loss: 0.6723 - val_loss: 0.6777\n",
      "Epoch 56/600\n",
      "41/41 [==============================] - 0s 1ms/step - loss: 0.6721 - val_loss: 0.6762\n",
      "Epoch 57/600\n",
      "41/41 [==============================] - 0s 2ms/step - loss: 0.6781 - val_loss: 0.6842\n",
      "Epoch 58/600\n",
      "41/41 [==============================] - 0s 2ms/step - loss: 0.6710 - val_loss: 0.6811\n",
      "Epoch 59/600\n",
      "41/41 [==============================] - 0s 1ms/step - loss: 0.6756 - val_loss: 0.6814\n",
      "Epoch 60/600\n",
      "41/41 [==============================] - 0s 1ms/step - loss: 0.6839 - val_loss: 0.6802\n",
      "Epoch 61/600\n",
      "41/41 [==============================] - 0s 1ms/step - loss: 0.6674 - val_loss: 0.6787\n",
      "Epoch 62/600\n",
      "41/41 [==============================] - 0s 1ms/step - loss: 0.6737 - val_loss: 0.6774\n",
      "Epoch 63/600\n",
      "41/41 [==============================] - 0s 1ms/step - loss: 0.6677 - val_loss: 0.6752\n",
      "Epoch 64/600\n",
      "41/41 [==============================] - 0s 2ms/step - loss: 0.6642 - val_loss: 0.6738\n",
      "Epoch 65/600\n",
      "41/41 [==============================] - 0s 2ms/step - loss: 0.6652 - val_loss: 0.6719\n",
      "Epoch 66/600\n",
      "41/41 [==============================] - 0s 2ms/step - loss: 0.6626 - val_loss: 0.6721\n",
      "Epoch 67/600\n",
      "41/41 [==============================] - 0s 2ms/step - loss: 0.6682 - val_loss: 0.6730\n",
      "Epoch 68/600\n",
      "41/41 [==============================] - 0s 2ms/step - loss: 0.6656 - val_loss: 0.6705\n",
      "Epoch 69/600\n",
      "41/41 [==============================] - 0s 2ms/step - loss: 0.6601 - val_loss: 0.6690\n",
      "Epoch 70/600\n",
      "41/41 [==============================] - 0s 2ms/step - loss: 0.6619 - val_loss: 0.6693\n",
      "Epoch 71/600\n",
      "41/41 [==============================] - 0s 2ms/step - loss: 0.6635 - val_loss: 0.6702\n",
      "Epoch 72/600\n",
      "41/41 [==============================] - 0s 2ms/step - loss: 0.6632 - val_loss: 0.6690\n",
      "Epoch 73/600\n",
      "41/41 [==============================] - 0s 2ms/step - loss: 0.6651 - val_loss: 0.6684\n",
      "Epoch 74/600\n",
      "41/41 [==============================] - 0s 2ms/step - loss: 0.6678 - val_loss: 0.6686\n",
      "Epoch 75/600\n",
      "41/41 [==============================] - 0s 2ms/step - loss: 0.6607 - val_loss: 0.6677\n",
      "Epoch 76/600\n",
      "41/41 [==============================] - 0s 1ms/step - loss: 0.6675 - val_loss: 0.6690\n",
      "Epoch 77/600\n",
      "41/41 [==============================] - 0s 2ms/step - loss: 0.6693 - val_loss: 0.6714\n",
      "Epoch 78/600\n",
      "41/41 [==============================] - 0s 2ms/step - loss: 0.6589 - val_loss: 0.6678\n",
      "Epoch 79/600\n",
      "41/41 [==============================] - 0s 2ms/step - loss: 0.6678 - val_loss: 0.6684\n",
      "Epoch 80/600\n",
      "41/41 [==============================] - 0s 1ms/step - loss: 0.6666 - val_loss: 0.6701\n",
      "Epoch 81/600\n",
      "41/41 [==============================] - 0s 1ms/step - loss: 0.6597 - val_loss: 0.6673\n",
      "Epoch 82/600\n",
      "41/41 [==============================] - 0s 1ms/step - loss: 0.6630 - val_loss: 0.6686\n",
      "Epoch 83/600\n"
     ]
    },
    {
     "name": "stdout",
     "output_type": "stream",
     "text": [
      "41/41 [==============================] - 0s 2ms/step - loss: 0.6664 - val_loss: 0.6700\n",
      "Epoch 84/600\n",
      "41/41 [==============================] - 0s 2ms/step - loss: 0.6556 - val_loss: 0.6695\n",
      "Epoch 85/600\n",
      "41/41 [==============================] - 0s 2ms/step - loss: 0.6621 - val_loss: 0.6703\n",
      "Epoch 86/600\n",
      "41/41 [==============================] - 0s 2ms/step - loss: 0.6616 - val_loss: 0.6675\n",
      "Epoch 87/600\n",
      "41/41 [==============================] - 0s 2ms/step - loss: 0.6695 - val_loss: 0.6676\n",
      "Epoch 88/600\n",
      "41/41 [==============================] - 0s 2ms/step - loss: 0.6654 - val_loss: 0.6685\n",
      "Epoch 89/600\n",
      "41/41 [==============================] - 0s 2ms/step - loss: 0.6652 - val_loss: 0.6678\n",
      "Epoch 90/600\n",
      "41/41 [==============================] - 0s 2ms/step - loss: 0.6633 - val_loss: 0.6679\n",
      "Epoch 91/600\n",
      "41/41 [==============================] - 0s 2ms/step - loss: 0.6601 - val_loss: 0.6679\n",
      "Epoch 92/600\n",
      "41/41 [==============================] - 0s 2ms/step - loss: 0.6534 - val_loss: 0.6649\n",
      "Epoch 93/600\n",
      "41/41 [==============================] - 0s 2ms/step - loss: 0.6604 - val_loss: 0.6712\n",
      "Epoch 94/600\n",
      "41/41 [==============================] - 0s 1ms/step - loss: 0.6623 - val_loss: 0.6647\n",
      "Epoch 95/600\n",
      "41/41 [==============================] - 0s 2ms/step - loss: 0.6683 - val_loss: 0.6668\n",
      "Epoch 96/600\n",
      "41/41 [==============================] - 0s 2ms/step - loss: 0.6607 - val_loss: 0.6641\n",
      "Epoch 97/600\n",
      "41/41 [==============================] - 0s 2ms/step - loss: 0.6686 - val_loss: 0.6683\n",
      "Epoch 98/600\n",
      "41/41 [==============================] - 0s 2ms/step - loss: 0.6624 - val_loss: 0.6655\n",
      "Epoch 99/600\n",
      "41/41 [==============================] - 0s 2ms/step - loss: 0.6566 - val_loss: 0.6669\n",
      "Epoch 100/600\n",
      "41/41 [==============================] - 0s 2ms/step - loss: 0.6652 - val_loss: 0.6659\n",
      "Epoch 101/600\n",
      "41/41 [==============================] - 0s 2ms/step - loss: 0.6629 - val_loss: 0.6667\n",
      "Epoch 102/600\n",
      "41/41 [==============================] - 0s 1ms/step - loss: 0.6568 - val_loss: 0.6671\n",
      "Epoch 103/600\n",
      "41/41 [==============================] - 0s 1ms/step - loss: 0.6659 - val_loss: 0.6633\n",
      "Epoch 104/600\n",
      "41/41 [==============================] - 0s 1ms/step - loss: 0.6567 - val_loss: 0.6662\n",
      "Epoch 105/600\n",
      "41/41 [==============================] - 0s 2ms/step - loss: 0.6596 - val_loss: 0.6685\n",
      "Epoch 106/600\n",
      "41/41 [==============================] - 0s 2ms/step - loss: 0.6568 - val_loss: 0.6653\n",
      "Epoch 107/600\n",
      "41/41 [==============================] - 0s 2ms/step - loss: 0.6609 - val_loss: 0.6651\n",
      "Epoch 108/600\n",
      "41/41 [==============================] - 0s 2ms/step - loss: 0.6669 - val_loss: 0.6671\n",
      "Epoch 109/600\n",
      "41/41 [==============================] - 0s 2ms/step - loss: 0.6607 - val_loss: 0.6652\n",
      "Epoch 110/600\n",
      "41/41 [==============================] - 0s 2ms/step - loss: 0.6594 - val_loss: 0.6650\n",
      "Epoch 111/600\n",
      "41/41 [==============================] - 0s 2ms/step - loss: 0.6537 - val_loss: 0.6625\n",
      "Epoch 112/600\n",
      "41/41 [==============================] - 0s 2ms/step - loss: 0.6582 - val_loss: 0.6635\n",
      "Epoch 113/600\n",
      "41/41 [==============================] - 0s 2ms/step - loss: 0.6630 - val_loss: 0.6612\n",
      "Epoch 114/600\n",
      "41/41 [==============================] - 0s 2ms/step - loss: 0.6543 - val_loss: 0.6619\n",
      "Epoch 115/600\n",
      "41/41 [==============================] - 0s 2ms/step - loss: 0.6518 - val_loss: 0.6567\n",
      "Epoch 116/600\n",
      "41/41 [==============================] - 0s 1ms/step - loss: 0.6664 - val_loss: 0.6646\n",
      "Epoch 117/600\n",
      "41/41 [==============================] - 0s 2ms/step - loss: 0.6701 - val_loss: 0.6636\n",
      "Epoch 118/600\n",
      "41/41 [==============================] - 0s 1ms/step - loss: 0.6669 - val_loss: 0.6636\n",
      "Epoch 119/600\n",
      "41/41 [==============================] - 0s 2ms/step - loss: 0.6628 - val_loss: 0.6625\n",
      "Epoch 120/600\n",
      "41/41 [==============================] - 0s 2ms/step - loss: 0.6644 - val_loss: 0.6640\n",
      "Epoch 121/600\n",
      "41/41 [==============================] - 0s 2ms/step - loss: 0.6519 - val_loss: 0.6570\n",
      "Epoch 122/600\n",
      "41/41 [==============================] - 0s 2ms/step - loss: 0.6621 - val_loss: 0.6585\n",
      "Epoch 123/600\n",
      "41/41 [==============================] - 0s 2ms/step - loss: 0.6599 - val_loss: 0.6606\n",
      "Epoch 124/600\n",
      "41/41 [==============================] - 0s 2ms/step - loss: 0.6592 - val_loss: 0.6603\n",
      "Epoch 125/600\n",
      "41/41 [==============================] - 0s 2ms/step - loss: 0.6593 - val_loss: 0.6578\n",
      "Epoch 126/600\n",
      "41/41 [==============================] - 0s 2ms/step - loss: 0.6487 - val_loss: 0.6555\n",
      "Epoch 127/600\n",
      "41/41 [==============================] - 0s 2ms/step - loss: 0.6541 - val_loss: 0.6581\n",
      "Epoch 128/600\n",
      "41/41 [==============================] - 0s 2ms/step - loss: 0.6618 - val_loss: 0.6579\n",
      "Epoch 129/600\n",
      "41/41 [==============================] - 0s 2ms/step - loss: 0.6592 - val_loss: 0.6567\n",
      "Epoch 130/600\n",
      "41/41 [==============================] - 0s 2ms/step - loss: 0.6597 - val_loss: 0.6566\n",
      "Epoch 131/600\n",
      "41/41 [==============================] - 0s 2ms/step - loss: 0.6589 - val_loss: 0.6557\n",
      "Epoch 132/600\n",
      "41/41 [==============================] - 0s 2ms/step - loss: 0.6510 - val_loss: 0.6564\n",
      "Epoch 133/600\n",
      "41/41 [==============================] - 0s 2ms/step - loss: 0.6474 - val_loss: 0.6546\n",
      "Epoch 134/600\n",
      "41/41 [==============================] - 0s 2ms/step - loss: 0.6597 - val_loss: 0.6571\n",
      "Epoch 135/600\n",
      "41/41 [==============================] - 0s 2ms/step - loss: 0.6660 - val_loss: 0.6559\n",
      "Epoch 136/600\n",
      "41/41 [==============================] - 0s 2ms/step - loss: 0.6601 - val_loss: 0.6552\n",
      "Epoch 137/600\n",
      "41/41 [==============================] - 0s 1ms/step - loss: 0.6593 - val_loss: 0.6543\n",
      "Epoch 138/600\n",
      "41/41 [==============================] - 0s 1ms/step - loss: 0.6511 - val_loss: 0.6557\n",
      "Epoch 139/600\n",
      "41/41 [==============================] - 0s 2ms/step - loss: 0.6689 - val_loss: 0.6571\n",
      "Epoch 140/600\n",
      "41/41 [==============================] - 0s 2ms/step - loss: 0.6621 - val_loss: 0.6550\n",
      "Epoch 141/600\n",
      "41/41 [==============================] - 0s 1ms/step - loss: 0.6489 - val_loss: 0.6552\n",
      "Epoch 142/600\n",
      "41/41 [==============================] - 0s 1ms/step - loss: 0.6614 - val_loss: 0.6562\n",
      "Epoch 143/600\n",
      "41/41 [==============================] - 0s 1ms/step - loss: 0.6529 - val_loss: 0.6546\n",
      "Epoch 144/600\n",
      "41/41 [==============================] - 0s 2ms/step - loss: 0.6560 - val_loss: 0.6588\n",
      "Epoch 145/600\n",
      "41/41 [==============================] - 0s 1ms/step - loss: 0.6502 - val_loss: 0.6593\n",
      "Epoch 146/600\n",
      "41/41 [==============================] - 0s 2ms/step - loss: 0.6546 - val_loss: 0.6554\n",
      "Epoch 147/600\n",
      "41/41 [==============================] - 0s 2ms/step - loss: 0.6425 - val_loss: 0.6555\n",
      "Epoch 148/600\n",
      "41/41 [==============================] - 0s 1ms/step - loss: 0.6575 - val_loss: 0.6550\n",
      "Epoch 149/600\n",
      "41/41 [==============================] - 0s 1ms/step - loss: 0.6586 - val_loss: 0.6544\n",
      "Epoch 150/600\n",
      "41/41 [==============================] - 0s 2ms/step - loss: 0.6550 - val_loss: 0.6569\n",
      "Epoch 151/600\n",
      "41/41 [==============================] - 0s 1ms/step - loss: 0.6582 - val_loss: 0.6564\n",
      "Epoch 152/600\n",
      "41/41 [==============================] - 0s 1ms/step - loss: 0.6544 - val_loss: 0.6552\n",
      "Epoch 153/600\n",
      "41/41 [==============================] - 0s 1ms/step - loss: 0.6552 - val_loss: 0.6555\n",
      "Epoch 154/600\n",
      "41/41 [==============================] - 0s 2ms/step - loss: 0.6487 - val_loss: 0.6538\n",
      "Epoch 155/600\n",
      "41/41 [==============================] - 0s 2ms/step - loss: 0.6553 - val_loss: 0.6546\n",
      "Epoch 156/600\n",
      "41/41 [==============================] - 0s 2ms/step - loss: 0.6571 - val_loss: 0.6543\n",
      "Epoch 157/600\n",
      "41/41 [==============================] - 0s 1ms/step - loss: 0.6519 - val_loss: 0.6572\n",
      "Epoch 158/600\n",
      "41/41 [==============================] - 0s 2ms/step - loss: 0.6536 - val_loss: 0.6567\n",
      "Epoch 159/600\n",
      "41/41 [==============================] - 0s 2ms/step - loss: 0.6553 - val_loss: 0.6546\n",
      "Epoch 160/600\n",
      "41/41 [==============================] - 0s 2ms/step - loss: 0.6534 - val_loss: 0.6582\n",
      "Epoch 161/600\n",
      "41/41 [==============================] - 0s 2ms/step - loss: 0.6535 - val_loss: 0.6568\n",
      "Epoch 162/600\n",
      "41/41 [==============================] - 0s 2ms/step - loss: 0.6633 - val_loss: 0.6590\n",
      "Epoch 163/600\n",
      "41/41 [==============================] - 0s 1ms/step - loss: 0.6502 - val_loss: 0.6541\n",
      "Epoch 164/600\n"
     ]
    },
    {
     "name": "stdout",
     "output_type": "stream",
     "text": [
      "41/41 [==============================] - 0s 2ms/step - loss: 0.6618 - val_loss: 0.6547\n",
      "Epoch 165/600\n",
      "41/41 [==============================] - 0s 1ms/step - loss: 0.6521 - val_loss: 0.6546\n",
      "Epoch 166/600\n",
      "41/41 [==============================] - 0s 1ms/step - loss: 0.6561 - val_loss: 0.6534\n",
      "Epoch 167/600\n",
      "41/41 [==============================] - 0s 1ms/step - loss: 0.6565 - val_loss: 0.6563\n",
      "Epoch 168/600\n",
      "41/41 [==============================] - 0s 1ms/step - loss: 0.6592 - val_loss: 0.6544\n",
      "Epoch 169/600\n",
      "41/41 [==============================] - 0s 1ms/step - loss: 0.6573 - val_loss: 0.6544\n",
      "Epoch 170/600\n",
      "41/41 [==============================] - 0s 1ms/step - loss: 0.6574 - val_loss: 0.6571\n",
      "Epoch 171/600\n",
      "41/41 [==============================] - 0s 2ms/step - loss: 0.6507 - val_loss: 0.6495\n",
      "Epoch 172/600\n",
      "41/41 [==============================] - 0s 2ms/step - loss: 0.6672 - val_loss: 0.6552\n",
      "Epoch 173/600\n",
      "41/41 [==============================] - 0s 2ms/step - loss: 0.6567 - val_loss: 0.6530\n",
      "Epoch 174/600\n",
      "41/41 [==============================] - 0s 1ms/step - loss: 0.6605 - val_loss: 0.6509\n",
      "Epoch 175/600\n",
      "41/41 [==============================] - 0s 1ms/step - loss: 0.6549 - val_loss: 0.6546\n",
      "Epoch 176/600\n",
      "41/41 [==============================] - 0s 1ms/step - loss: 0.6552 - val_loss: 0.6534\n",
      "Epoch 177/600\n",
      "41/41 [==============================] - 0s 1ms/step - loss: 0.6517 - val_loss: 0.6557\n",
      "Epoch 178/600\n",
      "41/41 [==============================] - 0s 2ms/step - loss: 0.6492 - val_loss: 0.6525\n",
      "Epoch 179/600\n",
      "41/41 [==============================] - 0s 2ms/step - loss: 0.6621 - val_loss: 0.6527\n",
      "Epoch 180/600\n",
      "41/41 [==============================] - 0s 2ms/step - loss: 0.6577 - val_loss: 0.6515\n",
      "Epoch 181/600\n",
      "41/41 [==============================] - 0s 2ms/step - loss: 0.6506 - val_loss: 0.6523\n",
      "Epoch 182/600\n",
      "41/41 [==============================] - 0s 1ms/step - loss: 0.6544 - val_loss: 0.6556\n",
      "Epoch 183/600\n",
      "41/41 [==============================] - 0s 1ms/step - loss: 0.6453 - val_loss: 0.6505\n",
      "Epoch 184/600\n",
      "41/41 [==============================] - 0s 1ms/step - loss: 0.6487 - val_loss: 0.6499\n",
      "Epoch 185/600\n",
      "41/41 [==============================] - 0s 2ms/step - loss: 0.6523 - val_loss: 0.6522\n",
      "Epoch 186/600\n",
      "41/41 [==============================] - 0s 2ms/step - loss: 0.6535 - val_loss: 0.6515\n",
      "Epoch 187/600\n",
      "41/41 [==============================] - 0s 2ms/step - loss: 0.6498 - val_loss: 0.6538\n",
      "Epoch 188/600\n",
      "41/41 [==============================] - 0s 1ms/step - loss: 0.6462 - val_loss: 0.6521\n",
      "Epoch 189/600\n",
      "41/41 [==============================] - 0s 1ms/step - loss: 0.6479 - val_loss: 0.6537\n",
      "Epoch 190/600\n",
      "41/41 [==============================] - 0s 2ms/step - loss: 0.6480 - val_loss: 0.6549\n",
      "Epoch 191/600\n",
      "41/41 [==============================] - 0s 1ms/step - loss: 0.6530 - val_loss: 0.6532\n",
      "Epoch 192/600\n",
      "41/41 [==============================] - 0s 2ms/step - loss: 0.6488 - val_loss: 0.6532\n",
      "Epoch 193/600\n",
      "41/41 [==============================] - 0s 2ms/step - loss: 0.6523 - val_loss: 0.6545\n",
      "Epoch 194/600\n",
      "41/41 [==============================] - 0s 2ms/step - loss: 0.6588 - val_loss: 0.6523\n",
      "Epoch 195/600\n",
      "41/41 [==============================] - 0s 2ms/step - loss: 0.6529 - val_loss: 0.6538\n",
      "Epoch 196/600\n",
      "41/41 [==============================] - 0s 1ms/step - loss: 0.6468 - val_loss: 0.6507\n",
      "Epoch 196: early stopping\n"
     ]
    },
    {
     "data": {
      "text/plain": [
       "<keras.callbacks.History at 0x1f7bb216ac0>"
      ]
     },
     "execution_count": 61,
     "metadata": {},
     "output_type": "execute_result"
    }
   ],
   "source": [
    "model.fit(x=X_train,y=y_train,epochs=600,validation_data=(X_test,y_test),callbacks=[early_stop])"
   ]
  },
  {
   "cell_type": "code",
   "execution_count": 62,
   "id": "3b85400b",
   "metadata": {},
   "outputs": [
    {
     "data": {
      "text/plain": [
       "<AxesSubplot:>"
      ]
     },
     "execution_count": 62,
     "metadata": {},
     "output_type": "execute_result"
    },
    {
     "data": {
      "image/png": "[encoded data removed]",
      "text/plain": [
       "<Figure size 432x288 with 1 Axes>"
      ]
     },
     "metadata": {
      "needs_background": "light"
     },
     "output_type": "display_data"
    }
   ],
   "source": [
    "losses = pd.DataFrame(model.history.history)\n",
    "losses.plot()"
   ]
  },
  {
   "cell_type": "code",
   "execution_count": 63,
   "id": "48e9c6c8",
   "metadata": {},
   "outputs": [],
   "source": [
    "predictions = (model.predict(X_test) > 0.5).astype(\"int32\")"
   ]
  },
  {
   "cell_type": "code",
   "execution_count": 64,
   "id": "35bd4dda",
   "metadata": {},
   "outputs": [
    {
     "name": "stdout",
     "output_type": "stream",
     "text": [
      "Accuracy Score: 0.632398753894081\n",
      "\n",
      "\n",
      "              precision    recall  f1-score   support\n",
      "\n",
      "           0       0.82      0.34      0.48       161\n",
      "           1       0.58      0.93      0.71       160\n",
      "\n",
      "    accuracy                           0.63       321\n",
      "   macro avg       0.70      0.63      0.60       321\n",
      "weighted avg       0.70      0.63      0.60       321\n",
      "\n",
      "\n",
      "\n",
      "[[ 55 106]\n",
      " [ 12 148]]\n"
     ]
    }
   ],
   "source": [
    "print('Accuracy Score:',accuracy_score(y_test,predictions))\n",
    "print('\\n')\n",
    "print(classification_report(y_test,predictions))\n",
    "print('\\n')\n",
    "print(confusion_matrix(y_test,predictions))"
   ]
  },
  {
   "cell_type": "code",
   "execution_count": null,
   "id": "ddf92f01",
   "metadata": {},
   "outputs": [],
   "source": []
  },
  {
   "cell_type": "code",
   "execution_count": null,
   "id": "8ccdba30",
   "metadata": {},
   "outputs": [],
   "source": []
  }
 ],
 "metadata": {
  "kernelspec": {
   "display_name": "Python 3",
   "language": "python",
   "name": "python3"
  },
  "language_info": {
   "codemirror_mode": {
    "name": "ipython",
    "version": 3
   },
   "file_extension": ".py",
   "mimetype": "text/x-python",
   "name": "python",
   "nbconvert_exporter": "python",
   "pygments_lexer": "ipython3",
   "version": "3.8.8"
  }
 },
 "nbformat": 4,
 "nbformat_minor": 5
}
