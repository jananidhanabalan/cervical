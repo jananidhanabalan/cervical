{
 "cells": [
  {
   "cell_type": "code",
   "execution_count": 1,
   "id": "b8fd1173",
   "metadata": {},
   "outputs": [],
   "source": [
    "import pandas as pd\n",
    "import numpy as np\n",
    "import matplotlib.pyplot as plt\n",
    "import seaborn as sns\n",
    "%matplotlib inline"
   ]
  },
  {
   "cell_type": "code",
   "execution_count": 2,
   "id": "d8c79192",
   "metadata": {},
   "outputs": [],
   "source": [
    "df = pd.read_csv(\"Clean Data_2.csv\")"
   ]
  },
  {
   "cell_type": "code",
   "execution_count": 3,
   "id": "4c1d15e0",
   "metadata": {},
   "outputs": [
    {
     "data": {
      "text/html": [
       "<div>\n",
       "<style scoped>\n",
       "    .dataframe tbody tr th:only-of-type {\n",
       "        vertical-align: middle;\n",
       "    }\n",
       "\n",
       "    .dataframe tbody tr th {\n",
       "        vertical-align: top;\n",
       "    }\n",
       "\n",
       "    .dataframe thead th {\n",
       "        text-align: right;\n",
       "    }\n",
       "</style>\n",
       "<table border=\"1\" class=\"dataframe\">\n",
       "  <thead>\n",
       "    <tr style=\"text-align: right;\">\n",
       "      <th></th>\n",
       "      <th>Unnamed: 0</th>\n",
       "      <th>Age</th>\n",
       "      <th>Number of sexual partners</th>\n",
       "      <th>First sexual intercourse</th>\n",
       "      <th>Num of pregnancies</th>\n",
       "      <th>Smokes</th>\n",
       "      <th>Smokes (years)</th>\n",
       "      <th>Smokes (packs/year)</th>\n",
       "      <th>Hormonal Contraceptives</th>\n",
       "      <th>Hormonal Contraceptives (years)</th>\n",
       "      <th>...</th>\n",
       "      <th>STDs:HIV</th>\n",
       "      <th>STDs: Number of diagnosis</th>\n",
       "      <th>Dx:Cancer</th>\n",
       "      <th>Dx:CIN</th>\n",
       "      <th>Dx:HPV</th>\n",
       "      <th>Dx</th>\n",
       "      <th>Hinselmann</th>\n",
       "      <th>Schiller</th>\n",
       "      <th>Citology</th>\n",
       "      <th>Biopsy</th>\n",
       "    </tr>\n",
       "  </thead>\n",
       "  <tbody>\n",
       "    <tr>\n",
       "      <th>0</th>\n",
       "      <td>0</td>\n",
       "      <td>18</td>\n",
       "      <td>4.0</td>\n",
       "      <td>15.0</td>\n",
       "      <td>1.0</td>\n",
       "      <td>0.0</td>\n",
       "      <td>0.0</td>\n",
       "      <td>0.0</td>\n",
       "      <td>0.0</td>\n",
       "      <td>0.00</td>\n",
       "      <td>...</td>\n",
       "      <td>0.0</td>\n",
       "      <td>0</td>\n",
       "      <td>0</td>\n",
       "      <td>0</td>\n",
       "      <td>0</td>\n",
       "      <td>0</td>\n",
       "      <td>0</td>\n",
       "      <td>0</td>\n",
       "      <td>0</td>\n",
       "      <td>0</td>\n",
       "    </tr>\n",
       "    <tr>\n",
       "      <th>1</th>\n",
       "      <td>1</td>\n",
       "      <td>15</td>\n",
       "      <td>1.0</td>\n",
       "      <td>14.0</td>\n",
       "      <td>1.0</td>\n",
       "      <td>0.0</td>\n",
       "      <td>0.0</td>\n",
       "      <td>0.0</td>\n",
       "      <td>0.0</td>\n",
       "      <td>0.00</td>\n",
       "      <td>...</td>\n",
       "      <td>0.0</td>\n",
       "      <td>0</td>\n",
       "      <td>0</td>\n",
       "      <td>0</td>\n",
       "      <td>0</td>\n",
       "      <td>0</td>\n",
       "      <td>0</td>\n",
       "      <td>0</td>\n",
       "      <td>0</td>\n",
       "      <td>0</td>\n",
       "    </tr>\n",
       "    <tr>\n",
       "      <th>2</th>\n",
       "      <td>2</td>\n",
       "      <td>34</td>\n",
       "      <td>1.0</td>\n",
       "      <td>17.0</td>\n",
       "      <td>1.0</td>\n",
       "      <td>0.0</td>\n",
       "      <td>0.0</td>\n",
       "      <td>0.0</td>\n",
       "      <td>0.0</td>\n",
       "      <td>0.00</td>\n",
       "      <td>...</td>\n",
       "      <td>0.0</td>\n",
       "      <td>0</td>\n",
       "      <td>0</td>\n",
       "      <td>0</td>\n",
       "      <td>0</td>\n",
       "      <td>0</td>\n",
       "      <td>0</td>\n",
       "      <td>0</td>\n",
       "      <td>0</td>\n",
       "      <td>0</td>\n",
       "    </tr>\n",
       "    <tr>\n",
       "      <th>3</th>\n",
       "      <td>3</td>\n",
       "      <td>52</td>\n",
       "      <td>5.0</td>\n",
       "      <td>16.0</td>\n",
       "      <td>4.0</td>\n",
       "      <td>1.0</td>\n",
       "      <td>37.0</td>\n",
       "      <td>37.0</td>\n",
       "      <td>1.0</td>\n",
       "      <td>3.00</td>\n",
       "      <td>...</td>\n",
       "      <td>0.0</td>\n",
       "      <td>0</td>\n",
       "      <td>1</td>\n",
       "      <td>0</td>\n",
       "      <td>1</td>\n",
       "      <td>0</td>\n",
       "      <td>0</td>\n",
       "      <td>0</td>\n",
       "      <td>0</td>\n",
       "      <td>0</td>\n",
       "    </tr>\n",
       "    <tr>\n",
       "      <th>4</th>\n",
       "      <td>4</td>\n",
       "      <td>46</td>\n",
       "      <td>3.0</td>\n",
       "      <td>21.0</td>\n",
       "      <td>4.0</td>\n",
       "      <td>0.0</td>\n",
       "      <td>0.0</td>\n",
       "      <td>0.0</td>\n",
       "      <td>1.0</td>\n",
       "      <td>15.00</td>\n",
       "      <td>...</td>\n",
       "      <td>0.0</td>\n",
       "      <td>0</td>\n",
       "      <td>0</td>\n",
       "      <td>0</td>\n",
       "      <td>0</td>\n",
       "      <td>0</td>\n",
       "      <td>0</td>\n",
       "      <td>0</td>\n",
       "      <td>0</td>\n",
       "      <td>0</td>\n",
       "    </tr>\n",
       "    <tr>\n",
       "      <th>...</th>\n",
       "      <td>...</td>\n",
       "      <td>...</td>\n",
       "      <td>...</td>\n",
       "      <td>...</td>\n",
       "      <td>...</td>\n",
       "      <td>...</td>\n",
       "      <td>...</td>\n",
       "      <td>...</td>\n",
       "      <td>...</td>\n",
       "      <td>...</td>\n",
       "      <td>...</td>\n",
       "      <td>...</td>\n",
       "      <td>...</td>\n",
       "      <td>...</td>\n",
       "      <td>...</td>\n",
       "      <td>...</td>\n",
       "      <td>...</td>\n",
       "      <td>...</td>\n",
       "      <td>...</td>\n",
       "      <td>...</td>\n",
       "      <td>...</td>\n",
       "    </tr>\n",
       "    <tr>\n",
       "      <th>851</th>\n",
       "      <td>851</td>\n",
       "      <td>34</td>\n",
       "      <td>3.0</td>\n",
       "      <td>18.0</td>\n",
       "      <td>0.0</td>\n",
       "      <td>0.0</td>\n",
       "      <td>0.0</td>\n",
       "      <td>0.0</td>\n",
       "      <td>0.0</td>\n",
       "      <td>0.00</td>\n",
       "      <td>...</td>\n",
       "      <td>0.0</td>\n",
       "      <td>0</td>\n",
       "      <td>0</td>\n",
       "      <td>0</td>\n",
       "      <td>0</td>\n",
       "      <td>0</td>\n",
       "      <td>0</td>\n",
       "      <td>0</td>\n",
       "      <td>0</td>\n",
       "      <td>0</td>\n",
       "    </tr>\n",
       "    <tr>\n",
       "      <th>852</th>\n",
       "      <td>852</td>\n",
       "      <td>32</td>\n",
       "      <td>2.0</td>\n",
       "      <td>19.0</td>\n",
       "      <td>1.0</td>\n",
       "      <td>0.0</td>\n",
       "      <td>0.0</td>\n",
       "      <td>0.0</td>\n",
       "      <td>1.0</td>\n",
       "      <td>8.00</td>\n",
       "      <td>...</td>\n",
       "      <td>0.0</td>\n",
       "      <td>0</td>\n",
       "      <td>0</td>\n",
       "      <td>0</td>\n",
       "      <td>0</td>\n",
       "      <td>0</td>\n",
       "      <td>0</td>\n",
       "      <td>0</td>\n",
       "      <td>0</td>\n",
       "      <td>0</td>\n",
       "    </tr>\n",
       "    <tr>\n",
       "      <th>853</th>\n",
       "      <td>853</td>\n",
       "      <td>25</td>\n",
       "      <td>2.0</td>\n",
       "      <td>17.0</td>\n",
       "      <td>0.0</td>\n",
       "      <td>0.0</td>\n",
       "      <td>0.0</td>\n",
       "      <td>0.0</td>\n",
       "      <td>1.0</td>\n",
       "      <td>0.08</td>\n",
       "      <td>...</td>\n",
       "      <td>0.0</td>\n",
       "      <td>0</td>\n",
       "      <td>0</td>\n",
       "      <td>0</td>\n",
       "      <td>0</td>\n",
       "      <td>0</td>\n",
       "      <td>0</td>\n",
       "      <td>0</td>\n",
       "      <td>1</td>\n",
       "      <td>0</td>\n",
       "    </tr>\n",
       "    <tr>\n",
       "      <th>854</th>\n",
       "      <td>854</td>\n",
       "      <td>33</td>\n",
       "      <td>2.0</td>\n",
       "      <td>24.0</td>\n",
       "      <td>2.0</td>\n",
       "      <td>0.0</td>\n",
       "      <td>0.0</td>\n",
       "      <td>0.0</td>\n",
       "      <td>1.0</td>\n",
       "      <td>0.08</td>\n",
       "      <td>...</td>\n",
       "      <td>0.0</td>\n",
       "      <td>0</td>\n",
       "      <td>0</td>\n",
       "      <td>0</td>\n",
       "      <td>0</td>\n",
       "      <td>0</td>\n",
       "      <td>0</td>\n",
       "      <td>0</td>\n",
       "      <td>0</td>\n",
       "      <td>0</td>\n",
       "    </tr>\n",
       "    <tr>\n",
       "      <th>855</th>\n",
       "      <td>855</td>\n",
       "      <td>29</td>\n",
       "      <td>2.0</td>\n",
       "      <td>20.0</td>\n",
       "      <td>1.0</td>\n",
       "      <td>0.0</td>\n",
       "      <td>0.0</td>\n",
       "      <td>0.0</td>\n",
       "      <td>1.0</td>\n",
       "      <td>0.50</td>\n",
       "      <td>...</td>\n",
       "      <td>0.0</td>\n",
       "      <td>0</td>\n",
       "      <td>0</td>\n",
       "      <td>0</td>\n",
       "      <td>0</td>\n",
       "      <td>0</td>\n",
       "      <td>0</td>\n",
       "      <td>0</td>\n",
       "      <td>0</td>\n",
       "      <td>0</td>\n",
       "    </tr>\n",
       "  </tbody>\n",
       "</table>\n",
       "<p>856 rows × 26 columns</p>\n",
       "</div>"
      ],
      "text/plain": [
       "     Unnamed: 0  Age  Number of sexual partners  First sexual intercourse  \\\n",
       "0             0   18                        4.0                      15.0   \n",
       "1             1   15                        1.0                      14.0   \n",
       "2             2   34                        1.0                      17.0   \n",
       "3             3   52                        5.0                      16.0   \n",
       "4             4   46                        3.0                      21.0   \n",
       "..          ...  ...                        ...                       ...   \n",
       "851         851   34                        3.0                      18.0   \n",
       "852         852   32                        2.0                      19.0   \n",
       "853         853   25                        2.0                      17.0   \n",
       "854         854   33                        2.0                      24.0   \n",
       "855         855   29                        2.0                      20.0   \n",
       "\n",
       "     Num of pregnancies  Smokes  Smokes (years)  Smokes (packs/year)  \\\n",
       "0                   1.0     0.0             0.0                  0.0   \n",
       "1                   1.0     0.0             0.0                  0.0   \n",
       "2                   1.0     0.0             0.0                  0.0   \n",
       "3                   4.0     1.0            37.0                 37.0   \n",
       "4                   4.0     0.0             0.0                  0.0   \n",
       "..                  ...     ...             ...                  ...   \n",
       "851                 0.0     0.0             0.0                  0.0   \n",
       "852                 1.0     0.0             0.0                  0.0   \n",
       "853                 0.0     0.0             0.0                  0.0   \n",
       "854                 2.0     0.0             0.0                  0.0   \n",
       "855                 1.0     0.0             0.0                  0.0   \n",
       "\n",
       "     Hormonal Contraceptives  Hormonal Contraceptives (years)  ...  STDs:HIV  \\\n",
       "0                        0.0                             0.00  ...       0.0   \n",
       "1                        0.0                             0.00  ...       0.0   \n",
       "2                        0.0                             0.00  ...       0.0   \n",
       "3                        1.0                             3.00  ...       0.0   \n",
       "4                        1.0                            15.00  ...       0.0   \n",
       "..                       ...                              ...  ...       ...   \n",
       "851                      0.0                             0.00  ...       0.0   \n",
       "852                      1.0                             8.00  ...       0.0   \n",
       "853                      1.0                             0.08  ...       0.0   \n",
       "854                      1.0                             0.08  ...       0.0   \n",
       "855                      1.0                             0.50  ...       0.0   \n",
       "\n",
       "     STDs: Number of diagnosis  Dx:Cancer  Dx:CIN  Dx:HPV  Dx  Hinselmann  \\\n",
       "0                            0          0       0       0   0           0   \n",
       "1                            0          0       0       0   0           0   \n",
       "2                            0          0       0       0   0           0   \n",
       "3                            0          1       0       1   0           0   \n",
       "4                            0          0       0       0   0           0   \n",
       "..                         ...        ...     ...     ...  ..         ...   \n",
       "851                          0          0       0       0   0           0   \n",
       "852                          0          0       0       0   0           0   \n",
       "853                          0          0       0       0   0           0   \n",
       "854                          0          0       0       0   0           0   \n",
       "855                          0          0       0       0   0           0   \n",
       "\n",
       "     Schiller  Citology  Biopsy  \n",
       "0           0         0       0  \n",
       "1           0         0       0  \n",
       "2           0         0       0  \n",
       "3           0         0       0  \n",
       "4           0         0       0  \n",
       "..        ...       ...     ...  \n",
       "851         0         0       0  \n",
       "852         0         0       0  \n",
       "853         0         1       0  \n",
       "854         0         0       0  \n",
       "855         0         0       0  \n",
       "\n",
       "[856 rows x 26 columns]"
      ]
     },
     "execution_count": 3,
     "metadata": {},
     "output_type": "execute_result"
    }
   ],
   "source": [
    "df"
   ]
  },
  {
   "cell_type": "code",
   "execution_count": 4,
   "id": "90e204b0",
   "metadata": {},
   "outputs": [],
   "source": [
    "df.drop('Unnamed: 0',inplace=True,axis=1)"
   ]
  },
  {
   "cell_type": "code",
   "execution_count": 5,
   "id": "f5e1a473",
   "metadata": {},
   "outputs": [
    {
     "data": {
      "text/html": [
       "<div>\n",
       "<style scoped>\n",
       "    .dataframe tbody tr th:only-of-type {\n",
       "        vertical-align: middle;\n",
       "    }\n",
       "\n",
       "    .dataframe tbody tr th {\n",
       "        vertical-align: top;\n",
       "    }\n",
       "\n",
       "    .dataframe thead th {\n",
       "        text-align: right;\n",
       "    }\n",
       "</style>\n",
       "<table border=\"1\" class=\"dataframe\">\n",
       "  <thead>\n",
       "    <tr style=\"text-align: right;\">\n",
       "      <th></th>\n",
       "      <th>Age</th>\n",
       "      <th>Number of sexual partners</th>\n",
       "      <th>First sexual intercourse</th>\n",
       "      <th>Num of pregnancies</th>\n",
       "      <th>Smokes</th>\n",
       "      <th>Smokes (years)</th>\n",
       "      <th>Smokes (packs/year)</th>\n",
       "      <th>Hormonal Contraceptives</th>\n",
       "      <th>Hormonal Contraceptives (years)</th>\n",
       "      <th>IUD</th>\n",
       "      <th>...</th>\n",
       "      <th>STDs:HIV</th>\n",
       "      <th>STDs: Number of diagnosis</th>\n",
       "      <th>Dx:Cancer</th>\n",
       "      <th>Dx:CIN</th>\n",
       "      <th>Dx:HPV</th>\n",
       "      <th>Dx</th>\n",
       "      <th>Hinselmann</th>\n",
       "      <th>Schiller</th>\n",
       "      <th>Citology</th>\n",
       "      <th>Biopsy</th>\n",
       "    </tr>\n",
       "  </thead>\n",
       "  <tbody>\n",
       "    <tr>\n",
       "      <th>0</th>\n",
       "      <td>18</td>\n",
       "      <td>4.0</td>\n",
       "      <td>15.0</td>\n",
       "      <td>1.0</td>\n",
       "      <td>0.0</td>\n",
       "      <td>0.0</td>\n",
       "      <td>0.0</td>\n",
       "      <td>0.0</td>\n",
       "      <td>0.00</td>\n",
       "      <td>0.0</td>\n",
       "      <td>...</td>\n",
       "      <td>0.0</td>\n",
       "      <td>0</td>\n",
       "      <td>0</td>\n",
       "      <td>0</td>\n",
       "      <td>0</td>\n",
       "      <td>0</td>\n",
       "      <td>0</td>\n",
       "      <td>0</td>\n",
       "      <td>0</td>\n",
       "      <td>0</td>\n",
       "    </tr>\n",
       "    <tr>\n",
       "      <th>1</th>\n",
       "      <td>15</td>\n",
       "      <td>1.0</td>\n",
       "      <td>14.0</td>\n",
       "      <td>1.0</td>\n",
       "      <td>0.0</td>\n",
       "      <td>0.0</td>\n",
       "      <td>0.0</td>\n",
       "      <td>0.0</td>\n",
       "      <td>0.00</td>\n",
       "      <td>0.0</td>\n",
       "      <td>...</td>\n",
       "      <td>0.0</td>\n",
       "      <td>0</td>\n",
       "      <td>0</td>\n",
       "      <td>0</td>\n",
       "      <td>0</td>\n",
       "      <td>0</td>\n",
       "      <td>0</td>\n",
       "      <td>0</td>\n",
       "      <td>0</td>\n",
       "      <td>0</td>\n",
       "    </tr>\n",
       "    <tr>\n",
       "      <th>2</th>\n",
       "      <td>34</td>\n",
       "      <td>1.0</td>\n",
       "      <td>17.0</td>\n",
       "      <td>1.0</td>\n",
       "      <td>0.0</td>\n",
       "      <td>0.0</td>\n",
       "      <td>0.0</td>\n",
       "      <td>0.0</td>\n",
       "      <td>0.00</td>\n",
       "      <td>0.0</td>\n",
       "      <td>...</td>\n",
       "      <td>0.0</td>\n",
       "      <td>0</td>\n",
       "      <td>0</td>\n",
       "      <td>0</td>\n",
       "      <td>0</td>\n",
       "      <td>0</td>\n",
       "      <td>0</td>\n",
       "      <td>0</td>\n",
       "      <td>0</td>\n",
       "      <td>0</td>\n",
       "    </tr>\n",
       "    <tr>\n",
       "      <th>3</th>\n",
       "      <td>52</td>\n",
       "      <td>5.0</td>\n",
       "      <td>16.0</td>\n",
       "      <td>4.0</td>\n",
       "      <td>1.0</td>\n",
       "      <td>37.0</td>\n",
       "      <td>37.0</td>\n",
       "      <td>1.0</td>\n",
       "      <td>3.00</td>\n",
       "      <td>0.0</td>\n",
       "      <td>...</td>\n",
       "      <td>0.0</td>\n",
       "      <td>0</td>\n",
       "      <td>1</td>\n",
       "      <td>0</td>\n",
       "      <td>1</td>\n",
       "      <td>0</td>\n",
       "      <td>0</td>\n",
       "      <td>0</td>\n",
       "      <td>0</td>\n",
       "      <td>0</td>\n",
       "    </tr>\n",
       "    <tr>\n",
       "      <th>4</th>\n",
       "      <td>46</td>\n",
       "      <td>3.0</td>\n",
       "      <td>21.0</td>\n",
       "      <td>4.0</td>\n",
       "      <td>0.0</td>\n",
       "      <td>0.0</td>\n",
       "      <td>0.0</td>\n",
       "      <td>1.0</td>\n",
       "      <td>15.00</td>\n",
       "      <td>0.0</td>\n",
       "      <td>...</td>\n",
       "      <td>0.0</td>\n",
       "      <td>0</td>\n",
       "      <td>0</td>\n",
       "      <td>0</td>\n",
       "      <td>0</td>\n",
       "      <td>0</td>\n",
       "      <td>0</td>\n",
       "      <td>0</td>\n",
       "      <td>0</td>\n",
       "      <td>0</td>\n",
       "    </tr>\n",
       "    <tr>\n",
       "      <th>...</th>\n",
       "      <td>...</td>\n",
       "      <td>...</td>\n",
       "      <td>...</td>\n",
       "      <td>...</td>\n",
       "      <td>...</td>\n",
       "      <td>...</td>\n",
       "      <td>...</td>\n",
       "      <td>...</td>\n",
       "      <td>...</td>\n",
       "      <td>...</td>\n",
       "      <td>...</td>\n",
       "      <td>...</td>\n",
       "      <td>...</td>\n",
       "      <td>...</td>\n",
       "      <td>...</td>\n",
       "      <td>...</td>\n",
       "      <td>...</td>\n",
       "      <td>...</td>\n",
       "      <td>...</td>\n",
       "      <td>...</td>\n",
       "      <td>...</td>\n",
       "    </tr>\n",
       "    <tr>\n",
       "      <th>851</th>\n",
       "      <td>34</td>\n",
       "      <td>3.0</td>\n",
       "      <td>18.0</td>\n",
       "      <td>0.0</td>\n",
       "      <td>0.0</td>\n",
       "      <td>0.0</td>\n",
       "      <td>0.0</td>\n",
       "      <td>0.0</td>\n",
       "      <td>0.00</td>\n",
       "      <td>0.0</td>\n",
       "      <td>...</td>\n",
       "      <td>0.0</td>\n",
       "      <td>0</td>\n",
       "      <td>0</td>\n",
       "      <td>0</td>\n",
       "      <td>0</td>\n",
       "      <td>0</td>\n",
       "      <td>0</td>\n",
       "      <td>0</td>\n",
       "      <td>0</td>\n",
       "      <td>0</td>\n",
       "    </tr>\n",
       "    <tr>\n",
       "      <th>852</th>\n",
       "      <td>32</td>\n",
       "      <td>2.0</td>\n",
       "      <td>19.0</td>\n",
       "      <td>1.0</td>\n",
       "      <td>0.0</td>\n",
       "      <td>0.0</td>\n",
       "      <td>0.0</td>\n",
       "      <td>1.0</td>\n",
       "      <td>8.00</td>\n",
       "      <td>0.0</td>\n",
       "      <td>...</td>\n",
       "      <td>0.0</td>\n",
       "      <td>0</td>\n",
       "      <td>0</td>\n",
       "      <td>0</td>\n",
       "      <td>0</td>\n",
       "      <td>0</td>\n",
       "      <td>0</td>\n",
       "      <td>0</td>\n",
       "      <td>0</td>\n",
       "      <td>0</td>\n",
       "    </tr>\n",
       "    <tr>\n",
       "      <th>853</th>\n",
       "      <td>25</td>\n",
       "      <td>2.0</td>\n",
       "      <td>17.0</td>\n",
       "      <td>0.0</td>\n",
       "      <td>0.0</td>\n",
       "      <td>0.0</td>\n",
       "      <td>0.0</td>\n",
       "      <td>1.0</td>\n",
       "      <td>0.08</td>\n",
       "      <td>0.0</td>\n",
       "      <td>...</td>\n",
       "      <td>0.0</td>\n",
       "      <td>0</td>\n",
       "      <td>0</td>\n",
       "      <td>0</td>\n",
       "      <td>0</td>\n",
       "      <td>0</td>\n",
       "      <td>0</td>\n",
       "      <td>0</td>\n",
       "      <td>1</td>\n",
       "      <td>0</td>\n",
       "    </tr>\n",
       "    <tr>\n",
       "      <th>854</th>\n",
       "      <td>33</td>\n",
       "      <td>2.0</td>\n",
       "      <td>24.0</td>\n",
       "      <td>2.0</td>\n",
       "      <td>0.0</td>\n",
       "      <td>0.0</td>\n",
       "      <td>0.0</td>\n",
       "      <td>1.0</td>\n",
       "      <td>0.08</td>\n",
       "      <td>0.0</td>\n",
       "      <td>...</td>\n",
       "      <td>0.0</td>\n",
       "      <td>0</td>\n",
       "      <td>0</td>\n",
       "      <td>0</td>\n",
       "      <td>0</td>\n",
       "      <td>0</td>\n",
       "      <td>0</td>\n",
       "      <td>0</td>\n",
       "      <td>0</td>\n",
       "      <td>0</td>\n",
       "    </tr>\n",
       "    <tr>\n",
       "      <th>855</th>\n",
       "      <td>29</td>\n",
       "      <td>2.0</td>\n",
       "      <td>20.0</td>\n",
       "      <td>1.0</td>\n",
       "      <td>0.0</td>\n",
       "      <td>0.0</td>\n",
       "      <td>0.0</td>\n",
       "      <td>1.0</td>\n",
       "      <td>0.50</td>\n",
       "      <td>0.0</td>\n",
       "      <td>...</td>\n",
       "      <td>0.0</td>\n",
       "      <td>0</td>\n",
       "      <td>0</td>\n",
       "      <td>0</td>\n",
       "      <td>0</td>\n",
       "      <td>0</td>\n",
       "      <td>0</td>\n",
       "      <td>0</td>\n",
       "      <td>0</td>\n",
       "      <td>0</td>\n",
       "    </tr>\n",
       "  </tbody>\n",
       "</table>\n",
       "<p>856 rows × 25 columns</p>\n",
       "</div>"
      ],
      "text/plain": [
       "     Age  Number of sexual partners  First sexual intercourse  \\\n",
       "0     18                        4.0                      15.0   \n",
       "1     15                        1.0                      14.0   \n",
       "2     34                        1.0                      17.0   \n",
       "3     52                        5.0                      16.0   \n",
       "4     46                        3.0                      21.0   \n",
       "..   ...                        ...                       ...   \n",
       "851   34                        3.0                      18.0   \n",
       "852   32                        2.0                      19.0   \n",
       "853   25                        2.0                      17.0   \n",
       "854   33                        2.0                      24.0   \n",
       "855   29                        2.0                      20.0   \n",
       "\n",
       "     Num of pregnancies  Smokes  Smokes (years)  Smokes (packs/year)  \\\n",
       "0                   1.0     0.0             0.0                  0.0   \n",
       "1                   1.0     0.0             0.0                  0.0   \n",
       "2                   1.0     0.0             0.0                  0.0   \n",
       "3                   4.0     1.0            37.0                 37.0   \n",
       "4                   4.0     0.0             0.0                  0.0   \n",
       "..                  ...     ...             ...                  ...   \n",
       "851                 0.0     0.0             0.0                  0.0   \n",
       "852                 1.0     0.0             0.0                  0.0   \n",
       "853                 0.0     0.0             0.0                  0.0   \n",
       "854                 2.0     0.0             0.0                  0.0   \n",
       "855                 1.0     0.0             0.0                  0.0   \n",
       "\n",
       "     Hormonal Contraceptives  Hormonal Contraceptives (years)  IUD  ...  \\\n",
       "0                        0.0                             0.00  0.0  ...   \n",
       "1                        0.0                             0.00  0.0  ...   \n",
       "2                        0.0                             0.00  0.0  ...   \n",
       "3                        1.0                             3.00  0.0  ...   \n",
       "4                        1.0                            15.00  0.0  ...   \n",
       "..                       ...                              ...  ...  ...   \n",
       "851                      0.0                             0.00  0.0  ...   \n",
       "852                      1.0                             8.00  0.0  ...   \n",
       "853                      1.0                             0.08  0.0  ...   \n",
       "854                      1.0                             0.08  0.0  ...   \n",
       "855                      1.0                             0.50  0.0  ...   \n",
       "\n",
       "     STDs:HIV  STDs: Number of diagnosis  Dx:Cancer  Dx:CIN  Dx:HPV  Dx  \\\n",
       "0         0.0                          0          0       0       0   0   \n",
       "1         0.0                          0          0       0       0   0   \n",
       "2         0.0                          0          0       0       0   0   \n",
       "3         0.0                          0          1       0       1   0   \n",
       "4         0.0                          0          0       0       0   0   \n",
       "..        ...                        ...        ...     ...     ...  ..   \n",
       "851       0.0                          0          0       0       0   0   \n",
       "852       0.0                          0          0       0       0   0   \n",
       "853       0.0                          0          0       0       0   0   \n",
       "854       0.0                          0          0       0       0   0   \n",
       "855       0.0                          0          0       0       0   0   \n",
       "\n",
       "     Hinselmann  Schiller  Citology  Biopsy  \n",
       "0             0         0         0       0  \n",
       "1             0         0         0       0  \n",
       "2             0         0         0       0  \n",
       "3             0         0         0       0  \n",
       "4             0         0         0       0  \n",
       "..          ...       ...       ...     ...  \n",
       "851           0         0         0       0  \n",
       "852           0         0         0       0  \n",
       "853           0         0         1       0  \n",
       "854           0         0         0       0  \n",
       "855           0         0         0       0  \n",
       "\n",
       "[856 rows x 25 columns]"
      ]
     },
     "execution_count": 5,
     "metadata": {},
     "output_type": "execute_result"
    }
   ],
   "source": [
    "df"
   ]
  },
  {
   "cell_type": "code",
   "execution_count": 7,
   "id": "018a48b1",
   "metadata": {},
   "outputs": [
    {
     "data": {
      "text/plain": [
       "55"
      ]
     },
     "execution_count": 7,
     "metadata": {},
     "output_type": "execute_result"
    }
   ],
   "source": [
    "len(df[df['Biopsy']==1])"
   ]
  },
  {
   "cell_type": "code",
   "execution_count": 8,
   "id": "cd0af845",
   "metadata": {},
   "outputs": [
    {
     "data": {
      "text/plain": [
       "0.06425233644859812"
      ]
     },
     "execution_count": 8,
     "metadata": {},
     "output_type": "execute_result"
    }
   ],
   "source": [
    "len(df[df['Biopsy']==1])/len(df)"
   ]
  },
  {
   "cell_type": "code",
   "execution_count": 9,
   "id": "c432fcab",
   "metadata": {},
   "outputs": [
    {
     "name": "stdout",
     "output_type": "stream",
     "text": [
      "Counter({0: 801, 1: 55})\n",
      "Counter({1: 826, 0: 801})\n"
     ]
    },
    {
     "data": {
      "text/plain": [
       "<matplotlib.legend.Legend at 0x207ba75dfa0>"
      ]
     },
     "execution_count": 9,
     "metadata": {},
     "output_type": "execute_result"
    },
    {
     "data": {
      "image/png": "[encoded data removed]",
      "text/plain": [
       "<Figure size 432x288 with 1 Axes>"
      ]
     },
     "metadata": {
      "needs_background": "light"
     },
     "output_type": "display_data"
    }
   ],
   "source": [
    "# Oversample and plot imbalanced dataset with ADASYN\n",
    "from collections import Counter\n",
    "from sklearn.datasets import make_classification\n",
    "from imblearn.over_sampling import ADASYN\n",
    "from matplotlib import pyplot\n",
    "from numpy import where\n",
    "# define dataset\n",
    "X = df.drop(['Hinselmann','Schiller','Citology','Biopsy'],axis=1).values\n",
    "y = df['Biopsy'].values\n",
    "# summarize class distribution\n",
    "counter = Counter(y)\n",
    "print(counter)\n",
    "# transform the dataset\n",
    "oversample = ADASYN()\n",
    "X, y = oversample.fit_resample(X, y)\n",
    "# summarize the new class distribution\n",
    "counter = Counter(y)\n",
    "print(counter)\n",
    "# scatter plot of examples by class label\n",
    "for label, _ in counter.items():\n",
    "    row_ix = where(y == label)[0]\n",
    "    pyplot.scatter(X[row_ix, 0], X[row_ix, 1], label=str(label))\n",
    "pyplot.legend()"
   ]
  },
  {
   "cell_type": "code",
   "execution_count": 10,
   "id": "643766a9",
   "metadata": {},
   "outputs": [],
   "source": [
    "from sklearn.tree import DecisionTreeClassifier\n",
    "from sklearn.svm import SVC\n",
    "from sklearn.neighbors import KNeighborsClassifier\n",
    "from sklearn.linear_model import LogisticRegression\n",
    "from sklearn.ensemble import RandomForestClassifier\n",
    "from sklearn.model_selection import cross_val_score\n",
    "from sklearn.model_selection import GridSearchCV\n",
    "from sklearn.naive_bayes import GaussianNB\n",
    "from sklearn.metrics import accuracy_score, confusion_matrix, classification_report\n",
    "import xgboost as xgb\n",
    "from sklearn.ensemble import ExtraTreesClassifier\n",
    "from sklearn.feature_selection import SelectFromModel"
   ]
  },
  {
   "cell_type": "code",
   "execution_count": 11,
   "id": "55f72bf7",
   "metadata": {},
   "outputs": [],
   "source": [
    "from sklearn.model_selection import train_test_split"
   ]
  },
  {
   "cell_type": "code",
   "execution_count": 12,
   "id": "1ec6f892",
   "metadata": {},
   "outputs": [
    {
     "data": {
      "text/plain": [
       "array([0.09057787, 0.11172572, 0.08383484, 0.10503722, 0.02858277,\n",
       "       0.01964026, 0.0199679 , 0.10905074, 0.10004489, 0.03924193,\n",
       "       0.02172825, 0.0399599 , 0.02111422, 0.02763131, 0.01031635,\n",
       "       0.01438534, 0.02490082, 0.03646449, 0.01727036, 0.03332432,\n",
       "       0.0452005 ])"
      ]
     },
     "execution_count": 12,
     "metadata": {},
     "output_type": "execute_result"
    }
   ],
   "source": [
    "clf = ExtraTreesClassifier(n_estimators=50)\n",
    "clf = clf.fit(X, y)\n",
    "clf.feature_importances_"
   ]
  },
  {
   "cell_type": "code",
   "execution_count": 13,
   "id": "51f84c51",
   "metadata": {},
   "outputs": [
    {
     "data": {
      "text/plain": [
       "Index(['Age', 'Number of sexual partners', 'First sexual intercourse',\n",
       "       'Num of pregnancies', 'Smokes', 'Smokes (years)', 'Smokes (packs/year)',\n",
       "       'Hormonal Contraceptives', 'Hormonal Contraceptives (years)', 'IUD',\n",
       "       'IUD (years)', 'STDs', 'STDs (number)', 'STDs:condylomatosis',\n",
       "       'STDs:syphilis', 'STDs:HIV', 'STDs: Number of diagnosis', 'Dx:Cancer',\n",
       "       'Dx:CIN', 'Dx:HPV', 'Dx', 'Hinselmann', 'Schiller', 'Citology',\n",
       "       'Biopsy'],\n",
       "      dtype='object')"
      ]
     },
     "execution_count": 13,
     "metadata": {},
     "output_type": "execute_result"
    }
   ],
   "source": [
    "df.columns"
   ]
  },
  {
   "cell_type": "code",
   "execution_count": 14,
   "id": "a79e1c1a",
   "metadata": {},
   "outputs": [],
   "source": [
    "features = ['Age', 'Number of sexual partners', 'First sexual intercourse',\n",
    "       'Num of pregnancies', 'Smokes', 'Smokes (years)', 'Smokes (packs/year)',\n",
    "       'Hormonal Contraceptives', 'Hormonal Contraceptives (years)', 'IUD',\n",
    "       'IUD (years)', 'STDs', 'STDs (number)', 'STDs:condylomatosis',\n",
    "       'STDs:syphilis', 'STDs:HIV', 'STDs: Number of diagnosis', 'Dx:Cancer',\n",
    "       'Dx:CIN', 'Dx:HPV', 'Dx']"
   ]
  },
  {
   "cell_type": "code",
   "execution_count": 15,
   "id": "57856bc6",
   "metadata": {},
   "outputs": [],
   "source": [
    "feat_importances = pd.Series(clf.feature_importances_, index=features)"
   ]
  },
  {
   "cell_type": "code",
   "execution_count": 16,
   "id": "aa7e944b",
   "metadata": {},
   "outputs": [
    {
     "data": {
      "text/plain": [
       "STDs:syphilis                      0.010316\n",
       "STDs:HIV                           0.014385\n",
       "Dx:CIN                             0.017270\n",
       "Smokes (years)                     0.019640\n",
       "Smokes (packs/year)                0.019968\n",
       "STDs (number)                      0.021114\n",
       "IUD (years)                        0.021728\n",
       "STDs: Number of diagnosis          0.024901\n",
       "STDs:condylomatosis                0.027631\n",
       "Smokes                             0.028583\n",
       "Dx:HPV                             0.033324\n",
       "Dx:Cancer                          0.036464\n",
       "IUD                                0.039242\n",
       "STDs                               0.039960\n",
       "Dx                                 0.045201\n",
       "First sexual intercourse           0.083835\n",
       "Age                                0.090578\n",
       "Hormonal Contraceptives (years)    0.100045\n",
       "Num of pregnancies                 0.105037\n",
       "Hormonal Contraceptives            0.109051\n",
       "Number of sexual partners          0.111726\n",
       "dtype: float64"
      ]
     },
     "execution_count": 16,
     "metadata": {},
     "output_type": "execute_result"
    }
   ],
   "source": [
    "feat_importances.sort_values()"
   ]
  },
  {
   "cell_type": "code",
   "execution_count": 17,
   "id": "78f0e479",
   "metadata": {},
   "outputs": [
    {
     "data": {
      "text/plain": [
       "<AxesSubplot:>"
      ]
     },
     "execution_count": 17,
     "metadata": {},
     "output_type": "execute_result"
    },
    {
     "data": {
      "image/png": "[encoded data removed]",
      "text/plain": [
       "<Figure size 432x288 with 1 Axes>"
      ]
     },
     "metadata": {
      "needs_background": "light"
     },
     "output_type": "display_data"
    }
   ],
   "source": [
    "feat_importances.nlargest(10).plot(kind='barh')"
   ]
  },
  {
   "cell_type": "code",
   "execution_count": 18,
   "id": "5b712511",
   "metadata": {},
   "outputs": [],
   "source": [
    "model = SelectFromModel(clf, prefit=True)"
   ]
  },
  {
   "cell_type": "code",
   "execution_count": 19,
   "id": "aed41f3c",
   "metadata": {},
   "outputs": [],
   "source": [
    "X_new = model.transform(X)"
   ]
  },
  {
   "cell_type": "code",
   "execution_count": 20,
   "id": "702393e7",
   "metadata": {},
   "outputs": [
    {
     "data": {
      "text/plain": [
       "(1627, 6)"
      ]
     },
     "execution_count": 20,
     "metadata": {},
     "output_type": "execute_result"
    }
   ],
   "source": [
    "X_new.shape"
   ]
  },
  {
   "cell_type": "code",
   "execution_count": 21,
   "id": "94402e32",
   "metadata": {},
   "outputs": [],
   "source": [
    "X_train, X_test, y_train, y_test = train_test_split(X_new, y, test_size=0.2, random_state=101)"
   ]
  },
  {
   "cell_type": "markdown",
   "id": "9e2c8e1f",
   "metadata": {},
   "source": [
    "# Buidling Model before Feature Selection"
   ]
  },
  {
   "cell_type": "markdown",
   "id": "3cd42d86",
   "metadata": {},
   "source": [
    "### Logistic Regression"
   ]
  },
  {
   "cell_type": "code",
   "execution_count": 22,
   "id": "0b045ec5",
   "metadata": {},
   "outputs": [],
   "source": [
    "logmodel = LogisticRegression(max_iter=10000)"
   ]
  },
  {
   "cell_type": "code",
   "execution_count": 23,
   "id": "ab0197fa",
   "metadata": {},
   "outputs": [
    {
     "data": {
      "text/plain": [
       "LogisticRegression(max_iter=10000)"
      ]
     },
     "execution_count": 23,
     "metadata": {},
     "output_type": "execute_result"
    }
   ],
   "source": [
    "logmodel.fit(X_train,y_train)"
   ]
  },
  {
   "cell_type": "code",
   "execution_count": 24,
   "id": "badb65fc",
   "metadata": {},
   "outputs": [],
   "source": [
    "predictions = logmodel.predict(X_test)"
   ]
  },
  {
   "cell_type": "code",
   "execution_count": 25,
   "id": "f32b17ae",
   "metadata": {},
   "outputs": [
    {
     "data": {
      "text/plain": [
       "array([0, 0, 0, 1, 1, 1, 0, 0, 0, 0, 1, 1, 0, 0, 1, 1, 0, 0, 0, 0, 0, 1,\n",
       "       1, 0, 1, 1, 0, 0, 1, 1, 1, 0, 1, 0, 1, 0, 1, 1, 1, 0, 0, 0, 0, 0,\n",
       "       0, 1, 1, 1, 1, 1, 0, 0, 0, 1, 0, 0, 0, 0, 0, 0, 0, 1, 1, 1, 0, 1,\n",
       "       0, 1, 0, 1, 1, 1, 0, 1, 0, 0, 1, 0, 1, 1, 0, 0, 0, 1, 0, 1, 1, 0,\n",
       "       0, 1, 0, 0, 1, 0, 1, 1, 1, 0, 0, 1, 0, 0, 0, 0, 0, 0, 1, 1, 1, 0,\n",
       "       0, 1, 0, 0, 0, 1, 1, 0, 0, 0, 1, 1, 0, 0, 1, 1, 0, 0, 1, 1, 0, 0,\n",
       "       0, 0, 1, 1, 0, 0, 1, 0, 1, 1, 0, 0, 1, 0, 1, 1, 0, 1, 0, 1, 1, 1,\n",
       "       0, 1, 0, 0, 1, 1, 0, 1, 0, 1, 0, 0, 0, 1, 1, 0, 0, 1, 0, 0, 0, 0,\n",
       "       0, 1, 1, 0, 0, 1, 1, 0, 1, 0, 1, 0, 1, 0, 0, 0, 0, 1, 0, 1, 1, 0,\n",
       "       0, 1, 0, 1, 0, 1, 0, 1, 0, 0, 0, 0, 1, 0, 0, 1, 0, 0, 0, 0, 1, 0,\n",
       "       0, 0, 0, 0, 0, 0, 1, 1, 1, 0, 0, 0, 1, 0, 1, 1, 1, 1, 0, 1, 0, 1,\n",
       "       0, 0, 1, 0, 0, 1, 0, 0, 1, 0, 0, 1, 0, 0, 0, 1, 1, 1, 0, 1, 0, 0,\n",
       "       0, 0, 0, 0, 1, 1, 0, 0, 1, 0, 0, 0, 1, 1, 1, 0, 0, 1, 0, 0, 0, 1,\n",
       "       1, 0, 0, 0, 1, 0, 0, 0, 1, 0, 0, 1, 0, 1, 0, 1, 1, 0, 0, 1, 1, 1,\n",
       "       1, 1, 1, 0, 0, 0, 1, 0, 1, 0, 1, 1, 0, 0, 1, 1, 1, 0], dtype=int64)"
      ]
     },
     "execution_count": 25,
     "metadata": {},
     "output_type": "execute_result"
    }
   ],
   "source": [
    "predictions"
   ]
  },
  {
   "cell_type": "code",
   "execution_count": 26,
   "id": "5617920f",
   "metadata": {},
   "outputs": [
    {
     "name": "stdout",
     "output_type": "stream",
     "text": [
      "Accuracy:  0.4723926380368098\n",
      "\n",
      "\n",
      "              precision    recall  f1-score   support\n",
      "\n",
      "           0       0.45      0.54      0.49       155\n",
      "           1       0.50      0.41      0.45       171\n",
      "\n",
      "    accuracy                           0.47       326\n",
      "   macro avg       0.48      0.48      0.47       326\n",
      "weighted avg       0.48      0.47      0.47       326\n",
      "\n",
      "\n",
      "\n",
      "[[ 84  71]\n",
      " [101  70]]\n"
     ]
    }
   ],
   "source": [
    "print(\"Accuracy: \", accuracy_score(y_test,predictions))\n",
    "print(\"\\n\")\n",
    "print(classification_report(y_test,predictions))\n",
    "print(\"\\n\")\n",
    "print(confusion_matrix(y_test,predictions))"
   ]
  },
  {
   "cell_type": "markdown",
   "id": "968c0147",
   "metadata": {},
   "source": [
    "### KNN"
   ]
  },
  {
   "cell_type": "code",
   "execution_count": 27,
   "id": "e2fa3645",
   "metadata": {},
   "outputs": [],
   "source": [
    "error_rate = []\n",
    "\n",
    "for i in range(1,40):\n",
    "    knn = KNeighborsClassifier(n_neighbors=i)\n",
    "    knn.fit(X_train,y_train)\n",
    "    pred_i = knn.predict(X_test)\n",
    "    error_rate.append(np.mean(pred_i != y_test))"
   ]
  },
  {
   "cell_type": "code",
   "execution_count": 28,
   "id": "4edbd871",
   "metadata": {},
   "outputs": [
    {
     "data": {
      "text/plain": [
       "Text(0, 0.5, 'Error Rate')"
      ]
     },
     "execution_count": 28,
     "metadata": {},
     "output_type": "execute_result"
    },
    {
     "data": {
      "image/png": "[encoded data removed]",
      "text/plain": [
       "<Figure size 720x432 with 1 Axes>"
      ]
     },
     "metadata": {
      "needs_background": "light"
     },
     "output_type": "display_data"
    }
   ],
   "source": [
    "plt.figure(figsize=(10,6))\n",
    "plt.plot(range(1,40),error_rate,color='blue',linestyle='--',marker='o',markerfacecolor='red',markersize=10)\n",
    "plt.title('Error Rate vs K value')\n",
    "plt.xlabel('K')\n",
    "plt.ylabel('Error Rate')"
   ]
  },
  {
   "cell_type": "code",
   "execution_count": 29,
   "id": "aee3a839",
   "metadata": {},
   "outputs": [],
   "source": [
    "knn = KNeighborsClassifier(n_neighbors=2)\n",
    "knn.fit(X_train,y_train)\n",
    "predictions = knn.predict(X_test)"
   ]
  },
  {
   "cell_type": "code",
   "execution_count": 30,
   "id": "86a48fc9",
   "metadata": {},
   "outputs": [
    {
     "name": "stdout",
     "output_type": "stream",
     "text": [
      "Accuracy Score: 0.8588957055214724\n",
      "\n",
      "\n",
      "              precision    recall  f1-score   support\n",
      "\n",
      "           0       0.89      0.81      0.84       155\n",
      "           1       0.84      0.91      0.87       171\n",
      "\n",
      "    accuracy                           0.86       326\n",
      "   macro avg       0.86      0.86      0.86       326\n",
      "weighted avg       0.86      0.86      0.86       326\n",
      "\n",
      "\n",
      "\n",
      "[[125  30]\n",
      " [ 16 155]]\n"
     ]
    }
   ],
   "source": [
    "print('Accuracy Score:',accuracy_score(y_test,predictions))\n",
    "print('\\n')\n",
    "print(classification_report(y_test,predictions))\n",
    "print('\\n')\n",
    "print(confusion_matrix(y_test,predictions))"
   ]
  },
  {
   "cell_type": "markdown",
   "id": "edd79d40",
   "metadata": {},
   "source": [
    "### Decision Tree"
   ]
  },
  {
   "cell_type": "code",
   "execution_count": 31,
   "id": "5340d022",
   "metadata": {},
   "outputs": [],
   "source": [
    "dtree = DecisionTreeClassifier()"
   ]
  },
  {
   "cell_type": "code",
   "execution_count": 32,
   "id": "630062ec",
   "metadata": {},
   "outputs": [
    {
     "data": {
      "text/plain": [
       "DecisionTreeClassifier()"
      ]
     },
     "execution_count": 32,
     "metadata": {},
     "output_type": "execute_result"
    }
   ],
   "source": [
    "dtree.fit(X_train,y_train)"
   ]
  },
  {
   "cell_type": "code",
   "execution_count": 33,
   "id": "7ffdf4bb",
   "metadata": {},
   "outputs": [],
   "source": [
    "predictions = dtree.predict(X_test)"
   ]
  },
  {
   "cell_type": "code",
   "execution_count": 34,
   "id": "692d5681",
   "metadata": {},
   "outputs": [
    {
     "name": "stdout",
     "output_type": "stream",
     "text": [
      "Accuracy:  0.9202453987730062\n",
      "\n",
      "\n",
      "              precision    recall  f1-score   support\n",
      "\n",
      "           0       0.91      0.92      0.92       155\n",
      "           1       0.93      0.92      0.92       171\n",
      "\n",
      "    accuracy                           0.92       326\n",
      "   macro avg       0.92      0.92      0.92       326\n",
      "weighted avg       0.92      0.92      0.92       326\n",
      "\n",
      "\n",
      "\n",
      "[[143  12]\n",
      " [ 14 157]]\n"
     ]
    }
   ],
   "source": [
    "print(\"Accuracy: \", accuracy_score(y_test,predictions))\n",
    "print(\"\\n\")\n",
    "print(classification_report(y_test,predictions))\n",
    "print(\"\\n\")\n",
    "print(confusion_matrix(y_test,predictions))"
   ]
  },
  {
   "cell_type": "markdown",
   "id": "3c3d9ff5",
   "metadata": {},
   "source": [
    "### Random Forest"
   ]
  },
  {
   "cell_type": "code",
   "execution_count": 35,
   "id": "416c07d0",
   "metadata": {},
   "outputs": [],
   "source": [
    "rfc = RandomForestClassifier(n_estimators=200)"
   ]
  },
  {
   "cell_type": "code",
   "execution_count": 36,
   "id": "09d61f88",
   "metadata": {},
   "outputs": [
    {
     "data": {
      "text/plain": [
       "RandomForestClassifier(n_estimators=200)"
      ]
     },
     "execution_count": 36,
     "metadata": {},
     "output_type": "execute_result"
    }
   ],
   "source": [
    "rfc.fit(X_train,y_train)"
   ]
  },
  {
   "cell_type": "code",
   "execution_count": 37,
   "id": "77603047",
   "metadata": {},
   "outputs": [],
   "source": [
    "predictions = rfc.predict(X_test)"
   ]
  },
  {
   "cell_type": "code",
   "execution_count": 38,
   "id": "69b7b8d0",
   "metadata": {},
   "outputs": [
    {
     "name": "stdout",
     "output_type": "stream",
     "text": [
      "Accuracy:  0.9355828220858896\n",
      "\n",
      "\n",
      "              precision    recall  f1-score   support\n",
      "\n",
      "           0       0.91      0.95      0.93       155\n",
      "           1       0.96      0.92      0.94       171\n",
      "\n",
      "    accuracy                           0.94       326\n",
      "   macro avg       0.94      0.94      0.94       326\n",
      "weighted avg       0.94      0.94      0.94       326\n",
      "\n",
      "\n",
      "\n",
      "[[148   7]\n",
      " [ 14 157]]\n"
     ]
    }
   ],
   "source": [
    "print(\"Accuracy: \", accuracy_score(y_test,predictions))\n",
    "print(\"\\n\")\n",
    "print(classification_report(y_test,predictions))\n",
    "print(\"\\n\")\n",
    "print(confusion_matrix(y_test,predictions))"
   ]
  },
  {
   "cell_type": "markdown",
   "id": "29f910a8",
   "metadata": {},
   "source": [
    "### Support Vector Machine"
   ]
  },
  {
   "cell_type": "code",
   "execution_count": 39,
   "id": "70b2fd48",
   "metadata": {},
   "outputs": [],
   "source": [
    "model = SVC()"
   ]
  },
  {
   "cell_type": "code",
   "execution_count": 40,
   "id": "fc005442",
   "metadata": {},
   "outputs": [
    {
     "data": {
      "text/plain": [
       "SVC()"
      ]
     },
     "execution_count": 40,
     "metadata": {},
     "output_type": "execute_result"
    }
   ],
   "source": [
    "model.fit(X_train,y_train)"
   ]
  },
  {
   "cell_type": "code",
   "execution_count": 41,
   "id": "07a8de58",
   "metadata": {},
   "outputs": [],
   "source": [
    "predictions = model.predict(X_test)"
   ]
  },
  {
   "cell_type": "code",
   "execution_count": 42,
   "id": "dfff3b21",
   "metadata": {},
   "outputs": [
    {
     "name": "stdout",
     "output_type": "stream",
     "text": [
      "Accuracy:  0.46932515337423314\n",
      "\n",
      "\n",
      "              precision    recall  f1-score   support\n",
      "\n",
      "           0       0.44      0.42      0.43       155\n",
      "           1       0.49      0.51      0.50       171\n",
      "\n",
      "    accuracy                           0.47       326\n",
      "   macro avg       0.47      0.47      0.47       326\n",
      "weighted avg       0.47      0.47      0.47       326\n",
      "\n",
      "\n",
      "\n",
      "[[65 90]\n",
      " [83 88]]\n"
     ]
    }
   ],
   "source": [
    "print(\"Accuracy: \", accuracy_score(y_test,predictions))\n",
    "print(\"\\n\")\n",
    "print(classification_report(y_test,predictions))\n",
    "print(\"\\n\")\n",
    "print(confusion_matrix(y_test,predictions))"
   ]
  },
  {
   "cell_type": "markdown",
   "id": "91ffbc0e",
   "metadata": {},
   "source": [
    "### Grid Search CV"
   ]
  },
  {
   "cell_type": "code",
   "execution_count": 43,
   "id": "cd425ff6",
   "metadata": {},
   "outputs": [],
   "source": [
    "param_grid = {'C':[0.1,1,10,100,1000],'gamma':[1,0.1,0.01,0.001,0.0001]}"
   ]
  },
  {
   "cell_type": "code",
   "execution_count": 44,
   "id": "5137eb0f",
   "metadata": {},
   "outputs": [],
   "source": [
    "grid = GridSearchCV(SVC(),param_grid,verbose=3)"
   ]
  },
  {
   "cell_type": "code",
   "execution_count": 45,
   "id": "02388d91",
   "metadata": {},
   "outputs": [
    {
     "name": "stdout",
     "output_type": "stream",
     "text": [
      "Fitting 5 folds for each of 25 candidates, totalling 125 fits\n",
      "[CV 1/5] END .................................C=0.1, gamma=1; total time=   0.0s\n",
      "[CV 2/5] END .................................C=0.1, gamma=1; total time=   0.0s\n",
      "[CV 3/5] END .................................C=0.1, gamma=1; total time=   0.0s\n",
      "[CV 4/5] END .................................C=0.1, gamma=1; total time=   0.0s\n",
      "[CV 5/5] END .................................C=0.1, gamma=1; total time=   0.0s\n",
      "[CV 1/5] END ...............................C=0.1, gamma=0.1; total time=   0.0s\n",
      "[CV 2/5] END ...............................C=0.1, gamma=0.1; total time=   0.0s\n",
      "[CV 3/5] END ...............................C=0.1, gamma=0.1; total time=   0.0s\n",
      "[CV 4/5] END ...............................C=0.1, gamma=0.1; total time=   0.0s\n",
      "[CV 5/5] END ...............................C=0.1, gamma=0.1; total time=   0.0s\n",
      "[CV 1/5] END ..............................C=0.1, gamma=0.01; total time=   0.0s\n",
      "[CV 2/5] END ..............................C=0.1, gamma=0.01; total time=   0.0s\n",
      "[CV 3/5] END ..............................C=0.1, gamma=0.01; total time=   0.0s\n",
      "[CV 4/5] END ..............................C=0.1, gamma=0.01; total time=   0.0s\n",
      "[CV 5/5] END ..............................C=0.1, gamma=0.01; total time=   0.0s\n",
      "[CV 1/5] END .............................C=0.1, gamma=0.001; total time=   0.0s\n",
      "[CV 2/5] END .............................C=0.1, gamma=0.001; total time=   0.0s\n",
      "[CV 3/5] END .............................C=0.1, gamma=0.001; total time=   0.0s\n",
      "[CV 4/5] END .............................C=0.1, gamma=0.001; total time=   0.0s\n",
      "[CV 5/5] END .............................C=0.1, gamma=0.001; total time=   0.0s\n",
      "[CV 1/5] END ............................C=0.1, gamma=0.0001; total time=   0.0s\n",
      "[CV 2/5] END ............................C=0.1, gamma=0.0001; total time=   0.0s\n",
      "[CV 3/5] END ............................C=0.1, gamma=0.0001; total time=   0.0s\n",
      "[CV 4/5] END ............................C=0.1, gamma=0.0001; total time=   0.0s\n",
      "[CV 5/5] END ............................C=0.1, gamma=0.0001; total time=   0.0s\n",
      "[CV 1/5] END ...................................C=1, gamma=1; total time=   0.0s\n",
      "[CV 2/5] END ...................................C=1, gamma=1; total time=   0.0s\n",
      "[CV 3/5] END ...................................C=1, gamma=1; total time=   0.0s\n",
      "[CV 4/5] END ...................................C=1, gamma=1; total time=   0.0s\n",
      "[CV 5/5] END ...................................C=1, gamma=1; total time=   0.0s\n",
      "[CV 1/5] END .................................C=1, gamma=0.1; total time=   0.0s\n",
      "[CV 2/5] END .................................C=1, gamma=0.1; total time=   0.0s\n",
      "[CV 3/5] END .................................C=1, gamma=0.1; total time=   0.0s\n",
      "[CV 4/5] END .................................C=1, gamma=0.1; total time=   0.0s\n",
      "[CV 5/5] END .................................C=1, gamma=0.1; total time=   0.0s\n",
      "[CV 1/5] END ................................C=1, gamma=0.01; total time=   0.0s\n",
      "[CV 2/5] END ................................C=1, gamma=0.01; total time=   0.0s\n",
      "[CV 3/5] END ................................C=1, gamma=0.01; total time=   0.0s\n",
      "[CV 4/5] END ................................C=1, gamma=0.01; total time=   0.0s\n",
      "[CV 5/5] END ................................C=1, gamma=0.01; total time=   0.0s\n",
      "[CV 1/5] END ...............................C=1, gamma=0.001; total time=   0.0s\n",
      "[CV 2/5] END ...............................C=1, gamma=0.001; total time=   0.0s\n",
      "[CV 3/5] END ...............................C=1, gamma=0.001; total time=   0.0s\n",
      "[CV 4/5] END ...............................C=1, gamma=0.001; total time=   0.0s\n",
      "[CV 5/5] END ...............................C=1, gamma=0.001; total time=   0.0s\n",
      "[CV 1/5] END ..............................C=1, gamma=0.0001; total time=   0.0s\n",
      "[CV 2/5] END ..............................C=1, gamma=0.0001; total time=   0.0s\n",
      "[CV 3/5] END ..............................C=1, gamma=0.0001; total time=   0.0s\n",
      "[CV 4/5] END ..............................C=1, gamma=0.0001; total time=   0.0s\n",
      "[CV 5/5] END ..............................C=1, gamma=0.0001; total time=   0.0s\n",
      "[CV 1/5] END ..................................C=10, gamma=1; total time=   0.0s\n",
      "[CV 2/5] END ..................................C=10, gamma=1; total time=   0.0s\n",
      "[CV 3/5] END ..................................C=10, gamma=1; total time=   0.0s\n",
      "[CV 4/5] END ..................................C=10, gamma=1; total time=   0.0s\n",
      "[CV 5/5] END ..................................C=10, gamma=1; total time=   0.0s\n",
      "[CV 1/5] END ................................C=10, gamma=0.1; total time=   0.0s\n",
      "[CV 2/5] END ................................C=10, gamma=0.1; total time=   0.0s\n",
      "[CV 3/5] END ................................C=10, gamma=0.1; total time=   0.0s\n",
      "[CV 4/5] END ................................C=10, gamma=0.1; total time=   0.0s\n",
      "[CV 5/5] END ................................C=10, gamma=0.1; total time=   0.0s\n",
      "[CV 1/5] END ...............................C=10, gamma=0.01; total time=   0.0s\n",
      "[CV 2/5] END ...............................C=10, gamma=0.01; total time=   0.0s\n",
      "[CV 3/5] END ...............................C=10, gamma=0.01; total time=   0.0s\n",
      "[CV 4/5] END ...............................C=10, gamma=0.01; total time=   0.0s\n",
      "[CV 5/5] END ...............................C=10, gamma=0.01; total time=   0.0s\n",
      "[CV 1/5] END ..............................C=10, gamma=0.001; total time=   0.0s\n",
      "[CV 2/5] END ..............................C=10, gamma=0.001; total time=   0.0s\n",
      "[CV 3/5] END ..............................C=10, gamma=0.001; total time=   0.0s\n",
      "[CV 4/5] END ..............................C=10, gamma=0.001; total time=   0.0s\n",
      "[CV 5/5] END ..............................C=10, gamma=0.001; total time=   0.0s\n",
      "[CV 1/5] END .............................C=10, gamma=0.0001; total time=   0.0s\n",
      "[CV 2/5] END .............................C=10, gamma=0.0001; total time=   0.0s\n",
      "[CV 3/5] END .............................C=10, gamma=0.0001; total time=   0.0s\n",
      "[CV 4/5] END .............................C=10, gamma=0.0001; total time=   0.0s\n",
      "[CV 5/5] END .............................C=10, gamma=0.0001; total time=   0.0s\n",
      "[CV 1/5] END .................................C=100, gamma=1; total time=   0.0s\n",
      "[CV 2/5] END .................................C=100, gamma=1; total time=   0.0s\n",
      "[CV 3/5] END .................................C=100, gamma=1; total time=   0.0s\n",
      "[CV 4/5] END .................................C=100, gamma=1; total time=   0.0s\n",
      "[CV 5/5] END .................................C=100, gamma=1; total time=   0.0s\n",
      "[CV 1/5] END ...............................C=100, gamma=0.1; total time=   0.0s\n",
      "[CV 2/5] END ...............................C=100, gamma=0.1; total time=   0.0s\n",
      "[CV 3/5] END ...............................C=100, gamma=0.1; total time=   0.0s\n",
      "[CV 4/5] END ...............................C=100, gamma=0.1; total time=   0.0s\n",
      "[CV 5/5] END ...............................C=100, gamma=0.1; total time=   0.0s\n",
      "[CV 1/5] END ..............................C=100, gamma=0.01; total time=   0.0s\n",
      "[CV 2/5] END ..............................C=100, gamma=0.01; total time=   0.0s\n",
      "[CV 3/5] END ..............................C=100, gamma=0.01; total time=   0.0s\n",
      "[CV 4/5] END ..............................C=100, gamma=0.01; total time=   0.0s\n",
      "[CV 5/5] END ..............................C=100, gamma=0.01; total time=   0.0s\n",
      "[CV 1/5] END .............................C=100, gamma=0.001; total time=   0.0s\n",
      "[CV 2/5] END .............................C=100, gamma=0.001; total time=   0.0s\n",
      "[CV 3/5] END .............................C=100, gamma=0.001; total time=   0.0s\n",
      "[CV 4/5] END .............................C=100, gamma=0.001; total time=   0.0s\n",
      "[CV 5/5] END .............................C=100, gamma=0.001; total time=   0.0s\n",
      "[CV 1/5] END ............................C=100, gamma=0.0001; total time=   0.0s\n",
      "[CV 2/5] END ............................C=100, gamma=0.0001; total time=   0.0s\n",
      "[CV 3/5] END ............................C=100, gamma=0.0001; total time=   0.0s\n",
      "[CV 4/5] END ............................C=100, gamma=0.0001; total time=   0.0s\n",
      "[CV 5/5] END ............................C=100, gamma=0.0001; total time=   0.0s\n",
      "[CV 1/5] END ................................C=1000, gamma=1; total time=   0.0s\n"
     ]
    },
    {
     "name": "stdout",
     "output_type": "stream",
     "text": [
      "[CV 2/5] END ................................C=1000, gamma=1; total time=   0.0s\n",
      "[CV 3/5] END ................................C=1000, gamma=1; total time=   0.0s\n",
      "[CV 4/5] END ................................C=1000, gamma=1; total time=   0.0s\n",
      "[CV 5/5] END ................................C=1000, gamma=1; total time=   0.0s\n",
      "[CV 1/5] END ..............................C=1000, gamma=0.1; total time=   0.0s\n",
      "[CV 2/5] END ..............................C=1000, gamma=0.1; total time=   0.0s\n",
      "[CV 3/5] END ..............................C=1000, gamma=0.1; total time=   0.0s\n",
      "[CV 4/5] END ..............................C=1000, gamma=0.1; total time=   0.0s\n",
      "[CV 5/5] END ..............................C=1000, gamma=0.1; total time=   0.0s\n",
      "[CV 1/5] END .............................C=1000, gamma=0.01; total time=   0.1s\n",
      "[CV 2/5] END .............................C=1000, gamma=0.01; total time=   0.1s\n",
      "[CV 3/5] END .............................C=1000, gamma=0.01; total time=   0.1s\n",
      "[CV 4/5] END .............................C=1000, gamma=0.01; total time=   0.1s\n",
      "[CV 5/5] END .............................C=1000, gamma=0.01; total time=   0.2s\n",
      "[CV 1/5] END ............................C=1000, gamma=0.001; total time=   0.0s\n",
      "[CV 2/5] END ............................C=1000, gamma=0.001; total time=   0.0s\n",
      "[CV 3/5] END ............................C=1000, gamma=0.001; total time=   0.0s\n",
      "[CV 4/5] END ............................C=1000, gamma=0.001; total time=   0.0s\n",
      "[CV 5/5] END ............................C=1000, gamma=0.001; total time=   0.0s\n",
      "[CV 1/5] END ...........................C=1000, gamma=0.0001; total time=   0.0s\n",
      "[CV 2/5] END ...........................C=1000, gamma=0.0001; total time=   0.0s\n",
      "[CV 3/5] END ...........................C=1000, gamma=0.0001; total time=   0.0s\n",
      "[CV 4/5] END ...........................C=1000, gamma=0.0001; total time=   0.0s\n",
      "[CV 5/5] END ...........................C=1000, gamma=0.0001; total time=   0.0s\n"
     ]
    },
    {
     "data": {
      "text/plain": [
       "GridSearchCV(estimator=SVC(),\n",
       "             param_grid={'C': [0.1, 1, 10, 100, 1000],\n",
       "                         'gamma': [1, 0.1, 0.01, 0.001, 0.0001]},\n",
       "             verbose=3)"
      ]
     },
     "execution_count": 45,
     "metadata": {},
     "output_type": "execute_result"
    }
   ],
   "source": [
    "grid.fit(X_train,y_train)"
   ]
  },
  {
   "cell_type": "code",
   "execution_count": 46,
   "id": "418259df",
   "metadata": {},
   "outputs": [
    {
     "data": {
      "text/plain": [
       "SVC(C=10, gamma=1)"
      ]
     },
     "execution_count": 46,
     "metadata": {},
     "output_type": "execute_result"
    }
   ],
   "source": [
    "grid.best_estimator_"
   ]
  },
  {
   "cell_type": "code",
   "execution_count": 47,
   "id": "65d3da04",
   "metadata": {},
   "outputs": [
    {
     "data": {
      "text/plain": [
       "{'C': 10, 'gamma': 1}"
      ]
     },
     "execution_count": 47,
     "metadata": {},
     "output_type": "execute_result"
    }
   ],
   "source": [
    "grid.best_params_"
   ]
  },
  {
   "cell_type": "code",
   "execution_count": 48,
   "id": "e0cfa6f9",
   "metadata": {},
   "outputs": [
    {
     "data": {
      "text/plain": [
       "0.8962511052166224"
      ]
     },
     "execution_count": 48,
     "metadata": {},
     "output_type": "execute_result"
    }
   ],
   "source": [
    "grid.best_score_"
   ]
  },
  {
   "cell_type": "code",
   "execution_count": 49,
   "id": "99ac22e4",
   "metadata": {},
   "outputs": [],
   "source": [
    "predictions = grid.predict(X_test)"
   ]
  },
  {
   "cell_type": "code",
   "execution_count": 50,
   "id": "3e713653",
   "metadata": {},
   "outputs": [
    {
     "name": "stdout",
     "output_type": "stream",
     "text": [
      "Accuracy:  0.8865030674846626\n",
      "\n",
      "\n",
      "              precision    recall  f1-score   support\n",
      "\n",
      "           0       0.84      0.94      0.89       155\n",
      "           1       0.94      0.84      0.89       171\n",
      "\n",
      "    accuracy                           0.89       326\n",
      "   macro avg       0.89      0.89      0.89       326\n",
      "weighted avg       0.89      0.89      0.89       326\n",
      "\n",
      "\n",
      "\n",
      "[[145  10]\n",
      " [ 27 144]]\n"
     ]
    }
   ],
   "source": [
    "print(\"Accuracy: \", accuracy_score(y_test,predictions))\n",
    "print(\"\\n\")\n",
    "print(classification_report(y_test,predictions))\n",
    "print(\"\\n\")\n",
    "print(confusion_matrix(y_test,predictions))"
   ]
  },
  {
   "cell_type": "markdown",
   "id": "f3f53095",
   "metadata": {},
   "source": [
    "### Naive Bayes"
   ]
  },
  {
   "cell_type": "code",
   "execution_count": 51,
   "id": "7910acfc",
   "metadata": {},
   "outputs": [],
   "source": [
    "gnb = GaussianNB()"
   ]
  },
  {
   "cell_type": "code",
   "execution_count": 52,
   "id": "2d685338",
   "metadata": {},
   "outputs": [
    {
     "data": {
      "text/plain": [
       "GaussianNB()"
      ]
     },
     "execution_count": 52,
     "metadata": {},
     "output_type": "execute_result"
    }
   ],
   "source": [
    "gnb.fit(X_train,y_train)"
   ]
  },
  {
   "cell_type": "code",
   "execution_count": 53,
   "id": "b6d2f914",
   "metadata": {},
   "outputs": [],
   "source": [
    "predictions = gnb.predict(X_test)"
   ]
  },
  {
   "cell_type": "code",
   "execution_count": 54,
   "id": "3a97e180",
   "metadata": {},
   "outputs": [
    {
     "name": "stdout",
     "output_type": "stream",
     "text": [
      "Accuracy Score: 0.5398773006134969\n",
      "\n",
      "\n",
      "              precision    recall  f1-score   support\n",
      "\n",
      "           0       0.51      0.66      0.58       155\n",
      "           1       0.58      0.43      0.49       171\n",
      "\n",
      "    accuracy                           0.54       326\n",
      "   macro avg       0.55      0.55      0.54       326\n",
      "weighted avg       0.55      0.54      0.53       326\n",
      "\n",
      "\n",
      "\n",
      "[[103  52]\n",
      " [ 98  73]]\n"
     ]
    }
   ],
   "source": [
    "print('Accuracy Score:',accuracy_score(y_test,predictions))\n",
    "print('\\n')\n",
    "print(classification_report(y_test,predictions))\n",
    "print('\\n')\n",
    "print(confusion_matrix(y_test,predictions))"
   ]
  },
  {
   "cell_type": "markdown",
   "id": "e1df9e65",
   "metadata": {},
   "source": [
    "### XGBoost"
   ]
  },
  {
   "cell_type": "code",
   "execution_count": 55,
   "id": "762afada",
   "metadata": {},
   "outputs": [],
   "source": [
    "xgb_cl = xgb.XGBClassifier()"
   ]
  },
  {
   "cell_type": "code",
   "execution_count": 56,
   "id": "f1ef895b",
   "metadata": {},
   "outputs": [
    {
     "data": {
      "text/plain": [
       "XGBClassifier(base_score=0.5, booster='gbtree', callbacks=None,\n",
       "              colsample_bylevel=1, colsample_bynode=1, colsample_bytree=1,\n",
       "              early_stopping_rounds=None, enable_categorical=False,\n",
       "              eval_metric=None, gamma=0, gpu_id=-1, grow_policy='depthwise',\n",
       "              importance_type=None, interaction_constraints='',\n",
       "              learning_rate=0.300000012, max_bin=256, max_cat_to_onehot=4,\n",
       "              max_delta_step=0, max_depth=6, max_leaves=0, min_child_weight=1,\n",
       "              missing=nan, monotone_constraints='()', n_estimators=100,\n",
       "              n_jobs=0, num_parallel_tree=1, predictor='auto', random_state=0,\n",
       "              reg_alpha=0, reg_lambda=1, ...)"
      ]
     },
     "execution_count": 56,
     "metadata": {},
     "output_type": "execute_result"
    }
   ],
   "source": [
    "xgb_cl.fit(X_train, y_train)"
   ]
  },
  {
   "cell_type": "code",
   "execution_count": 57,
   "id": "f45f7ec1",
   "metadata": {},
   "outputs": [],
   "source": [
    "predictions = xgb_cl.predict(X_test)"
   ]
  },
  {
   "cell_type": "code",
   "execution_count": 58,
   "id": "80d2a68a",
   "metadata": {
    "scrolled": false
   },
   "outputs": [
    {
     "name": "stdout",
     "output_type": "stream",
     "text": [
      "Accuracy Score: 0.950920245398773\n",
      "\n",
      "\n",
      "              precision    recall  f1-score   support\n",
      "\n",
      "           0       0.93      0.97      0.95       155\n",
      "           1       0.98      0.93      0.95       171\n",
      "\n",
      "    accuracy                           0.95       326\n",
      "   macro avg       0.95      0.95      0.95       326\n",
      "weighted avg       0.95      0.95      0.95       326\n",
      "\n",
      "\n",
      "\n",
      "[[151   4]\n",
      " [ 12 159]]\n"
     ]
    }
   ],
   "source": [
    "print('Accuracy Score:',accuracy_score(y_test,predictions))\n",
    "print('\\n')\n",
    "print(classification_report(y_test,predictions))\n",
    "print('\\n')\n",
    "print(confusion_matrix(y_test,predictions))"
   ]
  },
  {
   "cell_type": "markdown",
   "id": "41fa1cd7",
   "metadata": {},
   "source": [
    "### Neural Network"
   ]
  },
  {
   "cell_type": "code",
   "execution_count": 59,
   "id": "7a7038c7",
   "metadata": {},
   "outputs": [],
   "source": [
    "import tensorflow as tf\n",
    "from tensorflow.keras.models import Sequential\n",
    "from tensorflow.keras.layers import Dense, Activation, Dropout\n",
    "from tensorflow.keras.callbacks import EarlyStopping"
   ]
  },
  {
   "cell_type": "code",
   "execution_count": 60,
   "id": "694e71d8",
   "metadata": {},
   "outputs": [],
   "source": [
    "model = Sequential()\n",
    "\n",
    "# input layer\n",
    "model.add(Dense(units=6,activation='relu'))\n",
    "model.add(Dropout(0.5))\n",
    "\n",
    "# hidden layer\n",
    "model.add(Dense(units=3,activation='relu'))\n",
    "model.add(Dropout(0.5))\n",
    "\n",
    "# output layer\n",
    "model.add(Dense(units=1,activation='sigmoid'))\n",
    "\n",
    "# compiler\n",
    "model.compile(loss='binary_crossentropy', optimizer='adam')"
   ]
  },
  {
   "cell_type": "code",
   "execution_count": 61,
   "id": "018ba478",
   "metadata": {},
   "outputs": [],
   "source": [
    "early_stop = EarlyStopping(monitor='val_loss',mode='min',verbose=1,patience=25)"
   ]
  },
  {
   "cell_type": "code",
   "execution_count": 62,
   "id": "8a7cb99b",
   "metadata": {},
   "outputs": [
    {
     "name": "stdout",
     "output_type": "stream",
     "text": [
      "Epoch 1/600\n",
      "41/41 [==============================] - 1s 4ms/step - loss: 2.9437 - val_loss: 1.0600\n",
      "Epoch 2/600\n",
      "41/41 [==============================] - 0s 2ms/step - loss: 1.6965 - val_loss: 0.7197\n",
      "Epoch 3/600\n",
      "41/41 [==============================] - 0s 2ms/step - loss: 1.2426 - val_loss: 0.6901\n",
      "Epoch 4/600\n",
      "41/41 [==============================] - 0s 2ms/step - loss: 1.1118 - val_loss: 0.6866\n",
      "Epoch 5/600\n",
      "41/41 [==============================] - 0s 2ms/step - loss: 0.8922 - val_loss: 0.6881\n",
      "Epoch 6/600\n",
      "41/41 [==============================] - 0s 2ms/step - loss: 0.7783 - val_loss: 0.6891\n",
      "Epoch 7/600\n",
      "41/41 [==============================] - 0s 2ms/step - loss: 0.8133 - val_loss: 0.6892\n",
      "Epoch 8/600\n",
      "41/41 [==============================] - 0s 2ms/step - loss: 0.7265 - val_loss: 0.6895\n",
      "Epoch 9/600\n",
      "41/41 [==============================] - 0s 2ms/step - loss: 0.7335 - val_loss: 0.6897\n",
      "Epoch 10/600\n",
      "41/41 [==============================] - 0s 2ms/step - loss: 0.7208 - val_loss: 0.6894\n",
      "Epoch 11/600\n",
      "41/41 [==============================] - 0s 2ms/step - loss: 0.6990 - val_loss: 0.6894\n",
      "Epoch 12/600\n",
      "41/41 [==============================] - 0s 2ms/step - loss: 0.7109 - val_loss: 0.6898\n",
      "Epoch 13/600\n",
      "41/41 [==============================] - 0s 2ms/step - loss: 0.6988 - val_loss: 0.6906\n",
      "Epoch 14/600\n",
      "41/41 [==============================] - 0s 2ms/step - loss: 0.7177 - val_loss: 0.6898\n",
      "Epoch 15/600\n",
      "41/41 [==============================] - 0s 2ms/step - loss: 0.6964 - val_loss: 0.6900\n",
      "Epoch 16/600\n",
      "41/41 [==============================] - 0s 2ms/step - loss: 0.6978 - val_loss: 0.6900\n",
      "Epoch 17/600\n",
      "41/41 [==============================] - 0s 2ms/step - loss: 0.6957 - val_loss: 0.6904\n",
      "Epoch 18/600\n",
      "41/41 [==============================] - 0s 2ms/step - loss: 0.6981 - val_loss: 0.6905\n",
      "Epoch 19/600\n",
      "41/41 [==============================] - 0s 2ms/step - loss: 0.6912 - val_loss: 0.6901\n",
      "Epoch 20/600\n",
      "41/41 [==============================] - 0s 2ms/step - loss: 0.6978 - val_loss: 0.6908\n",
      "Epoch 21/600\n",
      "41/41 [==============================] - 0s 2ms/step - loss: 0.6967 - val_loss: 0.6912\n",
      "Epoch 22/600\n",
      "41/41 [==============================] - 0s 2ms/step - loss: 0.6870 - val_loss: 0.6905\n",
      "Epoch 23/600\n",
      "41/41 [==============================] - 0s 2ms/step - loss: 0.7006 - val_loss: 0.6919\n",
      "Epoch 24/600\n",
      "41/41 [==============================] - 0s 2ms/step - loss: 0.7035 - val_loss: 0.6924\n",
      "Epoch 25/600\n",
      "41/41 [==============================] - 0s 2ms/step - loss: 0.6916 - val_loss: 0.6919\n",
      "Epoch 26/600\n",
      "41/41 [==============================] - 0s 2ms/step - loss: 0.6918 - val_loss: 0.6917\n",
      "Epoch 27/600\n",
      "41/41 [==============================] - 0s 2ms/step - loss: 0.6932 - val_loss: 0.6912\n",
      "Epoch 28/600\n",
      "41/41 [==============================] - 0s 2ms/step - loss: 0.6938 - val_loss: 0.6928\n",
      "Epoch 29/600\n",
      "41/41 [==============================] - 0s 2ms/step - loss: 0.6973 - val_loss: 0.6920\n",
      "Epoch 29: early stopping\n"
     ]
    },
    {
     "data": {
      "text/plain": [
       "<keras.callbacks.History at 0x207c540be80>"
      ]
     },
     "execution_count": 62,
     "metadata": {},
     "output_type": "execute_result"
    }
   ],
   "source": [
    "model.fit(x=X_train,y=y_train,epochs=600,validation_data=(X_test,y_test),callbacks=[early_stop])"
   ]
  },
  {
   "cell_type": "code",
   "execution_count": 63,
   "id": "3b85400b",
   "metadata": {},
   "outputs": [
    {
     "data": {
      "text/plain": [
       "<AxesSubplot:>"
      ]
     },
     "execution_count": 63,
     "metadata": {},
     "output_type": "execute_result"
    },
    {
     "data": {
      "image/png": "[encoded data removed]",
      "text/plain": [
       "<Figure size 432x288 with 1 Axes>"
      ]
     },
     "metadata": {
      "needs_background": "light"
     },
     "output_type": "display_data"
    }
   ],
   "source": [
    "losses = pd.DataFrame(model.history.history)\n",
    "losses.plot()"
   ]
  },
  {
   "cell_type": "code",
   "execution_count": 64,
   "id": "48e9c6c8",
   "metadata": {},
   "outputs": [],
   "source": [
    "predictions = (model.predict(X_test) > 0.5).astype(\"int32\")"
   ]
  },
  {
   "cell_type": "code",
   "execution_count": 65,
   "id": "35bd4dda",
   "metadata": {},
   "outputs": [
    {
     "name": "stdout",
     "output_type": "stream",
     "text": [
      "Accuracy Score: 0.5245398773006135\n",
      "\n",
      "\n",
      "              precision    recall  f1-score   support\n",
      "\n",
      "           0       0.00      0.00      0.00       155\n",
      "           1       0.52      1.00      0.69       171\n",
      "\n",
      "    accuracy                           0.52       326\n",
      "   macro avg       0.26      0.50      0.34       326\n",
      "weighted avg       0.28      0.52      0.36       326\n",
      "\n",
      "\n",
      "\n",
      "[[  0 155]\n",
      " [  0 171]]\n"
     ]
    },
    {
     "name": "stderr",
     "output_type": "stream",
     "text": [
      "C:\\Users\\ngoa\\Anaconda3\\lib\\site-packages\\sklearn\\metrics\\_classification.py:1245: UndefinedMetricWarning: Precision and F-score are ill-defined and being set to 0.0 in labels with no predicted samples. Use `zero_division` parameter to control this behavior.\n",
      "  _warn_prf(average, modifier, msg_start, len(result))\n",
      "C:\\Users\\ngoa\\Anaconda3\\lib\\site-packages\\sklearn\\metrics\\_classification.py:1245: UndefinedMetricWarning: Precision and F-score are ill-defined and being set to 0.0 in labels with no predicted samples. Use `zero_division` parameter to control this behavior.\n",
      "  _warn_prf(average, modifier, msg_start, len(result))\n",
      "C:\\Users\\ngoa\\Anaconda3\\lib\\site-packages\\sklearn\\metrics\\_classification.py:1245: UndefinedMetricWarning: Precision and F-score are ill-defined and being set to 0.0 in labels with no predicted samples. Use `zero_division` parameter to control this behavior.\n",
      "  _warn_prf(average, modifier, msg_start, len(result))\n"
     ]
    }
   ],
   "source": [
    "print('Accuracy Score:',accuracy_score(y_test,predictions))\n",
    "print('\\n')\n",
    "print(classification_report(y_test,predictions))\n",
    "print('\\n')\n",
    "print(confusion_matrix(y_test,predictions))"
   ]
  },
  {
   "cell_type": "code",
   "execution_count": null,
   "id": "ddf92f01",
   "metadata": {},
   "outputs": [],
   "source": []
  },
  {
   "cell_type": "code",
   "execution_count": null,
   "id": "51828934",
   "metadata": {},
   "outputs": [],
   "source": []
  }
 ],
 "metadata": {
  "kernelspec": {
   "display_name": "Python 3",
   "language": "python",
   "name": "python3"
  },
  "language_info": {
   "codemirror_mode": {
    "name": "ipython",
    "version": 3
   },
   "file_extension": ".py",
   "mimetype": "text/x-python",
   "name": "python",
   "nbconvert_exporter": "python",
   "pygments_lexer": "ipython3",
   "version": "3.8.8"
  }
 },
 "nbformat": 4,
 "nbformat_minor": 5
}
