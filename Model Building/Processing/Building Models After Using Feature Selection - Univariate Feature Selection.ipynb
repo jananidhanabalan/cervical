{
 "cells": [
  {
   "cell_type": "code",
   "execution_count": 1,
   "id": "b8fd1173",
   "metadata": {},
   "outputs": [],
   "source": [
    "import pandas as pd\n",
    "import numpy as np\n",
    "import matplotlib.pyplot as plt\n",
    "import seaborn as sns\n",
    "%matplotlib inline"
   ]
  },
  {
   "cell_type": "code",
   "execution_count": 2,
   "id": "d8c79192",
   "metadata": {},
   "outputs": [],
   "source": [
    "df = pd.read_csv(\"data.txt\")"
   ]
  },
  {
   "cell_type": "code",
   "execution_count": 3,
   "id": "4c1d15e0",
   "metadata": {},
   "outputs": [
    {
     "data": {
      "text/html": [
       "<div>\n",
       "<style scoped>\n",
       "    .dataframe tbody tr th:only-of-type {\n",
       "        vertical-align: middle;\n",
       "    }\n",
       "\n",
       "    .dataframe tbody tr th {\n",
       "        vertical-align: top;\n",
       "    }\n",
       "\n",
       "    .dataframe thead th {\n",
       "        text-align: right;\n",
       "    }\n",
       "</style>\n",
       "<table border=\"1\" class=\"dataframe\">\n",
       "  <thead>\n",
       "    <tr style=\"text-align: right;\">\n",
       "      <th></th>\n",
       "      <th>Marital status</th>\n",
       "      <th>Application mode</th>\n",
       "      <th>Application order</th>\n",
       "      <th>Course</th>\n",
       "      <th>Daytime/evening attendance\\t</th>\n",
       "      <th>Previous qualification</th>\n",
       "      <th>Previous qualification (grade)</th>\n",
       "      <th>Nacionality</th>\n",
       "      <th>Mother's qualification</th>\n",
       "      <th>Father's qualification</th>\n",
       "      <th>...</th>\n",
       "      <th>Curricular units 2nd sem (credited)</th>\n",
       "      <th>Curricular units 2nd sem (enrolled)</th>\n",
       "      <th>Curricular units 2nd sem (evaluations)</th>\n",
       "      <th>Curricular units 2nd sem (approved)</th>\n",
       "      <th>Curricular units 2nd sem (grade)</th>\n",
       "      <th>Curricular units 2nd sem (without evaluations)</th>\n",
       "      <th>Unemployment rate</th>\n",
       "      <th>Inflation rate</th>\n",
       "      <th>GDP</th>\n",
       "      <th>Target</th>\n",
       "    </tr>\n",
       "  </thead>\n",
       "  <tbody>\n",
       "    <tr>\n",
       "      <th>0</th>\n",
       "      <td>1</td>\n",
       "      <td>17</td>\n",
       "      <td>5</td>\n",
       "      <td>171</td>\n",
       "      <td>1</td>\n",
       "      <td>1</td>\n",
       "      <td>122.0</td>\n",
       "      <td>1</td>\n",
       "      <td>19</td>\n",
       "      <td>12</td>\n",
       "      <td>...</td>\n",
       "      <td>0</td>\n",
       "      <td>0</td>\n",
       "      <td>0</td>\n",
       "      <td>0</td>\n",
       "      <td>0.000000</td>\n",
       "      <td>0</td>\n",
       "      <td>10.8</td>\n",
       "      <td>1.4</td>\n",
       "      <td>1.74</td>\n",
       "      <td>Dropout</td>\n",
       "    </tr>\n",
       "    <tr>\n",
       "      <th>1</th>\n",
       "      <td>1</td>\n",
       "      <td>15</td>\n",
       "      <td>1</td>\n",
       "      <td>9254</td>\n",
       "      <td>1</td>\n",
       "      <td>1</td>\n",
       "      <td>160.0</td>\n",
       "      <td>1</td>\n",
       "      <td>1</td>\n",
       "      <td>3</td>\n",
       "      <td>...</td>\n",
       "      <td>0</td>\n",
       "      <td>6</td>\n",
       "      <td>6</td>\n",
       "      <td>6</td>\n",
       "      <td>13.666667</td>\n",
       "      <td>0</td>\n",
       "      <td>13.9</td>\n",
       "      <td>-0.3</td>\n",
       "      <td>0.79</td>\n",
       "      <td>Graduate</td>\n",
       "    </tr>\n",
       "    <tr>\n",
       "      <th>2</th>\n",
       "      <td>1</td>\n",
       "      <td>1</td>\n",
       "      <td>5</td>\n",
       "      <td>9070</td>\n",
       "      <td>1</td>\n",
       "      <td>1</td>\n",
       "      <td>122.0</td>\n",
       "      <td>1</td>\n",
       "      <td>37</td>\n",
       "      <td>37</td>\n",
       "      <td>...</td>\n",
       "      <td>0</td>\n",
       "      <td>6</td>\n",
       "      <td>0</td>\n",
       "      <td>0</td>\n",
       "      <td>0.000000</td>\n",
       "      <td>0</td>\n",
       "      <td>10.8</td>\n",
       "      <td>1.4</td>\n",
       "      <td>1.74</td>\n",
       "      <td>Dropout</td>\n",
       "    </tr>\n",
       "    <tr>\n",
       "      <th>3</th>\n",
       "      <td>1</td>\n",
       "      <td>17</td>\n",
       "      <td>2</td>\n",
       "      <td>9773</td>\n",
       "      <td>1</td>\n",
       "      <td>1</td>\n",
       "      <td>122.0</td>\n",
       "      <td>1</td>\n",
       "      <td>38</td>\n",
       "      <td>37</td>\n",
       "      <td>...</td>\n",
       "      <td>0</td>\n",
       "      <td>6</td>\n",
       "      <td>10</td>\n",
       "      <td>5</td>\n",
       "      <td>12.400000</td>\n",
       "      <td>0</td>\n",
       "      <td>9.4</td>\n",
       "      <td>-0.8</td>\n",
       "      <td>-3.12</td>\n",
       "      <td>Graduate</td>\n",
       "    </tr>\n",
       "    <tr>\n",
       "      <th>4</th>\n",
       "      <td>2</td>\n",
       "      <td>39</td>\n",
       "      <td>1</td>\n",
       "      <td>8014</td>\n",
       "      <td>0</td>\n",
       "      <td>1</td>\n",
       "      <td>100.0</td>\n",
       "      <td>1</td>\n",
       "      <td>37</td>\n",
       "      <td>38</td>\n",
       "      <td>...</td>\n",
       "      <td>0</td>\n",
       "      <td>6</td>\n",
       "      <td>6</td>\n",
       "      <td>6</td>\n",
       "      <td>13.000000</td>\n",
       "      <td>0</td>\n",
       "      <td>13.9</td>\n",
       "      <td>-0.3</td>\n",
       "      <td>0.79</td>\n",
       "      <td>Graduate</td>\n",
       "    </tr>\n",
       "  </tbody>\n",
       "</table>\n",
       "<p>5 rows × 37 columns</p>\n",
       "</div>"
      ],
      "text/plain": [
       "   Marital status  Application mode  Application order  Course  \\\n",
       "0               1                17                  5     171   \n",
       "1               1                15                  1    9254   \n",
       "2               1                 1                  5    9070   \n",
       "3               1                17                  2    9773   \n",
       "4               2                39                  1    8014   \n",
       "\n",
       "   Daytime/evening attendance\\t  Previous qualification  \\\n",
       "0                             1                       1   \n",
       "1                             1                       1   \n",
       "2                             1                       1   \n",
       "3                             1                       1   \n",
       "4                             0                       1   \n",
       "\n",
       "   Previous qualification (grade)  Nacionality  Mother's qualification  \\\n",
       "0                           122.0            1                      19   \n",
       "1                           160.0            1                       1   \n",
       "2                           122.0            1                      37   \n",
       "3                           122.0            1                      38   \n",
       "4                           100.0            1                      37   \n",
       "\n",
       "   Father's qualification  ...  Curricular units 2nd sem (credited)  \\\n",
       "0                      12  ...                                    0   \n",
       "1                       3  ...                                    0   \n",
       "2                      37  ...                                    0   \n",
       "3                      37  ...                                    0   \n",
       "4                      38  ...                                    0   \n",
       "\n",
       "   Curricular units 2nd sem (enrolled)  \\\n",
       "0                                    0   \n",
       "1                                    6   \n",
       "2                                    6   \n",
       "3                                    6   \n",
       "4                                    6   \n",
       "\n",
       "   Curricular units 2nd sem (evaluations)  \\\n",
       "0                                       0   \n",
       "1                                       6   \n",
       "2                                       0   \n",
       "3                                      10   \n",
       "4                                       6   \n",
       "\n",
       "   Curricular units 2nd sem (approved)  Curricular units 2nd sem (grade)  \\\n",
       "0                                    0                          0.000000   \n",
       "1                                    6                         13.666667   \n",
       "2                                    0                          0.000000   \n",
       "3                                    5                         12.400000   \n",
       "4                                    6                         13.000000   \n",
       "\n",
       "   Curricular units 2nd sem (without evaluations)  Unemployment rate  \\\n",
       "0                                               0               10.8   \n",
       "1                                               0               13.9   \n",
       "2                                               0               10.8   \n",
       "3                                               0                9.4   \n",
       "4                                               0               13.9   \n",
       "\n",
       "   Inflation rate   GDP    Target  \n",
       "0             1.4  1.74   Dropout  \n",
       "1            -0.3  0.79  Graduate  \n",
       "2             1.4  1.74   Dropout  \n",
       "3            -0.8 -3.12  Graduate  \n",
       "4            -0.3  0.79  Graduate  \n",
       "\n",
       "[5 rows x 37 columns]"
      ]
     },
     "execution_count": 3,
     "metadata": {},
     "output_type": "execute_result"
    }
   ],
   "source": [
    "df.head()"
   ]
  },
  {
   "cell_type": "code",
   "execution_count": 4,
   "id": "2c37f0fc",
   "metadata": {},
   "outputs": [],
   "source": [
    "df = df[(df['Target'] == 'Graduate') | (df['Target'] == 'Dropout')]"
   ]
  },
  {
   "cell_type": "code",
   "execution_count": 5,
   "id": "376951e4",
   "metadata": {},
   "outputs": [],
   "source": [
    "df['Target'] = df['Target'].map({'Dropout': 0, 'Graduate': 1})"
   ]
  },
  {
   "cell_type": "code",
   "execution_count": 6,
   "id": "fadfc305",
   "metadata": {},
   "outputs": [],
   "source": [
    "df.reset_index(inplace=True)"
   ]
  },
  {
   "cell_type": "code",
   "execution_count": 7,
   "id": "90e204b0",
   "metadata": {},
   "outputs": [],
   "source": [
    "df.drop('index',inplace=True,axis=1)"
   ]
  },
  {
   "cell_type": "code",
   "execution_count": 8,
   "id": "ce07fee6",
   "metadata": {},
   "outputs": [],
   "source": [
    "from sklearn.feature_selection import SelectKBest\n",
    "from sklearn.feature_selection import chi2"
   ]
  },
  {
   "cell_type": "code",
   "execution_count": 9,
   "id": "747ff106",
   "metadata": {},
   "outputs": [],
   "source": [
    "from sklearn.preprocessing import MinMaxScaler"
   ]
  },
  {
   "cell_type": "code",
   "execution_count": 10,
   "id": "55f72bf7",
   "metadata": {},
   "outputs": [],
   "source": [
    "from sklearn.model_selection import train_test_split"
   ]
  },
  {
   "cell_type": "code",
   "execution_count": 11,
   "id": "8459e006",
   "metadata": {},
   "outputs": [],
   "source": [
    "X = df.drop('Target',axis=1)\n",
    "y = df['Target']"
   ]
  },
  {
   "cell_type": "code",
   "execution_count": 12,
   "id": "54ba2c8e",
   "metadata": {},
   "outputs": [],
   "source": [
    "scaler = MinMaxScaler()"
   ]
  },
  {
   "cell_type": "code",
   "execution_count": 13,
   "id": "32a3ea5f",
   "metadata": {},
   "outputs": [],
   "source": [
    "X_transform = scaler.fit_transform(X)"
   ]
  },
  {
   "cell_type": "code",
   "execution_count": 14,
   "id": "063c2f97",
   "metadata": {},
   "outputs": [],
   "source": [
    "X_train, X_test, y_train, y_test = train_test_split(X_transform, y, test_size=0.2, random_state=101)"
   ]
  },
  {
   "cell_type": "code",
   "execution_count": 15,
   "id": "832a4cf0",
   "metadata": {},
   "outputs": [],
   "source": [
    "bestfeatures = SelectKBest(score_func=chi2, k=10)"
   ]
  },
  {
   "cell_type": "code",
   "execution_count": 16,
   "id": "ceca23a1",
   "metadata": {},
   "outputs": [],
   "source": [
    "fit = bestfeatures.fit(X_transform,y)"
   ]
  },
  {
   "cell_type": "code",
   "execution_count": 17,
   "id": "8e5cfe7c",
   "metadata": {},
   "outputs": [],
   "source": [
    "dfscores = pd.DataFrame(fit.scores_)\n",
    "dfcolumns = pd.DataFrame(X.columns)"
   ]
  },
  {
   "cell_type": "code",
   "execution_count": 18,
   "id": "f72ca02b",
   "metadata": {},
   "outputs": [],
   "source": [
    "featureScores = pd.concat([dfcolumns,dfscores],axis=1)"
   ]
  },
  {
   "cell_type": "code",
   "execution_count": 19,
   "id": "c0f9e73c",
   "metadata": {},
   "outputs": [],
   "source": [
    "featureScores.columns = ['Specs','Score']"
   ]
  },
  {
   "cell_type": "code",
   "execution_count": 20,
   "id": "0939fa0e",
   "metadata": {},
   "outputs": [
    {
     "name": "stdout",
     "output_type": "stream",
     "text": [
      "                                             Specs       Score\n",
      "18                              Scholarship holder  260.724932\n",
      "15                                          Debtor  229.692794\n",
      "31                Curricular units 2nd sem (grade)  214.399992\n",
      "30             Curricular units 2nd sem (approved)  171.768316\n",
      "17                                          Gender  151.148802\n",
      "25                Curricular units 1st sem (grade)  126.200550\n",
      "16                         Tuition fees up to date   95.006019\n",
      "24             Curricular units 1st sem (approved)   94.028043\n",
      "1                                 Application mode   67.006863\n",
      "19                               Age at enrollment   46.373536\n",
      "13                                       Displaced   26.035663\n",
      "0                                   Marital status   14.941084\n",
      "32  Curricular units 2nd sem (without evaluations)   12.540434\n",
      "5                           Previous qualification    9.547234\n",
      "26  Curricular units 1st sem (without evaluations)    6.027220\n",
      "2                                Application order    5.473835\n",
      "28             Curricular units 2nd sem (enrolled)    4.292926\n",
      "12                                 Admission grade    4.141248\n",
      "22             Curricular units 1st sem (enrolled)    3.776363\n",
      "27             Curricular units 2nd sem (credited)    3.688068\n",
      "21             Curricular units 1st sem (credited)    3.247321\n",
      "29          Curricular units 2nd sem (evaluations)    3.165022\n",
      "8                           Mother's qualification    3.147141\n",
      "4                     Daytime/evening attendance\\t    2.912942\n",
      "6                   Previous qualification (grade)    2.115423\n",
      "35                                             GDP    1.526916\n",
      "34                                  Inflation rate    0.700176\n",
      "23          Curricular units 1st sem (evaluations)    0.656264\n",
      "7                                      Nacionality    0.434309\n",
      "3                                           Course    0.257143\n",
      "14                       Educational special needs    0.188890\n",
      "20                                   International    0.135409\n",
      "9                           Father's qualification    0.031407\n",
      "11                             Father's occupation    0.023307\n",
      "33                               Unemployment rate    0.013131\n",
      "10                             Mother's occupation    0.000598\n"
     ]
    }
   ],
   "source": [
    "print(featureScores.sort_values(ascending=False,by='Score'))"
   ]
  },
  {
   "cell_type": "code",
   "execution_count": 21,
   "id": "5410acae",
   "metadata": {},
   "outputs": [],
   "source": [
    "from sklearn.tree import DecisionTreeClassifier\n",
    "from sklearn.svm import SVC\n",
    "from sklearn.neighbors import KNeighborsClassifier\n",
    "from sklearn.linear_model import LogisticRegression\n",
    "from sklearn.ensemble import RandomForestClassifier\n",
    "from sklearn.model_selection import cross_val_score\n",
    "from sklearn.model_selection import GridSearchCV\n",
    "from sklearn.naive_bayes import GaussianNB\n",
    "from sklearn.metrics import accuracy_score, confusion_matrix, classification_report\n",
    "import xgboost as xgb"
   ]
  },
  {
   "cell_type": "code",
   "execution_count": 22,
   "id": "11c45815",
   "metadata": {},
   "outputs": [
    {
     "data": {
      "text/plain": [
       "Text(0, 0.5, 'Accuracy Score')"
      ]
     },
     "execution_count": 22,
     "metadata": {},
     "output_type": "execute_result"
    },
    {
     "data": {
      "image/png": "[encoded data removed]",
      "text/plain": [
       "<Figure size 720x432 with 1 Axes>"
      ]
     },
     "metadata": {
      "needs_background": "light"
     },
     "output_type": "display_data"
    }
   ],
   "source": [
    "accuracy = []\n",
    "for i in range(1,36):\n",
    "    X_new = SelectKBest(chi2, k=i).fit_transform(X_transform, y)\n",
    "    X_train, X_test, y_train, y_test = train_test_split(X_new, y, test_size=0.33, random_state=101)\n",
    "    new_model = DecisionTreeClassifier()\n",
    "    new_model.fit(X_train,y_train)\n",
    "    predictions = new_model.predict(X_test)\n",
    "    accuracy.append(accuracy_score(y_test,predictions))\n",
    "plt.figure(figsize=(10,6))\n",
    "plt.plot(range(1,36),accuracy,color='blue',linestyle='--',marker='o',markerfacecolor='red',markersize=10)\n",
    "plt.title('Accuracy Score vs K value')\n",
    "plt.xlabel('K')\n",
    "plt.ylabel('Accuracy Score')"
   ]
  },
  {
   "cell_type": "code",
   "execution_count": 23,
   "id": "59024f3d",
   "metadata": {},
   "outputs": [
    {
     "data": {
      "text/html": [
       "<div>\n",
       "<style scoped>\n",
       "    .dataframe tbody tr th:only-of-type {\n",
       "        vertical-align: middle;\n",
       "    }\n",
       "\n",
       "    .dataframe tbody tr th {\n",
       "        vertical-align: top;\n",
       "    }\n",
       "\n",
       "    .dataframe thead th {\n",
       "        text-align: right;\n",
       "    }\n",
       "</style>\n",
       "<table border=\"1\" class=\"dataframe\">\n",
       "  <thead>\n",
       "    <tr style=\"text-align: right;\">\n",
       "      <th></th>\n",
       "      <th>0</th>\n",
       "    </tr>\n",
       "  </thead>\n",
       "  <tbody>\n",
       "    <tr>\n",
       "      <th>0.602671</th>\n",
       "      <td>1</td>\n",
       "    </tr>\n",
       "    <tr>\n",
       "      <th>0.662771</th>\n",
       "      <td>2</td>\n",
       "    </tr>\n",
       "    <tr>\n",
       "      <th>0.810518</th>\n",
       "      <td>3</td>\n",
       "    </tr>\n",
       "    <tr>\n",
       "      <th>0.853088</th>\n",
       "      <td>4</td>\n",
       "    </tr>\n",
       "    <tr>\n",
       "      <th>0.844741</th>\n",
       "      <td>5</td>\n",
       "    </tr>\n",
       "    <tr>\n",
       "      <th>0.823038</th>\n",
       "      <td>6</td>\n",
       "    </tr>\n",
       "    <tr>\n",
       "      <th>0.827212</th>\n",
       "      <td>7</td>\n",
       "    </tr>\n",
       "    <tr>\n",
       "      <th>0.862270</th>\n",
       "      <td>8</td>\n",
       "    </tr>\n",
       "    <tr>\n",
       "      <th>0.842237</th>\n",
       "      <td>9</td>\n",
       "    </tr>\n",
       "    <tr>\n",
       "      <th>0.830551</th>\n",
       "      <td>10</td>\n",
       "    </tr>\n",
       "    <tr>\n",
       "      <th>0.821369</th>\n",
       "      <td>11</td>\n",
       "    </tr>\n",
       "    <tr>\n",
       "      <th>0.818865</th>\n",
       "      <td>12</td>\n",
       "    </tr>\n",
       "    <tr>\n",
       "      <th>0.833055</th>\n",
       "      <td>13</td>\n",
       "    </tr>\n",
       "    <tr>\n",
       "      <th>0.823873</th>\n",
       "      <td>14</td>\n",
       "    </tr>\n",
       "    <tr>\n",
       "      <th>0.824708</th>\n",
       "      <td>15</td>\n",
       "    </tr>\n",
       "    <tr>\n",
       "      <th>0.832220</th>\n",
       "      <td>16</td>\n",
       "    </tr>\n",
       "    <tr>\n",
       "      <th>0.848080</th>\n",
       "      <td>17</td>\n",
       "    </tr>\n",
       "    <tr>\n",
       "      <th>0.846411</th>\n",
       "      <td>18</td>\n",
       "    </tr>\n",
       "    <tr>\n",
       "      <th>0.850584</th>\n",
       "      <td>19</td>\n",
       "    </tr>\n",
       "    <tr>\n",
       "      <th>0.851419</th>\n",
       "      <td>20</td>\n",
       "    </tr>\n",
       "    <tr>\n",
       "      <th>0.852254</th>\n",
       "      <td>21</td>\n",
       "    </tr>\n",
       "    <tr>\n",
       "      <th>0.848080</th>\n",
       "      <td>22</td>\n",
       "    </tr>\n",
       "    <tr>\n",
       "      <th>0.853088</th>\n",
       "      <td>23</td>\n",
       "    </tr>\n",
       "    <tr>\n",
       "      <th>0.846411</th>\n",
       "      <td>24</td>\n",
       "    </tr>\n",
       "    <tr>\n",
       "      <th>0.853923</th>\n",
       "      <td>25</td>\n",
       "    </tr>\n",
       "    <tr>\n",
       "      <th>0.862270</th>\n",
       "      <td>26</td>\n",
       "    </tr>\n",
       "    <tr>\n",
       "      <th>0.841402</th>\n",
       "      <td>27</td>\n",
       "    </tr>\n",
       "    <tr>\n",
       "      <th>0.863940</th>\n",
       "      <td>28</td>\n",
       "    </tr>\n",
       "    <tr>\n",
       "      <th>0.853923</th>\n",
       "      <td>29</td>\n",
       "    </tr>\n",
       "    <tr>\n",
       "      <th>0.861436</th>\n",
       "      <td>30</td>\n",
       "    </tr>\n",
       "    <tr>\n",
       "      <th>0.860601</th>\n",
       "      <td>31</td>\n",
       "    </tr>\n",
       "    <tr>\n",
       "      <th>0.872287</th>\n",
       "      <td>32</td>\n",
       "    </tr>\n",
       "    <tr>\n",
       "      <th>0.864775</th>\n",
       "      <td>33</td>\n",
       "    </tr>\n",
       "    <tr>\n",
       "      <th>0.868948</th>\n",
       "      <td>34</td>\n",
       "    </tr>\n",
       "    <tr>\n",
       "      <th>0.863940</th>\n",
       "      <td>35</td>\n",
       "    </tr>\n",
       "  </tbody>\n",
       "</table>\n",
       "</div>"
      ],
      "text/plain": [
       "           0\n",
       "0.602671   1\n",
       "0.662771   2\n",
       "0.810518   3\n",
       "0.853088   4\n",
       "0.844741   5\n",
       "0.823038   6\n",
       "0.827212   7\n",
       "0.862270   8\n",
       "0.842237   9\n",
       "0.830551  10\n",
       "0.821369  11\n",
       "0.818865  12\n",
       "0.833055  13\n",
       "0.823873  14\n",
       "0.824708  15\n",
       "0.832220  16\n",
       "0.848080  17\n",
       "0.846411  18\n",
       "0.850584  19\n",
       "0.851419  20\n",
       "0.852254  21\n",
       "0.848080  22\n",
       "0.853088  23\n",
       "0.846411  24\n",
       "0.853923  25\n",
       "0.862270  26\n",
       "0.841402  27\n",
       "0.863940  28\n",
       "0.853923  29\n",
       "0.861436  30\n",
       "0.860601  31\n",
       "0.872287  32\n",
       "0.864775  33\n",
       "0.868948  34\n",
       "0.863940  35"
      ]
     },
     "execution_count": 23,
     "metadata": {},
     "output_type": "execute_result"
    }
   ],
   "source": [
    "pd.DataFrame(range(1,36),accuracy)"
   ]
  },
  {
   "cell_type": "code",
   "execution_count": 24,
   "id": "4aabe3d1",
   "metadata": {},
   "outputs": [],
   "source": [
    "X_new = SelectKBest(chi2, k=8).fit_transform(X_transform, y)"
   ]
  },
  {
   "cell_type": "code",
   "execution_count": 25,
   "id": "57fe0025",
   "metadata": {},
   "outputs": [
    {
     "data": {
      "text/plain": [
       "(3630, 8)"
      ]
     },
     "execution_count": 25,
     "metadata": {},
     "output_type": "execute_result"
    }
   ],
   "source": [
    "X_new.shape"
   ]
  },
  {
   "cell_type": "code",
   "execution_count": 26,
   "id": "b9b28d2b",
   "metadata": {},
   "outputs": [],
   "source": [
    "X_train, X_test, y_train, y_test = train_test_split(X_new, y, test_size=0.2, random_state=101)"
   ]
  },
  {
   "cell_type": "markdown",
   "id": "9e2c8e1f",
   "metadata": {},
   "source": [
    "# Buidling Model After Feature Selection"
   ]
  },
  {
   "cell_type": "markdown",
   "id": "3cd42d86",
   "metadata": {},
   "source": [
    "### Logistic Regression"
   ]
  },
  {
   "cell_type": "code",
   "execution_count": 27,
   "id": "0b045ec5",
   "metadata": {},
   "outputs": [],
   "source": [
    "logmodel = LogisticRegression(max_iter=10000)"
   ]
  },
  {
   "cell_type": "code",
   "execution_count": 28,
   "id": "ab0197fa",
   "metadata": {},
   "outputs": [
    {
     "data": {
      "text/plain": [
       "LogisticRegression(max_iter=10000)"
      ]
     },
     "execution_count": 28,
     "metadata": {},
     "output_type": "execute_result"
    }
   ],
   "source": [
    "logmodel.fit(X_train,y_train)"
   ]
  },
  {
   "cell_type": "code",
   "execution_count": 29,
   "id": "badb65fc",
   "metadata": {},
   "outputs": [],
   "source": [
    "predictions = logmodel.predict(X_test)"
   ]
  },
  {
   "cell_type": "code",
   "execution_count": 30,
   "id": "5617920f",
   "metadata": {},
   "outputs": [
    {
     "name": "stdout",
     "output_type": "stream",
     "text": [
      "Accuracy:  0.8746556473829201\n",
      "\n",
      "\n",
      "              precision    recall  f1-score   support\n",
      "\n",
      "           0       0.90      0.77      0.83       289\n",
      "           1       0.86      0.94      0.90       437\n",
      "\n",
      "    accuracy                           0.87       726\n",
      "   macro avg       0.88      0.86      0.87       726\n",
      "weighted avg       0.88      0.87      0.87       726\n",
      "\n",
      "\n",
      "\n",
      "[[223  66]\n",
      " [ 25 412]]\n"
     ]
    }
   ],
   "source": [
    "print(\"Accuracy: \", accuracy_score(y_test,predictions))\n",
    "print(\"\\n\")\n",
    "print(classification_report(y_test,predictions))\n",
    "print(\"\\n\")\n",
    "print(confusion_matrix(y_test,predictions))"
   ]
  },
  {
   "cell_type": "markdown",
   "id": "968c0147",
   "metadata": {},
   "source": [
    "### KNN"
   ]
  },
  {
   "cell_type": "code",
   "execution_count": 31,
   "id": "e2fa3645",
   "metadata": {},
   "outputs": [],
   "source": [
    "error_rate = []\n",
    "\n",
    "for i in range(1,40):\n",
    "    knn = KNeighborsClassifier(n_neighbors=i)\n",
    "    knn.fit(X_train,y_train)\n",
    "    pred_i = knn.predict(X_test)\n",
    "    error_rate.append(np.mean(pred_i != y_test))"
   ]
  },
  {
   "cell_type": "code",
   "execution_count": 32,
   "id": "4edbd871",
   "metadata": {},
   "outputs": [
    {
     "data": {
      "text/plain": [
       "Text(0, 0.5, 'Error Rate')"
      ]
     },
     "execution_count": 32,
     "metadata": {},
     "output_type": "execute_result"
    },
    {
     "data": {
      "image/png": "[encoded data removed]",
      "text/plain": [
       "<Figure size 720x432 with 1 Axes>"
      ]
     },
     "metadata": {
      "needs_background": "light"
     },
     "output_type": "display_data"
    }
   ],
   "source": [
    "plt.figure(figsize=(10,6))\n",
    "plt.plot(range(1,40),error_rate,color='blue',linestyle='--',marker='o',markerfacecolor='red',markersize=10)\n",
    "plt.title('Error Rate vs K value')\n",
    "plt.xlabel('K')\n",
    "plt.ylabel('Error Rate')"
   ]
  },
  {
   "cell_type": "code",
   "execution_count": 70,
   "id": "aee3a839",
   "metadata": {},
   "outputs": [],
   "source": [
    "knn = KNeighborsClassifier(n_neighbors=11)\n",
    "knn.fit(X_train,y_train)\n",
    "predictions = knn.predict(X_test)"
   ]
  },
  {
   "cell_type": "code",
   "execution_count": 71,
   "id": "86a48fc9",
   "metadata": {},
   "outputs": [
    {
     "name": "stdout",
     "output_type": "stream",
     "text": [
      "Accuracy Score: 0.8829201101928374\n",
      "\n",
      "\n",
      "              precision    recall  f1-score   support\n",
      "\n",
      "           0       0.88      0.82      0.85       289\n",
      "           1       0.89      0.92      0.90       437\n",
      "\n",
      "    accuracy                           0.88       726\n",
      "   macro avg       0.88      0.87      0.88       726\n",
      "weighted avg       0.88      0.88      0.88       726\n",
      "\n",
      "\n",
      "\n",
      "[[237  52]\n",
      " [ 33 404]]\n"
     ]
    }
   ],
   "source": [
    "print('Accuracy Score:',accuracy_score(y_test,predictions))\n",
    "print('\\n')\n",
    "print(classification_report(y_test,predictions))\n",
    "print('\\n')\n",
    "print(confusion_matrix(y_test,predictions))"
   ]
  },
  {
   "cell_type": "markdown",
   "id": "edd79d40",
   "metadata": {},
   "source": [
    "### Decision Tree"
   ]
  },
  {
   "cell_type": "code",
   "execution_count": 35,
   "id": "5340d022",
   "metadata": {},
   "outputs": [],
   "source": [
    "dtree = DecisionTreeClassifier()"
   ]
  },
  {
   "cell_type": "code",
   "execution_count": 36,
   "id": "630062ec",
   "metadata": {},
   "outputs": [
    {
     "data": {
      "text/plain": [
       "DecisionTreeClassifier()"
      ]
     },
     "execution_count": 36,
     "metadata": {},
     "output_type": "execute_result"
    }
   ],
   "source": [
    "dtree.fit(X_train,y_train)"
   ]
  },
  {
   "cell_type": "code",
   "execution_count": 37,
   "id": "7ffdf4bb",
   "metadata": {},
   "outputs": [],
   "source": [
    "predictions = dtree.predict(X_test)"
   ]
  },
  {
   "cell_type": "code",
   "execution_count": 38,
   "id": "692d5681",
   "metadata": {},
   "outputs": [
    {
     "name": "stdout",
     "output_type": "stream",
     "text": [
      "Accuracy:  0.8415977961432507\n",
      "\n",
      "\n",
      "              precision    recall  f1-score   support\n",
      "\n",
      "           0       0.79      0.81      0.80       289\n",
      "           1       0.87      0.86      0.87       437\n",
      "\n",
      "    accuracy                           0.84       726\n",
      "   macro avg       0.83      0.84      0.84       726\n",
      "weighted avg       0.84      0.84      0.84       726\n",
      "\n",
      "\n",
      "\n",
      "[[235  54]\n",
      " [ 61 376]]\n"
     ]
    }
   ],
   "source": [
    "print(\"Accuracy: \", accuracy_score(y_test,predictions))\n",
    "print(\"\\n\")\n",
    "print(classification_report(y_test,predictions))\n",
    "print(\"\\n\")\n",
    "print(confusion_matrix(y_test,predictions))"
   ]
  },
  {
   "cell_type": "markdown",
   "id": "3c3d9ff5",
   "metadata": {},
   "source": [
    "### Random Forest"
   ]
  },
  {
   "cell_type": "code",
   "execution_count": 39,
   "id": "416c07d0",
   "metadata": {},
   "outputs": [],
   "source": [
    "rfc = RandomForestClassifier(n_estimators=200)"
   ]
  },
  {
   "cell_type": "code",
   "execution_count": 40,
   "id": "09d61f88",
   "metadata": {},
   "outputs": [
    {
     "data": {
      "text/plain": [
       "RandomForestClassifier(n_estimators=200)"
      ]
     },
     "execution_count": 40,
     "metadata": {},
     "output_type": "execute_result"
    }
   ],
   "source": [
    "rfc.fit(X_train,y_train)"
   ]
  },
  {
   "cell_type": "code",
   "execution_count": 41,
   "id": "77603047",
   "metadata": {},
   "outputs": [],
   "source": [
    "predictions = rfc.predict(X_test)"
   ]
  },
  {
   "cell_type": "code",
   "execution_count": 42,
   "id": "69b7b8d0",
   "metadata": {},
   "outputs": [
    {
     "name": "stdout",
     "output_type": "stream",
     "text": [
      "Accuracy:  0.8732782369146006\n",
      "\n",
      "\n",
      "              precision    recall  f1-score   support\n",
      "\n",
      "           0       0.84      0.84      0.84       289\n",
      "           1       0.89      0.89      0.89       437\n",
      "\n",
      "    accuracy                           0.87       726\n",
      "   macro avg       0.87      0.87      0.87       726\n",
      "weighted avg       0.87      0.87      0.87       726\n",
      "\n",
      "\n",
      "\n",
      "[[243  46]\n",
      " [ 46 391]]\n"
     ]
    }
   ],
   "source": [
    "print(\"Accuracy: \", accuracy_score(y_test,predictions))\n",
    "print(\"\\n\")\n",
    "print(classification_report(y_test,predictions))\n",
    "print(\"\\n\")\n",
    "print(confusion_matrix(y_test,predictions))"
   ]
  },
  {
   "cell_type": "markdown",
   "id": "29f910a8",
   "metadata": {},
   "source": [
    "### Support Vector Machine"
   ]
  },
  {
   "cell_type": "code",
   "execution_count": 43,
   "id": "70b2fd48",
   "metadata": {},
   "outputs": [],
   "source": [
    "model = SVC()"
   ]
  },
  {
   "cell_type": "code",
   "execution_count": 44,
   "id": "fc005442",
   "metadata": {},
   "outputs": [
    {
     "data": {
      "text/plain": [
       "SVC()"
      ]
     },
     "execution_count": 44,
     "metadata": {},
     "output_type": "execute_result"
    }
   ],
   "source": [
    "model.fit(X_train,y_train)"
   ]
  },
  {
   "cell_type": "code",
   "execution_count": 45,
   "id": "07a8de58",
   "metadata": {},
   "outputs": [],
   "source": [
    "predictions = model.predict(X_test)"
   ]
  },
  {
   "cell_type": "code",
   "execution_count": 46,
   "id": "dfff3b21",
   "metadata": {},
   "outputs": [
    {
     "name": "stdout",
     "output_type": "stream",
     "text": [
      "Accuracy:  0.8732782369146006\n",
      "\n",
      "\n",
      "              precision    recall  f1-score   support\n",
      "\n",
      "           0       0.88      0.79      0.83       289\n",
      "           1       0.87      0.93      0.90       437\n",
      "\n",
      "    accuracy                           0.87       726\n",
      "   macro avg       0.88      0.86      0.86       726\n",
      "weighted avg       0.87      0.87      0.87       726\n",
      "\n",
      "\n",
      "\n",
      "[[227  62]\n",
      " [ 30 407]]\n"
     ]
    }
   ],
   "source": [
    "print(\"Accuracy: \", accuracy_score(y_test,predictions))\n",
    "print(\"\\n\")\n",
    "print(classification_report(y_test,predictions))\n",
    "print(\"\\n\")\n",
    "print(confusion_matrix(y_test,predictions))"
   ]
  },
  {
   "cell_type": "markdown",
   "id": "91ffbc0e",
   "metadata": {},
   "source": [
    "### Grid Search CV"
   ]
  },
  {
   "cell_type": "code",
   "execution_count": 47,
   "id": "cd425ff6",
   "metadata": {},
   "outputs": [],
   "source": [
    "param_grid = {'C':[0.1,1,10,100,1000],'gamma':[1,0.1,0.01,0.001,0.0001]}"
   ]
  },
  {
   "cell_type": "code",
   "execution_count": 48,
   "id": "5137eb0f",
   "metadata": {},
   "outputs": [],
   "source": [
    "grid = GridSearchCV(SVC(),param_grid,verbose=3)"
   ]
  },
  {
   "cell_type": "code",
   "execution_count": 49,
   "id": "02388d91",
   "metadata": {},
   "outputs": [
    {
     "name": "stdout",
     "output_type": "stream",
     "text": [
      "Fitting 5 folds for each of 25 candidates, totalling 125 fits\n",
      "[CV 1/5] END .................................C=0.1, gamma=1; total time=   0.1s\n",
      "[CV 2/5] END .................................C=0.1, gamma=1; total time=   0.1s\n",
      "[CV 3/5] END .................................C=0.1, gamma=1; total time=   0.1s\n",
      "[CV 4/5] END .................................C=0.1, gamma=1; total time=   0.1s\n",
      "[CV 5/5] END .................................C=0.1, gamma=1; total time=   0.0s\n",
      "[CV 1/5] END ...............................C=0.1, gamma=0.1; total time=   0.1s\n",
      "[CV 2/5] END ...............................C=0.1, gamma=0.1; total time=   0.1s\n",
      "[CV 3/5] END ...............................C=0.1, gamma=0.1; total time=   0.1s\n",
      "[CV 4/5] END ...............................C=0.1, gamma=0.1; total time=   0.1s\n",
      "[CV 5/5] END ...............................C=0.1, gamma=0.1; total time=   0.1s\n",
      "[CV 1/5] END ..............................C=0.1, gamma=0.01; total time=   0.2s\n",
      "[CV 2/5] END ..............................C=0.1, gamma=0.01; total time=   0.2s\n",
      "[CV 3/5] END ..............................C=0.1, gamma=0.01; total time=   0.2s\n",
      "[CV 4/5] END ..............................C=0.1, gamma=0.01; total time=   0.2s\n",
      "[CV 5/5] END ..............................C=0.1, gamma=0.01; total time=   0.2s\n",
      "[CV 1/5] END .............................C=0.1, gamma=0.001; total time=   0.2s\n",
      "[CV 2/5] END .............................C=0.1, gamma=0.001; total time=   0.2s\n",
      "[CV 3/5] END .............................C=0.1, gamma=0.001; total time=   0.2s\n",
      "[CV 4/5] END .............................C=0.1, gamma=0.001; total time=   0.2s\n",
      "[CV 5/5] END .............................C=0.1, gamma=0.001; total time=   0.2s\n",
      "[CV 1/5] END ............................C=0.1, gamma=0.0001; total time=   0.2s\n",
      "[CV 2/5] END ............................C=0.1, gamma=0.0001; total time=   0.2s\n",
      "[CV 3/5] END ............................C=0.1, gamma=0.0001; total time=   0.2s\n",
      "[CV 4/5] END ............................C=0.1, gamma=0.0001; total time=   0.2s\n",
      "[CV 5/5] END ............................C=0.1, gamma=0.0001; total time=   0.2s\n",
      "[CV 1/5] END ...................................C=1, gamma=1; total time=   0.0s\n",
      "[CV 2/5] END ...................................C=1, gamma=1; total time=   0.0s\n",
      "[CV 3/5] END ...................................C=1, gamma=1; total time=   0.0s\n",
      "[CV 4/5] END ...................................C=1, gamma=1; total time=   0.0s\n",
      "[CV 5/5] END ...................................C=1, gamma=1; total time=   0.0s\n",
      "[CV 1/5] END .................................C=1, gamma=0.1; total time=   0.0s\n",
      "[CV 2/5] END .................................C=1, gamma=0.1; total time=   0.0s\n",
      "[CV 3/5] END .................................C=1, gamma=0.1; total time=   0.1s\n",
      "[CV 4/5] END .................................C=1, gamma=0.1; total time=   0.0s\n",
      "[CV 5/5] END .................................C=1, gamma=0.1; total time=   0.1s\n",
      "[CV 1/5] END ................................C=1, gamma=0.01; total time=   0.1s\n",
      "[CV 2/5] END ................................C=1, gamma=0.01; total time=   0.1s\n",
      "[CV 3/5] END ................................C=1, gamma=0.01; total time=   0.1s\n",
      "[CV 4/5] END ................................C=1, gamma=0.01; total time=   0.1s\n",
      "[CV 5/5] END ................................C=1, gamma=0.01; total time=   0.1s\n",
      "[CV 1/5] END ...............................C=1, gamma=0.001; total time=   0.2s\n",
      "[CV 2/5] END ...............................C=1, gamma=0.001; total time=   0.2s\n",
      "[CV 3/5] END ...............................C=1, gamma=0.001; total time=   0.2s\n",
      "[CV 4/5] END ...............................C=1, gamma=0.001; total time=   0.2s\n",
      "[CV 5/5] END ...............................C=1, gamma=0.001; total time=   0.2s\n",
      "[CV 1/5] END ..............................C=1, gamma=0.0001; total time=   0.2s\n",
      "[CV 2/5] END ..............................C=1, gamma=0.0001; total time=   0.2s\n",
      "[CV 3/5] END ..............................C=1, gamma=0.0001; total time=   0.2s\n",
      "[CV 4/5] END ..............................C=1, gamma=0.0001; total time=   0.2s\n",
      "[CV 5/5] END ..............................C=1, gamma=0.0001; total time=   0.2s\n",
      "[CV 1/5] END ..................................C=10, gamma=1; total time=   0.0s\n",
      "[CV 2/5] END ..................................C=10, gamma=1; total time=   0.0s\n",
      "[CV 3/5] END ..................................C=10, gamma=1; total time=   0.0s\n",
      "[CV 4/5] END ..................................C=10, gamma=1; total time=   0.0s\n",
      "[CV 5/5] END ..................................C=10, gamma=1; total time=   0.0s\n",
      "[CV 1/5] END ................................C=10, gamma=0.1; total time=   0.0s\n",
      "[CV 2/5] END ................................C=10, gamma=0.1; total time=   0.0s\n",
      "[CV 3/5] END ................................C=10, gamma=0.1; total time=   0.0s\n",
      "[CV 4/5] END ................................C=10, gamma=0.1; total time=   0.0s\n",
      "[CV 5/5] END ................................C=10, gamma=0.1; total time=   0.0s\n",
      "[CV 1/5] END ...............................C=10, gamma=0.01; total time=   0.1s\n",
      "[CV 2/5] END ...............................C=10, gamma=0.01; total time=   0.0s\n",
      "[CV 3/5] END ...............................C=10, gamma=0.01; total time=   0.0s\n",
      "[CV 4/5] END ...............................C=10, gamma=0.01; total time=   0.0s\n",
      "[CV 5/5] END ...............................C=10, gamma=0.01; total time=   0.0s\n",
      "[CV 1/5] END ..............................C=10, gamma=0.001; total time=   0.1s\n",
      "[CV 2/5] END ..............................C=10, gamma=0.001; total time=   0.1s\n",
      "[CV 3/5] END ..............................C=10, gamma=0.001; total time=   0.1s\n",
      "[CV 4/5] END ..............................C=10, gamma=0.001; total time=   0.1s\n",
      "[CV 5/5] END ..............................C=10, gamma=0.001; total time=   0.1s\n",
      "[CV 1/5] END .............................C=10, gamma=0.0001; total time=   0.2s\n",
      "[CV 2/5] END .............................C=10, gamma=0.0001; total time=   0.2s\n",
      "[CV 3/5] END .............................C=10, gamma=0.0001; total time=   0.2s\n",
      "[CV 4/5] END .............................C=10, gamma=0.0001; total time=   0.2s\n",
      "[CV 5/5] END .............................C=10, gamma=0.0001; total time=   0.2s\n",
      "[CV 1/5] END .................................C=100, gamma=1; total time=   0.1s\n",
      "[CV 2/5] END .................................C=100, gamma=1; total time=   0.1s\n",
      "[CV 3/5] END .................................C=100, gamma=1; total time=   0.1s\n",
      "[CV 4/5] END .................................C=100, gamma=1; total time=   0.1s\n",
      "[CV 5/5] END .................................C=100, gamma=1; total time=   0.1s\n",
      "[CV 1/5] END ...............................C=100, gamma=0.1; total time=   0.0s\n",
      "[CV 2/5] END ...............................C=100, gamma=0.1; total time=   0.0s\n",
      "[CV 3/5] END ...............................C=100, gamma=0.1; total time=   0.0s\n",
      "[CV 4/5] END ...............................C=100, gamma=0.1; total time=   0.0s\n",
      "[CV 5/5] END ...............................C=100, gamma=0.1; total time=   0.0s\n",
      "[CV 1/5] END ..............................C=100, gamma=0.01; total time=   0.0s\n",
      "[CV 2/5] END ..............................C=100, gamma=0.01; total time=   0.0s\n",
      "[CV 3/5] END ..............................C=100, gamma=0.01; total time=   0.0s\n",
      "[CV 4/5] END ..............................C=100, gamma=0.01; total time=   0.0s\n",
      "[CV 5/5] END ..............................C=100, gamma=0.01; total time=   0.0s\n",
      "[CV 1/5] END .............................C=100, gamma=0.001; total time=   0.0s\n",
      "[CV 2/5] END .............................C=100, gamma=0.001; total time=   0.0s\n",
      "[CV 3/5] END .............................C=100, gamma=0.001; total time=   0.0s\n",
      "[CV 4/5] END .............................C=100, gamma=0.001; total time=   0.0s\n",
      "[CV 5/5] END .............................C=100, gamma=0.001; total time=   0.0s\n",
      "[CV 1/5] END ............................C=100, gamma=0.0001; total time=   0.1s\n",
      "[CV 2/5] END ............................C=100, gamma=0.0001; total time=   0.1s\n",
      "[CV 3/5] END ............................C=100, gamma=0.0001; total time=   0.1s\n",
      "[CV 4/5] END ............................C=100, gamma=0.0001; total time=   0.1s\n",
      "[CV 5/5] END ............................C=100, gamma=0.0001; total time=   0.1s\n",
      "[CV 1/5] END ................................C=1000, gamma=1; total time=   0.4s\n"
     ]
    },
    {
     "name": "stdout",
     "output_type": "stream",
     "text": [
      "[CV 2/5] END ................................C=1000, gamma=1; total time=   0.4s\n",
      "[CV 3/5] END ................................C=1000, gamma=1; total time=   0.2s\n",
      "[CV 4/5] END ................................C=1000, gamma=1; total time=   0.3s\n",
      "[CV 5/5] END ................................C=1000, gamma=1; total time=   0.4s\n",
      "[CV 1/5] END ..............................C=1000, gamma=0.1; total time=   0.1s\n",
      "[CV 2/5] END ..............................C=1000, gamma=0.1; total time=   0.1s\n",
      "[CV 3/5] END ..............................C=1000, gamma=0.1; total time=   0.1s\n",
      "[CV 4/5] END ..............................C=1000, gamma=0.1; total time=   0.1s\n",
      "[CV 5/5] END ..............................C=1000, gamma=0.1; total time=   0.1s\n",
      "[CV 1/5] END .............................C=1000, gamma=0.01; total time=   0.0s\n",
      "[CV 2/5] END .............................C=1000, gamma=0.01; total time=   0.1s\n",
      "[CV 3/5] END .............................C=1000, gamma=0.01; total time=   0.0s\n",
      "[CV 4/5] END .............................C=1000, gamma=0.01; total time=   0.1s\n",
      "[CV 5/5] END .............................C=1000, gamma=0.01; total time=   0.0s\n",
      "[CV 1/5] END ............................C=1000, gamma=0.001; total time=   0.0s\n",
      "[CV 2/5] END ............................C=1000, gamma=0.001; total time=   0.0s\n",
      "[CV 3/5] END ............................C=1000, gamma=0.001; total time=   0.0s\n",
      "[CV 4/5] END ............................C=1000, gamma=0.001; total time=   0.1s\n",
      "[CV 5/5] END ............................C=1000, gamma=0.001; total time=   0.0s\n",
      "[CV 1/5] END ...........................C=1000, gamma=0.0001; total time=   0.1s\n",
      "[CV 2/5] END ...........................C=1000, gamma=0.0001; total time=   0.1s\n",
      "[CV 3/5] END ...........................C=1000, gamma=0.0001; total time=   0.0s\n",
      "[CV 4/5] END ...........................C=1000, gamma=0.0001; total time=   0.0s\n",
      "[CV 5/5] END ...........................C=1000, gamma=0.0001; total time=   0.1s\n"
     ]
    },
    {
     "data": {
      "text/plain": [
       "GridSearchCV(estimator=SVC(),\n",
       "             param_grid={'C': [0.1, 1, 10, 100, 1000],\n",
       "                         'gamma': [1, 0.1, 0.01, 0.001, 0.0001]},\n",
       "             verbose=3)"
      ]
     },
     "execution_count": 49,
     "metadata": {},
     "output_type": "execute_result"
    }
   ],
   "source": [
    "grid.fit(X_train,y_train)"
   ]
  },
  {
   "cell_type": "code",
   "execution_count": 50,
   "id": "418259df",
   "metadata": {},
   "outputs": [
    {
     "data": {
      "text/plain": [
       "SVC(C=10, gamma=1)"
      ]
     },
     "execution_count": 50,
     "metadata": {},
     "output_type": "execute_result"
    }
   ],
   "source": [
    "grid.best_estimator_"
   ]
  },
  {
   "cell_type": "code",
   "execution_count": 51,
   "id": "65d3da04",
   "metadata": {},
   "outputs": [
    {
     "data": {
      "text/plain": [
       "{'C': 10, 'gamma': 1}"
      ]
     },
     "execution_count": 51,
     "metadata": {},
     "output_type": "execute_result"
    }
   ],
   "source": [
    "grid.best_params_"
   ]
  },
  {
   "cell_type": "code",
   "execution_count": 52,
   "id": "e0cfa6f9",
   "metadata": {},
   "outputs": [
    {
     "data": {
      "text/plain": [
       "0.8867101905157575"
      ]
     },
     "execution_count": 52,
     "metadata": {},
     "output_type": "execute_result"
    }
   ],
   "source": [
    "grid.best_score_"
   ]
  },
  {
   "cell_type": "code",
   "execution_count": 53,
   "id": "99ac22e4",
   "metadata": {},
   "outputs": [],
   "source": [
    "predictions = grid.predict(X_test)"
   ]
  },
  {
   "cell_type": "code",
   "execution_count": 54,
   "id": "3e713653",
   "metadata": {},
   "outputs": [
    {
     "name": "stdout",
     "output_type": "stream",
     "text": [
      "Accuracy:  0.8774104683195593\n",
      "\n",
      "\n",
      "              precision    recall  f1-score   support\n",
      "\n",
      "           0       0.88      0.81      0.84       289\n",
      "           1       0.88      0.92      0.90       437\n",
      "\n",
      "    accuracy                           0.88       726\n",
      "   macro avg       0.88      0.87      0.87       726\n",
      "weighted avg       0.88      0.88      0.88       726\n",
      "\n",
      "\n",
      "\n",
      "[[233  56]\n",
      " [ 33 404]]\n"
     ]
    }
   ],
   "source": [
    "print(\"Accuracy: \", accuracy_score(y_test,predictions))\n",
    "print(\"\\n\")\n",
    "print(classification_report(y_test,predictions))\n",
    "print(\"\\n\")\n",
    "print(confusion_matrix(y_test,predictions))"
   ]
  },
  {
   "cell_type": "markdown",
   "id": "f3f53095",
   "metadata": {},
   "source": [
    "### Naive Bayes"
   ]
  },
  {
   "cell_type": "code",
   "execution_count": 55,
   "id": "7910acfc",
   "metadata": {},
   "outputs": [],
   "source": [
    "gnb = GaussianNB()"
   ]
  },
  {
   "cell_type": "code",
   "execution_count": 56,
   "id": "2d685338",
   "metadata": {},
   "outputs": [
    {
     "data": {
      "text/plain": [
       "GaussianNB()"
      ]
     },
     "execution_count": 56,
     "metadata": {},
     "output_type": "execute_result"
    }
   ],
   "source": [
    "gnb.fit(X_train,y_train)"
   ]
  },
  {
   "cell_type": "code",
   "execution_count": 57,
   "id": "b6d2f914",
   "metadata": {},
   "outputs": [],
   "source": [
    "predictions = gnb.predict(X_test)"
   ]
  },
  {
   "cell_type": "code",
   "execution_count": 58,
   "id": "3a97e180",
   "metadata": {},
   "outputs": [
    {
     "name": "stdout",
     "output_type": "stream",
     "text": [
      "Accuracy Score: 0.8484848484848485\n",
      "\n",
      "\n",
      "              precision    recall  f1-score   support\n",
      "\n",
      "           0       0.86      0.74      0.79       289\n",
      "           1       0.84      0.92      0.88       437\n",
      "\n",
      "    accuracy                           0.85       726\n",
      "   macro avg       0.85      0.83      0.84       726\n",
      "weighted avg       0.85      0.85      0.85       726\n",
      "\n",
      "\n",
      "\n",
      "[[213  76]\n",
      " [ 34 403]]\n"
     ]
    }
   ],
   "source": [
    "print('Accuracy Score:',accuracy_score(y_test,predictions))\n",
    "print('\\n')\n",
    "print(classification_report(y_test,predictions))\n",
    "print('\\n')\n",
    "print(confusion_matrix(y_test,predictions))"
   ]
  },
  {
   "cell_type": "markdown",
   "id": "e1df9e65",
   "metadata": {},
   "source": [
    "### XGBoost"
   ]
  },
  {
   "cell_type": "code",
   "execution_count": 59,
   "id": "762afada",
   "metadata": {},
   "outputs": [],
   "source": [
    "xgb_cl = xgb.XGBClassifier()"
   ]
  },
  {
   "cell_type": "code",
   "execution_count": 60,
   "id": "f1ef895b",
   "metadata": {},
   "outputs": [
    {
     "data": {
      "text/plain": [
       "XGBClassifier(base_score=0.5, booster='gbtree', callbacks=None,\n",
       "              colsample_bylevel=1, colsample_bynode=1, colsample_bytree=1,\n",
       "              early_stopping_rounds=None, enable_categorical=False,\n",
       "              eval_metric=None, gamma=0, gpu_id=-1, grow_policy='depthwise',\n",
       "              importance_type=None, interaction_constraints='',\n",
       "              learning_rate=0.300000012, max_bin=256, max_cat_to_onehot=4,\n",
       "              max_delta_step=0, max_depth=6, max_leaves=0, min_child_weight=1,\n",
       "              missing=nan, monotone_constraints='()', n_estimators=100,\n",
       "              n_jobs=0, num_parallel_tree=1, predictor='auto', random_state=0,\n",
       "              reg_alpha=0, reg_lambda=1, ...)"
      ]
     },
     "execution_count": 60,
     "metadata": {},
     "output_type": "execute_result"
    }
   ],
   "source": [
    "xgb_cl.fit(X_train, y_train)"
   ]
  },
  {
   "cell_type": "code",
   "execution_count": 61,
   "id": "f45f7ec1",
   "metadata": {},
   "outputs": [],
   "source": [
    "predictions = xgb_cl.predict(X_test)"
   ]
  },
  {
   "cell_type": "code",
   "execution_count": 62,
   "id": "80d2a68a",
   "metadata": {
    "scrolled": false
   },
   "outputs": [
    {
     "name": "stdout",
     "output_type": "stream",
     "text": [
      "Accuracy Score: 0.8705234159779615\n",
      "\n",
      "\n",
      "              precision    recall  f1-score   support\n",
      "\n",
      "           0       0.84      0.83      0.84       289\n",
      "           1       0.89      0.90      0.89       437\n",
      "\n",
      "    accuracy                           0.87       726\n",
      "   macro avg       0.87      0.86      0.86       726\n",
      "weighted avg       0.87      0.87      0.87       726\n",
      "\n",
      "\n",
      "\n",
      "[[240  49]\n",
      " [ 45 392]]\n"
     ]
    }
   ],
   "source": [
    "print('Accuracy Score:',accuracy_score(y_test,predictions))\n",
    "print('\\n')\n",
    "print(classification_report(y_test,predictions))\n",
    "print('\\n')\n",
    "print(confusion_matrix(y_test,predictions))"
   ]
  },
  {
   "cell_type": "markdown",
   "id": "41fa1cd7",
   "metadata": {},
   "source": [
    "### Neural Network"
   ]
  },
  {
   "cell_type": "code",
   "execution_count": 63,
   "id": "7a7038c7",
   "metadata": {},
   "outputs": [],
   "source": [
    "import tensorflow as tf\n",
    "from tensorflow.keras.models import Sequential\n",
    "from tensorflow.keras.layers import Dense, Activation, Dropout\n",
    "from tensorflow.keras.callbacks import EarlyStopping"
   ]
  },
  {
   "cell_type": "code",
   "execution_count": 64,
   "id": "694e71d8",
   "metadata": {},
   "outputs": [],
   "source": [
    "model = Sequential()\n",
    "\n",
    "# input layer\n",
    "model.add(Dense(units=36,activation='relu'))\n",
    "model.add(Dropout(0.5))\n",
    "\n",
    "# hidden layer\n",
    "model.add(Dense(units=18,activation='relu'))\n",
    "model.add(Dropout(0.5))\n",
    "\n",
    "# output layer\n",
    "model.add(Dense(units=1,activation='sigmoid'))\n",
    "\n",
    "# compiler\n",
    "model.compile(loss='binary_crossentropy', optimizer='adam')"
   ]
  },
  {
   "cell_type": "code",
   "execution_count": 65,
   "id": "018ba478",
   "metadata": {},
   "outputs": [],
   "source": [
    "early_stop = EarlyStopping(monitor='val_loss',mode='min',verbose=1,patience=25)"
   ]
  },
  {
   "cell_type": "code",
   "execution_count": 66,
   "id": "8a7cb99b",
   "metadata": {},
   "outputs": [
    {
     "name": "stdout",
     "output_type": "stream",
     "text": [
      "Epoch 1/600\n",
      "91/91 [==============================] - 1s 2ms/step - loss: 0.6185 - val_loss: 0.5582\n",
      "Epoch 2/600\n",
      "91/91 [==============================] - 0s 1ms/step - loss: 0.5456 - val_loss: 0.4677\n",
      "Epoch 3/600\n",
      "91/91 [==============================] - 0s 1ms/step - loss: 0.4852 - val_loss: 0.4106\n",
      "Epoch 4/600\n",
      "91/91 [==============================] - 0s 1ms/step - loss: 0.4588 - val_loss: 0.3887\n",
      "Epoch 5/600\n",
      "91/91 [==============================] - 0s 1ms/step - loss: 0.4362 - val_loss: 0.3713\n",
      "Epoch 6/600\n",
      "91/91 [==============================] - 0s 1ms/step - loss: 0.4257 - val_loss: 0.3611\n",
      "Epoch 7/600\n",
      "91/91 [==============================] - 0s 1ms/step - loss: 0.4109 - val_loss: 0.3594\n",
      "Epoch 8/600\n",
      "91/91 [==============================] - 0s 1ms/step - loss: 0.4056 - val_loss: 0.3479\n",
      "Epoch 9/600\n",
      "91/91 [==============================] - 0s 1ms/step - loss: 0.4018 - val_loss: 0.3468\n",
      "Epoch 10/600\n",
      "91/91 [==============================] - 0s 1ms/step - loss: 0.3881 - val_loss: 0.3393\n",
      "Epoch 11/600\n",
      "91/91 [==============================] - 0s 1ms/step - loss: 0.3779 - val_loss: 0.3339\n",
      "Epoch 12/600\n",
      "91/91 [==============================] - 0s 1ms/step - loss: 0.3793 - val_loss: 0.3316\n",
      "Epoch 13/600\n",
      "91/91 [==============================] - 0s 1ms/step - loss: 0.3766 - val_loss: 0.3285\n",
      "Epoch 14/600\n",
      "91/91 [==============================] - 0s 1ms/step - loss: 0.3715 - val_loss: 0.3242\n",
      "Epoch 15/600\n",
      "91/91 [==============================] - 0s 1ms/step - loss: 0.3700 - val_loss: 0.3240\n",
      "Epoch 16/600\n",
      "91/91 [==============================] - 0s 1ms/step - loss: 0.3705 - val_loss: 0.3238\n",
      "Epoch 17/600\n",
      "91/91 [==============================] - 0s 1ms/step - loss: 0.3583 - val_loss: 0.3225\n",
      "Epoch 18/600\n",
      "91/91 [==============================] - 0s 1ms/step - loss: 0.3598 - val_loss: 0.3213\n",
      "Epoch 19/600\n",
      "91/91 [==============================] - 0s 1ms/step - loss: 0.3568 - val_loss: 0.3230\n",
      "Epoch 20/600\n",
      "91/91 [==============================] - 0s 1ms/step - loss: 0.3663 - val_loss: 0.3203\n",
      "Epoch 21/600\n",
      "91/91 [==============================] - 0s 1ms/step - loss: 0.3593 - val_loss: 0.3168\n",
      "Epoch 22/600\n",
      "91/91 [==============================] - 0s 1ms/step - loss: 0.3432 - val_loss: 0.3206\n",
      "Epoch 23/600\n",
      "91/91 [==============================] - 0s 1ms/step - loss: 0.3555 - val_loss: 0.3208\n",
      "Epoch 24/600\n",
      "91/91 [==============================] - 0s 1ms/step - loss: 0.3433 - val_loss: 0.3139\n",
      "Epoch 25/600\n",
      "91/91 [==============================] - 0s 1ms/step - loss: 0.3521 - val_loss: 0.3122\n",
      "Epoch 26/600\n",
      "91/91 [==============================] - 0s 1ms/step - loss: 0.3531 - val_loss: 0.3151\n",
      "Epoch 27/600\n",
      "91/91 [==============================] - 0s 1ms/step - loss: 0.3433 - val_loss: 0.3150\n",
      "Epoch 28/600\n",
      "91/91 [==============================] - 0s 1ms/step - loss: 0.3528 - val_loss: 0.3149\n",
      "Epoch 29/600\n",
      "91/91 [==============================] - 0s 1ms/step - loss: 0.3407 - val_loss: 0.3139\n",
      "Epoch 30/600\n",
      "91/91 [==============================] - 0s 1ms/step - loss: 0.3423 - val_loss: 0.3156\n",
      "Epoch 31/600\n",
      "91/91 [==============================] - 0s 1ms/step - loss: 0.3364 - val_loss: 0.3143\n",
      "Epoch 32/600\n",
      "91/91 [==============================] - 0s 2ms/step - loss: 0.3400 - val_loss: 0.3121\n",
      "Epoch 33/600\n",
      "91/91 [==============================] - 0s 1ms/step - loss: 0.3376 - val_loss: 0.3120\n",
      "Epoch 34/600\n",
      "91/91 [==============================] - 0s 1ms/step - loss: 0.3343 - val_loss: 0.3123\n",
      "Epoch 35/600\n",
      "91/91 [==============================] - 0s 1ms/step - loss: 0.3341 - val_loss: 0.3104\n",
      "Epoch 36/600\n",
      "91/91 [==============================] - 0s 1ms/step - loss: 0.3392 - val_loss: 0.3117\n",
      "Epoch 37/600\n",
      "91/91 [==============================] - 0s 1ms/step - loss: 0.3280 - val_loss: 0.3129\n",
      "Epoch 38/600\n",
      "91/91 [==============================] - 0s 1ms/step - loss: 0.3333 - val_loss: 0.3122\n",
      "Epoch 39/600\n",
      "91/91 [==============================] - 0s 1ms/step - loss: 0.3335 - val_loss: 0.3127\n",
      "Epoch 40/600\n",
      "91/91 [==============================] - 0s 1ms/step - loss: 0.3329 - val_loss: 0.3122\n",
      "Epoch 41/600\n",
      "91/91 [==============================] - 0s 1ms/step - loss: 0.3332 - val_loss: 0.3123\n",
      "Epoch 42/600\n",
      "91/91 [==============================] - 0s 1ms/step - loss: 0.3333 - val_loss: 0.3118\n",
      "Epoch 43/600\n",
      "91/91 [==============================] - 0s 1ms/step - loss: 0.3260 - val_loss: 0.3102\n",
      "Epoch 44/600\n",
      "91/91 [==============================] - 0s 1ms/step - loss: 0.3325 - val_loss: 0.3127\n",
      "Epoch 45/600\n",
      "91/91 [==============================] - 0s 1ms/step - loss: 0.3264 - val_loss: 0.3112\n",
      "Epoch 46/600\n",
      "91/91 [==============================] - 0s 1ms/step - loss: 0.3285 - val_loss: 0.3090\n",
      "Epoch 47/600\n",
      "91/91 [==============================] - 0s 1ms/step - loss: 0.3312 - val_loss: 0.3089\n",
      "Epoch 48/600\n",
      "91/91 [==============================] - 0s 1ms/step - loss: 0.3361 - val_loss: 0.3096\n",
      "Epoch 49/600\n",
      "91/91 [==============================] - 0s 1ms/step - loss: 0.3301 - val_loss: 0.3147\n",
      "Epoch 50/600\n",
      "91/91 [==============================] - 0s 1ms/step - loss: 0.3278 - val_loss: 0.3095\n",
      "Epoch 51/600\n",
      "91/91 [==============================] - 0s 1ms/step - loss: 0.3296 - val_loss: 0.3085\n",
      "Epoch 52/600\n",
      "91/91 [==============================] - 0s 1ms/step - loss: 0.3333 - val_loss: 0.3084\n",
      "Epoch 53/600\n",
      "91/91 [==============================] - 0s 1ms/step - loss: 0.3192 - val_loss: 0.3140\n",
      "Epoch 54/600\n",
      "91/91 [==============================] - 0s 1ms/step - loss: 0.3374 - val_loss: 0.3093\n",
      "Epoch 55/600\n",
      "91/91 [==============================] - 0s 1ms/step - loss: 0.3266 - val_loss: 0.3097\n",
      "Epoch 56/600\n",
      "91/91 [==============================] - 0s 1ms/step - loss: 0.3261 - val_loss: 0.3126\n",
      "Epoch 57/600\n",
      "91/91 [==============================] - 0s 1ms/step - loss: 0.3259 - val_loss: 0.3090\n",
      "Epoch 58/600\n",
      "91/91 [==============================] - 0s 1ms/step - loss: 0.3205 - val_loss: 0.3105\n",
      "Epoch 59/600\n",
      "91/91 [==============================] - 0s 1ms/step - loss: 0.3270 - val_loss: 0.3086\n",
      "Epoch 60/600\n",
      "91/91 [==============================] - 0s 1ms/step - loss: 0.3273 - val_loss: 0.3112\n",
      "Epoch 61/600\n",
      "91/91 [==============================] - 0s 1ms/step - loss: 0.3368 - val_loss: 0.3079\n",
      "Epoch 62/600\n",
      "91/91 [==============================] - 0s 1ms/step - loss: 0.3351 - val_loss: 0.3086\n",
      "Epoch 63/600\n",
      "91/91 [==============================] - 0s 1ms/step - loss: 0.3245 - val_loss: 0.3093\n",
      "Epoch 64/600\n",
      "91/91 [==============================] - 0s 1ms/step - loss: 0.3205 - val_loss: 0.3082\n",
      "Epoch 65/600\n",
      "91/91 [==============================] - 0s 1ms/step - loss: 0.3242 - val_loss: 0.3073\n",
      "Epoch 66/600\n",
      "91/91 [==============================] - 0s 1ms/step - loss: 0.3314 - val_loss: 0.3053\n",
      "Epoch 67/600\n",
      "91/91 [==============================] - 0s 1ms/step - loss: 0.3285 - val_loss: 0.3102\n",
      "Epoch 68/600\n",
      "91/91 [==============================] - 0s 1ms/step - loss: 0.3209 - val_loss: 0.3099\n",
      "Epoch 69/600\n",
      "91/91 [==============================] - 0s 1ms/step - loss: 0.3340 - val_loss: 0.3081\n",
      "Epoch 70/600\n",
      "91/91 [==============================] - 0s 1ms/step - loss: 0.3330 - val_loss: 0.3050\n",
      "Epoch 71/600\n",
      "91/91 [==============================] - 0s 1ms/step - loss: 0.3263 - val_loss: 0.3075\n",
      "Epoch 72/600\n",
      "91/91 [==============================] - 0s 1ms/step - loss: 0.3296 - val_loss: 0.3077\n",
      "Epoch 73/600\n",
      "91/91 [==============================] - 0s 1ms/step - loss: 0.3304 - val_loss: 0.3080\n",
      "Epoch 74/600\n",
      "91/91 [==============================] - 0s 1ms/step - loss: 0.3221 - val_loss: 0.3065\n",
      "Epoch 75/600\n",
      "91/91 [==============================] - 0s 1ms/step - loss: 0.3236 - val_loss: 0.3034\n",
      "Epoch 76/600\n",
      "91/91 [==============================] - 0s 1ms/step - loss: 0.3238 - val_loss: 0.3059\n",
      "Epoch 77/600\n",
      "91/91 [==============================] - 0s 1ms/step - loss: 0.3203 - val_loss: 0.3059\n",
      "Epoch 78/600\n",
      "91/91 [==============================] - 0s 1ms/step - loss: 0.3272 - val_loss: 0.3038\n",
      "Epoch 79/600\n",
      "91/91 [==============================] - 0s 1ms/step - loss: 0.3297 - val_loss: 0.3054\n",
      "Epoch 80/600\n",
      "91/91 [==============================] - 0s 1ms/step - loss: 0.3181 - val_loss: 0.3080\n",
      "Epoch 81/600\n",
      "91/91 [==============================] - 0s 1ms/step - loss: 0.3257 - val_loss: 0.3069\n",
      "Epoch 82/600\n",
      "91/91 [==============================] - 0s 1ms/step - loss: 0.3249 - val_loss: 0.3051\n",
      "Epoch 83/600\n"
     ]
    },
    {
     "name": "stdout",
     "output_type": "stream",
     "text": [
      "91/91 [==============================] - 0s 1ms/step - loss: 0.3182 - val_loss: 0.3075\n",
      "Epoch 84/600\n",
      "91/91 [==============================] - 0s 1ms/step - loss: 0.3259 - val_loss: 0.3061\n",
      "Epoch 85/600\n",
      "91/91 [==============================] - 0s 1ms/step - loss: 0.3196 - val_loss: 0.3040\n",
      "Epoch 86/600\n",
      "91/91 [==============================] - 0s 1ms/step - loss: 0.3120 - val_loss: 0.3034\n",
      "Epoch 87/600\n",
      "91/91 [==============================] - 0s 1ms/step - loss: 0.3242 - val_loss: 0.3056\n",
      "Epoch 88/600\n",
      "91/91 [==============================] - 0s 1ms/step - loss: 0.3163 - val_loss: 0.3066\n",
      "Epoch 89/600\n",
      "91/91 [==============================] - 0s 1ms/step - loss: 0.3176 - val_loss: 0.3051\n",
      "Epoch 90/600\n",
      "91/91 [==============================] - 0s 1ms/step - loss: 0.3184 - val_loss: 0.3052\n",
      "Epoch 91/600\n",
      "91/91 [==============================] - 0s 1ms/step - loss: 0.3202 - val_loss: 0.3064\n",
      "Epoch 92/600\n",
      "91/91 [==============================] - 0s 1ms/step - loss: 0.3197 - val_loss: 0.3040\n",
      "Epoch 93/600\n",
      "91/91 [==============================] - 0s 1ms/step - loss: 0.3156 - val_loss: 0.3052\n",
      "Epoch 94/600\n",
      "91/91 [==============================] - 0s 1ms/step - loss: 0.3240 - val_loss: 0.3052\n",
      "Epoch 95/600\n",
      "91/91 [==============================] - 0s 1ms/step - loss: 0.3157 - val_loss: 0.3081\n",
      "Epoch 96/600\n",
      "91/91 [==============================] - 0s 1ms/step - loss: 0.3209 - val_loss: 0.3031\n",
      "Epoch 97/600\n",
      "91/91 [==============================] - 0s 1ms/step - loss: 0.3239 - val_loss: 0.3035\n",
      "Epoch 98/600\n",
      "91/91 [==============================] - 0s 1ms/step - loss: 0.3258 - val_loss: 0.3065\n",
      "Epoch 99/600\n",
      "91/91 [==============================] - 0s 1ms/step - loss: 0.3138 - val_loss: 0.3065\n",
      "Epoch 100/600\n",
      "91/91 [==============================] - 0s 1ms/step - loss: 0.3242 - val_loss: 0.3056\n",
      "Epoch 101/600\n",
      "91/91 [==============================] - 0s 1ms/step - loss: 0.3218 - val_loss: 0.3074\n",
      "Epoch 102/600\n",
      "91/91 [==============================] - 0s 1ms/step - loss: 0.3196 - val_loss: 0.3040\n",
      "Epoch 103/600\n",
      "91/91 [==============================] - 0s 1ms/step - loss: 0.3202 - val_loss: 0.3025\n",
      "Epoch 104/600\n",
      "91/91 [==============================] - 0s 1ms/step - loss: 0.3181 - val_loss: 0.3104\n",
      "Epoch 105/600\n",
      "91/91 [==============================] - 0s 1ms/step - loss: 0.3191 - val_loss: 0.3106\n",
      "Epoch 106/600\n",
      "91/91 [==============================] - 0s 1ms/step - loss: 0.3252 - val_loss: 0.3078\n",
      "Epoch 107/600\n",
      "91/91 [==============================] - 0s 1ms/step - loss: 0.3283 - val_loss: 0.3061\n",
      "Epoch 108/600\n",
      "91/91 [==============================] - 0s 1ms/step - loss: 0.3170 - val_loss: 0.3079\n",
      "Epoch 109/600\n",
      "91/91 [==============================] - 0s 1ms/step - loss: 0.3158 - val_loss: 0.3060\n",
      "Epoch 110/600\n",
      "91/91 [==============================] - 0s 1ms/step - loss: 0.3257 - val_loss: 0.3099\n",
      "Epoch 111/600\n",
      "91/91 [==============================] - 0s 1ms/step - loss: 0.3066 - val_loss: 0.3085\n",
      "Epoch 112/600\n",
      "91/91 [==============================] - 0s 1ms/step - loss: 0.3139 - val_loss: 0.3112\n",
      "Epoch 113/600\n",
      "91/91 [==============================] - 0s 1ms/step - loss: 0.3251 - val_loss: 0.3072\n",
      "Epoch 114/600\n",
      "91/91 [==============================] - 0s 1ms/step - loss: 0.3145 - val_loss: 0.3095\n",
      "Epoch 115/600\n",
      "91/91 [==============================] - 0s 1ms/step - loss: 0.3204 - val_loss: 0.3037\n",
      "Epoch 116/600\n",
      "91/91 [==============================] - 0s 1ms/step - loss: 0.3182 - val_loss: 0.3005\n",
      "Epoch 117/600\n",
      "91/91 [==============================] - 0s 1ms/step - loss: 0.3203 - val_loss: 0.3051\n",
      "Epoch 118/600\n",
      "91/91 [==============================] - 0s 1ms/step - loss: 0.3173 - val_loss: 0.3084\n",
      "Epoch 119/600\n",
      "91/91 [==============================] - 0s 1ms/step - loss: 0.3158 - val_loss: 0.3096\n",
      "Epoch 120/600\n",
      "91/91 [==============================] - 0s 1ms/step - loss: 0.3103 - val_loss: 0.3096\n",
      "Epoch 121/600\n",
      "91/91 [==============================] - 0s 1ms/step - loss: 0.3136 - val_loss: 0.3049\n",
      "Epoch 122/600\n",
      "91/91 [==============================] - 0s 1ms/step - loss: 0.3125 - val_loss: 0.3071\n",
      "Epoch 123/600\n",
      "91/91 [==============================] - 0s 1ms/step - loss: 0.3090 - val_loss: 0.3071\n",
      "Epoch 124/600\n",
      "91/91 [==============================] - 0s 1ms/step - loss: 0.3128 - val_loss: 0.3127\n",
      "Epoch 125/600\n",
      "91/91 [==============================] - 0s 2ms/step - loss: 0.3217 - val_loss: 0.3059\n",
      "Epoch 126/600\n",
      "91/91 [==============================] - 0s 1ms/step - loss: 0.3217 - val_loss: 0.3062\n",
      "Epoch 127/600\n",
      "91/91 [==============================] - 0s 1ms/step - loss: 0.3147 - val_loss: 0.3058\n",
      "Epoch 128/600\n",
      "91/91 [==============================] - 0s 2ms/step - loss: 0.3109 - val_loss: 0.3051\n",
      "Epoch 129/600\n",
      "91/91 [==============================] - 0s 2ms/step - loss: 0.3158 - val_loss: 0.3055\n",
      "Epoch 130/600\n",
      "91/91 [==============================] - 0s 1ms/step - loss: 0.3188 - val_loss: 0.3073\n",
      "Epoch 131/600\n",
      "91/91 [==============================] - 0s 1ms/step - loss: 0.3152 - val_loss: 0.3087\n",
      "Epoch 132/600\n",
      "91/91 [==============================] - 0s 1ms/step - loss: 0.3118 - val_loss: 0.3068\n",
      "Epoch 133/600\n",
      "91/91 [==============================] - 0s 1ms/step - loss: 0.3120 - val_loss: 0.3078\n",
      "Epoch 134/600\n",
      "91/91 [==============================] - 0s 1ms/step - loss: 0.3208 - val_loss: 0.3095\n",
      "Epoch 135/600\n",
      "91/91 [==============================] - 0s 1ms/step - loss: 0.3108 - val_loss: 0.3059\n",
      "Epoch 136/600\n",
      "91/91 [==============================] - 0s 1ms/step - loss: 0.3132 - val_loss: 0.3053\n",
      "Epoch 137/600\n",
      "91/91 [==============================] - 0s 1ms/step - loss: 0.3217 - val_loss: 0.3045\n",
      "Epoch 138/600\n",
      "91/91 [==============================] - 0s 1ms/step - loss: 0.3158 - val_loss: 0.3062\n",
      "Epoch 139/600\n",
      "91/91 [==============================] - 0s 1ms/step - loss: 0.3153 - val_loss: 0.3058\n",
      "Epoch 140/600\n",
      "91/91 [==============================] - 0s 1ms/step - loss: 0.3122 - val_loss: 0.3079\n",
      "Epoch 141/600\n",
      "91/91 [==============================] - 0s 1ms/step - loss: 0.3178 - val_loss: 0.3044\n",
      "Epoch 141: early stopping\n"
     ]
    },
    {
     "data": {
      "text/plain": [
       "<keras.callbacks.History at 0x15957ee2c10>"
      ]
     },
     "execution_count": 66,
     "metadata": {},
     "output_type": "execute_result"
    }
   ],
   "source": [
    "model.fit(x=X_train,y=y_train,epochs=600,validation_data=(X_test,y_test),callbacks=[early_stop])"
   ]
  },
  {
   "cell_type": "code",
   "execution_count": 67,
   "id": "3b85400b",
   "metadata": {},
   "outputs": [
    {
     "data": {
      "text/plain": [
       "<AxesSubplot:>"
      ]
     },
     "execution_count": 67,
     "metadata": {},
     "output_type": "execute_result"
    },
    {
     "data": {
      "image/png": "[encoded data removed]",
      "text/plain": [
       "<Figure size 432x288 with 1 Axes>"
      ]
     },
     "metadata": {
      "needs_background": "light"
     },
     "output_type": "display_data"
    }
   ],
   "source": [
    "losses = pd.DataFrame(model.history.history)\n",
    "losses.plot()"
   ]
  },
  {
   "cell_type": "code",
   "execution_count": 68,
   "id": "48e9c6c8",
   "metadata": {},
   "outputs": [],
   "source": [
    "predictions = (model.predict(X_test) > 0.5).astype(\"int32\")"
   ]
  },
  {
   "cell_type": "code",
   "execution_count": 69,
   "id": "35bd4dda",
   "metadata": {},
   "outputs": [
    {
     "name": "stdout",
     "output_type": "stream",
     "text": [
      "Accuracy Score: 0.8815426997245179\n",
      "\n",
      "\n",
      "              precision    recall  f1-score   support\n",
      "\n",
      "           0       0.86      0.83      0.85       289\n",
      "           1       0.89      0.91      0.90       437\n",
      "\n",
      "    accuracy                           0.88       726\n",
      "   macro avg       0.88      0.87      0.88       726\n",
      "weighted avg       0.88      0.88      0.88       726\n",
      "\n",
      "\n",
      "\n",
      "[[241  48]\n",
      " [ 38 399]]\n"
     ]
    }
   ],
   "source": [
    "print('Accuracy Score:',accuracy_score(y_test,predictions))\n",
    "print('\\n')\n",
    "print(classification_report(y_test,predictions))\n",
    "print('\\n')\n",
    "print(confusion_matrix(y_test,predictions))"
   ]
  },
  {
   "cell_type": "code",
   "execution_count": null,
   "id": "994c35e4",
   "metadata": {},
   "outputs": [],
   "source": []
  }
 ],
 "metadata": {
  "kernelspec": {
   "display_name": "Python 3",
   "language": "python",
   "name": "python3"
  },
  "language_info": {
   "codemirror_mode": {
    "name": "ipython",
    "version": 3
   },
   "file_extension": ".py",
   "mimetype": "text/x-python",
   "name": "python",
   "nbconvert_exporter": "python",
   "pygments_lexer": "ipython3",
   "version": "3.8.8"
  }
 },
 "nbformat": 4,
 "nbformat_minor": 5
}
