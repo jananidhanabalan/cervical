{
 "cells": [
  {
   "cell_type": "code",
   "execution_count": 1,
   "id": "b8fd1173",
   "metadata": {},
   "outputs": [],
   "source": [
    "import pandas as pd\n",
    "import numpy as np\n",
    "import matplotlib.pyplot as plt\n",
    "import seaborn as sns\n",
    "%matplotlib inline"
   ]
  },
  {
   "cell_type": "code",
   "execution_count": 2,
   "id": "d8c79192",
   "metadata": {},
   "outputs": [],
   "source": [
    "df = pd.read_csv(\"Clean Data_2.csv\")"
   ]
  },
  {
   "cell_type": "code",
   "execution_count": 3,
   "id": "4c1d15e0",
   "metadata": {},
   "outputs": [
    {
     "data": {
      "text/html": [
       "<div>\n",
       "<style scoped>\n",
       "    .dataframe tbody tr th:only-of-type {\n",
       "        vertical-align: middle;\n",
       "    }\n",
       "\n",
       "    .dataframe tbody tr th {\n",
       "        vertical-align: top;\n",
       "    }\n",
       "\n",
       "    .dataframe thead th {\n",
       "        text-align: right;\n",
       "    }\n",
       "</style>\n",
       "<table border=\"1\" class=\"dataframe\">\n",
       "  <thead>\n",
       "    <tr style=\"text-align: right;\">\n",
       "      <th></th>\n",
       "      <th>Unnamed: 0</th>\n",
       "      <th>Age</th>\n",
       "      <th>Number of sexual partners</th>\n",
       "      <th>First sexual intercourse</th>\n",
       "      <th>Num of pregnancies</th>\n",
       "      <th>Smokes</th>\n",
       "      <th>Smokes (years)</th>\n",
       "      <th>Smokes (packs/year)</th>\n",
       "      <th>Hormonal Contraceptives</th>\n",
       "      <th>Hormonal Contraceptives (years)</th>\n",
       "      <th>...</th>\n",
       "      <th>STDs:HIV</th>\n",
       "      <th>STDs: Number of diagnosis</th>\n",
       "      <th>Dx:Cancer</th>\n",
       "      <th>Dx:CIN</th>\n",
       "      <th>Dx:HPV</th>\n",
       "      <th>Dx</th>\n",
       "      <th>Hinselmann</th>\n",
       "      <th>Schiller</th>\n",
       "      <th>Citology</th>\n",
       "      <th>Biopsy</th>\n",
       "    </tr>\n",
       "  </thead>\n",
       "  <tbody>\n",
       "    <tr>\n",
       "      <th>0</th>\n",
       "      <td>0</td>\n",
       "      <td>18</td>\n",
       "      <td>4.0</td>\n",
       "      <td>15.0</td>\n",
       "      <td>1.0</td>\n",
       "      <td>0.0</td>\n",
       "      <td>0.0</td>\n",
       "      <td>0.0</td>\n",
       "      <td>0.0</td>\n",
       "      <td>0.00</td>\n",
       "      <td>...</td>\n",
       "      <td>0.0</td>\n",
       "      <td>0</td>\n",
       "      <td>0</td>\n",
       "      <td>0</td>\n",
       "      <td>0</td>\n",
       "      <td>0</td>\n",
       "      <td>0</td>\n",
       "      <td>0</td>\n",
       "      <td>0</td>\n",
       "      <td>0</td>\n",
       "    </tr>\n",
       "    <tr>\n",
       "      <th>1</th>\n",
       "      <td>1</td>\n",
       "      <td>15</td>\n",
       "      <td>1.0</td>\n",
       "      <td>14.0</td>\n",
       "      <td>1.0</td>\n",
       "      <td>0.0</td>\n",
       "      <td>0.0</td>\n",
       "      <td>0.0</td>\n",
       "      <td>0.0</td>\n",
       "      <td>0.00</td>\n",
       "      <td>...</td>\n",
       "      <td>0.0</td>\n",
       "      <td>0</td>\n",
       "      <td>0</td>\n",
       "      <td>0</td>\n",
       "      <td>0</td>\n",
       "      <td>0</td>\n",
       "      <td>0</td>\n",
       "      <td>0</td>\n",
       "      <td>0</td>\n",
       "      <td>0</td>\n",
       "    </tr>\n",
       "    <tr>\n",
       "      <th>2</th>\n",
       "      <td>2</td>\n",
       "      <td>34</td>\n",
       "      <td>1.0</td>\n",
       "      <td>17.0</td>\n",
       "      <td>1.0</td>\n",
       "      <td>0.0</td>\n",
       "      <td>0.0</td>\n",
       "      <td>0.0</td>\n",
       "      <td>0.0</td>\n",
       "      <td>0.00</td>\n",
       "      <td>...</td>\n",
       "      <td>0.0</td>\n",
       "      <td>0</td>\n",
       "      <td>0</td>\n",
       "      <td>0</td>\n",
       "      <td>0</td>\n",
       "      <td>0</td>\n",
       "      <td>0</td>\n",
       "      <td>0</td>\n",
       "      <td>0</td>\n",
       "      <td>0</td>\n",
       "    </tr>\n",
       "    <tr>\n",
       "      <th>3</th>\n",
       "      <td>3</td>\n",
       "      <td>52</td>\n",
       "      <td>5.0</td>\n",
       "      <td>16.0</td>\n",
       "      <td>4.0</td>\n",
       "      <td>1.0</td>\n",
       "      <td>37.0</td>\n",
       "      <td>37.0</td>\n",
       "      <td>1.0</td>\n",
       "      <td>3.00</td>\n",
       "      <td>...</td>\n",
       "      <td>0.0</td>\n",
       "      <td>0</td>\n",
       "      <td>1</td>\n",
       "      <td>0</td>\n",
       "      <td>1</td>\n",
       "      <td>0</td>\n",
       "      <td>0</td>\n",
       "      <td>0</td>\n",
       "      <td>0</td>\n",
       "      <td>0</td>\n",
       "    </tr>\n",
       "    <tr>\n",
       "      <th>4</th>\n",
       "      <td>4</td>\n",
       "      <td>46</td>\n",
       "      <td>3.0</td>\n",
       "      <td>21.0</td>\n",
       "      <td>4.0</td>\n",
       "      <td>0.0</td>\n",
       "      <td>0.0</td>\n",
       "      <td>0.0</td>\n",
       "      <td>1.0</td>\n",
       "      <td>15.00</td>\n",
       "      <td>...</td>\n",
       "      <td>0.0</td>\n",
       "      <td>0</td>\n",
       "      <td>0</td>\n",
       "      <td>0</td>\n",
       "      <td>0</td>\n",
       "      <td>0</td>\n",
       "      <td>0</td>\n",
       "      <td>0</td>\n",
       "      <td>0</td>\n",
       "      <td>0</td>\n",
       "    </tr>\n",
       "    <tr>\n",
       "      <th>...</th>\n",
       "      <td>...</td>\n",
       "      <td>...</td>\n",
       "      <td>...</td>\n",
       "      <td>...</td>\n",
       "      <td>...</td>\n",
       "      <td>...</td>\n",
       "      <td>...</td>\n",
       "      <td>...</td>\n",
       "      <td>...</td>\n",
       "      <td>...</td>\n",
       "      <td>...</td>\n",
       "      <td>...</td>\n",
       "      <td>...</td>\n",
       "      <td>...</td>\n",
       "      <td>...</td>\n",
       "      <td>...</td>\n",
       "      <td>...</td>\n",
       "      <td>...</td>\n",
       "      <td>...</td>\n",
       "      <td>...</td>\n",
       "      <td>...</td>\n",
       "    </tr>\n",
       "    <tr>\n",
       "      <th>851</th>\n",
       "      <td>851</td>\n",
       "      <td>34</td>\n",
       "      <td>3.0</td>\n",
       "      <td>18.0</td>\n",
       "      <td>0.0</td>\n",
       "      <td>0.0</td>\n",
       "      <td>0.0</td>\n",
       "      <td>0.0</td>\n",
       "      <td>0.0</td>\n",
       "      <td>0.00</td>\n",
       "      <td>...</td>\n",
       "      <td>0.0</td>\n",
       "      <td>0</td>\n",
       "      <td>0</td>\n",
       "      <td>0</td>\n",
       "      <td>0</td>\n",
       "      <td>0</td>\n",
       "      <td>0</td>\n",
       "      <td>0</td>\n",
       "      <td>0</td>\n",
       "      <td>0</td>\n",
       "    </tr>\n",
       "    <tr>\n",
       "      <th>852</th>\n",
       "      <td>852</td>\n",
       "      <td>32</td>\n",
       "      <td>2.0</td>\n",
       "      <td>19.0</td>\n",
       "      <td>1.0</td>\n",
       "      <td>0.0</td>\n",
       "      <td>0.0</td>\n",
       "      <td>0.0</td>\n",
       "      <td>1.0</td>\n",
       "      <td>8.00</td>\n",
       "      <td>...</td>\n",
       "      <td>0.0</td>\n",
       "      <td>0</td>\n",
       "      <td>0</td>\n",
       "      <td>0</td>\n",
       "      <td>0</td>\n",
       "      <td>0</td>\n",
       "      <td>0</td>\n",
       "      <td>0</td>\n",
       "      <td>0</td>\n",
       "      <td>0</td>\n",
       "    </tr>\n",
       "    <tr>\n",
       "      <th>853</th>\n",
       "      <td>853</td>\n",
       "      <td>25</td>\n",
       "      <td>2.0</td>\n",
       "      <td>17.0</td>\n",
       "      <td>0.0</td>\n",
       "      <td>0.0</td>\n",
       "      <td>0.0</td>\n",
       "      <td>0.0</td>\n",
       "      <td>1.0</td>\n",
       "      <td>0.08</td>\n",
       "      <td>...</td>\n",
       "      <td>0.0</td>\n",
       "      <td>0</td>\n",
       "      <td>0</td>\n",
       "      <td>0</td>\n",
       "      <td>0</td>\n",
       "      <td>0</td>\n",
       "      <td>0</td>\n",
       "      <td>0</td>\n",
       "      <td>1</td>\n",
       "      <td>0</td>\n",
       "    </tr>\n",
       "    <tr>\n",
       "      <th>854</th>\n",
       "      <td>854</td>\n",
       "      <td>33</td>\n",
       "      <td>2.0</td>\n",
       "      <td>24.0</td>\n",
       "      <td>2.0</td>\n",
       "      <td>0.0</td>\n",
       "      <td>0.0</td>\n",
       "      <td>0.0</td>\n",
       "      <td>1.0</td>\n",
       "      <td>0.08</td>\n",
       "      <td>...</td>\n",
       "      <td>0.0</td>\n",
       "      <td>0</td>\n",
       "      <td>0</td>\n",
       "      <td>0</td>\n",
       "      <td>0</td>\n",
       "      <td>0</td>\n",
       "      <td>0</td>\n",
       "      <td>0</td>\n",
       "      <td>0</td>\n",
       "      <td>0</td>\n",
       "    </tr>\n",
       "    <tr>\n",
       "      <th>855</th>\n",
       "      <td>855</td>\n",
       "      <td>29</td>\n",
       "      <td>2.0</td>\n",
       "      <td>20.0</td>\n",
       "      <td>1.0</td>\n",
       "      <td>0.0</td>\n",
       "      <td>0.0</td>\n",
       "      <td>0.0</td>\n",
       "      <td>1.0</td>\n",
       "      <td>0.50</td>\n",
       "      <td>...</td>\n",
       "      <td>0.0</td>\n",
       "      <td>0</td>\n",
       "      <td>0</td>\n",
       "      <td>0</td>\n",
       "      <td>0</td>\n",
       "      <td>0</td>\n",
       "      <td>0</td>\n",
       "      <td>0</td>\n",
       "      <td>0</td>\n",
       "      <td>0</td>\n",
       "    </tr>\n",
       "  </tbody>\n",
       "</table>\n",
       "<p>856 rows × 26 columns</p>\n",
       "</div>"
      ],
      "text/plain": [
       "     Unnamed: 0  Age  Number of sexual partners  First sexual intercourse  \\\n",
       "0             0   18                        4.0                      15.0   \n",
       "1             1   15                        1.0                      14.0   \n",
       "2             2   34                        1.0                      17.0   \n",
       "3             3   52                        5.0                      16.0   \n",
       "4             4   46                        3.0                      21.0   \n",
       "..          ...  ...                        ...                       ...   \n",
       "851         851   34                        3.0                      18.0   \n",
       "852         852   32                        2.0                      19.0   \n",
       "853         853   25                        2.0                      17.0   \n",
       "854         854   33                        2.0                      24.0   \n",
       "855         855   29                        2.0                      20.0   \n",
       "\n",
       "     Num of pregnancies  Smokes  Smokes (years)  Smokes (packs/year)  \\\n",
       "0                   1.0     0.0             0.0                  0.0   \n",
       "1                   1.0     0.0             0.0                  0.0   \n",
       "2                   1.0     0.0             0.0                  0.0   \n",
       "3                   4.0     1.0            37.0                 37.0   \n",
       "4                   4.0     0.0             0.0                  0.0   \n",
       "..                  ...     ...             ...                  ...   \n",
       "851                 0.0     0.0             0.0                  0.0   \n",
       "852                 1.0     0.0             0.0                  0.0   \n",
       "853                 0.0     0.0             0.0                  0.0   \n",
       "854                 2.0     0.0             0.0                  0.0   \n",
       "855                 1.0     0.0             0.0                  0.0   \n",
       "\n",
       "     Hormonal Contraceptives  Hormonal Contraceptives (years)  ...  STDs:HIV  \\\n",
       "0                        0.0                             0.00  ...       0.0   \n",
       "1                        0.0                             0.00  ...       0.0   \n",
       "2                        0.0                             0.00  ...       0.0   \n",
       "3                        1.0                             3.00  ...       0.0   \n",
       "4                        1.0                            15.00  ...       0.0   \n",
       "..                       ...                              ...  ...       ...   \n",
       "851                      0.0                             0.00  ...       0.0   \n",
       "852                      1.0                             8.00  ...       0.0   \n",
       "853                      1.0                             0.08  ...       0.0   \n",
       "854                      1.0                             0.08  ...       0.0   \n",
       "855                      1.0                             0.50  ...       0.0   \n",
       "\n",
       "     STDs: Number of diagnosis  Dx:Cancer  Dx:CIN  Dx:HPV  Dx  Hinselmann  \\\n",
       "0                            0          0       0       0   0           0   \n",
       "1                            0          0       0       0   0           0   \n",
       "2                            0          0       0       0   0           0   \n",
       "3                            0          1       0       1   0           0   \n",
       "4                            0          0       0       0   0           0   \n",
       "..                         ...        ...     ...     ...  ..         ...   \n",
       "851                          0          0       0       0   0           0   \n",
       "852                          0          0       0       0   0           0   \n",
       "853                          0          0       0       0   0           0   \n",
       "854                          0          0       0       0   0           0   \n",
       "855                          0          0       0       0   0           0   \n",
       "\n",
       "     Schiller  Citology  Biopsy  \n",
       "0           0         0       0  \n",
       "1           0         0       0  \n",
       "2           0         0       0  \n",
       "3           0         0       0  \n",
       "4           0         0       0  \n",
       "..        ...       ...     ...  \n",
       "851         0         0       0  \n",
       "852         0         0       0  \n",
       "853         0         1       0  \n",
       "854         0         0       0  \n",
       "855         0         0       0  \n",
       "\n",
       "[856 rows x 26 columns]"
      ]
     },
     "execution_count": 3,
     "metadata": {},
     "output_type": "execute_result"
    }
   ],
   "source": [
    "df"
   ]
  },
  {
   "cell_type": "code",
   "execution_count": 4,
   "id": "90e204b0",
   "metadata": {},
   "outputs": [],
   "source": [
    "df.drop('Unnamed: 0',inplace=True,axis=1)"
   ]
  },
  {
   "cell_type": "code",
   "execution_count": 5,
   "id": "f5e1a473",
   "metadata": {},
   "outputs": [
    {
     "data": {
      "text/html": [
       "<div>\n",
       "<style scoped>\n",
       "    .dataframe tbody tr th:only-of-type {\n",
       "        vertical-align: middle;\n",
       "    }\n",
       "\n",
       "    .dataframe tbody tr th {\n",
       "        vertical-align: top;\n",
       "    }\n",
       "\n",
       "    .dataframe thead th {\n",
       "        text-align: right;\n",
       "    }\n",
       "</style>\n",
       "<table border=\"1\" class=\"dataframe\">\n",
       "  <thead>\n",
       "    <tr style=\"text-align: right;\">\n",
       "      <th></th>\n",
       "      <th>Age</th>\n",
       "      <th>Number of sexual partners</th>\n",
       "      <th>First sexual intercourse</th>\n",
       "      <th>Num of pregnancies</th>\n",
       "      <th>Smokes</th>\n",
       "      <th>Smokes (years)</th>\n",
       "      <th>Smokes (packs/year)</th>\n",
       "      <th>Hormonal Contraceptives</th>\n",
       "      <th>Hormonal Contraceptives (years)</th>\n",
       "      <th>IUD</th>\n",
       "      <th>...</th>\n",
       "      <th>STDs:HIV</th>\n",
       "      <th>STDs: Number of diagnosis</th>\n",
       "      <th>Dx:Cancer</th>\n",
       "      <th>Dx:CIN</th>\n",
       "      <th>Dx:HPV</th>\n",
       "      <th>Dx</th>\n",
       "      <th>Hinselmann</th>\n",
       "      <th>Schiller</th>\n",
       "      <th>Citology</th>\n",
       "      <th>Biopsy</th>\n",
       "    </tr>\n",
       "  </thead>\n",
       "  <tbody>\n",
       "    <tr>\n",
       "      <th>0</th>\n",
       "      <td>18</td>\n",
       "      <td>4.0</td>\n",
       "      <td>15.0</td>\n",
       "      <td>1.0</td>\n",
       "      <td>0.0</td>\n",
       "      <td>0.0</td>\n",
       "      <td>0.0</td>\n",
       "      <td>0.0</td>\n",
       "      <td>0.00</td>\n",
       "      <td>0.0</td>\n",
       "      <td>...</td>\n",
       "      <td>0.0</td>\n",
       "      <td>0</td>\n",
       "      <td>0</td>\n",
       "      <td>0</td>\n",
       "      <td>0</td>\n",
       "      <td>0</td>\n",
       "      <td>0</td>\n",
       "      <td>0</td>\n",
       "      <td>0</td>\n",
       "      <td>0</td>\n",
       "    </tr>\n",
       "    <tr>\n",
       "      <th>1</th>\n",
       "      <td>15</td>\n",
       "      <td>1.0</td>\n",
       "      <td>14.0</td>\n",
       "      <td>1.0</td>\n",
       "      <td>0.0</td>\n",
       "      <td>0.0</td>\n",
       "      <td>0.0</td>\n",
       "      <td>0.0</td>\n",
       "      <td>0.00</td>\n",
       "      <td>0.0</td>\n",
       "      <td>...</td>\n",
       "      <td>0.0</td>\n",
       "      <td>0</td>\n",
       "      <td>0</td>\n",
       "      <td>0</td>\n",
       "      <td>0</td>\n",
       "      <td>0</td>\n",
       "      <td>0</td>\n",
       "      <td>0</td>\n",
       "      <td>0</td>\n",
       "      <td>0</td>\n",
       "    </tr>\n",
       "    <tr>\n",
       "      <th>2</th>\n",
       "      <td>34</td>\n",
       "      <td>1.0</td>\n",
       "      <td>17.0</td>\n",
       "      <td>1.0</td>\n",
       "      <td>0.0</td>\n",
       "      <td>0.0</td>\n",
       "      <td>0.0</td>\n",
       "      <td>0.0</td>\n",
       "      <td>0.00</td>\n",
       "      <td>0.0</td>\n",
       "      <td>...</td>\n",
       "      <td>0.0</td>\n",
       "      <td>0</td>\n",
       "      <td>0</td>\n",
       "      <td>0</td>\n",
       "      <td>0</td>\n",
       "      <td>0</td>\n",
       "      <td>0</td>\n",
       "      <td>0</td>\n",
       "      <td>0</td>\n",
       "      <td>0</td>\n",
       "    </tr>\n",
       "    <tr>\n",
       "      <th>3</th>\n",
       "      <td>52</td>\n",
       "      <td>5.0</td>\n",
       "      <td>16.0</td>\n",
       "      <td>4.0</td>\n",
       "      <td>1.0</td>\n",
       "      <td>37.0</td>\n",
       "      <td>37.0</td>\n",
       "      <td>1.0</td>\n",
       "      <td>3.00</td>\n",
       "      <td>0.0</td>\n",
       "      <td>...</td>\n",
       "      <td>0.0</td>\n",
       "      <td>0</td>\n",
       "      <td>1</td>\n",
       "      <td>0</td>\n",
       "      <td>1</td>\n",
       "      <td>0</td>\n",
       "      <td>0</td>\n",
       "      <td>0</td>\n",
       "      <td>0</td>\n",
       "      <td>0</td>\n",
       "    </tr>\n",
       "    <tr>\n",
       "      <th>4</th>\n",
       "      <td>46</td>\n",
       "      <td>3.0</td>\n",
       "      <td>21.0</td>\n",
       "      <td>4.0</td>\n",
       "      <td>0.0</td>\n",
       "      <td>0.0</td>\n",
       "      <td>0.0</td>\n",
       "      <td>1.0</td>\n",
       "      <td>15.00</td>\n",
       "      <td>0.0</td>\n",
       "      <td>...</td>\n",
       "      <td>0.0</td>\n",
       "      <td>0</td>\n",
       "      <td>0</td>\n",
       "      <td>0</td>\n",
       "      <td>0</td>\n",
       "      <td>0</td>\n",
       "      <td>0</td>\n",
       "      <td>0</td>\n",
       "      <td>0</td>\n",
       "      <td>0</td>\n",
       "    </tr>\n",
       "    <tr>\n",
       "      <th>...</th>\n",
       "      <td>...</td>\n",
       "      <td>...</td>\n",
       "      <td>...</td>\n",
       "      <td>...</td>\n",
       "      <td>...</td>\n",
       "      <td>...</td>\n",
       "      <td>...</td>\n",
       "      <td>...</td>\n",
       "      <td>...</td>\n",
       "      <td>...</td>\n",
       "      <td>...</td>\n",
       "      <td>...</td>\n",
       "      <td>...</td>\n",
       "      <td>...</td>\n",
       "      <td>...</td>\n",
       "      <td>...</td>\n",
       "      <td>...</td>\n",
       "      <td>...</td>\n",
       "      <td>...</td>\n",
       "      <td>...</td>\n",
       "      <td>...</td>\n",
       "    </tr>\n",
       "    <tr>\n",
       "      <th>851</th>\n",
       "      <td>34</td>\n",
       "      <td>3.0</td>\n",
       "      <td>18.0</td>\n",
       "      <td>0.0</td>\n",
       "      <td>0.0</td>\n",
       "      <td>0.0</td>\n",
       "      <td>0.0</td>\n",
       "      <td>0.0</td>\n",
       "      <td>0.00</td>\n",
       "      <td>0.0</td>\n",
       "      <td>...</td>\n",
       "      <td>0.0</td>\n",
       "      <td>0</td>\n",
       "      <td>0</td>\n",
       "      <td>0</td>\n",
       "      <td>0</td>\n",
       "      <td>0</td>\n",
       "      <td>0</td>\n",
       "      <td>0</td>\n",
       "      <td>0</td>\n",
       "      <td>0</td>\n",
       "    </tr>\n",
       "    <tr>\n",
       "      <th>852</th>\n",
       "      <td>32</td>\n",
       "      <td>2.0</td>\n",
       "      <td>19.0</td>\n",
       "      <td>1.0</td>\n",
       "      <td>0.0</td>\n",
       "      <td>0.0</td>\n",
       "      <td>0.0</td>\n",
       "      <td>1.0</td>\n",
       "      <td>8.00</td>\n",
       "      <td>0.0</td>\n",
       "      <td>...</td>\n",
       "      <td>0.0</td>\n",
       "      <td>0</td>\n",
       "      <td>0</td>\n",
       "      <td>0</td>\n",
       "      <td>0</td>\n",
       "      <td>0</td>\n",
       "      <td>0</td>\n",
       "      <td>0</td>\n",
       "      <td>0</td>\n",
       "      <td>0</td>\n",
       "    </tr>\n",
       "    <tr>\n",
       "      <th>853</th>\n",
       "      <td>25</td>\n",
       "      <td>2.0</td>\n",
       "      <td>17.0</td>\n",
       "      <td>0.0</td>\n",
       "      <td>0.0</td>\n",
       "      <td>0.0</td>\n",
       "      <td>0.0</td>\n",
       "      <td>1.0</td>\n",
       "      <td>0.08</td>\n",
       "      <td>0.0</td>\n",
       "      <td>...</td>\n",
       "      <td>0.0</td>\n",
       "      <td>0</td>\n",
       "      <td>0</td>\n",
       "      <td>0</td>\n",
       "      <td>0</td>\n",
       "      <td>0</td>\n",
       "      <td>0</td>\n",
       "      <td>0</td>\n",
       "      <td>1</td>\n",
       "      <td>0</td>\n",
       "    </tr>\n",
       "    <tr>\n",
       "      <th>854</th>\n",
       "      <td>33</td>\n",
       "      <td>2.0</td>\n",
       "      <td>24.0</td>\n",
       "      <td>2.0</td>\n",
       "      <td>0.0</td>\n",
       "      <td>0.0</td>\n",
       "      <td>0.0</td>\n",
       "      <td>1.0</td>\n",
       "      <td>0.08</td>\n",
       "      <td>0.0</td>\n",
       "      <td>...</td>\n",
       "      <td>0.0</td>\n",
       "      <td>0</td>\n",
       "      <td>0</td>\n",
       "      <td>0</td>\n",
       "      <td>0</td>\n",
       "      <td>0</td>\n",
       "      <td>0</td>\n",
       "      <td>0</td>\n",
       "      <td>0</td>\n",
       "      <td>0</td>\n",
       "    </tr>\n",
       "    <tr>\n",
       "      <th>855</th>\n",
       "      <td>29</td>\n",
       "      <td>2.0</td>\n",
       "      <td>20.0</td>\n",
       "      <td>1.0</td>\n",
       "      <td>0.0</td>\n",
       "      <td>0.0</td>\n",
       "      <td>0.0</td>\n",
       "      <td>1.0</td>\n",
       "      <td>0.50</td>\n",
       "      <td>0.0</td>\n",
       "      <td>...</td>\n",
       "      <td>0.0</td>\n",
       "      <td>0</td>\n",
       "      <td>0</td>\n",
       "      <td>0</td>\n",
       "      <td>0</td>\n",
       "      <td>0</td>\n",
       "      <td>0</td>\n",
       "      <td>0</td>\n",
       "      <td>0</td>\n",
       "      <td>0</td>\n",
       "    </tr>\n",
       "  </tbody>\n",
       "</table>\n",
       "<p>856 rows × 25 columns</p>\n",
       "</div>"
      ],
      "text/plain": [
       "     Age  Number of sexual partners  First sexual intercourse  \\\n",
       "0     18                        4.0                      15.0   \n",
       "1     15                        1.0                      14.0   \n",
       "2     34                        1.0                      17.0   \n",
       "3     52                        5.0                      16.0   \n",
       "4     46                        3.0                      21.0   \n",
       "..   ...                        ...                       ...   \n",
       "851   34                        3.0                      18.0   \n",
       "852   32                        2.0                      19.0   \n",
       "853   25                        2.0                      17.0   \n",
       "854   33                        2.0                      24.0   \n",
       "855   29                        2.0                      20.0   \n",
       "\n",
       "     Num of pregnancies  Smokes  Smokes (years)  Smokes (packs/year)  \\\n",
       "0                   1.0     0.0             0.0                  0.0   \n",
       "1                   1.0     0.0             0.0                  0.0   \n",
       "2                   1.0     0.0             0.0                  0.0   \n",
       "3                   4.0     1.0            37.0                 37.0   \n",
       "4                   4.0     0.0             0.0                  0.0   \n",
       "..                  ...     ...             ...                  ...   \n",
       "851                 0.0     0.0             0.0                  0.0   \n",
       "852                 1.0     0.0             0.0                  0.0   \n",
       "853                 0.0     0.0             0.0                  0.0   \n",
       "854                 2.0     0.0             0.0                  0.0   \n",
       "855                 1.0     0.0             0.0                  0.0   \n",
       "\n",
       "     Hormonal Contraceptives  Hormonal Contraceptives (years)  IUD  ...  \\\n",
       "0                        0.0                             0.00  0.0  ...   \n",
       "1                        0.0                             0.00  0.0  ...   \n",
       "2                        0.0                             0.00  0.0  ...   \n",
       "3                        1.0                             3.00  0.0  ...   \n",
       "4                        1.0                            15.00  0.0  ...   \n",
       "..                       ...                              ...  ...  ...   \n",
       "851                      0.0                             0.00  0.0  ...   \n",
       "852                      1.0                             8.00  0.0  ...   \n",
       "853                      1.0                             0.08  0.0  ...   \n",
       "854                      1.0                             0.08  0.0  ...   \n",
       "855                      1.0                             0.50  0.0  ...   \n",
       "\n",
       "     STDs:HIV  STDs: Number of diagnosis  Dx:Cancer  Dx:CIN  Dx:HPV  Dx  \\\n",
       "0         0.0                          0          0       0       0   0   \n",
       "1         0.0                          0          0       0       0   0   \n",
       "2         0.0                          0          0       0       0   0   \n",
       "3         0.0                          0          1       0       1   0   \n",
       "4         0.0                          0          0       0       0   0   \n",
       "..        ...                        ...        ...     ...     ...  ..   \n",
       "851       0.0                          0          0       0       0   0   \n",
       "852       0.0                          0          0       0       0   0   \n",
       "853       0.0                          0          0       0       0   0   \n",
       "854       0.0                          0          0       0       0   0   \n",
       "855       0.0                          0          0       0       0   0   \n",
       "\n",
       "     Hinselmann  Schiller  Citology  Biopsy  \n",
       "0             0         0         0       0  \n",
       "1             0         0         0       0  \n",
       "2             0         0         0       0  \n",
       "3             0         0         0       0  \n",
       "4             0         0         0       0  \n",
       "..          ...       ...       ...     ...  \n",
       "851           0         0         0       0  \n",
       "852           0         0         0       0  \n",
       "853           0         0         1       0  \n",
       "854           0         0         0       0  \n",
       "855           0         0         0       0  \n",
       "\n",
       "[856 rows x 25 columns]"
      ]
     },
     "execution_count": 5,
     "metadata": {},
     "output_type": "execute_result"
    }
   ],
   "source": [
    "df"
   ]
  },
  {
   "cell_type": "code",
   "execution_count": 7,
   "id": "018a48b1",
   "metadata": {},
   "outputs": [
    {
     "data": {
      "text/plain": [
       "44"
      ]
     },
     "execution_count": 7,
     "metadata": {},
     "output_type": "execute_result"
    }
   ],
   "source": [
    "len(df[df['Citology']==1])"
   ]
  },
  {
   "cell_type": "code",
   "execution_count": 8,
   "id": "55f72bf7",
   "metadata": {},
   "outputs": [],
   "source": [
    "from sklearn.model_selection import train_test_split"
   ]
  },
  {
   "cell_type": "code",
   "execution_count": 9,
   "id": "5410acae",
   "metadata": {},
   "outputs": [],
   "source": [
    "from sklearn.tree import DecisionTreeClassifier\n",
    "from sklearn.svm import SVC\n",
    "from sklearn.neighbors import KNeighborsClassifier\n",
    "from sklearn.linear_model import LogisticRegression\n",
    "from sklearn.ensemble import RandomForestClassifier\n",
    "from sklearn.model_selection import cross_val_score\n",
    "from sklearn.model_selection import GridSearchCV\n",
    "from sklearn.naive_bayes import GaussianNB\n",
    "from sklearn.metrics import accuracy_score, confusion_matrix, classification_report"
   ]
  },
  {
   "cell_type": "code",
   "execution_count": 10,
   "id": "ff406e06",
   "metadata": {},
   "outputs": [],
   "source": [
    "import xgboost as xgb"
   ]
  },
  {
   "cell_type": "code",
   "execution_count": 12,
   "id": "1a9ffc6a",
   "metadata": {},
   "outputs": [
    {
     "name": "stdout",
     "output_type": "stream",
     "text": [
      "Counter({0: 812, 1: 44})\n",
      "Counter({0: 812, 1: 812})\n"
     ]
    },
    {
     "data": {
      "text/plain": [
       "<matplotlib.legend.Legend at 0x21b6fa81850>"
      ]
     },
     "execution_count": 12,
     "metadata": {},
     "output_type": "execute_result"
    },
    {
     "data": {
      "image/png": "[encoded data removed]",
      "text/plain": [
       "<Figure size 432x288 with 1 Axes>"
      ]
     },
     "metadata": {
      "needs_background": "light"
     },
     "output_type": "display_data"
    }
   ],
   "source": [
    "# borderline-SMOTE for imbalanced dataset\n",
    "from collections import Counter\n",
    "from sklearn.datasets import make_classification\n",
    "from imblearn.over_sampling import BorderlineSMOTE\n",
    "from matplotlib import pyplot\n",
    "from numpy import where\n",
    "# define dataset\n",
    "X = df.drop(['Hinselmann','Schiller','Citology','Biopsy'],axis=1).values\n",
    "y = df['Citology'].values\n",
    "# summarize class distribution\n",
    "counter = Counter(y)\n",
    "print(counter)\n",
    "# transform the dataset\n",
    "oversample = BorderlineSMOTE()\n",
    "X, y = oversample.fit_resample(X, y)\n",
    "# summarize the new class distribution\n",
    "counter = Counter(y)\n",
    "print(counter)\n",
    "# scatter plot of examples by class label\n",
    "for label, _ in counter.items():\n",
    "    row_ix = where(y == label)[0]\n",
    "    pyplot.scatter(X[row_ix, 0], X[row_ix, 1], label=str(label))\n",
    "pyplot.legend()"
   ]
  },
  {
   "cell_type": "code",
   "execution_count": 13,
   "id": "063c2f97",
   "metadata": {},
   "outputs": [],
   "source": [
    "X_train, X_test, y_train, y_test = train_test_split(X, y, test_size=0.2, random_state=42)"
   ]
  },
  {
   "cell_type": "markdown",
   "id": "9e2c8e1f",
   "metadata": {},
   "source": [
    "# Buidling Model before Feature Selection"
   ]
  },
  {
   "cell_type": "markdown",
   "id": "3cd42d86",
   "metadata": {},
   "source": [
    "### Logistic Regression"
   ]
  },
  {
   "cell_type": "code",
   "execution_count": 14,
   "id": "0b045ec5",
   "metadata": {},
   "outputs": [],
   "source": [
    "logmodel = LogisticRegression(max_iter=10000)"
   ]
  },
  {
   "cell_type": "code",
   "execution_count": 15,
   "id": "ab0197fa",
   "metadata": {},
   "outputs": [
    {
     "data": {
      "text/plain": [
       "LogisticRegression(max_iter=10000)"
      ]
     },
     "execution_count": 15,
     "metadata": {},
     "output_type": "execute_result"
    }
   ],
   "source": [
    "logmodel.fit(X_train,y_train)"
   ]
  },
  {
   "cell_type": "code",
   "execution_count": 16,
   "id": "badb65fc",
   "metadata": {},
   "outputs": [],
   "source": [
    "predictions = logmodel.predict(X_test)"
   ]
  },
  {
   "cell_type": "code",
   "execution_count": 17,
   "id": "f32b17ae",
   "metadata": {},
   "outputs": [
    {
     "data": {
      "text/plain": [
       "array([0, 0, 0, 1, 0, 1, 1, 0, 1, 0, 1, 1, 1, 0, 0, 0, 0, 1, 1, 0, 0, 0,\n",
       "       1, 0, 1, 1, 1, 0, 1, 1, 0, 0, 1, 0, 1, 0, 1, 1, 1, 1, 1, 1, 1, 1,\n",
       "       1, 0, 0, 0, 1, 1, 0, 1, 0, 0, 1, 0, 0, 1, 1, 1, 1, 0, 1, 1, 1, 0,\n",
       "       1, 0, 0, 1, 0, 0, 0, 0, 1, 1, 1, 1, 0, 0, 1, 1, 1, 0, 1, 1, 1, 1,\n",
       "       1, 1, 1, 0, 1, 1, 1, 1, 1, 1, 0, 1, 0, 1, 1, 0, 1, 1, 0, 0, 1, 1,\n",
       "       1, 1, 1, 0, 0, 0, 0, 1, 0, 0, 1, 0, 1, 1, 0, 1, 0, 1, 0, 0, 1, 1,\n",
       "       1, 1, 1, 0, 0, 0, 1, 1, 1, 1, 0, 0, 1, 0, 1, 1, 0, 1, 0, 1, 0, 0,\n",
       "       0, 0, 1, 1, 1, 0, 1, 0, 0, 1, 1, 1, 1, 1, 1, 1, 0, 1, 0, 0, 1, 1,\n",
       "       1, 0, 0, 1, 0, 1, 1, 1, 1, 0, 1, 1, 1, 0, 0, 0, 0, 1, 0, 0, 1, 0,\n",
       "       1, 0, 0, 0, 0, 0, 1, 0, 1, 0, 1, 0, 0, 1, 0, 0, 0, 1, 0, 1, 0, 1,\n",
       "       0, 0, 0, 1, 1, 0, 1, 0, 0, 0, 1, 1, 1, 1, 0, 1, 1, 1, 0, 0, 1, 0,\n",
       "       0, 0, 1, 1, 1, 0, 1, 1, 0, 1, 1, 1, 1, 1, 1, 0, 0, 0, 0, 0, 1, 0,\n",
       "       1, 0, 1, 1, 0, 1, 0, 1, 0, 1, 0, 0, 1, 1, 0, 1, 1, 1, 0, 1, 0, 0,\n",
       "       1, 1, 1, 1, 0, 1, 1, 0, 1, 1, 0, 0, 1, 1, 0, 0, 0, 1, 0, 1, 0, 1,\n",
       "       0, 1, 1, 1, 1, 1, 1, 0, 1, 1, 1, 0, 1, 0, 0, 0, 0], dtype=int64)"
      ]
     },
     "execution_count": 17,
     "metadata": {},
     "output_type": "execute_result"
    }
   ],
   "source": [
    "predictions"
   ]
  },
  {
   "cell_type": "code",
   "execution_count": 18,
   "id": "5617920f",
   "metadata": {},
   "outputs": [
    {
     "name": "stdout",
     "output_type": "stream",
     "text": [
      "Accuracy:  0.7876923076923077\n",
      "\n",
      "\n",
      "              precision    recall  f1-score   support\n",
      "\n",
      "           0       0.87      0.72      0.79       176\n",
      "           1       0.72      0.87      0.79       149\n",
      "\n",
      "    accuracy                           0.79       325\n",
      "   macro avg       0.80      0.79      0.79       325\n",
      "weighted avg       0.80      0.79      0.79       325\n",
      "\n",
      "\n",
      "\n",
      "[[126  50]\n",
      " [ 19 130]]\n"
     ]
    }
   ],
   "source": [
    "print(\"Accuracy: \", accuracy_score(y_test,predictions))\n",
    "print(\"\\n\")\n",
    "print(classification_report(y_test,predictions))\n",
    "print(\"\\n\")\n",
    "print(confusion_matrix(y_test,predictions))"
   ]
  },
  {
   "cell_type": "markdown",
   "id": "968c0147",
   "metadata": {},
   "source": [
    "### KNN"
   ]
  },
  {
   "cell_type": "code",
   "execution_count": 19,
   "id": "e2fa3645",
   "metadata": {},
   "outputs": [],
   "source": [
    "error_rate = []\n",
    "\n",
    "for i in range(1,40):\n",
    "    knn = KNeighborsClassifier(n_neighbors=i)\n",
    "    knn.fit(X_train,y_train)\n",
    "    pred_i = knn.predict(X_test)\n",
    "    error_rate.append(np.mean(pred_i != y_test))"
   ]
  },
  {
   "cell_type": "code",
   "execution_count": 20,
   "id": "4edbd871",
   "metadata": {},
   "outputs": [
    {
     "data": {
      "text/plain": [
       "Text(0, 0.5, 'Error Rate')"
      ]
     },
     "execution_count": 20,
     "metadata": {},
     "output_type": "execute_result"
    },
    {
     "data": {
      "image/png": "[encoded data removed]",
      "text/plain": [
       "<Figure size 720x432 with 1 Axes>"
      ]
     },
     "metadata": {
      "needs_background": "light"
     },
     "output_type": "display_data"
    }
   ],
   "source": [
    "plt.figure(figsize=(10,6))\n",
    "plt.plot(range(1,40),error_rate,color='blue',linestyle='--',marker='o',markerfacecolor='red',markersize=10)\n",
    "plt.title('Error Rate vs K value')\n",
    "plt.xlabel('K')\n",
    "plt.ylabel('Error Rate')"
   ]
  },
  {
   "cell_type": "code",
   "execution_count": 21,
   "id": "aee3a839",
   "metadata": {},
   "outputs": [],
   "source": [
    "knn = KNeighborsClassifier(n_neighbors=2)\n",
    "knn.fit(X_train,y_train)\n",
    "predictions = knn.predict(X_test)"
   ]
  },
  {
   "cell_type": "code",
   "execution_count": 22,
   "id": "86a48fc9",
   "metadata": {},
   "outputs": [
    {
     "name": "stdout",
     "output_type": "stream",
     "text": [
      "Accuracy Score: 0.9569230769230769\n",
      "\n",
      "\n",
      "              precision    recall  f1-score   support\n",
      "\n",
      "           0       0.98      0.94      0.96       176\n",
      "           1       0.93      0.98      0.95       149\n",
      "\n",
      "    accuracy                           0.96       325\n",
      "   macro avg       0.96      0.96      0.96       325\n",
      "weighted avg       0.96      0.96      0.96       325\n",
      "\n",
      "\n",
      "\n",
      "[[165  11]\n",
      " [  3 146]]\n"
     ]
    }
   ],
   "source": [
    "print('Accuracy Score:',accuracy_score(y_test,predictions))\n",
    "print('\\n')\n",
    "print(classification_report(y_test,predictions))\n",
    "print('\\n')\n",
    "print(confusion_matrix(y_test,predictions))"
   ]
  },
  {
   "cell_type": "markdown",
   "id": "edd79d40",
   "metadata": {},
   "source": [
    "### Decision Tree"
   ]
  },
  {
   "cell_type": "code",
   "execution_count": 23,
   "id": "5340d022",
   "metadata": {},
   "outputs": [],
   "source": [
    "dtree = DecisionTreeClassifier()"
   ]
  },
  {
   "cell_type": "code",
   "execution_count": 24,
   "id": "630062ec",
   "metadata": {},
   "outputs": [
    {
     "data": {
      "text/plain": [
       "DecisionTreeClassifier()"
      ]
     },
     "execution_count": 24,
     "metadata": {},
     "output_type": "execute_result"
    }
   ],
   "source": [
    "dtree.fit(X_train,y_train)"
   ]
  },
  {
   "cell_type": "code",
   "execution_count": 25,
   "id": "7ffdf4bb",
   "metadata": {},
   "outputs": [],
   "source": [
    "predictions = dtree.predict(X_test)"
   ]
  },
  {
   "cell_type": "code",
   "execution_count": 26,
   "id": "692d5681",
   "metadata": {},
   "outputs": [
    {
     "name": "stdout",
     "output_type": "stream",
     "text": [
      "Accuracy:  0.9507692307692308\n",
      "\n",
      "\n",
      "              precision    recall  f1-score   support\n",
      "\n",
      "           0       0.98      0.93      0.95       176\n",
      "           1       0.92      0.97      0.95       149\n",
      "\n",
      "    accuracy                           0.95       325\n",
      "   macro avg       0.95      0.95      0.95       325\n",
      "weighted avg       0.95      0.95      0.95       325\n",
      "\n",
      "\n",
      "\n",
      "[[164  12]\n",
      " [  4 145]]\n"
     ]
    }
   ],
   "source": [
    "print(\"Accuracy: \", accuracy_score(y_test,predictions))\n",
    "print(\"\\n\")\n",
    "print(classification_report(y_test,predictions))\n",
    "print(\"\\n\")\n",
    "print(confusion_matrix(y_test,predictions))"
   ]
  },
  {
   "cell_type": "markdown",
   "id": "3c3d9ff5",
   "metadata": {},
   "source": [
    "### Random Forest"
   ]
  },
  {
   "cell_type": "code",
   "execution_count": 27,
   "id": "416c07d0",
   "metadata": {},
   "outputs": [],
   "source": [
    "rfc = RandomForestClassifier(n_estimators=200)"
   ]
  },
  {
   "cell_type": "code",
   "execution_count": 28,
   "id": "09d61f88",
   "metadata": {},
   "outputs": [
    {
     "data": {
      "text/plain": [
       "RandomForestClassifier(n_estimators=200)"
      ]
     },
     "execution_count": 28,
     "metadata": {},
     "output_type": "execute_result"
    }
   ],
   "source": [
    "rfc.fit(X_train,y_train)"
   ]
  },
  {
   "cell_type": "code",
   "execution_count": 29,
   "id": "77603047",
   "metadata": {},
   "outputs": [],
   "source": [
    "predictions = rfc.predict(X_test)"
   ]
  },
  {
   "cell_type": "code",
   "execution_count": 30,
   "id": "69b7b8d0",
   "metadata": {},
   "outputs": [
    {
     "name": "stdout",
     "output_type": "stream",
     "text": [
      "Accuracy:  0.9753846153846154\n",
      "\n",
      "\n",
      "              precision    recall  f1-score   support\n",
      "\n",
      "           0       0.97      0.98      0.98       176\n",
      "           1       0.98      0.97      0.97       149\n",
      "\n",
      "    accuracy                           0.98       325\n",
      "   macro avg       0.98      0.97      0.98       325\n",
      "weighted avg       0.98      0.98      0.98       325\n",
      "\n",
      "\n",
      "\n",
      "[[173   3]\n",
      " [  5 144]]\n"
     ]
    }
   ],
   "source": [
    "print(\"Accuracy: \", accuracy_score(y_test,predictions))\n",
    "print(\"\\n\")\n",
    "print(classification_report(y_test,predictions))\n",
    "print(\"\\n\")\n",
    "print(confusion_matrix(y_test,predictions))"
   ]
  },
  {
   "cell_type": "markdown",
   "id": "29f910a8",
   "metadata": {},
   "source": [
    "### Support Vector Machine"
   ]
  },
  {
   "cell_type": "code",
   "execution_count": 31,
   "id": "70b2fd48",
   "metadata": {},
   "outputs": [],
   "source": [
    "model = SVC()"
   ]
  },
  {
   "cell_type": "code",
   "execution_count": 32,
   "id": "fc005442",
   "metadata": {},
   "outputs": [
    {
     "data": {
      "text/plain": [
       "SVC()"
      ]
     },
     "execution_count": 32,
     "metadata": {},
     "output_type": "execute_result"
    }
   ],
   "source": [
    "model.fit(X_train,y_train)"
   ]
  },
  {
   "cell_type": "code",
   "execution_count": 33,
   "id": "07a8de58",
   "metadata": {},
   "outputs": [],
   "source": [
    "predictions = model.predict(X_test)"
   ]
  },
  {
   "cell_type": "code",
   "execution_count": 34,
   "id": "dfff3b21",
   "metadata": {},
   "outputs": [
    {
     "name": "stdout",
     "output_type": "stream",
     "text": [
      "Accuracy:  0.7630769230769231\n",
      "\n",
      "\n",
      "              precision    recall  f1-score   support\n",
      "\n",
      "           0       0.88      0.65      0.75       176\n",
      "           1       0.69      0.89      0.78       149\n",
      "\n",
      "    accuracy                           0.76       325\n",
      "   macro avg       0.78      0.77      0.76       325\n",
      "weighted avg       0.79      0.76      0.76       325\n",
      "\n",
      "\n",
      "\n",
      "[[115  61]\n",
      " [ 16 133]]\n"
     ]
    }
   ],
   "source": [
    "print(\"Accuracy: \", accuracy_score(y_test,predictions))\n",
    "print(\"\\n\")\n",
    "print(classification_report(y_test,predictions))\n",
    "print(\"\\n\")\n",
    "print(confusion_matrix(y_test,predictions))"
   ]
  },
  {
   "cell_type": "markdown",
   "id": "91ffbc0e",
   "metadata": {},
   "source": [
    "### Grid Search CV"
   ]
  },
  {
   "cell_type": "code",
   "execution_count": 35,
   "id": "cd425ff6",
   "metadata": {},
   "outputs": [],
   "source": [
    "param_grid = {'C':[0.1,1,10,100,1000],'gamma':[1,0.1,0.01,0.001,0.0001]}"
   ]
  },
  {
   "cell_type": "code",
   "execution_count": 36,
   "id": "5137eb0f",
   "metadata": {},
   "outputs": [],
   "source": [
    "grid = GridSearchCV(SVC(),param_grid,verbose=3)"
   ]
  },
  {
   "cell_type": "code",
   "execution_count": 37,
   "id": "02388d91",
   "metadata": {},
   "outputs": [
    {
     "name": "stdout",
     "output_type": "stream",
     "text": [
      "Fitting 5 folds for each of 25 candidates, totalling 125 fits\n",
      "[CV 1/5] END .................................C=0.1, gamma=1; total time=   0.0s\n",
      "[CV 2/5] END .................................C=0.1, gamma=1; total time=   0.0s\n",
      "[CV 3/5] END .................................C=0.1, gamma=1; total time=   0.0s\n",
      "[CV 4/5] END .................................C=0.1, gamma=1; total time=   0.0s\n",
      "[CV 5/5] END .................................C=0.1, gamma=1; total time=   0.0s\n",
      "[CV 1/5] END ...............................C=0.1, gamma=0.1; total time=   0.0s\n",
      "[CV 2/5] END ...............................C=0.1, gamma=0.1; total time=   0.0s\n",
      "[CV 3/5] END ...............................C=0.1, gamma=0.1; total time=   0.0s\n",
      "[CV 4/5] END ...............................C=0.1, gamma=0.1; total time=   0.0s\n",
      "[CV 5/5] END ...............................C=0.1, gamma=0.1; total time=   0.0s\n",
      "[CV 1/5] END ..............................C=0.1, gamma=0.01; total time=   0.0s\n",
      "[CV 2/5] END ..............................C=0.1, gamma=0.01; total time=   0.0s\n",
      "[CV 3/5] END ..............................C=0.1, gamma=0.01; total time=   0.0s\n",
      "[CV 4/5] END ..............................C=0.1, gamma=0.01; total time=   0.0s\n",
      "[CV 5/5] END ..............................C=0.1, gamma=0.01; total time=   0.0s\n",
      "[CV 1/5] END .............................C=0.1, gamma=0.001; total time=   0.0s\n",
      "[CV 2/5] END .............................C=0.1, gamma=0.001; total time=   0.0s\n",
      "[CV 3/5] END .............................C=0.1, gamma=0.001; total time=   0.0s\n",
      "[CV 4/5] END .............................C=0.1, gamma=0.001; total time=   0.0s\n",
      "[CV 5/5] END .............................C=0.1, gamma=0.001; total time=   0.0s\n",
      "[CV 1/5] END ............................C=0.1, gamma=0.0001; total time=   0.0s\n",
      "[CV 2/5] END ............................C=0.1, gamma=0.0001; total time=   0.0s\n",
      "[CV 3/5] END ............................C=0.1, gamma=0.0001; total time=   0.0s\n",
      "[CV 4/5] END ............................C=0.1, gamma=0.0001; total time=   0.0s\n",
      "[CV 5/5] END ............................C=0.1, gamma=0.0001; total time=   0.0s\n",
      "[CV 1/5] END ...................................C=1, gamma=1; total time=   0.0s\n",
      "[CV 2/5] END ...................................C=1, gamma=1; total time=   0.0s\n",
      "[CV 3/5] END ...................................C=1, gamma=1; total time=   0.0s\n",
      "[CV 4/5] END ...................................C=1, gamma=1; total time=   0.0s\n",
      "[CV 5/5] END ...................................C=1, gamma=1; total time=   0.0s\n",
      "[CV 1/5] END .................................C=1, gamma=0.1; total time=   0.0s\n",
      "[CV 2/5] END .................................C=1, gamma=0.1; total time=   0.0s\n",
      "[CV 3/5] END .................................C=1, gamma=0.1; total time=   0.0s\n",
      "[CV 4/5] END .................................C=1, gamma=0.1; total time=   0.0s\n",
      "[CV 5/5] END .................................C=1, gamma=0.1; total time=   0.0s\n",
      "[CV 1/5] END ................................C=1, gamma=0.01; total time=   0.0s\n",
      "[CV 2/5] END ................................C=1, gamma=0.01; total time=   0.0s\n",
      "[CV 3/5] END ................................C=1, gamma=0.01; total time=   0.0s\n",
      "[CV 4/5] END ................................C=1, gamma=0.01; total time=   0.0s\n",
      "[CV 5/5] END ................................C=1, gamma=0.01; total time=   0.0s\n",
      "[CV 1/5] END ...............................C=1, gamma=0.001; total time=   0.0s\n",
      "[CV 2/5] END ...............................C=1, gamma=0.001; total time=   0.0s\n",
      "[CV 3/5] END ...............................C=1, gamma=0.001; total time=   0.0s\n",
      "[CV 4/5] END ...............................C=1, gamma=0.001; total time=   0.0s\n",
      "[CV 5/5] END ...............................C=1, gamma=0.001; total time=   0.0s\n",
      "[CV 1/5] END ..............................C=1, gamma=0.0001; total time=   0.0s\n",
      "[CV 2/5] END ..............................C=1, gamma=0.0001; total time=   0.0s\n",
      "[CV 3/5] END ..............................C=1, gamma=0.0001; total time=   0.0s\n",
      "[CV 4/5] END ..............................C=1, gamma=0.0001; total time=   0.0s\n",
      "[CV 5/5] END ..............................C=1, gamma=0.0001; total time=   0.0s\n",
      "[CV 1/5] END ..................................C=10, gamma=1; total time=   0.0s\n",
      "[CV 2/5] END ..................................C=10, gamma=1; total time=   0.0s\n",
      "[CV 3/5] END ..................................C=10, gamma=1; total time=   0.0s\n",
      "[CV 4/5] END ..................................C=10, gamma=1; total time=   0.0s\n",
      "[CV 5/5] END ..................................C=10, gamma=1; total time=   0.0s\n",
      "[CV 1/5] END ................................C=10, gamma=0.1; total time=   0.0s\n",
      "[CV 2/5] END ................................C=10, gamma=0.1; total time=   0.0s\n",
      "[CV 3/5] END ................................C=10, gamma=0.1; total time=   0.0s\n",
      "[CV 4/5] END ................................C=10, gamma=0.1; total time=   0.0s\n",
      "[CV 5/5] END ................................C=10, gamma=0.1; total time=   0.0s\n",
      "[CV 1/5] END ...............................C=10, gamma=0.01; total time=   0.0s\n",
      "[CV 2/5] END ...............................C=10, gamma=0.01; total time=   0.0s\n",
      "[CV 3/5] END ...............................C=10, gamma=0.01; total time=   0.0s\n",
      "[CV 4/5] END ...............................C=10, gamma=0.01; total time=   0.0s\n",
      "[CV 5/5] END ...............................C=10, gamma=0.01; total time=   0.0s\n",
      "[CV 1/5] END ..............................C=10, gamma=0.001; total time=   0.0s\n",
      "[CV 2/5] END ..............................C=10, gamma=0.001; total time=   0.0s\n",
      "[CV 3/5] END ..............................C=10, gamma=0.001; total time=   0.0s\n",
      "[CV 4/5] END ..............................C=10, gamma=0.001; total time=   0.0s\n",
      "[CV 5/5] END ..............................C=10, gamma=0.001; total time=   0.0s\n",
      "[CV 1/5] END .............................C=10, gamma=0.0001; total time=   0.0s\n",
      "[CV 2/5] END .............................C=10, gamma=0.0001; total time=   0.0s\n",
      "[CV 3/5] END .............................C=10, gamma=0.0001; total time=   0.0s\n",
      "[CV 4/5] END .............................C=10, gamma=0.0001; total time=   0.0s\n",
      "[CV 5/5] END .............................C=10, gamma=0.0001; total time=   0.0s\n",
      "[CV 1/5] END .................................C=100, gamma=1; total time=   0.0s\n",
      "[CV 2/5] END .................................C=100, gamma=1; total time=   0.0s\n",
      "[CV 3/5] END .................................C=100, gamma=1; total time=   0.0s\n",
      "[CV 4/5] END .................................C=100, gamma=1; total time=   0.0s\n",
      "[CV 5/5] END .................................C=100, gamma=1; total time=   0.0s\n",
      "[CV 1/5] END ...............................C=100, gamma=0.1; total time=   0.0s\n",
      "[CV 2/5] END ...............................C=100, gamma=0.1; total time=   0.0s\n",
      "[CV 3/5] END ...............................C=100, gamma=0.1; total time=   0.0s\n",
      "[CV 4/5] END ...............................C=100, gamma=0.1; total time=   0.0s\n",
      "[CV 5/5] END ...............................C=100, gamma=0.1; total time=   0.0s\n",
      "[CV 1/5] END ..............................C=100, gamma=0.01; total time=   0.0s\n",
      "[CV 2/5] END ..............................C=100, gamma=0.01; total time=   0.0s\n",
      "[CV 3/5] END ..............................C=100, gamma=0.01; total time=   0.0s\n",
      "[CV 4/5] END ..............................C=100, gamma=0.01; total time=   0.0s\n",
      "[CV 5/5] END ..............................C=100, gamma=0.01; total time=   0.0s\n",
      "[CV 1/5] END .............................C=100, gamma=0.001; total time=   0.0s\n",
      "[CV 2/5] END .............................C=100, gamma=0.001; total time=   0.0s\n",
      "[CV 3/5] END .............................C=100, gamma=0.001; total time=   0.0s\n",
      "[CV 4/5] END .............................C=100, gamma=0.001; total time=   0.0s\n",
      "[CV 5/5] END .............................C=100, gamma=0.001; total time=   0.0s\n",
      "[CV 1/5] END ............................C=100, gamma=0.0001; total time=   0.0s\n",
      "[CV 2/5] END ............................C=100, gamma=0.0001; total time=   0.0s\n",
      "[CV 3/5] END ............................C=100, gamma=0.0001; total time=   0.0s\n",
      "[CV 4/5] END ............................C=100, gamma=0.0001; total time=   0.0s\n",
      "[CV 5/5] END ............................C=100, gamma=0.0001; total time=   0.0s\n",
      "[CV 1/5] END ................................C=1000, gamma=1; total time=   0.0s\n",
      "[CV 2/5] END ................................C=1000, gamma=1; total time=   0.0s\n",
      "[CV 3/5] END ................................C=1000, gamma=1; total time=   0.0s\n"
     ]
    },
    {
     "name": "stdout",
     "output_type": "stream",
     "text": [
      "[CV 4/5] END ................................C=1000, gamma=1; total time=   0.0s\n",
      "[CV 5/5] END ................................C=1000, gamma=1; total time=   0.0s\n",
      "[CV 1/5] END ..............................C=1000, gamma=0.1; total time=   0.0s\n",
      "[CV 2/5] END ..............................C=1000, gamma=0.1; total time=   0.0s\n",
      "[CV 3/5] END ..............................C=1000, gamma=0.1; total time=   0.0s\n",
      "[CV 4/5] END ..............................C=1000, gamma=0.1; total time=   0.0s\n",
      "[CV 5/5] END ..............................C=1000, gamma=0.1; total time=   0.0s\n",
      "[CV 1/5] END .............................C=1000, gamma=0.01; total time=   0.0s\n",
      "[CV 2/5] END .............................C=1000, gamma=0.01; total time=   0.0s\n",
      "[CV 3/5] END .............................C=1000, gamma=0.01; total time=   0.0s\n",
      "[CV 4/5] END .............................C=1000, gamma=0.01; total time=   0.0s\n",
      "[CV 5/5] END .............................C=1000, gamma=0.01; total time=   0.0s\n",
      "[CV 1/5] END ............................C=1000, gamma=0.001; total time=   0.0s\n",
      "[CV 2/5] END ............................C=1000, gamma=0.001; total time=   0.0s\n",
      "[CV 3/5] END ............................C=1000, gamma=0.001; total time=   0.0s\n",
      "[CV 4/5] END ............................C=1000, gamma=0.001; total time=   0.0s\n",
      "[CV 5/5] END ............................C=1000, gamma=0.001; total time=   0.0s\n",
      "[CV 1/5] END ...........................C=1000, gamma=0.0001; total time=   0.0s\n",
      "[CV 2/5] END ...........................C=1000, gamma=0.0001; total time=   0.0s\n",
      "[CV 3/5] END ...........................C=1000, gamma=0.0001; total time=   0.0s\n",
      "[CV 4/5] END ...........................C=1000, gamma=0.0001; total time=   0.0s\n",
      "[CV 5/5] END ...........................C=1000, gamma=0.0001; total time=   0.0s\n"
     ]
    },
    {
     "data": {
      "text/plain": [
       "GridSearchCV(estimator=SVC(),\n",
       "             param_grid={'C': [0.1, 1, 10, 100, 1000],\n",
       "                         'gamma': [1, 0.1, 0.01, 0.001, 0.0001]},\n",
       "             verbose=3)"
      ]
     },
     "execution_count": 37,
     "metadata": {},
     "output_type": "execute_result"
    }
   ],
   "source": [
    "grid.fit(X_train,y_train)"
   ]
  },
  {
   "cell_type": "code",
   "execution_count": 38,
   "id": "418259df",
   "metadata": {},
   "outputs": [
    {
     "data": {
      "text/plain": [
       "SVC(C=1000, gamma=0.1)"
      ]
     },
     "execution_count": 38,
     "metadata": {},
     "output_type": "execute_result"
    }
   ],
   "source": [
    "grid.best_estimator_"
   ]
  },
  {
   "cell_type": "code",
   "execution_count": 39,
   "id": "65d3da04",
   "metadata": {},
   "outputs": [
    {
     "data": {
      "text/plain": [
       "{'C': 1000, 'gamma': 0.1}"
      ]
     },
     "execution_count": 39,
     "metadata": {},
     "output_type": "execute_result"
    }
   ],
   "source": [
    "grid.best_params_"
   ]
  },
  {
   "cell_type": "code",
   "execution_count": 40,
   "id": "e0cfa6f9",
   "metadata": {},
   "outputs": [
    {
     "data": {
      "text/plain": [
       "0.9568844668844669"
      ]
     },
     "execution_count": 40,
     "metadata": {},
     "output_type": "execute_result"
    }
   ],
   "source": [
    "grid.best_score_"
   ]
  },
  {
   "cell_type": "code",
   "execution_count": 41,
   "id": "99ac22e4",
   "metadata": {},
   "outputs": [],
   "source": [
    "predictions = grid.predict(X_test)"
   ]
  },
  {
   "cell_type": "code",
   "execution_count": 42,
   "id": "3e713653",
   "metadata": {},
   "outputs": [
    {
     "name": "stdout",
     "output_type": "stream",
     "text": [
      "Accuracy:  0.9661538461538461\n",
      "\n",
      "\n",
      "              precision    recall  f1-score   support\n",
      "\n",
      "           0       0.98      0.95      0.97       176\n",
      "           1       0.95      0.98      0.96       149\n",
      "\n",
      "    accuracy                           0.97       325\n",
      "   macro avg       0.97      0.97      0.97       325\n",
      "weighted avg       0.97      0.97      0.97       325\n",
      "\n",
      "\n",
      "\n",
      "[[168   8]\n",
      " [  3 146]]\n"
     ]
    }
   ],
   "source": [
    "print(\"Accuracy: \", accuracy_score(y_test,predictions))\n",
    "print(\"\\n\")\n",
    "print(classification_report(y_test,predictions))\n",
    "print(\"\\n\")\n",
    "print(confusion_matrix(y_test,predictions))"
   ]
  },
  {
   "cell_type": "markdown",
   "id": "f3f53095",
   "metadata": {},
   "source": [
    "### Naive Bayes"
   ]
  },
  {
   "cell_type": "code",
   "execution_count": 43,
   "id": "7910acfc",
   "metadata": {},
   "outputs": [],
   "source": [
    "gnb = GaussianNB()"
   ]
  },
  {
   "cell_type": "code",
   "execution_count": 44,
   "id": "2d685338",
   "metadata": {},
   "outputs": [
    {
     "data": {
      "text/plain": [
       "GaussianNB()"
      ]
     },
     "execution_count": 44,
     "metadata": {},
     "output_type": "execute_result"
    }
   ],
   "source": [
    "gnb.fit(X_train,y_train)"
   ]
  },
  {
   "cell_type": "code",
   "execution_count": 45,
   "id": "b6d2f914",
   "metadata": {},
   "outputs": [],
   "source": [
    "predictions = gnb.predict(X_test)"
   ]
  },
  {
   "cell_type": "code",
   "execution_count": 46,
   "id": "3a97e180",
   "metadata": {},
   "outputs": [
    {
     "name": "stdout",
     "output_type": "stream",
     "text": [
      "Accuracy Score: 0.5446153846153846\n",
      "\n",
      "\n",
      "              precision    recall  f1-score   support\n",
      "\n",
      "           0       0.97      0.16      0.28       176\n",
      "           1       0.50      0.99      0.67       149\n",
      "\n",
      "    accuracy                           0.54       325\n",
      "   macro avg       0.73      0.58      0.47       325\n",
      "weighted avg       0.75      0.54      0.46       325\n",
      "\n",
      "\n",
      "\n",
      "[[ 29 147]\n",
      " [  1 148]]\n"
     ]
    }
   ],
   "source": [
    "print('Accuracy Score:',accuracy_score(y_test,predictions))\n",
    "print('\\n')\n",
    "print(classification_report(y_test,predictions))\n",
    "print('\\n')\n",
    "print(confusion_matrix(y_test,predictions))"
   ]
  },
  {
   "cell_type": "markdown",
   "id": "e1df9e65",
   "metadata": {},
   "source": [
    "### XGBoost"
   ]
  },
  {
   "cell_type": "code",
   "execution_count": 47,
   "id": "762afada",
   "metadata": {},
   "outputs": [],
   "source": [
    "xgb_cl = xgb.XGBClassifier()"
   ]
  },
  {
   "cell_type": "code",
   "execution_count": 48,
   "id": "f1ef895b",
   "metadata": {},
   "outputs": [
    {
     "data": {
      "text/plain": [
       "XGBClassifier(base_score=0.5, booster='gbtree', callbacks=None,\n",
       "              colsample_bylevel=1, colsample_bynode=1, colsample_bytree=1,\n",
       "              early_stopping_rounds=None, enable_categorical=False,\n",
       "              eval_metric=None, gamma=0, gpu_id=-1, grow_policy='depthwise',\n",
       "              importance_type=None, interaction_constraints='',\n",
       "              learning_rate=0.300000012, max_bin=256, max_cat_to_onehot=4,\n",
       "              max_delta_step=0, max_depth=6, max_leaves=0, min_child_weight=1,\n",
       "              missing=nan, monotone_constraints='()', n_estimators=100,\n",
       "              n_jobs=0, num_parallel_tree=1, predictor='auto', random_state=0,\n",
       "              reg_alpha=0, reg_lambda=1, ...)"
      ]
     },
     "execution_count": 48,
     "metadata": {},
     "output_type": "execute_result"
    }
   ],
   "source": [
    "xgb_cl.fit(X_train, y_train)"
   ]
  },
  {
   "cell_type": "code",
   "execution_count": 49,
   "id": "f45f7ec1",
   "metadata": {},
   "outputs": [],
   "source": [
    "predictions = xgb_cl.predict(X_test)"
   ]
  },
  {
   "cell_type": "code",
   "execution_count": 50,
   "id": "80d2a68a",
   "metadata": {
    "scrolled": false
   },
   "outputs": [
    {
     "name": "stdout",
     "output_type": "stream",
     "text": [
      "Accuracy Score: 0.9692307692307692\n",
      "\n",
      "\n",
      "              precision    recall  f1-score   support\n",
      "\n",
      "           0       0.97      0.98      0.97       176\n",
      "           1       0.97      0.96      0.97       149\n",
      "\n",
      "    accuracy                           0.97       325\n",
      "   macro avg       0.97      0.97      0.97       325\n",
      "weighted avg       0.97      0.97      0.97       325\n",
      "\n",
      "\n",
      "\n",
      "[[172   4]\n",
      " [  6 143]]\n"
     ]
    }
   ],
   "source": [
    "print('Accuracy Score:',accuracy_score(y_test,predictions))\n",
    "print('\\n')\n",
    "print(classification_report(y_test,predictions))\n",
    "print('\\n')\n",
    "print(confusion_matrix(y_test,predictions))"
   ]
  },
  {
   "cell_type": "markdown",
   "id": "41fa1cd7",
   "metadata": {},
   "source": [
    "### Neural Network"
   ]
  },
  {
   "cell_type": "code",
   "execution_count": 51,
   "id": "7a7038c7",
   "metadata": {},
   "outputs": [],
   "source": [
    "import tensorflow as tf\n",
    "from tensorflow.keras.models import Sequential\n",
    "from tensorflow.keras.layers import Dense, Activation, Dropout\n",
    "from tensorflow.keras.callbacks import EarlyStopping"
   ]
  },
  {
   "cell_type": "code",
   "execution_count": 52,
   "id": "694e71d8",
   "metadata": {},
   "outputs": [],
   "source": [
    "model = Sequential()\n",
    "\n",
    "# input layer\n",
    "model.add(Dense(units=26,activation='relu'))\n",
    "model.add(Dropout(0.5))\n",
    "\n",
    "# hidden layer\n",
    "model.add(Dense(units=13,activation='relu'))\n",
    "model.add(Dropout(0.5))\n",
    "\n",
    "# output layer\n",
    "model.add(Dense(units=1,activation='sigmoid'))\n",
    "\n",
    "# compiler\n",
    "model.compile(loss='binary_crossentropy', optimizer='adam')"
   ]
  },
  {
   "cell_type": "code",
   "execution_count": 53,
   "id": "018ba478",
   "metadata": {},
   "outputs": [],
   "source": [
    "early_stop = EarlyStopping(monitor='val_loss',mode='min',verbose=1,patience=25)"
   ]
  },
  {
   "cell_type": "code",
   "execution_count": 54,
   "id": "8a7cb99b",
   "metadata": {},
   "outputs": [
    {
     "name": "stdout",
     "output_type": "stream",
     "text": [
      "Epoch 1/600\n",
      "41/41 [==============================] - 1s 4ms/step - loss: 2.4617 - val_loss: 0.6997\n",
      "Epoch 2/600\n",
      "41/41 [==============================] - 0s 2ms/step - loss: 1.4002 - val_loss: 0.6733\n",
      "Epoch 3/600\n",
      "41/41 [==============================] - 0s 2ms/step - loss: 0.9255 - val_loss: 0.6755\n",
      "Epoch 4/600\n",
      "41/41 [==============================] - 0s 2ms/step - loss: 0.8352 - val_loss: 0.6750\n",
      "Epoch 5/600\n",
      "41/41 [==============================] - 0s 2ms/step - loss: 0.7497 - val_loss: 0.6730\n",
      "Epoch 6/600\n",
      "41/41 [==============================] - 0s 2ms/step - loss: 0.7490 - val_loss: 0.6770\n",
      "Epoch 7/600\n",
      "41/41 [==============================] - 0s 2ms/step - loss: 0.7099 - val_loss: 0.6783\n",
      "Epoch 8/600\n",
      "41/41 [==============================] - 0s 2ms/step - loss: 0.7002 - val_loss: 0.6767\n",
      "Epoch 9/600\n",
      "41/41 [==============================] - 0s 2ms/step - loss: 0.6900 - val_loss: 0.6773\n",
      "Epoch 10/600\n",
      "41/41 [==============================] - 0s 2ms/step - loss: 0.6848 - val_loss: 0.6777\n",
      "Epoch 11/600\n",
      "41/41 [==============================] - 0s 2ms/step - loss: 0.6791 - val_loss: 0.6764\n",
      "Epoch 12/600\n",
      "41/41 [==============================] - 0s 2ms/step - loss: 0.6672 - val_loss: 0.6755\n",
      "Epoch 13/600\n",
      "41/41 [==============================] - 0s 2ms/step - loss: 0.6814 - val_loss: 0.6670\n",
      "Epoch 14/600\n",
      "41/41 [==============================] - 0s 2ms/step - loss: 0.6698 - val_loss: 0.6586\n",
      "Epoch 15/600\n",
      "41/41 [==============================] - 0s 2ms/step - loss: 0.6651 - val_loss: 0.6565\n",
      "Epoch 16/600\n",
      "41/41 [==============================] - 0s 2ms/step - loss: 0.6508 - val_loss: 0.6502\n",
      "Epoch 17/600\n",
      "41/41 [==============================] - 0s 2ms/step - loss: 0.6516 - val_loss: 0.6403\n",
      "Epoch 18/600\n",
      "41/41 [==============================] - 0s 2ms/step - loss: 0.6548 - val_loss: 0.6397\n",
      "Epoch 19/600\n",
      "41/41 [==============================] - 0s 2ms/step - loss: 0.6434 - val_loss: 0.6309\n",
      "Epoch 20/600\n",
      "41/41 [==============================] - 0s 3ms/step - loss: 0.6339 - val_loss: 0.6289\n",
      "Epoch 21/600\n",
      "41/41 [==============================] - 0s 2ms/step - loss: 0.6412 - val_loss: 0.6289\n",
      "Epoch 22/600\n",
      "41/41 [==============================] - 0s 2ms/step - loss: 0.6469 - val_loss: 0.6214\n",
      "Epoch 23/600\n",
      "41/41 [==============================] - 0s 2ms/step - loss: 0.6246 - val_loss: 0.6149\n",
      "Epoch 24/600\n",
      "41/41 [==============================] - 0s 2ms/step - loss: 0.6197 - val_loss: 0.6049\n",
      "Epoch 25/600\n",
      "41/41 [==============================] - 0s 2ms/step - loss: 0.6145 - val_loss: 0.6026\n",
      "Epoch 26/600\n",
      "41/41 [==============================] - 0s 2ms/step - loss: 0.6231 - val_loss: 0.5961\n",
      "Epoch 27/600\n",
      "41/41 [==============================] - 0s 2ms/step - loss: 0.5987 - val_loss: 0.5873\n",
      "Epoch 28/600\n",
      "41/41 [==============================] - 0s 2ms/step - loss: 0.6210 - val_loss: 0.5949\n",
      "Epoch 29/600\n",
      "41/41 [==============================] - 0s 2ms/step - loss: 0.6204 - val_loss: 0.5876\n",
      "Epoch 30/600\n",
      "41/41 [==============================] - 0s 2ms/step - loss: 0.6093 - val_loss: 0.5863\n",
      "Epoch 31/600\n",
      "41/41 [==============================] - 0s 2ms/step - loss: 0.5904 - val_loss: 0.5745\n",
      "Epoch 32/600\n",
      "41/41 [==============================] - 0s 2ms/step - loss: 0.5877 - val_loss: 0.5684\n",
      "Epoch 33/600\n",
      "41/41 [==============================] - 0s 2ms/step - loss: 0.5815 - val_loss: 0.5692\n",
      "Epoch 34/600\n",
      "41/41 [==============================] - 0s 2ms/step - loss: 0.5939 - val_loss: 0.5452\n",
      "Epoch 35/600\n",
      "41/41 [==============================] - 0s 2ms/step - loss: 0.5759 - val_loss: 0.5408\n",
      "Epoch 36/600\n",
      "41/41 [==============================] - 0s 2ms/step - loss: 0.5801 - val_loss: 0.5448\n",
      "Epoch 37/600\n",
      "41/41 [==============================] - 0s 2ms/step - loss: 0.5709 - val_loss: 0.5430\n",
      "Epoch 38/600\n",
      "41/41 [==============================] - 0s 2ms/step - loss: 0.5633 - val_loss: 0.5427\n",
      "Epoch 39/600\n",
      "41/41 [==============================] - 0s 2ms/step - loss: 0.5672 - val_loss: 0.5384\n",
      "Epoch 40/600\n",
      "41/41 [==============================] - 0s 2ms/step - loss: 0.5484 - val_loss: 0.5405\n",
      "Epoch 41/600\n",
      "41/41 [==============================] - 0s 2ms/step - loss: 0.5559 - val_loss: 0.5266\n",
      "Epoch 42/600\n",
      "41/41 [==============================] - 0s 2ms/step - loss: 0.5431 - val_loss: 0.5083\n",
      "Epoch 43/600\n",
      "41/41 [==============================] - 0s 2ms/step - loss: 0.5532 - val_loss: 0.5297\n",
      "Epoch 44/600\n",
      "41/41 [==============================] - 0s 2ms/step - loss: 0.5510 - val_loss: 0.5200\n",
      "Epoch 45/600\n",
      "41/41 [==============================] - 0s 2ms/step - loss: 0.5243 - val_loss: 0.5256\n",
      "Epoch 46/600\n",
      "41/41 [==============================] - 0s 2ms/step - loss: 0.5539 - val_loss: 0.5221\n",
      "Epoch 47/600\n",
      "41/41 [==============================] - 0s 2ms/step - loss: 0.5521 - val_loss: 0.5147\n",
      "Epoch 48/600\n",
      "41/41 [==============================] - 0s 2ms/step - loss: 0.5223 - val_loss: 0.5043\n",
      "Epoch 49/600\n",
      "41/41 [==============================] - 0s 2ms/step - loss: 0.5635 - val_loss: 0.5068\n",
      "Epoch 50/600\n",
      "41/41 [==============================] - 0s 2ms/step - loss: 0.5315 - val_loss: 0.4933\n",
      "Epoch 51/600\n",
      "41/41 [==============================] - 0s 2ms/step - loss: 0.5359 - val_loss: 0.4943\n",
      "Epoch 52/600\n",
      "41/41 [==============================] - 0s 2ms/step - loss: 0.5235 - val_loss: 0.4893\n",
      "Epoch 53/600\n",
      "41/41 [==============================] - 0s 2ms/step - loss: 0.5068 - val_loss: 0.4804\n",
      "Epoch 54/600\n",
      "41/41 [==============================] - 0s 2ms/step - loss: 0.5236 - val_loss: 0.4905\n",
      "Epoch 55/600\n",
      "41/41 [==============================] - 0s 2ms/step - loss: 0.5100 - val_loss: 0.4689\n",
      "Epoch 56/600\n",
      "41/41 [==============================] - 0s 2ms/step - loss: 0.5152 - val_loss: 0.4782\n",
      "Epoch 57/600\n",
      "41/41 [==============================] - 0s 2ms/step - loss: 0.5000 - val_loss: 0.4528\n",
      "Epoch 58/600\n",
      "41/41 [==============================] - 0s 2ms/step - loss: 0.5034 - val_loss: 0.4551\n",
      "Epoch 59/600\n",
      "41/41 [==============================] - 0s 2ms/step - loss: 0.4972 - val_loss: 0.4726\n",
      "Epoch 60/600\n",
      "41/41 [==============================] - 0s 1ms/step - loss: 0.4832 - val_loss: 0.4528\n",
      "Epoch 61/600\n",
      "41/41 [==============================] - 0s 2ms/step - loss: 0.4958 - val_loss: 0.4496\n",
      "Epoch 62/600\n",
      "41/41 [==============================] - 0s 2ms/step - loss: 0.5010 - val_loss: 0.4622\n",
      "Epoch 63/600\n",
      "41/41 [==============================] - 0s 2ms/step - loss: 0.5165 - val_loss: 0.4519\n",
      "Epoch 64/600\n",
      "41/41 [==============================] - 0s 2ms/step - loss: 0.5126 - val_loss: 0.4541\n",
      "Epoch 65/600\n",
      "41/41 [==============================] - 0s 2ms/step - loss: 0.4807 - val_loss: 0.4473\n",
      "Epoch 66/600\n",
      "41/41 [==============================] - 0s 2ms/step - loss: 0.4829 - val_loss: 0.4327\n",
      "Epoch 67/600\n",
      "41/41 [==============================] - 0s 2ms/step - loss: 0.4775 - val_loss: 0.4349\n",
      "Epoch 68/600\n",
      "41/41 [==============================] - 0s 2ms/step - loss: 0.4681 - val_loss: 0.4514\n",
      "Epoch 69/600\n",
      "41/41 [==============================] - 0s 2ms/step - loss: 0.4698 - val_loss: 0.4180\n",
      "Epoch 70/600\n",
      "41/41 [==============================] - 0s 2ms/step - loss: 0.4902 - val_loss: 0.4344\n",
      "Epoch 71/600\n",
      "41/41 [==============================] - 0s 2ms/step - loss: 0.5007 - val_loss: 0.4572\n",
      "Epoch 72/600\n",
      "41/41 [==============================] - 0s 2ms/step - loss: 0.4618 - val_loss: 0.4253\n",
      "Epoch 73/600\n",
      "41/41 [==============================] - 0s 2ms/step - loss: 0.4461 - val_loss: 0.4161\n",
      "Epoch 74/600\n",
      "41/41 [==============================] - 0s 2ms/step - loss: 0.4654 - val_loss: 0.4305\n",
      "Epoch 75/600\n",
      "41/41 [==============================] - 0s 2ms/step - loss: 0.4907 - val_loss: 0.4310\n",
      "Epoch 76/600\n",
      "41/41 [==============================] - 0s 2ms/step - loss: 0.4528 - val_loss: 0.4090\n",
      "Epoch 77/600\n",
      "41/41 [==============================] - 0s 2ms/step - loss: 0.4646 - val_loss: 0.4349\n",
      "Epoch 78/600\n",
      "41/41 [==============================] - 0s 2ms/step - loss: 0.4697 - val_loss: 0.4160\n",
      "Epoch 79/600\n",
      "41/41 [==============================] - 0s 2ms/step - loss: 0.4666 - val_loss: 0.4027\n",
      "Epoch 80/600\n",
      "41/41 [==============================] - 0s 2ms/step - loss: 0.4602 - val_loss: 0.4115\n",
      "Epoch 81/600\n",
      "41/41 [==============================] - 0s 2ms/step - loss: 0.4459 - val_loss: 0.4112\n",
      "Epoch 82/600\n",
      "41/41 [==============================] - 0s 2ms/step - loss: 0.4579 - val_loss: 0.4052\n",
      "Epoch 83/600\n"
     ]
    },
    {
     "name": "stdout",
     "output_type": "stream",
     "text": [
      "41/41 [==============================] - 0s 2ms/step - loss: 0.4405 - val_loss: 0.4044\n",
      "Epoch 84/600\n",
      "41/41 [==============================] - 0s 2ms/step - loss: 0.4461 - val_loss: 0.4069\n",
      "Epoch 85/600\n",
      "41/41 [==============================] - 0s 2ms/step - loss: 0.4584 - val_loss: 0.4086\n",
      "Epoch 86/600\n",
      "41/41 [==============================] - 0s 2ms/step - loss: 0.4547 - val_loss: 0.3947\n",
      "Epoch 87/600\n",
      "41/41 [==============================] - 0s 2ms/step - loss: 0.4483 - val_loss: 0.4127\n",
      "Epoch 88/600\n",
      "41/41 [==============================] - 0s 2ms/step - loss: 0.4446 - val_loss: 0.3997\n",
      "Epoch 89/600\n",
      "41/41 [==============================] - 0s 2ms/step - loss: 0.4546 - val_loss: 0.4119\n",
      "Epoch 90/600\n",
      "41/41 [==============================] - 0s 2ms/step - loss: 0.4338 - val_loss: 0.3896\n",
      "Epoch 91/600\n",
      "41/41 [==============================] - 0s 2ms/step - loss: 0.4299 - val_loss: 0.4067\n",
      "Epoch 92/600\n",
      "41/41 [==============================] - 0s 2ms/step - loss: 0.4277 - val_loss: 0.3935\n",
      "Epoch 93/600\n",
      "41/41 [==============================] - 0s 1ms/step - loss: 0.4448 - val_loss: 0.4000\n",
      "Epoch 94/600\n",
      "41/41 [==============================] - 0s 2ms/step - loss: 0.4467 - val_loss: 0.3956\n",
      "Epoch 95/600\n",
      "41/41 [==============================] - 0s 2ms/step - loss: 0.4038 - val_loss: 0.3847\n",
      "Epoch 96/600\n",
      "41/41 [==============================] - 0s 2ms/step - loss: 0.4343 - val_loss: 0.3831\n",
      "Epoch 97/600\n",
      "41/41 [==============================] - 0s 2ms/step - loss: 0.4184 - val_loss: 0.3843\n",
      "Epoch 98/600\n",
      "41/41 [==============================] - 0s 2ms/step - loss: 0.4247 - val_loss: 0.3946\n",
      "Epoch 99/600\n",
      "41/41 [==============================] - 0s 2ms/step - loss: 0.4062 - val_loss: 0.3731\n",
      "Epoch 100/600\n",
      "41/41 [==============================] - 0s 2ms/step - loss: 0.4278 - val_loss: 0.3711\n",
      "Epoch 101/600\n",
      "41/41 [==============================] - 0s 2ms/step - loss: 0.4315 - val_loss: 0.3881\n",
      "Epoch 102/600\n",
      "41/41 [==============================] - 0s 2ms/step - loss: 0.4145 - val_loss: 0.3928\n",
      "Epoch 103/600\n",
      "41/41 [==============================] - 0s 2ms/step - loss: 0.4619 - val_loss: 0.3904\n",
      "Epoch 104/600\n",
      "41/41 [==============================] - 0s 2ms/step - loss: 0.4221 - val_loss: 0.3891\n",
      "Epoch 105/600\n",
      "41/41 [==============================] - 0s 2ms/step - loss: 0.4344 - val_loss: 0.3909\n",
      "Epoch 106/600\n",
      "41/41 [==============================] - 0s 2ms/step - loss: 0.4103 - val_loss: 0.3862\n",
      "Epoch 107/600\n",
      "41/41 [==============================] - 0s 2ms/step - loss: 0.4398 - val_loss: 0.3803\n",
      "Epoch 108/600\n",
      "41/41 [==============================] - 0s 2ms/step - loss: 0.4284 - val_loss: 0.3737\n",
      "Epoch 109/600\n",
      "41/41 [==============================] - 0s 2ms/step - loss: 0.4294 - val_loss: 0.3776\n",
      "Epoch 110/600\n",
      "41/41 [==============================] - 0s 2ms/step - loss: 0.4416 - val_loss: 0.3817\n",
      "Epoch 111/600\n",
      "41/41 [==============================] - 0s 2ms/step - loss: 0.4292 - val_loss: 0.3808\n",
      "Epoch 112/600\n",
      "41/41 [==============================] - 0s 2ms/step - loss: 0.4127 - val_loss: 0.3707\n",
      "Epoch 113/600\n",
      "41/41 [==============================] - 0s 2ms/step - loss: 0.4322 - val_loss: 0.3812\n",
      "Epoch 114/600\n",
      "41/41 [==============================] - 0s 2ms/step - loss: 0.4145 - val_loss: 0.3721\n",
      "Epoch 115/600\n",
      "41/41 [==============================] - 0s 2ms/step - loss: 0.4295 - val_loss: 0.3790\n",
      "Epoch 116/600\n",
      "41/41 [==============================] - 0s 2ms/step - loss: 0.4294 - val_loss: 0.3893\n",
      "Epoch 117/600\n",
      "41/41 [==============================] - 0s 1ms/step - loss: 0.3928 - val_loss: 0.3653\n",
      "Epoch 118/600\n",
      "41/41 [==============================] - 0s 2ms/step - loss: 0.4019 - val_loss: 0.3636\n",
      "Epoch 119/600\n",
      "41/41 [==============================] - 0s 2ms/step - loss: 0.4138 - val_loss: 0.3723\n",
      "Epoch 120/600\n",
      "41/41 [==============================] - 0s 2ms/step - loss: 0.4173 - val_loss: 0.3655\n",
      "Epoch 121/600\n",
      "41/41 [==============================] - 0s 2ms/step - loss: 0.4038 - val_loss: 0.3620\n",
      "Epoch 122/600\n",
      "41/41 [==============================] - 0s 2ms/step - loss: 0.4211 - val_loss: 0.3639\n",
      "Epoch 123/600\n",
      "41/41 [==============================] - 0s 2ms/step - loss: 0.4138 - val_loss: 0.3635\n",
      "Epoch 124/600\n",
      "41/41 [==============================] - 0s 2ms/step - loss: 0.4195 - val_loss: 0.3515\n",
      "Epoch 125/600\n",
      "41/41 [==============================] - 0s 2ms/step - loss: 0.3971 - val_loss: 0.3532\n",
      "Epoch 126/600\n",
      "41/41 [==============================] - 0s 2ms/step - loss: 0.4023 - val_loss: 0.3521\n",
      "Epoch 127/600\n",
      "41/41 [==============================] - 0s 2ms/step - loss: 0.4022 - val_loss: 0.3449\n",
      "Epoch 128/600\n",
      "41/41 [==============================] - 0s 2ms/step - loss: 0.4145 - val_loss: 0.3677\n",
      "Epoch 129/600\n",
      "41/41 [==============================] - 0s 2ms/step - loss: 0.3924 - val_loss: 0.3475\n",
      "Epoch 130/600\n",
      "41/41 [==============================] - 0s 2ms/step - loss: 0.3878 - val_loss: 0.3518\n",
      "Epoch 131/600\n",
      "41/41 [==============================] - 0s 2ms/step - loss: 0.4170 - val_loss: 0.3468\n",
      "Epoch 132/600\n",
      "41/41 [==============================] - 0s 2ms/step - loss: 0.4056 - val_loss: 0.3652\n",
      "Epoch 133/600\n",
      "41/41 [==============================] - 0s 2ms/step - loss: 0.3956 - val_loss: 0.3540\n",
      "Epoch 134/600\n",
      "41/41 [==============================] - 0s 2ms/step - loss: 0.4295 - val_loss: 0.3527\n",
      "Epoch 135/600\n",
      "41/41 [==============================] - 0s 2ms/step - loss: 0.3981 - val_loss: 0.3464\n",
      "Epoch 136/600\n",
      "41/41 [==============================] - 0s 2ms/step - loss: 0.4007 - val_loss: 0.3515\n",
      "Epoch 137/600\n",
      "41/41 [==============================] - 0s 2ms/step - loss: 0.4101 - val_loss: 0.3414\n",
      "Epoch 138/600\n",
      "41/41 [==============================] - 0s 2ms/step - loss: 0.3898 - val_loss: 0.3517\n",
      "Epoch 139/600\n",
      "41/41 [==============================] - 0s 2ms/step - loss: 0.4092 - val_loss: 0.3599\n",
      "Epoch 140/600\n",
      "41/41 [==============================] - 0s 2ms/step - loss: 0.3778 - val_loss: 0.3453\n",
      "Epoch 141/600\n",
      "41/41 [==============================] - 0s 2ms/step - loss: 0.3970 - val_loss: 0.3602\n",
      "Epoch 142/600\n",
      "41/41 [==============================] - 0s 2ms/step - loss: 0.3738 - val_loss: 0.3376\n",
      "Epoch 143/600\n",
      "41/41 [==============================] - 0s 2ms/step - loss: 0.3803 - val_loss: 0.3374\n",
      "Epoch 144/600\n",
      "41/41 [==============================] - 0s 2ms/step - loss: 0.3918 - val_loss: 0.3404\n",
      "Epoch 145/600\n",
      "41/41 [==============================] - 0s 2ms/step - loss: 0.3901 - val_loss: 0.3391\n",
      "Epoch 146/600\n",
      "41/41 [==============================] - 0s 2ms/step - loss: 0.4032 - val_loss: 0.3500\n",
      "Epoch 147/600\n",
      "41/41 [==============================] - 0s 2ms/step - loss: 0.4015 - val_loss: 0.3387\n",
      "Epoch 148/600\n",
      "41/41 [==============================] - 0s 2ms/step - loss: 0.3904 - val_loss: 0.3457\n",
      "Epoch 149/600\n",
      "41/41 [==============================] - 0s 2ms/step - loss: 0.3750 - val_loss: 0.3312\n",
      "Epoch 150/600\n",
      "41/41 [==============================] - 0s 2ms/step - loss: 0.3752 - val_loss: 0.3391\n",
      "Epoch 151/600\n",
      "41/41 [==============================] - 0s 2ms/step - loss: 0.3838 - val_loss: 0.3345\n",
      "Epoch 152/600\n",
      "41/41 [==============================] - 0s 2ms/step - loss: 0.3910 - val_loss: 0.3340\n",
      "Epoch 153/600\n",
      "41/41 [==============================] - 0s 1ms/step - loss: 0.3808 - val_loss: 0.3389\n",
      "Epoch 154/600\n",
      "41/41 [==============================] - 0s 2ms/step - loss: 0.3908 - val_loss: 0.3315\n",
      "Epoch 155/600\n",
      "41/41 [==============================] - 0s 1ms/step - loss: 0.4158 - val_loss: 0.3322\n",
      "Epoch 156/600\n",
      "41/41 [==============================] - 0s 2ms/step - loss: 0.3914 - val_loss: 0.3421\n",
      "Epoch 157/600\n",
      "41/41 [==============================] - 0s 2ms/step - loss: 0.3767 - val_loss: 0.3368\n",
      "Epoch 158/600\n",
      "41/41 [==============================] - 0s 2ms/step - loss: 0.3835 - val_loss: 0.3479\n",
      "Epoch 159/600\n",
      "41/41 [==============================] - 0s 2ms/step - loss: 0.3890 - val_loss: 0.3323\n",
      "Epoch 160/600\n",
      "41/41 [==============================] - 0s 2ms/step - loss: 0.3836 - val_loss: 0.3271\n",
      "Epoch 161/600\n",
      "41/41 [==============================] - 0s 2ms/step - loss: 0.3910 - val_loss: 0.3319\n",
      "Epoch 162/600\n",
      "41/41 [==============================] - 0s 2ms/step - loss: 0.3823 - val_loss: 0.3291\n",
      "Epoch 163/600\n",
      "41/41 [==============================] - 0s 2ms/step - loss: 0.3602 - val_loss: 0.3235\n",
      "Epoch 164/600\n"
     ]
    },
    {
     "name": "stdout",
     "output_type": "stream",
     "text": [
      "41/41 [==============================] - 0s 2ms/step - loss: 0.4108 - val_loss: 0.3412\n",
      "Epoch 165/600\n",
      "41/41 [==============================] - 0s 2ms/step - loss: 0.3861 - val_loss: 0.3257\n",
      "Epoch 166/600\n",
      "41/41 [==============================] - 0s 2ms/step - loss: 0.3903 - val_loss: 0.3284\n",
      "Epoch 167/600\n",
      "41/41 [==============================] - 0s 2ms/step - loss: 0.3945 - val_loss: 0.3482\n",
      "Epoch 168/600\n",
      "41/41 [==============================] - 0s 1ms/step - loss: 0.3816 - val_loss: 0.3358\n",
      "Epoch 169/600\n",
      "41/41 [==============================] - 0s 2ms/step - loss: 0.3787 - val_loss: 0.3391\n",
      "Epoch 170/600\n",
      "41/41 [==============================] - 0s 2ms/step - loss: 0.3610 - val_loss: 0.3459\n",
      "Epoch 171/600\n",
      "41/41 [==============================] - 0s 2ms/step - loss: 0.3834 - val_loss: 0.3325\n",
      "Epoch 172/600\n",
      "41/41 [==============================] - 0s 2ms/step - loss: 0.3860 - val_loss: 0.3283\n",
      "Epoch 173/600\n",
      "41/41 [==============================] - 0s 2ms/step - loss: 0.3925 - val_loss: 0.3387\n",
      "Epoch 174/600\n",
      "41/41 [==============================] - 0s 2ms/step - loss: 0.3483 - val_loss: 0.3357\n",
      "Epoch 175/600\n",
      "41/41 [==============================] - 0s 1ms/step - loss: 0.3756 - val_loss: 0.3343\n",
      "Epoch 176/600\n",
      "41/41 [==============================] - 0s 2ms/step - loss: 0.3779 - val_loss: 0.3370\n",
      "Epoch 177/600\n",
      "41/41 [==============================] - 0s 2ms/step - loss: 0.3753 - val_loss: 0.3295\n",
      "Epoch 178/600\n",
      "41/41 [==============================] - 0s 2ms/step - loss: 0.3632 - val_loss: 0.3370\n",
      "Epoch 179/600\n",
      "41/41 [==============================] - 0s 2ms/step - loss: 0.3790 - val_loss: 0.3404\n",
      "Epoch 180/600\n",
      "41/41 [==============================] - 0s 2ms/step - loss: 0.3815 - val_loss: 0.3271\n",
      "Epoch 181/600\n",
      "41/41 [==============================] - 0s 1ms/step - loss: 0.3723 - val_loss: 0.3289\n",
      "Epoch 182/600\n",
      "41/41 [==============================] - 0s 2ms/step - loss: 0.3927 - val_loss: 0.3402\n",
      "Epoch 183/600\n",
      "41/41 [==============================] - 0s 2ms/step - loss: 0.3667 - val_loss: 0.3290\n",
      "Epoch 184/600\n",
      "41/41 [==============================] - 0s 2ms/step - loss: 0.3718 - val_loss: 0.3296\n",
      "Epoch 185/600\n",
      "41/41 [==============================] - 0s 2ms/step - loss: 0.3596 - val_loss: 0.3306\n",
      "Epoch 186/600\n",
      "41/41 [==============================] - 0s 2ms/step - loss: 0.3716 - val_loss: 0.3310\n",
      "Epoch 187/600\n",
      "41/41 [==============================] - 0s 1ms/step - loss: 0.3726 - val_loss: 0.3295\n",
      "Epoch 188/600\n",
      "41/41 [==============================] - 0s 1ms/step - loss: 0.3671 - val_loss: 0.3266\n",
      "Epoch 188: early stopping\n"
     ]
    },
    {
     "data": {
      "text/plain": [
       "<keras.callbacks.History at 0x21b7921aee0>"
      ]
     },
     "execution_count": 54,
     "metadata": {},
     "output_type": "execute_result"
    }
   ],
   "source": [
    "model.fit(x=X_train,y=y_train,epochs=600,validation_data=(X_test,y_test),callbacks=[early_stop])"
   ]
  },
  {
   "cell_type": "code",
   "execution_count": 55,
   "id": "3b85400b",
   "metadata": {},
   "outputs": [
    {
     "data": {
      "text/plain": [
       "<AxesSubplot:>"
      ]
     },
     "execution_count": 55,
     "metadata": {},
     "output_type": "execute_result"
    },
    {
     "data": {
      "image/png": "[encoded data removed]",
      "text/plain": [
       "<Figure size 432x288 with 1 Axes>"
      ]
     },
     "metadata": {
      "needs_background": "light"
     },
     "output_type": "display_data"
    }
   ],
   "source": [
    "losses = pd.DataFrame(model.history.history)\n",
    "losses.plot()"
   ]
  },
  {
   "cell_type": "code",
   "execution_count": 56,
   "id": "48e9c6c8",
   "metadata": {},
   "outputs": [],
   "source": [
    "predictions = (model.predict(X_test) > 0.5).astype(\"int32\")"
   ]
  },
  {
   "cell_type": "code",
   "execution_count": 57,
   "id": "35bd4dda",
   "metadata": {},
   "outputs": [
    {
     "name": "stdout",
     "output_type": "stream",
     "text": [
      "Accuracy Score: 0.8769230769230769\n",
      "\n",
      "\n",
      "              precision    recall  f1-score   support\n",
      "\n",
      "           0       0.95      0.81      0.88       176\n",
      "           1       0.81      0.95      0.88       149\n",
      "\n",
      "    accuracy                           0.88       325\n",
      "   macro avg       0.88      0.88      0.88       325\n",
      "weighted avg       0.89      0.88      0.88       325\n",
      "\n",
      "\n",
      "\n",
      "[[143  33]\n",
      " [  7 142]]\n"
     ]
    }
   ],
   "source": [
    "print('Accuracy Score:',accuracy_score(y_test,predictions))\n",
    "print('\\n')\n",
    "print(classification_report(y_test,predictions))\n",
    "print('\\n')\n",
    "print(confusion_matrix(y_test,predictions))"
   ]
  }
 ],
 "metadata": {
  "kernelspec": {
   "display_name": "Python 3",
   "language": "python",
   "name": "python3"
  },
  "language_info": {
   "codemirror_mode": {
    "name": "ipython",
    "version": 3
   },
   "file_extension": ".py",
   "mimetype": "text/x-python",
   "name": "python",
   "nbconvert_exporter": "python",
   "pygments_lexer": "ipython3",
   "version": "3.8.8"
  }
 },
 "nbformat": 4,
 "nbformat_minor": 5
}
