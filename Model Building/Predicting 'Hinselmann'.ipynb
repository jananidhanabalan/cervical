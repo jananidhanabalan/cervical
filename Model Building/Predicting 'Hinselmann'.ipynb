{
 "cells": [
  {
   "cell_type": "code",
   "execution_count": 1,
   "id": "8a9b0618",
   "metadata": {},
   "outputs": [],
   "source": [
    "import numpy as np\n",
    "import pandas as pd\n",
    "import matplotlib.pyplot as plt\n",
    "import seaborn as sns\n",
    "%matplotlib inline"
   ]
  },
  {
   "cell_type": "code",
   "execution_count": 2,
   "id": "54f911e8",
   "metadata": {},
   "outputs": [],
   "source": [
    "df = pd.read_csv('Clean Data_2.csv')"
   ]
  },
  {
   "cell_type": "code",
   "execution_count": 3,
   "id": "97c214f0",
   "metadata": {},
   "outputs": [
    {
     "data": {
      "text/html": [
       "<div>\n",
       "<style scoped>\n",
       "    .dataframe tbody tr th:only-of-type {\n",
       "        vertical-align: middle;\n",
       "    }\n",
       "\n",
       "    .dataframe tbody tr th {\n",
       "        vertical-align: top;\n",
       "    }\n",
       "\n",
       "    .dataframe thead th {\n",
       "        text-align: right;\n",
       "    }\n",
       "</style>\n",
       "<table border=\"1\" class=\"dataframe\">\n",
       "  <thead>\n",
       "    <tr style=\"text-align: right;\">\n",
       "      <th></th>\n",
       "      <th>Unnamed: 0</th>\n",
       "      <th>Age</th>\n",
       "      <th>Number of sexual partners</th>\n",
       "      <th>First sexual intercourse</th>\n",
       "      <th>Num of pregnancies</th>\n",
       "      <th>Smokes</th>\n",
       "      <th>Smokes (years)</th>\n",
       "      <th>Smokes (packs/year)</th>\n",
       "      <th>Hormonal Contraceptives</th>\n",
       "      <th>Hormonal Contraceptives (years)</th>\n",
       "      <th>...</th>\n",
       "      <th>STDs:HIV</th>\n",
       "      <th>STDs: Number of diagnosis</th>\n",
       "      <th>Dx:Cancer</th>\n",
       "      <th>Dx:CIN</th>\n",
       "      <th>Dx:HPV</th>\n",
       "      <th>Dx</th>\n",
       "      <th>Hinselmann</th>\n",
       "      <th>Schiller</th>\n",
       "      <th>Citology</th>\n",
       "      <th>Biopsy</th>\n",
       "    </tr>\n",
       "  </thead>\n",
       "  <tbody>\n",
       "    <tr>\n",
       "      <th>0</th>\n",
       "      <td>0</td>\n",
       "      <td>18</td>\n",
       "      <td>4.0</td>\n",
       "      <td>15.0</td>\n",
       "      <td>1.0</td>\n",
       "      <td>0.0</td>\n",
       "      <td>0.0</td>\n",
       "      <td>0.0</td>\n",
       "      <td>0.0</td>\n",
       "      <td>0.0</td>\n",
       "      <td>...</td>\n",
       "      <td>0.0</td>\n",
       "      <td>0</td>\n",
       "      <td>0</td>\n",
       "      <td>0</td>\n",
       "      <td>0</td>\n",
       "      <td>0</td>\n",
       "      <td>0</td>\n",
       "      <td>0</td>\n",
       "      <td>0</td>\n",
       "      <td>0</td>\n",
       "    </tr>\n",
       "    <tr>\n",
       "      <th>1</th>\n",
       "      <td>1</td>\n",
       "      <td>15</td>\n",
       "      <td>1.0</td>\n",
       "      <td>14.0</td>\n",
       "      <td>1.0</td>\n",
       "      <td>0.0</td>\n",
       "      <td>0.0</td>\n",
       "      <td>0.0</td>\n",
       "      <td>0.0</td>\n",
       "      <td>0.0</td>\n",
       "      <td>...</td>\n",
       "      <td>0.0</td>\n",
       "      <td>0</td>\n",
       "      <td>0</td>\n",
       "      <td>0</td>\n",
       "      <td>0</td>\n",
       "      <td>0</td>\n",
       "      <td>0</td>\n",
       "      <td>0</td>\n",
       "      <td>0</td>\n",
       "      <td>0</td>\n",
       "    </tr>\n",
       "    <tr>\n",
       "      <th>2</th>\n",
       "      <td>2</td>\n",
       "      <td>34</td>\n",
       "      <td>1.0</td>\n",
       "      <td>17.0</td>\n",
       "      <td>1.0</td>\n",
       "      <td>0.0</td>\n",
       "      <td>0.0</td>\n",
       "      <td>0.0</td>\n",
       "      <td>0.0</td>\n",
       "      <td>0.0</td>\n",
       "      <td>...</td>\n",
       "      <td>0.0</td>\n",
       "      <td>0</td>\n",
       "      <td>0</td>\n",
       "      <td>0</td>\n",
       "      <td>0</td>\n",
       "      <td>0</td>\n",
       "      <td>0</td>\n",
       "      <td>0</td>\n",
       "      <td>0</td>\n",
       "      <td>0</td>\n",
       "    </tr>\n",
       "    <tr>\n",
       "      <th>3</th>\n",
       "      <td>3</td>\n",
       "      <td>52</td>\n",
       "      <td>5.0</td>\n",
       "      <td>16.0</td>\n",
       "      <td>4.0</td>\n",
       "      <td>1.0</td>\n",
       "      <td>37.0</td>\n",
       "      <td>37.0</td>\n",
       "      <td>1.0</td>\n",
       "      <td>3.0</td>\n",
       "      <td>...</td>\n",
       "      <td>0.0</td>\n",
       "      <td>0</td>\n",
       "      <td>1</td>\n",
       "      <td>0</td>\n",
       "      <td>1</td>\n",
       "      <td>0</td>\n",
       "      <td>0</td>\n",
       "      <td>0</td>\n",
       "      <td>0</td>\n",
       "      <td>0</td>\n",
       "    </tr>\n",
       "    <tr>\n",
       "      <th>4</th>\n",
       "      <td>4</td>\n",
       "      <td>46</td>\n",
       "      <td>3.0</td>\n",
       "      <td>21.0</td>\n",
       "      <td>4.0</td>\n",
       "      <td>0.0</td>\n",
       "      <td>0.0</td>\n",
       "      <td>0.0</td>\n",
       "      <td>1.0</td>\n",
       "      <td>15.0</td>\n",
       "      <td>...</td>\n",
       "      <td>0.0</td>\n",
       "      <td>0</td>\n",
       "      <td>0</td>\n",
       "      <td>0</td>\n",
       "      <td>0</td>\n",
       "      <td>0</td>\n",
       "      <td>0</td>\n",
       "      <td>0</td>\n",
       "      <td>0</td>\n",
       "      <td>0</td>\n",
       "    </tr>\n",
       "  </tbody>\n",
       "</table>\n",
       "<p>5 rows × 26 columns</p>\n",
       "</div>"
      ],
      "text/plain": [
       "   Unnamed: 0  Age  Number of sexual partners  First sexual intercourse  \\\n",
       "0           0   18                        4.0                      15.0   \n",
       "1           1   15                        1.0                      14.0   \n",
       "2           2   34                        1.0                      17.0   \n",
       "3           3   52                        5.0                      16.0   \n",
       "4           4   46                        3.0                      21.0   \n",
       "\n",
       "   Num of pregnancies  Smokes  Smokes (years)  Smokes (packs/year)  \\\n",
       "0                 1.0     0.0             0.0                  0.0   \n",
       "1                 1.0     0.0             0.0                  0.0   \n",
       "2                 1.0     0.0             0.0                  0.0   \n",
       "3                 4.0     1.0            37.0                 37.0   \n",
       "4                 4.0     0.0             0.0                  0.0   \n",
       "\n",
       "   Hormonal Contraceptives  Hormonal Contraceptives (years)  ...  STDs:HIV  \\\n",
       "0                      0.0                              0.0  ...       0.0   \n",
       "1                      0.0                              0.0  ...       0.0   \n",
       "2                      0.0                              0.0  ...       0.0   \n",
       "3                      1.0                              3.0  ...       0.0   \n",
       "4                      1.0                             15.0  ...       0.0   \n",
       "\n",
       "   STDs: Number of diagnosis  Dx:Cancer  Dx:CIN  Dx:HPV  Dx  Hinselmann  \\\n",
       "0                          0          0       0       0   0           0   \n",
       "1                          0          0       0       0   0           0   \n",
       "2                          0          0       0       0   0           0   \n",
       "3                          0          1       0       1   0           0   \n",
       "4                          0          0       0       0   0           0   \n",
       "\n",
       "   Schiller  Citology  Biopsy  \n",
       "0         0         0       0  \n",
       "1         0         0       0  \n",
       "2         0         0       0  \n",
       "3         0         0       0  \n",
       "4         0         0       0  \n",
       "\n",
       "[5 rows x 26 columns]"
      ]
     },
     "execution_count": 3,
     "metadata": {},
     "output_type": "execute_result"
    }
   ],
   "source": [
    "df.head()"
   ]
  },
  {
   "cell_type": "code",
   "execution_count": 4,
   "id": "18a1d19c",
   "metadata": {},
   "outputs": [],
   "source": [
    "df.drop('Unnamed: 0',axis=1,inplace=True)"
   ]
  },
  {
   "cell_type": "code",
   "execution_count": 5,
   "id": "d2af2e17",
   "metadata": {},
   "outputs": [],
   "source": [
    "from sklearn.model_selection import train_test_split"
   ]
  },
  {
   "cell_type": "code",
   "execution_count": 6,
   "id": "7b99442d",
   "metadata": {},
   "outputs": [],
   "source": [
    "X = df.drop(['Hinselmann','Schiller','Citology','Biopsy'],axis=1)\n",
    "y = df['Biopsy']"
   ]
  },
  {
   "cell_type": "code",
   "execution_count": 7,
   "id": "e5a928ec",
   "metadata": {},
   "outputs": [],
   "source": [
    "X_train, X_test, y_train, y_test = train_test_split(X, y, test_size=0.33, random_state=101)"
   ]
  },
  {
   "cell_type": "markdown",
   "id": "62443e87",
   "metadata": {},
   "source": [
    "# Feature Selection"
   ]
  },
  {
   "cell_type": "code",
   "execution_count": 8,
   "id": "9e1491f7",
   "metadata": {},
   "outputs": [],
   "source": [
    "from sklearn.ensemble import ExtraTreesClassifier\n",
    "from sklearn.feature_selection import SelectFromModel"
   ]
  },
  {
   "cell_type": "code",
   "execution_count": 9,
   "id": "04639282",
   "metadata": {},
   "outputs": [
    {
     "data": {
      "text/plain": [
       "(856, 21)"
      ]
     },
     "execution_count": 9,
     "metadata": {},
     "output_type": "execute_result"
    }
   ],
   "source": [
    "X.shape"
   ]
  },
  {
   "cell_type": "code",
   "execution_count": 10,
   "id": "37f6704b",
   "metadata": {},
   "outputs": [
    {
     "data": {
      "text/plain": [
       "array([0.20673316, 0.11808906, 0.15327493, 0.1000751 , 0.01203462,\n",
       "       0.03645825, 0.03298424, 0.02666502, 0.15333423, 0.01561817,\n",
       "       0.03390465, 0.01054187, 0.01229594, 0.00676831, 0.00404044,\n",
       "       0.01262283, 0.009746  , 0.01421806, 0.01027068, 0.01629825,\n",
       "       0.01402618])"
      ]
     },
     "execution_count": 10,
     "metadata": {},
     "output_type": "execute_result"
    }
   ],
   "source": [
    "clf = ExtraTreesClassifier(n_estimators=50)\n",
    "clf = clf.fit(X, y)\n",
    "clf.feature_importances_"
   ]
  },
  {
   "cell_type": "code",
   "execution_count": 11,
   "id": "6eed616f",
   "metadata": {},
   "outputs": [],
   "source": [
    "feat_importances = pd.Series(clf.feature_importances_, index=X.columns)"
   ]
  },
  {
   "cell_type": "code",
   "execution_count": 12,
   "id": "57f62fe8",
   "metadata": {},
   "outputs": [
    {
     "data": {
      "text/plain": [
       "Age                                0.206733\n",
       "Number of sexual partners          0.118089\n",
       "First sexual intercourse           0.153275\n",
       "Num of pregnancies                 0.100075\n",
       "Smokes                             0.012035\n",
       "Smokes (years)                     0.036458\n",
       "Smokes (packs/year)                0.032984\n",
       "Hormonal Contraceptives            0.026665\n",
       "Hormonal Contraceptives (years)    0.153334\n",
       "IUD                                0.015618\n",
       "IUD (years)                        0.033905\n",
       "STDs                               0.010542\n",
       "STDs (number)                      0.012296\n",
       "STDs:condylomatosis                0.006768\n",
       "STDs:syphilis                      0.004040\n",
       "STDs:HIV                           0.012623\n",
       "STDs: Number of diagnosis          0.009746\n",
       "Dx:Cancer                          0.014218\n",
       "Dx:CIN                             0.010271\n",
       "Dx:HPV                             0.016298\n",
       "Dx                                 0.014026\n",
       "dtype: float64"
      ]
     },
     "execution_count": 12,
     "metadata": {},
     "output_type": "execute_result"
    }
   ],
   "source": [
    "feat_importances"
   ]
  },
  {
   "cell_type": "code",
   "execution_count": 13,
   "id": "978fde3e",
   "metadata": {},
   "outputs": [
    {
     "data": {
      "text/plain": [
       "0      15.0\n",
       "1      14.0\n",
       "2      17.0\n",
       "3      16.0\n",
       "4      21.0\n",
       "       ... \n",
       "851    18.0\n",
       "852    19.0\n",
       "853    17.0\n",
       "854    24.0\n",
       "855    20.0\n",
       "Name: First sexual intercourse, Length: 856, dtype: float64"
      ]
     },
     "execution_count": 13,
     "metadata": {},
     "output_type": "execute_result"
    }
   ],
   "source": [
    "df['First sexual intercourse']"
   ]
  },
  {
   "cell_type": "code",
   "execution_count": 14,
   "id": "f168d7ae",
   "metadata": {},
   "outputs": [
    {
     "data": {
      "text/plain": [
       "<AxesSubplot:>"
      ]
     },
     "execution_count": 14,
     "metadata": {},
     "output_type": "execute_result"
    },
    {
     "data": {
      "image/png": "[encoded data removed]",
      "text/plain": [
       "<Figure size 432x288 with 1 Axes>"
      ]
     },
     "metadata": {
      "needs_background": "light"
     },
     "output_type": "display_data"
    }
   ],
   "source": [
    "feat_importances.nlargest(10).plot(kind='barh')"
   ]
  },
  {
   "cell_type": "code",
   "execution_count": 15,
   "id": "3193fe0c",
   "metadata": {},
   "outputs": [],
   "source": [
    "model = SelectFromModel(clf, prefit=True)"
   ]
  },
  {
   "cell_type": "code",
   "execution_count": 16,
   "id": "215fef87",
   "metadata": {},
   "outputs": [],
   "source": [
    "X_new = model.transform(X)"
   ]
  },
  {
   "cell_type": "code",
   "execution_count": 17,
   "id": "1110999d",
   "metadata": {},
   "outputs": [
    {
     "data": {
      "text/plain": [
       "(856, 5)"
      ]
     },
     "execution_count": 17,
     "metadata": {},
     "output_type": "execute_result"
    }
   ],
   "source": [
    "X_new.shape"
   ]
  },
  {
   "cell_type": "code",
   "execution_count": 18,
   "id": "1dabd18e",
   "metadata": {},
   "outputs": [],
   "source": [
    "X_train, X_test, y_train, y_test = train_test_split(X_new, y, test_size=0.33, random_state=101)"
   ]
  },
  {
   "cell_type": "code",
   "execution_count": null,
   "id": "d168cac9",
   "metadata": {},
   "outputs": [],
   "source": []
  },
  {
   "cell_type": "code",
   "execution_count": null,
   "id": "f4eca477",
   "metadata": {},
   "outputs": [],
   "source": []
  },
  {
   "cell_type": "code",
   "execution_count": null,
   "id": "db919d80",
   "metadata": {},
   "outputs": [],
   "source": []
  },
  {
   "cell_type": "markdown",
   "id": "2d523660",
   "metadata": {},
   "source": [
    "# Building Decision Tree model before implementing Feature Selection"
   ]
  },
  {
   "cell_type": "code",
   "execution_count": 19,
   "id": "6f5275f4",
   "metadata": {},
   "outputs": [],
   "source": [
    "from sklearn.tree import DecisionTreeClassifier"
   ]
  },
  {
   "cell_type": "code",
   "execution_count": 20,
   "id": "4f0ae3ab",
   "metadata": {},
   "outputs": [],
   "source": [
    "model = DecisionTreeClassifier()"
   ]
  },
  {
   "cell_type": "code",
   "execution_count": 21,
   "id": "7f158ce1",
   "metadata": {},
   "outputs": [
    {
     "data": {
      "text/plain": [
       "DecisionTreeClassifier()"
      ]
     },
     "execution_count": 21,
     "metadata": {},
     "output_type": "execute_result"
    }
   ],
   "source": [
    "model.fit(X_train,y_train)"
   ]
  },
  {
   "cell_type": "code",
   "execution_count": 22,
   "id": "d4af7ed7",
   "metadata": {},
   "outputs": [],
   "source": [
    "predictions = model.predict(X_test)"
   ]
  },
  {
   "cell_type": "code",
   "execution_count": 23,
   "id": "89401682",
   "metadata": {},
   "outputs": [
    {
     "name": "stdout",
     "output_type": "stream",
     "text": [
      "Accuracy Score: 0.8798586572438163\n",
      "\n",
      "\n",
      "              precision    recall  f1-score   support\n",
      "\n",
      "           0       0.94      0.93      0.94       263\n",
      "           1       0.18      0.20      0.19        20\n",
      "\n",
      "    accuracy                           0.88       283\n",
      "   macro avg       0.56      0.57      0.56       283\n",
      "weighted avg       0.89      0.88      0.88       283\n",
      "\n",
      "\n",
      "\n",
      "[[245  18]\n",
      " [ 16   4]]\n"
     ]
    }
   ],
   "source": [
    "from sklearn.metrics import classification_report,confusion_matrix,accuracy_score\n",
    "\n",
    "print('Accuracy Score:',accuracy_score(y_test,predictions))\n",
    "print('\\n')\n",
    "print(classification_report(y_test,predictions))\n",
    "print('\\n')\n",
    "print(confusion_matrix(y_test,predictions))"
   ]
  },
  {
   "cell_type": "code",
   "execution_count": 24,
   "id": "8e34dde8",
   "metadata": {},
   "outputs": [],
   "source": [
    "from sklearn.neighbors import KNeighborsClassifier"
   ]
  },
  {
   "cell_type": "code",
   "execution_count": 25,
   "id": "b33c05be",
   "metadata": {},
   "outputs": [],
   "source": [
    "error_rate = []\n",
    "\n",
    "for i in range(1,40):\n",
    "    knn = KNeighborsClassifier(n_neighbors=i)\n",
    "    knn.fit(X_train,y_train)\n",
    "    pred_i = knn.predict(X_test)\n",
    "    error_rate.append(np.mean(pred_i != y_test))"
   ]
  },
  {
   "cell_type": "code",
   "execution_count": 26,
   "id": "4d4fe8dc",
   "metadata": {},
   "outputs": [
    {
     "data": {
      "text/plain": [
       "Text(0, 0.5, 'Error Rate')"
      ]
     },
     "execution_count": 26,
     "metadata": {},
     "output_type": "execute_result"
    },
    {
     "data": {
      "image/png": "[encoded data removed]",
      "text/plain": [
       "<Figure size 720x432 with 1 Axes>"
      ]
     },
     "metadata": {
      "needs_background": "light"
     },
     "output_type": "display_data"
    }
   ],
   "source": [
    "plt.figure(figsize=(10,6))\n",
    "plt.plot(range(1,40),error_rate,color='blue',linestyle='--',marker='o',markerfacecolor='red',markersize=10)\n",
    "plt.title('Error Rate vs K value')\n",
    "plt.xlabel('K')\n",
    "plt.ylabel('Error Rate')"
   ]
  },
  {
   "cell_type": "code",
   "execution_count": 27,
   "id": "a128ad2d",
   "metadata": {},
   "outputs": [],
   "source": [
    "knn = KNeighborsClassifier(n_neighbors=2)\n",
    "knn.fit(X_train,y_train)\n",
    "predictions = knn.predict(X_test)"
   ]
  },
  {
   "cell_type": "code",
   "execution_count": 28,
   "id": "6db3d595",
   "metadata": {},
   "outputs": [
    {
     "name": "stdout",
     "output_type": "stream",
     "text": [
      "Accuracy Score: 0.9293286219081273\n",
      "\n",
      "\n",
      "              precision    recall  f1-score   support\n",
      "\n",
      "           0       0.93      1.00      0.96       263\n",
      "           1       0.00      0.00      0.00        20\n",
      "\n",
      "    accuracy                           0.93       283\n",
      "   macro avg       0.46      0.50      0.48       283\n",
      "weighted avg       0.86      0.93      0.90       283\n",
      "\n",
      "\n",
      "\n",
      "[[263   0]\n",
      " [ 20   0]]\n"
     ]
    },
    {
     "name": "stderr",
     "output_type": "stream",
     "text": [
      "C:\\Users\\ngoa\\Anaconda3\\lib\\site-packages\\sklearn\\metrics\\_classification.py:1245: UndefinedMetricWarning: Precision and F-score are ill-defined and being set to 0.0 in labels with no predicted samples. Use `zero_division` parameter to control this behavior.\n",
      "  _warn_prf(average, modifier, msg_start, len(result))\n",
      "C:\\Users\\ngoa\\Anaconda3\\lib\\site-packages\\sklearn\\metrics\\_classification.py:1245: UndefinedMetricWarning: Precision and F-score are ill-defined and being set to 0.0 in labels with no predicted samples. Use `zero_division` parameter to control this behavior.\n",
      "  _warn_prf(average, modifier, msg_start, len(result))\n",
      "C:\\Users\\ngoa\\Anaconda3\\lib\\site-packages\\sklearn\\metrics\\_classification.py:1245: UndefinedMetricWarning: Precision and F-score are ill-defined and being set to 0.0 in labels with no predicted samples. Use `zero_division` parameter to control this behavior.\n",
      "  _warn_prf(average, modifier, msg_start, len(result))\n"
     ]
    }
   ],
   "source": [
    "print('Accuracy Score:',accuracy_score(y_test,predictions))\n",
    "print('\\n')\n",
    "print(classification_report(y_test,predictions))\n",
    "print('\\n')\n",
    "print(confusion_matrix(y_test,predictions))"
   ]
  },
  {
   "cell_type": "markdown",
   "id": "d63da8b2",
   "metadata": {},
   "source": [
    "# Univariate"
   ]
  },
  {
   "cell_type": "code",
   "execution_count": 29,
   "id": "11b81e7b",
   "metadata": {},
   "outputs": [],
   "source": [
    "from sklearn.feature_selection import SelectKBest\n",
    "from sklearn.feature_selection import chi2"
   ]
  },
  {
   "cell_type": "code",
   "execution_count": 30,
   "id": "4ca5fb1f",
   "metadata": {},
   "outputs": [],
   "source": [
    "bestfeatures = SelectKBest(score_func=chi2, k=10)"
   ]
  },
  {
   "cell_type": "code",
   "execution_count": 31,
   "id": "9f4acfb3",
   "metadata": {},
   "outputs": [],
   "source": [
    "fit = bestfeatures.fit(X,y)"
   ]
  },
  {
   "cell_type": "code",
   "execution_count": 32,
   "id": "a1cfbe15",
   "metadata": {},
   "outputs": [],
   "source": [
    "dfscores = pd.DataFrame(fit.scores_)\n",
    "dfcolumns = pd.DataFrame(X.columns)"
   ]
  },
  {
   "cell_type": "code",
   "execution_count": 33,
   "id": "5b821528",
   "metadata": {},
   "outputs": [],
   "source": [
    "featureScores = pd.concat([dfcolumns,dfscores],axis=1)"
   ]
  },
  {
   "cell_type": "code",
   "execution_count": 34,
   "id": "363d3bd7",
   "metadata": {},
   "outputs": [],
   "source": [
    "featureScores.columns = ['Specs','Score']"
   ]
  },
  {
   "cell_type": "code",
   "execution_count": 35,
   "id": "9b7312d6",
   "metadata": {},
   "outputs": [
    {
     "name": "stdout",
     "output_type": "stream",
     "text": [
      "                              Specs      Score\n",
      "5                    Smokes (years)  44.465395\n",
      "8   Hormonal Contraceptives (years)  26.425415\n",
      "19                           Dx:HPV  21.676586\n",
      "17                        Dx:Cancer  21.676586\n",
      "20                               Dx  20.644255\n",
      "12                    STDs (number)  17.034090\n",
      "10                      IUD (years)  16.726887\n",
      "15                         STDs:HIV  13.649731\n",
      "18                           Dx:CIN  10.838293\n",
      "11                             STDs  10.413651\n",
      "16        STDs: Number of diagnosis   8.766596\n",
      "0                               Age   7.105021\n",
      "13              STDs:condylomatosis   6.944348\n",
      "6               Smokes (packs/year)   5.956898\n",
      "9                               IUD   4.515031\n",
      "14                    STDs:syphilis   1.235955\n",
      "3                Num of pregnancies   1.184499\n",
      "4                            Smokes   0.636779\n",
      "1         Number of sexual partners   0.041626\n",
      "2          First sexual intercourse   0.016008\n",
      "7           Hormonal Contraceptives   0.000895\n"
     ]
    }
   ],
   "source": [
    "print(featureScores.sort_values(ascending=False,by='Score'))"
   ]
  },
  {
   "cell_type": "code",
   "execution_count": 36,
   "id": "64fdc5c9",
   "metadata": {},
   "outputs": [
    {
     "data": {
      "text/plain": [
       "Text(0, 0.5, 'Accuracy Score')"
      ]
     },
     "execution_count": 36,
     "metadata": {},
     "output_type": "execute_result"
    },
    {
     "data": {
      "image/png": "[encoded data removed]",
      "text/plain": [
       "<Figure size 720x432 with 1 Axes>"
      ]
     },
     "metadata": {
      "needs_background": "light"
     },
     "output_type": "display_data"
    }
   ],
   "source": [
    "accuracy = []\n",
    "for i in range(1,20):\n",
    "    X_new = SelectKBest(chi2, k=i).fit_transform(X, y)\n",
    "    X_train, X_test, y_train, y_test = train_test_split(X_new, y, test_size=0.33, random_state=101)\n",
    "    new_model = DecisionTreeClassifier()\n",
    "    new_model.fit(X_train,y_train)\n",
    "    predictions = new_model.predict(X_test)\n",
    "    accuracy.append(accuracy_score(y_test,predictions))\n",
    "plt.figure(figsize=(10,6))\n",
    "plt.plot(range(1,20),accuracy,color='blue',linestyle='--',marker='o',markerfacecolor='red',markersize=10)\n",
    "plt.title('Accuracy Score vs K value')\n",
    "plt.xlabel('K')\n",
    "plt.ylabel('Accuracy Score')"
   ]
  },
  {
   "cell_type": "code",
   "execution_count": 37,
   "id": "1aee103d",
   "metadata": {},
   "outputs": [],
   "source": [
    "X_new = SelectKBest(chi2, k=6).fit_transform(X, y)"
   ]
  },
  {
   "cell_type": "code",
   "execution_count": 38,
   "id": "8b68587e",
   "metadata": {},
   "outputs": [
    {
     "data": {
      "text/plain": [
       "(856, 6)"
      ]
     },
     "execution_count": 38,
     "metadata": {},
     "output_type": "execute_result"
    }
   ],
   "source": [
    "X_new.shape"
   ]
  },
  {
   "cell_type": "code",
   "execution_count": 39,
   "id": "17abfbd2",
   "metadata": {},
   "outputs": [],
   "source": [
    "X_train, X_test, y_train, y_test = train_test_split(X_new, y, test_size=0.33, random_state=101)\n",
    "new_model = DecisionTreeClassifier()\n",
    "new_model.fit(X_train,y_train)\n",
    "predictions = new_model.predict(X_test)"
   ]
  },
  {
   "cell_type": "code",
   "execution_count": 40,
   "id": "1c408153",
   "metadata": {},
   "outputs": [
    {
     "name": "stdout",
     "output_type": "stream",
     "text": [
      "Accuracy Score: 0.9257950530035336\n",
      "\n",
      "\n",
      "              precision    recall  f1-score   support\n",
      "\n",
      "           0       0.94      0.99      0.96       263\n",
      "           1       0.40      0.10      0.16        20\n",
      "\n",
      "    accuracy                           0.93       283\n",
      "   macro avg       0.67      0.54      0.56       283\n",
      "weighted avg       0.90      0.93      0.90       283\n",
      "\n",
      "\n",
      "\n",
      "[[260   3]\n",
      " [ 18   2]]\n"
     ]
    }
   ],
   "source": [
    "print('Accuracy Score:',accuracy_score(y_test,predictions))\n",
    "print('\\n')\n",
    "print(classification_report(y_test,predictions))\n",
    "print('\\n')\n",
    "print(confusion_matrix(y_test,predictions))"
   ]
  },
  {
   "cell_type": "code",
   "execution_count": 41,
   "id": "64e9b377",
   "metadata": {},
   "outputs": [],
   "source": [
    "error_rate = []\n",
    "\n",
    "for i in range(1,40):\n",
    "    knn = KNeighborsClassifier(n_neighbors=i)\n",
    "    knn.fit(X_train,y_train)\n",
    "    pred_i = knn.predict(X_test)\n",
    "    error_rate.append(np.mean(pred_i != y_test))"
   ]
  },
  {
   "cell_type": "code",
   "execution_count": 42,
   "id": "ede160d9",
   "metadata": {},
   "outputs": [
    {
     "data": {
      "text/plain": [
       "Text(0, 0.5, 'Error Rate')"
      ]
     },
     "execution_count": 42,
     "metadata": {},
     "output_type": "execute_result"
    },
    {
     "data": {
      "image/png": "[encoded data removed]",
      "text/plain": [
       "<Figure size 720x432 with 1 Axes>"
      ]
     },
     "metadata": {
      "needs_background": "light"
     },
     "output_type": "display_data"
    }
   ],
   "source": [
    "plt.figure(figsize=(10,6))\n",
    "plt.plot(range(1,40),error_rate,color='blue',linestyle='--',marker='o',markerfacecolor='red',markersize=10)\n",
    "plt.title('Error Rate vs K value')\n",
    "plt.xlabel('K')\n",
    "plt.ylabel('Error Rate')"
   ]
  },
  {
   "cell_type": "code",
   "execution_count": 43,
   "id": "0dc8643f",
   "metadata": {},
   "outputs": [],
   "source": [
    "knn = KNeighborsClassifier(n_neighbors=6)\n",
    "knn.fit(X_train,y_train)\n",
    "predictions = knn.predict(X_test)"
   ]
  },
  {
   "cell_type": "code",
   "execution_count": 44,
   "id": "efdeb1ac",
   "metadata": {},
   "outputs": [
    {
     "name": "stdout",
     "output_type": "stream",
     "text": [
      "Accuracy Score: 0.9293286219081273\n",
      "\n",
      "\n",
      "              precision    recall  f1-score   support\n",
      "\n",
      "           0       0.93      1.00      0.96       263\n",
      "           1       0.00      0.00      0.00        20\n",
      "\n",
      "    accuracy                           0.93       283\n",
      "   macro avg       0.46      0.50      0.48       283\n",
      "weighted avg       0.86      0.93      0.90       283\n",
      "\n",
      "\n",
      "\n",
      "[[263   0]\n",
      " [ 20   0]]\n"
     ]
    },
    {
     "name": "stderr",
     "output_type": "stream",
     "text": [
      "C:\\Users\\ngoa\\Anaconda3\\lib\\site-packages\\sklearn\\metrics\\_classification.py:1245: UndefinedMetricWarning: Precision and F-score are ill-defined and being set to 0.0 in labels with no predicted samples. Use `zero_division` parameter to control this behavior.\n",
      "  _warn_prf(average, modifier, msg_start, len(result))\n",
      "C:\\Users\\ngoa\\Anaconda3\\lib\\site-packages\\sklearn\\metrics\\_classification.py:1245: UndefinedMetricWarning: Precision and F-score are ill-defined and being set to 0.0 in labels with no predicted samples. Use `zero_division` parameter to control this behavior.\n",
      "  _warn_prf(average, modifier, msg_start, len(result))\n",
      "C:\\Users\\ngoa\\Anaconda3\\lib\\site-packages\\sklearn\\metrics\\_classification.py:1245: UndefinedMetricWarning: Precision and F-score are ill-defined and being set to 0.0 in labels with no predicted samples. Use `zero_division` parameter to control this behavior.\n",
      "  _warn_prf(average, modifier, msg_start, len(result))\n"
     ]
    }
   ],
   "source": [
    "print('Accuracy Score:',accuracy_score(y_test,predictions))\n",
    "print('\\n')\n",
    "print(classification_report(y_test,predictions))\n",
    "print('\\n')\n",
    "print(confusion_matrix(y_test,predictions))"
   ]
  },
  {
   "cell_type": "code",
   "execution_count": 45,
   "id": "6b25a4f6",
   "metadata": {},
   "outputs": [],
   "source": [
    "from sklearn.ensemble import RandomForestClassifier"
   ]
  },
  {
   "cell_type": "code",
   "execution_count": 46,
   "id": "3ef89154",
   "metadata": {},
   "outputs": [],
   "source": [
    "new_model = RandomForestClassifier()"
   ]
  },
  {
   "cell_type": "code",
   "execution_count": 47,
   "id": "31bca693",
   "metadata": {},
   "outputs": [],
   "source": [
    "X_train, X_test, y_train, y_test = train_test_split(X_new, y, test_size=0.33, random_state=101)\n",
    "new_model.fit(X_train,y_train)\n",
    "predictions = new_model.predict(X_test)"
   ]
  },
  {
   "cell_type": "code",
   "execution_count": 48,
   "id": "e5162ac7",
   "metadata": {},
   "outputs": [
    {
     "name": "stdout",
     "output_type": "stream",
     "text": [
      "Accuracy Score: 0.9187279151943463\n",
      "\n",
      "\n",
      "              precision    recall  f1-score   support\n",
      "\n",
      "           0       0.93      0.98      0.96       263\n",
      "           1       0.20      0.05      0.08        20\n",
      "\n",
      "    accuracy                           0.92       283\n",
      "   macro avg       0.57      0.52      0.52       283\n",
      "weighted avg       0.88      0.92      0.90       283\n",
      "\n",
      "\n",
      "\n",
      "[[259   4]\n",
      " [ 19   1]]\n"
     ]
    }
   ],
   "source": [
    "print('Accuracy Score:',accuracy_score(y_test,predictions))\n",
    "print('\\n')\n",
    "print(classification_report(y_test,predictions))\n",
    "print('\\n')\n",
    "print(confusion_matrix(y_test,predictions))"
   ]
  },
  {
   "cell_type": "code",
   "execution_count": 49,
   "id": "bd306e75",
   "metadata": {},
   "outputs": [
    {
     "data": {
      "text/plain": [
       "(856, 6)"
      ]
     },
     "execution_count": 49,
     "metadata": {},
     "output_type": "execute_result"
    }
   ],
   "source": [
    "X_new.shape"
   ]
  },
  {
   "cell_type": "code",
   "execution_count": 50,
   "id": "0137e1b4",
   "metadata": {},
   "outputs": [],
   "source": [
    "import tensorflow as tf\n",
    "from tensorflow.keras.models import Sequential\n",
    "from tensorflow.keras.layers import Dense, Activation, Dropout\n",
    "from tensorflow.keras.callbacks import EarlyStopping,TensorBoard"
   ]
  },
  {
   "cell_type": "code",
   "execution_count": 51,
   "id": "67b70c8c",
   "metadata": {},
   "outputs": [
    {
     "name": "stdout",
     "output_type": "stream",
     "text": [
      "Epoch 1/600\n",
      "18/18 [==============================] - 1s 13ms/step - loss: 0.7508 - val_loss: 0.6256\n",
      "Epoch 2/600\n",
      "18/18 [==============================] - 0s 3ms/step - loss: 0.7088 - val_loss: 0.5958\n",
      "Epoch 3/600\n",
      "18/18 [==============================] - 0s 3ms/step - loss: 0.6501 - val_loss: 0.5727\n",
      "Epoch 4/600\n",
      "18/18 [==============================] - 0s 3ms/step - loss: 0.7123 - val_loss: 0.5532\n",
      "Epoch 5/600\n",
      "18/18 [==============================] - 0s 3ms/step - loss: 0.6011 - val_loss: 0.5340\n",
      "Epoch 6/600\n",
      "18/18 [==============================] - 0s 3ms/step - loss: 0.6314 - val_loss: 0.5169\n",
      "Epoch 7/600\n",
      "18/18 [==============================] - 0s 3ms/step - loss: 0.6335 - val_loss: 0.5023\n",
      "Epoch 8/600\n",
      "18/18 [==============================] - 0s 3ms/step - loss: 0.5410 - val_loss: 0.4874\n",
      "Epoch 9/600\n",
      "18/18 [==============================] - 0s 3ms/step - loss: 0.6225 - val_loss: 0.4723\n",
      "Epoch 10/600\n",
      "18/18 [==============================] - 0s 4ms/step - loss: 0.5172 - val_loss: 0.4573\n",
      "Epoch 11/600\n",
      "18/18 [==============================] - 0s 3ms/step - loss: 0.5320 - val_loss: 0.4450\n",
      "Epoch 12/600\n",
      "18/18 [==============================] - 0s 3ms/step - loss: 0.5271 - val_loss: 0.4347\n",
      "Epoch 13/600\n",
      "18/18 [==============================] - 0s 4ms/step - loss: 0.5125 - val_loss: 0.4253\n",
      "Epoch 14/600\n",
      "18/18 [==============================] - 0s 3ms/step - loss: 0.4491 - val_loss: 0.4162\n",
      "Epoch 15/600\n",
      "18/18 [==============================] - 0s 4ms/step - loss: 0.4568 - val_loss: 0.4068\n",
      "Epoch 16/600\n",
      "18/18 [==============================] - 0s 4ms/step - loss: 0.4713 - val_loss: 0.3988\n",
      "Epoch 17/600\n",
      "18/18 [==============================] - 0s 3ms/step - loss: 0.5009 - val_loss: 0.3914\n",
      "Epoch 18/600\n",
      "18/18 [==============================] - 0s 3ms/step - loss: 0.4775 - val_loss: 0.3845\n",
      "Epoch 19/600\n",
      "18/18 [==============================] - 0s 3ms/step - loss: 0.4848 - val_loss: 0.3771\n",
      "Epoch 20/600\n",
      "18/18 [==============================] - 0s 3ms/step - loss: 0.3871 - val_loss: 0.3691\n",
      "Epoch 21/600\n",
      "18/18 [==============================] - 0s 3ms/step - loss: 0.4250 - val_loss: 0.3627\n",
      "Epoch 22/600\n",
      "18/18 [==============================] - 0s 3ms/step - loss: 0.4503 - val_loss: 0.3584\n",
      "Epoch 23/600\n",
      "18/18 [==============================] - 0s 3ms/step - loss: 0.4222 - val_loss: 0.3523\n",
      "Epoch 24/600\n",
      "18/18 [==============================] - 0s 3ms/step - loss: 0.3867 - val_loss: 0.3469\n",
      "Epoch 25/600\n",
      "18/18 [==============================] - 0s 3ms/step - loss: 0.4474 - val_loss: 0.3430\n",
      "Epoch 26/600\n",
      "18/18 [==============================] - 0s 4ms/step - loss: 0.3669 - val_loss: 0.3397\n",
      "Epoch 27/600\n",
      "18/18 [==============================] - 0s 3ms/step - loss: 0.3873 - val_loss: 0.3359\n",
      "Epoch 28/600\n",
      "18/18 [==============================] - 0s 3ms/step - loss: 0.3770 - val_loss: 0.3326\n",
      "Epoch 29/600\n",
      "18/18 [==============================] - 0s 3ms/step - loss: 0.3793 - val_loss: 0.3297\n",
      "Epoch 30/600\n",
      "18/18 [==============================] - 0s 3ms/step - loss: 0.3738 - val_loss: 0.3272\n",
      "Epoch 31/600\n",
      "18/18 [==============================] - 0s 3ms/step - loss: 0.3727 - val_loss: 0.3246\n",
      "Epoch 32/600\n",
      "18/18 [==============================] - 0s 3ms/step - loss: 0.3678 - val_loss: 0.3222\n",
      "Epoch 33/600\n",
      "18/18 [==============================] - 0s 4ms/step - loss: 0.3816 - val_loss: 0.3200\n",
      "Epoch 34/600\n",
      "18/18 [==============================] - 0s 4ms/step - loss: 0.3917 - val_loss: 0.3173\n",
      "Epoch 35/600\n",
      "18/18 [==============================] - 0s 5ms/step - loss: 0.3249 - val_loss: 0.3145\n",
      "Epoch 36/600\n",
      "18/18 [==============================] - 0s 4ms/step - loss: 0.3482 - val_loss: 0.3119\n",
      "Epoch 37/600\n",
      "18/18 [==============================] - 0s 4ms/step - loss: 0.3492 - val_loss: 0.3092\n",
      "Epoch 38/600\n",
      "18/18 [==============================] - 0s 3ms/step - loss: 0.3370 - val_loss: 0.3071\n",
      "Epoch 39/600\n",
      "18/18 [==============================] - 0s 3ms/step - loss: 0.3384 - val_loss: 0.3048\n",
      "Epoch 40/600\n",
      "18/18 [==============================] - 0s 3ms/step - loss: 0.3758 - val_loss: 0.3027\n",
      "Epoch 41/600\n",
      "18/18 [==============================] - 0s 4ms/step - loss: 0.3617 - val_loss: 0.3008\n",
      "Epoch 42/600\n",
      "18/18 [==============================] - 0s 4ms/step - loss: 0.3115 - val_loss: 0.2991\n",
      "Epoch 43/600\n",
      "18/18 [==============================] - 0s 4ms/step - loss: 0.3427 - val_loss: 0.2976\n",
      "Epoch 44/600\n",
      "18/18 [==============================] - 0s 3ms/step - loss: 0.3861 - val_loss: 0.2959\n",
      "Epoch 45/600\n",
      "18/18 [==============================] - 0s 3ms/step - loss: 0.3279 - val_loss: 0.2948\n",
      "Epoch 46/600\n",
      "18/18 [==============================] - 0s 3ms/step - loss: 0.3535 - val_loss: 0.2934\n",
      "Epoch 47/600\n",
      "18/18 [==============================] - 0s 3ms/step - loss: 0.3381 - val_loss: 0.2920\n",
      "Epoch 48/600\n",
      "18/18 [==============================] - 0s 4ms/step - loss: 0.3474 - val_loss: 0.2904\n",
      "Epoch 49/600\n",
      "18/18 [==============================] - 0s 4ms/step - loss: 0.3094 - val_loss: 0.2891\n",
      "Epoch 50/600\n",
      "18/18 [==============================] - 0s 3ms/step - loss: 0.2963 - val_loss: 0.2875\n",
      "Epoch 51/600\n",
      "18/18 [==============================] - 0s 3ms/step - loss: 0.2989 - val_loss: 0.2860\n",
      "Epoch 52/600\n",
      "18/18 [==============================] - 0s 3ms/step - loss: 0.2999 - val_loss: 0.2847\n",
      "Epoch 53/600\n",
      "18/18 [==============================] - 0s 3ms/step - loss: 0.3184 - val_loss: 0.2834\n",
      "Epoch 54/600\n",
      "18/18 [==============================] - 0s 3ms/step - loss: 0.2947 - val_loss: 0.2825\n",
      "Epoch 55/600\n",
      "18/18 [==============================] - 0s 3ms/step - loss: 0.3272 - val_loss: 0.2811\n",
      "Epoch 56/600\n",
      "18/18 [==============================] - 0s 3ms/step - loss: 0.3113 - val_loss: 0.2801\n",
      "Epoch 57/600\n",
      "18/18 [==============================] - 0s 3ms/step - loss: 0.3134 - val_loss: 0.2788\n",
      "Epoch 58/600\n",
      "18/18 [==============================] - 0s 2ms/step - loss: 0.3222 - val_loss: 0.2779\n",
      "Epoch 59/600\n",
      "18/18 [==============================] - 0s 3ms/step - loss: 0.3084 - val_loss: 0.2771\n",
      "Epoch 60/600\n",
      "18/18 [==============================] - 0s 3ms/step - loss: 0.3062 - val_loss: 0.2763\n",
      "Epoch 61/600\n",
      "18/18 [==============================] - 0s 3ms/step - loss: 0.3231 - val_loss: 0.2753\n",
      "Epoch 62/600\n",
      "18/18 [==============================] - 0s 3ms/step - loss: 0.3127 - val_loss: 0.2746\n",
      "Epoch 63/600\n",
      "18/18 [==============================] - 0s 4ms/step - loss: 0.2950 - val_loss: 0.2739\n",
      "Epoch 64/600\n",
      "18/18 [==============================] - 0s 4ms/step - loss: 0.2963 - val_loss: 0.2731\n",
      "Epoch 65/600\n",
      "18/18 [==============================] - 0s 4ms/step - loss: 0.2996 - val_loss: 0.2719\n",
      "Epoch 66/600\n",
      "18/18 [==============================] - 0s 4ms/step - loss: 0.2974 - val_loss: 0.2713\n",
      "Epoch 67/600\n",
      "18/18 [==============================] - 0s 3ms/step - loss: 0.2878 - val_loss: 0.2705\n",
      "Epoch 68/600\n",
      "18/18 [==============================] - 0s 3ms/step - loss: 0.2957 - val_loss: 0.2695\n",
      "Epoch 69/600\n",
      "18/18 [==============================] - 0s 3ms/step - loss: 0.3074 - val_loss: 0.2692\n",
      "Epoch 70/600\n",
      "18/18 [==============================] - 0s 3ms/step - loss: 0.2940 - val_loss: 0.2688\n",
      "Epoch 71/600\n",
      "18/18 [==============================] - 0s 3ms/step - loss: 0.2916 - val_loss: 0.2681\n",
      "Epoch 72/600\n",
      "18/18 [==============================] - 0s 3ms/step - loss: 0.2700 - val_loss: 0.2672\n",
      "Epoch 73/600\n",
      "18/18 [==============================] - 0s 2ms/step - loss: 0.3015 - val_loss: 0.2666\n",
      "Epoch 74/600\n",
      "18/18 [==============================] - 0s 3ms/step - loss: 0.2723 - val_loss: 0.2662\n",
      "Epoch 75/600\n",
      "18/18 [==============================] - 0s 3ms/step - loss: 0.2774 - val_loss: 0.2654\n",
      "Epoch 76/600\n",
      "18/18 [==============================] - 0s 3ms/step - loss: 0.2761 - val_loss: 0.2648\n",
      "Epoch 77/600\n",
      "18/18 [==============================] - 0s 3ms/step - loss: 0.2921 - val_loss: 0.2642\n",
      "Epoch 78/600\n",
      "18/18 [==============================] - 0s 3ms/step - loss: 0.2956 - val_loss: 0.2634\n",
      "Epoch 79/600\n",
      "18/18 [==============================] - 0s 3ms/step - loss: 0.2598 - val_loss: 0.2625\n",
      "Epoch 80/600\n",
      "18/18 [==============================] - 0s 3ms/step - loss: 0.2801 - val_loss: 0.2621\n",
      "Epoch 81/600\n",
      "18/18 [==============================] - 0s 4ms/step - loss: 0.2725 - val_loss: 0.2613\n",
      "Epoch 82/600\n",
      "18/18 [==============================] - 0s 3ms/step - loss: 0.2792 - val_loss: 0.2607\n",
      "Epoch 83/600\n"
     ]
    },
    {
     "name": "stdout",
     "output_type": "stream",
     "text": [
      "18/18 [==============================] - 0s 4ms/step - loss: 0.2650 - val_loss: 0.2602\n",
      "Epoch 84/600\n",
      "18/18 [==============================] - 0s 3ms/step - loss: 0.2818 - val_loss: 0.2599\n",
      "Epoch 85/600\n",
      "18/18 [==============================] - 0s 3ms/step - loss: 0.2693 - val_loss: 0.2592\n",
      "Epoch 86/600\n",
      "18/18 [==============================] - 0s 2ms/step - loss: 0.2787 - val_loss: 0.2588\n",
      "Epoch 87/600\n",
      "18/18 [==============================] - 0s 3ms/step - loss: 0.2907 - val_loss: 0.2584\n",
      "Epoch 88/600\n",
      "18/18 [==============================] - 0s 3ms/step - loss: 0.2710 - val_loss: 0.2579\n",
      "Epoch 89/600\n",
      "18/18 [==============================] - 0s 3ms/step - loss: 0.2711 - val_loss: 0.2575\n",
      "Epoch 90/600\n",
      "18/18 [==============================] - 0s 3ms/step - loss: 0.2641 - val_loss: 0.2569\n",
      "Epoch 91/600\n",
      "18/18 [==============================] - 0s 3ms/step - loss: 0.2781 - val_loss: 0.2566\n",
      "Epoch 92/600\n",
      "18/18 [==============================] - 0s 2ms/step - loss: 0.2650 - val_loss: 0.2560\n",
      "Epoch 93/600\n",
      "18/18 [==============================] - 0s 3ms/step - loss: 0.2639 - val_loss: 0.2558\n",
      "Epoch 94/600\n",
      "18/18 [==============================] - 0s 2ms/step - loss: 0.2764 - val_loss: 0.2555\n",
      "Epoch 95/600\n",
      "18/18 [==============================] - 0s 3ms/step - loss: 0.2611 - val_loss: 0.2552\n",
      "Epoch 96/600\n",
      "18/18 [==============================] - 0s 4ms/step - loss: 0.2647 - val_loss: 0.2550\n",
      "Epoch 97/600\n",
      "18/18 [==============================] - 0s 4ms/step - loss: 0.2543 - val_loss: 0.2547\n",
      "Epoch 98/600\n",
      "18/18 [==============================] - 0s 4ms/step - loss: 0.2818 - val_loss: 0.2545\n",
      "Epoch 99/600\n",
      "18/18 [==============================] - 0s 3ms/step - loss: 0.2717 - val_loss: 0.2545\n",
      "Epoch 100/600\n",
      "18/18 [==============================] - 0s 3ms/step - loss: 0.2479 - val_loss: 0.2540\n",
      "Epoch 101/600\n",
      "18/18 [==============================] - 0s 3ms/step - loss: 0.2883 - val_loss: 0.2539\n",
      "Epoch 102/600\n",
      "18/18 [==============================] - 0s 3ms/step - loss: 0.2635 - val_loss: 0.2536\n",
      "Epoch 103/600\n",
      "18/18 [==============================] - 0s 2ms/step - loss: 0.2617 - val_loss: 0.2534\n",
      "Epoch 104/600\n",
      "18/18 [==============================] - 0s 3ms/step - loss: 0.2749 - val_loss: 0.2533\n",
      "Epoch 105/600\n",
      "18/18 [==============================] - 0s 3ms/step - loss: 0.2536 - val_loss: 0.2527\n",
      "Epoch 106/600\n",
      "18/18 [==============================] - 0s 4ms/step - loss: 0.2688 - val_loss: 0.2524\n",
      "Epoch 107/600\n",
      "18/18 [==============================] - 0s 3ms/step - loss: 0.2708 - val_loss: 0.2525\n",
      "Epoch 108/600\n",
      "18/18 [==============================] - 0s 3ms/step - loss: 0.2685 - val_loss: 0.2524\n",
      "Epoch 109/600\n",
      "18/18 [==============================] - 0s 3ms/step - loss: 0.2465 - val_loss: 0.2520\n",
      "Epoch 110/600\n",
      "18/18 [==============================] - 0s 3ms/step - loss: 0.2467 - val_loss: 0.2516\n",
      "Epoch 111/600\n",
      "18/18 [==============================] - 0s 3ms/step - loss: 0.2740 - val_loss: 0.2515\n",
      "Epoch 112/600\n",
      "18/18 [==============================] - 0s 4ms/step - loss: 0.2696 - val_loss: 0.2516\n",
      "Epoch 113/600\n",
      "18/18 [==============================] - 0s 3ms/step - loss: 0.2500 - val_loss: 0.2513\n",
      "Epoch 114/600\n",
      "18/18 [==============================] - 0s 3ms/step - loss: 0.2708 - val_loss: 0.2512\n",
      "Epoch 115/600\n",
      "18/18 [==============================] - 0s 3ms/step - loss: 0.2622 - val_loss: 0.2510\n",
      "Epoch 116/600\n",
      "18/18 [==============================] - 0s 3ms/step - loss: 0.2511 - val_loss: 0.2507\n",
      "Epoch 117/600\n",
      "18/18 [==============================] - 0s 2ms/step - loss: 0.2696 - val_loss: 0.2506\n",
      "Epoch 118/600\n",
      "18/18 [==============================] - 0s 3ms/step - loss: 0.2755 - val_loss: 0.2508\n",
      "Epoch 119/600\n",
      "18/18 [==============================] - 0s 3ms/step - loss: 0.2561 - val_loss: 0.2506\n",
      "Epoch 120/600\n",
      "18/18 [==============================] - 0s 3ms/step - loss: 0.2640 - val_loss: 0.2505\n",
      "Epoch 121/600\n",
      "18/18 [==============================] - 0s 3ms/step - loss: 0.2526 - val_loss: 0.2505\n",
      "Epoch 122/600\n",
      "18/18 [==============================] - 0s 3ms/step - loss: 0.2449 - val_loss: 0.2502\n",
      "Epoch 123/600\n",
      "18/18 [==============================] - 0s 3ms/step - loss: 0.2462 - val_loss: 0.2498\n",
      "Epoch 124/600\n",
      "18/18 [==============================] - 0s 2ms/step - loss: 0.2644 - val_loss: 0.2494\n",
      "Epoch 125/600\n",
      "18/18 [==============================] - 0s 3ms/step - loss: 0.2511 - val_loss: 0.2492\n",
      "Epoch 126/600\n",
      "18/18 [==============================] - 0s 3ms/step - loss: 0.2676 - val_loss: 0.2492\n",
      "Epoch 127/600\n",
      "18/18 [==============================] - 0s 3ms/step - loss: 0.2588 - val_loss: 0.2491\n",
      "Epoch 128/600\n",
      "18/18 [==============================] - 0s 3ms/step - loss: 0.2634 - val_loss: 0.2489\n",
      "Epoch 129/600\n",
      "18/18 [==============================] - 0s 3ms/step - loss: 0.2474 - val_loss: 0.2487\n",
      "Epoch 130/600\n",
      "18/18 [==============================] - 0s 4ms/step - loss: 0.2584 - val_loss: 0.2486\n",
      "Epoch 131/600\n",
      "18/18 [==============================] - 0s 4ms/step - loss: 0.2530 - val_loss: 0.2485\n",
      "Epoch 132/600\n",
      "18/18 [==============================] - 0s 3ms/step - loss: 0.2563 - val_loss: 0.2483\n",
      "Epoch 133/600\n",
      "18/18 [==============================] - 0s 3ms/step - loss: 0.2565 - val_loss: 0.2483\n",
      "Epoch 134/600\n",
      "18/18 [==============================] - 0s 3ms/step - loss: 0.2431 - val_loss: 0.2483\n",
      "Epoch 135/600\n",
      "18/18 [==============================] - 0s 3ms/step - loss: 0.2489 - val_loss: 0.2481\n",
      "Epoch 136/600\n",
      "18/18 [==============================] - 0s 4ms/step - loss: 0.2331 - val_loss: 0.2476\n",
      "Epoch 137/600\n",
      "18/18 [==============================] - 0s 4ms/step - loss: 0.2437 - val_loss: 0.2474\n",
      "Epoch 138/600\n",
      "18/18 [==============================] - 0s 3ms/step - loss: 0.2408 - val_loss: 0.2473\n",
      "Epoch 139/600\n",
      "18/18 [==============================] - 0s 3ms/step - loss: 0.2458 - val_loss: 0.2469\n",
      "Epoch 140/600\n",
      "18/18 [==============================] - 0s 2ms/step - loss: 0.2501 - val_loss: 0.2466\n",
      "Epoch 141/600\n",
      "18/18 [==============================] - 0s 2ms/step - loss: 0.2420 - val_loss: 0.2466\n",
      "Epoch 142/600\n",
      "18/18 [==============================] - 0s 3ms/step - loss: 0.2540 - val_loss: 0.2466\n",
      "Epoch 143/600\n",
      "18/18 [==============================] - 0s 3ms/step - loss: 0.2425 - val_loss: 0.2464\n",
      "Epoch 144/600\n",
      "18/18 [==============================] - 0s 4ms/step - loss: 0.2522 - val_loss: 0.2463\n",
      "Epoch 145/600\n",
      "18/18 [==============================] - 0s 3ms/step - loss: 0.2603 - val_loss: 0.2465\n",
      "Epoch 146/600\n",
      "18/18 [==============================] - 0s 3ms/step - loss: 0.2531 - val_loss: 0.2467\n",
      "Epoch 147/600\n",
      "18/18 [==============================] - 0s 3ms/step - loss: 0.2501 - val_loss: 0.2466\n",
      "Epoch 148/600\n",
      "18/18 [==============================] - 0s 2ms/step - loss: 0.2598 - val_loss: 0.2464\n",
      "Epoch 149/600\n",
      "18/18 [==============================] - 0s 3ms/step - loss: 0.2487 - val_loss: 0.2465\n",
      "Epoch 150/600\n",
      "18/18 [==============================] - 0s 3ms/step - loss: 0.2378 - val_loss: 0.2464\n",
      "Epoch 151/600\n",
      "18/18 [==============================] - 0s 3ms/step - loss: 0.2586 - val_loss: 0.2463\n",
      "Epoch 152/600\n",
      "18/18 [==============================] - 0s 4ms/step - loss: 0.2439 - val_loss: 0.2462\n",
      "Epoch 153/600\n",
      "18/18 [==============================] - 0s 3ms/step - loss: 0.2487 - val_loss: 0.2461\n",
      "Epoch 154/600\n",
      "18/18 [==============================] - 0s 3ms/step - loss: 0.2556 - val_loss: 0.2462\n",
      "Epoch 155/600\n",
      "18/18 [==============================] - 0s 2ms/step - loss: 0.2507 - val_loss: 0.2461\n",
      "Epoch 156/600\n",
      "18/18 [==============================] - 0s 2ms/step - loss: 0.2471 - val_loss: 0.2461\n",
      "Epoch 157/600\n",
      "18/18 [==============================] - 0s 2ms/step - loss: 0.2513 - val_loss: 0.2461\n",
      "Epoch 158/600\n",
      "18/18 [==============================] - 0s 2ms/step - loss: 0.2459 - val_loss: 0.2460\n",
      "Epoch 159/600\n",
      "18/18 [==============================] - 0s 3ms/step - loss: 0.2424 - val_loss: 0.2457\n",
      "Epoch 160/600\n",
      "18/18 [==============================] - 0s 2ms/step - loss: 0.2587 - val_loss: 0.2460\n",
      "Epoch 161/600\n",
      "18/18 [==============================] - 0s 2ms/step - loss: 0.2405 - val_loss: 0.2460\n",
      "Epoch 162/600\n",
      "18/18 [==============================] - 0s 2ms/step - loss: 0.2410 - val_loss: 0.2458\n",
      "Epoch 163/600\n",
      "18/18 [==============================] - 0s 3ms/step - loss: 0.2314 - val_loss: 0.2458\n",
      "Epoch 164/600\n",
      "18/18 [==============================] - 0s 3ms/step - loss: 0.2400 - val_loss: 0.2459\n",
      "Epoch 165/600\n",
      "18/18 [==============================] - 0s 4ms/step - loss: 0.2494 - val_loss: 0.2461\n",
      "Epoch 166/600\n",
      "18/18 [==============================] - 0s 3ms/step - loss: 0.2460 - val_loss: 0.2462\n",
      "Epoch 167/600\n",
      "18/18 [==============================] - 0s 3ms/step - loss: 0.2398 - val_loss: 0.2463\n",
      "Epoch 168/600\n",
      "18/18 [==============================] - 0s 3ms/step - loss: 0.2245 - val_loss: 0.2461\n",
      "Epoch 169/600\n",
      "18/18 [==============================] - 0s 3ms/step - loss: 0.2431 - val_loss: 0.2460\n",
      "Epoch 170/600\n",
      "18/18 [==============================] - 0s 2ms/step - loss: 0.2305 - val_loss: 0.2460\n",
      "Epoch 171/600\n",
      "18/18 [==============================] - 0s 3ms/step - loss: 0.2265 - val_loss: 0.2458\n",
      "Epoch 172/600\n",
      "18/18 [==============================] - 0s 2ms/step - loss: 0.2553 - val_loss: 0.2458\n",
      "Epoch 173/600\n",
      "18/18 [==============================] - 0s 3ms/step - loss: 0.2467 - val_loss: 0.2458\n",
      "Epoch 174/600\n",
      "18/18 [==============================] - 0s 3ms/step - loss: 0.2388 - val_loss: 0.2457\n",
      "Epoch 175/600\n",
      "18/18 [==============================] - 0s 2ms/step - loss: 0.2360 - val_loss: 0.2457\n",
      "Epoch 176/600\n",
      "18/18 [==============================] - 0s 2ms/step - loss: 0.2336 - val_loss: 0.2455\n",
      "Epoch 177/600\n",
      "18/18 [==============================] - 0s 2ms/step - loss: 0.2398 - val_loss: 0.2454\n",
      "Epoch 178/600\n",
      "18/18 [==============================] - 0s 3ms/step - loss: 0.2409 - val_loss: 0.2453\n",
      "Epoch 179/600\n",
      "18/18 [==============================] - 0s 3ms/step - loss: 0.2389 - val_loss: 0.2452\n",
      "Epoch 180/600\n",
      "18/18 [==============================] - 0s 2ms/step - loss: 0.2382 - val_loss: 0.2451\n",
      "Epoch 181/600\n",
      "18/18 [==============================] - 0s 3ms/step - loss: 0.2404 - val_loss: 0.2451\n",
      "Epoch 182/600\n",
      "18/18 [==============================] - 0s 3ms/step - loss: 0.2452 - val_loss: 0.2451\n",
      "Epoch 183/600\n",
      "18/18 [==============================] - 0s 3ms/step - loss: 0.2416 - val_loss: 0.2449\n",
      "Epoch 184/600\n",
      "18/18 [==============================] - 0s 3ms/step - loss: 0.2371 - val_loss: 0.2449\n",
      "Epoch 185/600\n",
      "18/18 [==============================] - 0s 3ms/step - loss: 0.2438 - val_loss: 0.2449\n",
      "Epoch 186/600\n",
      "18/18 [==============================] - 0s 4ms/step - loss: 0.2387 - val_loss: 0.2449\n",
      "Epoch 187/600\n",
      "18/18 [==============================] - 0s 5ms/step - loss: 0.2382 - val_loss: 0.2450\n",
      "Epoch 188/600\n",
      "18/18 [==============================] - 0s 4ms/step - loss: 0.2441 - val_loss: 0.2451\n",
      "Epoch 189/600\n",
      "18/18 [==============================] - 0s 3ms/step - loss: 0.2458 - val_loss: 0.2450\n",
      "Epoch 190/600\n",
      "18/18 [==============================] - 0s 4ms/step - loss: 0.2426 - val_loss: 0.2449\n",
      "Epoch 191/600\n",
      "18/18 [==============================] - 0s 3ms/step - loss: 0.2356 - val_loss: 0.2450\n",
      "Epoch 192/600\n",
      "18/18 [==============================] - 0s 5ms/step - loss: 0.2379 - val_loss: 0.2451\n",
      "Epoch 193/600\n",
      "18/18 [==============================] - 0s 4ms/step - loss: 0.2397 - val_loss: 0.2450\n",
      "Epoch 194/600\n",
      "18/18 [==============================] - 0s 4ms/step - loss: 0.2503 - val_loss: 0.2452\n",
      "Epoch 195/600\n",
      "18/18 [==============================] - 0s 4ms/step - loss: 0.2347 - val_loss: 0.2453\n",
      "Epoch 196/600\n",
      "18/18 [==============================] - 0s 3ms/step - loss: 0.2372 - val_loss: 0.2452\n",
      "Epoch 197/600\n",
      "18/18 [==============================] - 0s 4ms/step - loss: 0.2310 - val_loss: 0.2449\n",
      "Epoch 198/600\n",
      "18/18 [==============================] - 0s 4ms/step - loss: 0.2349 - val_loss: 0.2447\n",
      "Epoch 199/600\n",
      "18/18 [==============================] - 0s 4ms/step - loss: 0.2287 - val_loss: 0.2450\n",
      "Epoch 200/600\n",
      "18/18 [==============================] - 0s 3ms/step - loss: 0.2345 - val_loss: 0.2449\n",
      "Epoch 201/600\n",
      "18/18 [==============================] - 0s 3ms/step - loss: 0.2298 - val_loss: 0.2450\n",
      "Epoch 202/600\n",
      "18/18 [==============================] - 0s 3ms/step - loss: 0.2356 - val_loss: 0.2449\n",
      "Epoch 203/600\n",
      "18/18 [==============================] - 0s 5ms/step - loss: 0.2302 - val_loss: 0.2450\n",
      "Epoch 204/600\n",
      "18/18 [==============================] - 0s 5ms/step - loss: 0.2380 - val_loss: 0.2452\n",
      "Epoch 205/600\n",
      "18/18 [==============================] - 0s 4ms/step - loss: 0.2437 - val_loss: 0.2454\n",
      "Epoch 206/600\n",
      "18/18 [==============================] - 0s 4ms/step - loss: 0.2314 - val_loss: 0.2453\n",
      "Epoch 207/600\n",
      "18/18 [==============================] - 0s 4ms/step - loss: 0.2270 - val_loss: 0.2452\n",
      "Epoch 208/600\n",
      "18/18 [==============================] - 0s 3ms/step - loss: 0.2250 - val_loss: 0.2450\n",
      "Epoch 209/600\n",
      "18/18 [==============================] - 0s 3ms/step - loss: 0.2375 - val_loss: 0.2451\n",
      "Epoch 210/600\n",
      "18/18 [==============================] - 0s 3ms/step - loss: 0.2382 - val_loss: 0.2452\n",
      "Epoch 211/600\n",
      "18/18 [==============================] - 0s 3ms/step - loss: 0.2364 - val_loss: 0.2451\n",
      "Epoch 212/600\n",
      "18/18 [==============================] - 0s 3ms/step - loss: 0.2369 - val_loss: 0.2449\n",
      "Epoch 213/600\n",
      "18/18 [==============================] - 0s 3ms/step - loss: 0.2441 - val_loss: 0.2450\n",
      "Epoch 214/600\n",
      "18/18 [==============================] - 0s 4ms/step - loss: 0.2208 - val_loss: 0.2450\n",
      "Epoch 215/600\n",
      "18/18 [==============================] - 0s 4ms/step - loss: 0.2373 - val_loss: 0.2448\n",
      "Epoch 216/600\n",
      "18/18 [==============================] - 0s 4ms/step - loss: 0.2370 - val_loss: 0.2445\n",
      "Epoch 217/600\n",
      "18/18 [==============================] - 0s 6ms/step - loss: 0.2438 - val_loss: 0.2446\n",
      "Epoch 218/600\n",
      "18/18 [==============================] - 0s 5ms/step - loss: 0.2311 - val_loss: 0.2446\n",
      "Epoch 219/600\n",
      "18/18 [==============================] - 0s 4ms/step - loss: 0.2400 - val_loss: 0.2444\n",
      "Epoch 220/600\n",
      "18/18 [==============================] - 0s 4ms/step - loss: 0.2283 - val_loss: 0.2442\n",
      "Epoch 221/600\n",
      "18/18 [==============================] - 0s 5ms/step - loss: 0.2344 - val_loss: 0.2444\n",
      "Epoch 222/600\n",
      "18/18 [==============================] - 0s 4ms/step - loss: 0.2401 - val_loss: 0.2445\n",
      "Epoch 223/600\n",
      "18/18 [==============================] - 0s 4ms/step - loss: 0.2349 - val_loss: 0.2447\n",
      "Epoch 224/600\n",
      "18/18 [==============================] - 0s 3ms/step - loss: 0.2377 - val_loss: 0.2448\n",
      "Epoch 225/600\n",
      "18/18 [==============================] - 0s 3ms/step - loss: 0.2343 - val_loss: 0.2447\n",
      "Epoch 226/600\n",
      "18/18 [==============================] - 0s 3ms/step - loss: 0.2224 - val_loss: 0.2444\n",
      "Epoch 227/600\n",
      "18/18 [==============================] - 0s 3ms/step - loss: 0.2339 - val_loss: 0.2444\n",
      "Epoch 228/600\n",
      "18/18 [==============================] - 0s 4ms/step - loss: 0.2321 - val_loss: 0.2445\n",
      "Epoch 229/600\n",
      "18/18 [==============================] - 0s 4ms/step - loss: 0.2503 - val_loss: 0.2447\n",
      "Epoch 230/600\n",
      "18/18 [==============================] - 0s 4ms/step - loss: 0.2336 - val_loss: 0.2449\n",
      "Epoch 231/600\n",
      "18/18 [==============================] - 0s 5ms/step - loss: 0.2310 - val_loss: 0.2450\n",
      "Epoch 232/600\n",
      "18/18 [==============================] - 0s 5ms/step - loss: 0.2407 - val_loss: 0.2452\n",
      "Epoch 233/600\n",
      "18/18 [==============================] - 0s 6ms/step - loss: 0.2353 - val_loss: 0.2453\n",
      "Epoch 234/600\n",
      "18/18 [==============================] - 0s 6ms/step - loss: 0.2318 - val_loss: 0.2452\n",
      "Epoch 235/600\n",
      "18/18 [==============================] - 0s 5ms/step - loss: 0.2336 - val_loss: 0.2453\n",
      "Epoch 236/600\n",
      "18/18 [==============================] - 0s 4ms/step - loss: 0.2346 - val_loss: 0.2454\n",
      "Epoch 237/600\n",
      "18/18 [==============================] - 0s 3ms/step - loss: 0.2316 - val_loss: 0.2455\n",
      "Epoch 238/600\n",
      "18/18 [==============================] - 0s 3ms/step - loss: 0.2275 - val_loss: 0.2456\n",
      "Epoch 239/600\n",
      "18/18 [==============================] - 0s 3ms/step - loss: 0.2350 - val_loss: 0.2455\n",
      "Epoch 240/600\n",
      "18/18 [==============================] - 0s 3ms/step - loss: 0.2270 - val_loss: 0.2454\n",
      "Epoch 241/600\n",
      "18/18 [==============================] - 0s 3ms/step - loss: 0.2349 - val_loss: 0.2455\n",
      "Epoch 242/600\n",
      "18/18 [==============================] - 0s 3ms/step - loss: 0.2281 - val_loss: 0.2456\n",
      "Epoch 243/600\n",
      "18/18 [==============================] - 0s 5ms/step - loss: 0.2370 - val_loss: 0.2457\n",
      "Epoch 244/600\n",
      "18/18 [==============================] - 0s 5ms/step - loss: 0.2248 - val_loss: 0.2458\n",
      "Epoch 245/600\n"
     ]
    },
    {
     "name": "stdout",
     "output_type": "stream",
     "text": [
      "18/18 [==============================] - 0s 3ms/step - loss: 0.2341 - val_loss: 0.2457\n",
      "Epoch 245: early stopping\n"
     ]
    },
    {
     "data": {
      "text/plain": [
       "<keras.callbacks.History at 0x271dfe21bb0>"
      ]
     },
     "execution_count": 51,
     "metadata": {},
     "output_type": "execute_result"
    }
   ],
   "source": [
    "model = Sequential()\n",
    "\n",
    "# input layer\n",
    "model.add(Dense(units=6,activation='relu'))\n",
    "model.add(Dropout(0.5))\n",
    "\n",
    "# hidden layer\n",
    "model.add(Dense(units=3,activation='relu'))\n",
    "model.add(Dropout(0.5))\n",
    "\n",
    "# output layer\n",
    "model.add(Dense(units=1,activation='sigmoid'))\n",
    "\n",
    "# compiler\n",
    "model.compile(loss='binary_crossentropy', optimizer='adam')\n",
    "\n",
    "early_stop = EarlyStopping(monitor='val_loss',mode='min',verbose=1,patience=25)\n",
    "\n",
    "model.fit(x=X_train,y=y_train,epochs=600,validation_data=(X_test,y_test),callbacks=[early_stop])\n"
   ]
  },
  {
   "cell_type": "code",
   "execution_count": 52,
   "id": "74b3cd35",
   "metadata": {},
   "outputs": [
    {
     "name": "stdout",
     "output_type": "stream",
     "text": [
      "Accuracy Score: 0.9187279151943463\n",
      "\n",
      "\n",
      "              precision    recall  f1-score   support\n",
      "\n",
      "           0       0.93      0.98      0.96       263\n",
      "           1       0.20      0.05      0.08        20\n",
      "\n",
      "    accuracy                           0.92       283\n",
      "   macro avg       0.57      0.52      0.52       283\n",
      "weighted avg       0.88      0.92      0.90       283\n",
      "\n",
      "\n",
      "\n",
      "[[259   4]\n",
      " [ 19   1]]\n"
     ]
    }
   ],
   "source": [
    "print('Accuracy Score:',accuracy_score(y_test,predictions))\n",
    "print('\\n')\n",
    "print(classification_report(y_test,predictions))\n",
    "print('\\n')\n",
    "print(confusion_matrix(y_test,predictions))"
   ]
  },
  {
   "cell_type": "markdown",
   "id": "8acfbe95",
   "metadata": {},
   "source": [
    "## Naive Bayes before Feature Selection"
   ]
  },
  {
   "cell_type": "code",
   "execution_count": 60,
   "id": "0be8ea9c",
   "metadata": {},
   "outputs": [],
   "source": [
    "X = df.drop(['Hinselmann','Schiller','Citology','Biopsy'],axis=1)\n",
    "y = df['Biopsy']"
   ]
  },
  {
   "cell_type": "code",
   "execution_count": 61,
   "id": "ac626417",
   "metadata": {},
   "outputs": [],
   "source": [
    "X_train, X_test, y_train, y_test = train_test_split(X, y, test_size=0.33, random_state=101)"
   ]
  },
  {
   "cell_type": "code",
   "execution_count": 67,
   "id": "e86039a0",
   "metadata": {},
   "outputs": [],
   "source": [
    "X_train, X_test, y_train, y_test = train_test_split(X_new, y, test_size=0.33, random_state=101)"
   ]
  },
  {
   "cell_type": "code",
   "execution_count": 68,
   "id": "02d9fde1",
   "metadata": {},
   "outputs": [],
   "source": [
    "from sklearn.naive_bayes import GaussianNB"
   ]
  },
  {
   "cell_type": "code",
   "execution_count": 69,
   "id": "da49e25b",
   "metadata": {},
   "outputs": [],
   "source": [
    "gnb = GaussianNB()"
   ]
  },
  {
   "cell_type": "code",
   "execution_count": 70,
   "id": "0bd3383f",
   "metadata": {},
   "outputs": [
    {
     "data": {
      "text/plain": [
       "GaussianNB()"
      ]
     },
     "execution_count": 70,
     "metadata": {},
     "output_type": "execute_result"
    }
   ],
   "source": [
    "gnb.fit(X_train,y_train)"
   ]
  },
  {
   "cell_type": "code",
   "execution_count": 71,
   "id": "afa12730",
   "metadata": {},
   "outputs": [],
   "source": [
    "predictions = gnb.predict(X_test)"
   ]
  },
  {
   "cell_type": "code",
   "execution_count": 72,
   "id": "43feea31",
   "metadata": {},
   "outputs": [
    {
     "name": "stdout",
     "output_type": "stream",
     "text": [
      "Accuracy Score: 0.872791519434629\n",
      "\n",
      "\n",
      "              precision    recall  f1-score   support\n",
      "\n",
      "           0       0.95      0.92      0.93       263\n",
      "           1       0.21      0.30      0.25        20\n",
      "\n",
      "    accuracy                           0.87       283\n",
      "   macro avg       0.58      0.61      0.59       283\n",
      "weighted avg       0.89      0.87      0.88       283\n",
      "\n",
      "\n",
      "\n",
      "[[241  22]\n",
      " [ 14   6]]\n"
     ]
    }
   ],
   "source": [
    "print('Accuracy Score:',accuracy_score(y_test,predictions))\n",
    "print('\\n')\n",
    "print(classification_report(y_test,predictions))\n",
    "print('\\n')\n",
    "print(confusion_matrix(y_test,predictions))"
   ]
  },
  {
   "cell_type": "markdown",
   "id": "5f66f348",
   "metadata": {},
   "source": [
    "### XGBoost"
   ]
  },
  {
   "cell_type": "code",
   "execution_count": 73,
   "id": "63474e85",
   "metadata": {},
   "outputs": [],
   "source": [
    "import xgboost as xgb"
   ]
  },
  {
   "cell_type": "code",
   "execution_count": 74,
   "id": "e5fc94fd",
   "metadata": {},
   "outputs": [],
   "source": [
    "xgb_cl = xgb.XGBClassifier()"
   ]
  },
  {
   "cell_type": "code",
   "execution_count": 75,
   "id": "ab0fc03a",
   "metadata": {},
   "outputs": [
    {
     "data": {
      "text/plain": [
       "XGBClassifier(base_score=0.5, booster='gbtree', callbacks=None,\n",
       "              colsample_bylevel=1, colsample_bynode=1, colsample_bytree=1,\n",
       "              early_stopping_rounds=None, enable_categorical=False,\n",
       "              eval_metric=None, gamma=0, gpu_id=-1, grow_policy='depthwise',\n",
       "              importance_type=None, interaction_constraints='',\n",
       "              learning_rate=0.300000012, max_bin=256, max_cat_to_onehot=4,\n",
       "              max_delta_step=0, max_depth=6, max_leaves=0, min_child_weight=1,\n",
       "              missing=nan, monotone_constraints='()', n_estimators=100,\n",
       "              n_jobs=0, num_parallel_tree=1, predictor='auto', random_state=0,\n",
       "              reg_alpha=0, reg_lambda=1, ...)"
      ]
     },
     "execution_count": 75,
     "metadata": {},
     "output_type": "execute_result"
    }
   ],
   "source": [
    "xgb_cl.fit(X_train, y_train)"
   ]
  },
  {
   "cell_type": "code",
   "execution_count": 76,
   "id": "cdaef7c5",
   "metadata": {},
   "outputs": [],
   "source": [
    "predictions = xgb_cl.predict(X_test)"
   ]
  },
  {
   "cell_type": "code",
   "execution_count": 77,
   "id": "b02dc87d",
   "metadata": {},
   "outputs": [
    {
     "name": "stdout",
     "output_type": "stream",
     "text": [
      "Accuracy Score: 0.9187279151943463\n",
      "\n",
      "\n",
      "              precision    recall  f1-score   support\n",
      "\n",
      "           0       0.93      0.98      0.96       263\n",
      "           1       0.20      0.05      0.08        20\n",
      "\n",
      "    accuracy                           0.92       283\n",
      "   macro avg       0.57      0.52      0.52       283\n",
      "weighted avg       0.88      0.92      0.90       283\n",
      "\n",
      "\n",
      "\n",
      "[[259   4]\n",
      " [ 19   1]]\n"
     ]
    }
   ],
   "source": [
    "print('Accuracy Score:',accuracy_score(y_test,predictions))\n",
    "print('\\n')\n",
    "print(classification_report(y_test,predictions))\n",
    "print('\\n')\n",
    "print(confusion_matrix(y_test,predictions))"
   ]
  },
  {
   "cell_type": "markdown",
   "id": "2698bdd1",
   "metadata": {},
   "source": [
    "# Using K-folds"
   ]
  },
  {
   "cell_type": "markdown",
   "id": "8f3cedff",
   "metadata": {},
   "source": [
    "### Decision Tree"
   ]
  },
  {
   "cell_type": "code",
   "execution_count": 88,
   "id": "6523410a",
   "metadata": {},
   "outputs": [],
   "source": [
    "from sklearn.model_selection import cross_val_score"
   ]
  },
  {
   "cell_type": "code",
   "execution_count": null,
   "id": "9d0e4e5f",
   "metadata": {},
   "outputs": [],
   "source": [
    "clf = svm.SVC(kernel='linear', C=1, random_state=42)"
   ]
  },
  {
   "cell_type": "code",
   "execution_count": 103,
   "id": "1e27da7b",
   "metadata": {},
   "outputs": [],
   "source": [
    "accuracy = []\n",
    "for i in range(2,20):\n",
    "    model = DecisionTreeClassifier()\n",
    "    model.fit(X_train, y_train)\n",
    "    scores = cross_val_score(model, X_train, y_train, cv=i, scoring='accuracy')\n",
    "    predictions = model.predict(X_test)\n",
    "    accuracy.append(accuracy_score(y_test,predictions))"
   ]
  },
  {
   "cell_type": "code",
   "execution_count": 104,
   "id": "300302eb",
   "metadata": {},
   "outputs": [
    {
     "data": {
      "text/plain": [
       "18"
      ]
     },
     "execution_count": 104,
     "metadata": {},
     "output_type": "execute_result"
    }
   ],
   "source": [
    "len(accuracy)"
   ]
  },
  {
   "cell_type": "code",
   "execution_count": 105,
   "id": "0607332e",
   "metadata": {},
   "outputs": [
    {
     "data": {
      "text/plain": [
       "Text(0.5, 0, 'cv')"
      ]
     },
     "execution_count": 105,
     "metadata": {},
     "output_type": "execute_result"
    },
    {
     "data": {
      "image/png": "[encoded data removed]",
      "text/plain": [
       "<Figure size 720x432 with 1 Axes>"
      ]
     },
     "metadata": {
      "needs_background": "light"
     },
     "output_type": "display_data"
    }
   ],
   "source": [
    "plt.figure(figsize=(10,6))\n",
    "plt.plot(range(2,20),accuracy,color='blue',linestyle='--',marker='o',markerfacecolor='red',markersize=10)\n",
    "plt.title('Accuracy vs cv value')\n",
    "plt.xlabel('cv')"
   ]
  },
  {
   "cell_type": "code",
   "execution_count": 106,
   "id": "f20a994c",
   "metadata": {},
   "outputs": [],
   "source": [
    "model = DecisionTreeClassifier()\n",
    "model.fit(X_train, y_train)\n",
    "scores = cross_val_score(model, X_train, y_train, cv=3, scoring='accuracy')\n",
    "predictions = model.predict(X_test)"
   ]
  },
  {
   "cell_type": "code",
   "execution_count": 107,
   "id": "0d670c7e",
   "metadata": {},
   "outputs": [],
   "source": [
    "predictions = model.predict(X_test)"
   ]
  },
  {
   "cell_type": "code",
   "execution_count": 108,
   "id": "03e8936e",
   "metadata": {},
   "outputs": [
    {
     "name": "stdout",
     "output_type": "stream",
     "text": [
      "Accuracy Score: 0.9257950530035336\n",
      "\n",
      "\n",
      "              precision    recall  f1-score   support\n",
      "\n",
      "           0       0.94      0.98      0.96       263\n",
      "           1       0.43      0.15      0.22        20\n",
      "\n",
      "    accuracy                           0.93       283\n",
      "   macro avg       0.68      0.57      0.59       283\n",
      "weighted avg       0.90      0.93      0.91       283\n",
      "\n",
      "\n",
      "\n",
      "[[259   4]\n",
      " [ 17   3]]\n"
     ]
    }
   ],
   "source": [
    "print('Accuracy Score:',accuracy_score(y_test,predictions))\n",
    "print('\\n')\n",
    "print(classification_report(y_test,predictions))\n",
    "print('\\n')\n",
    "print(confusion_matrix(y_test,predictions))"
   ]
  },
  {
   "cell_type": "code",
   "execution_count": 110,
   "id": "6682a55f",
   "metadata": {},
   "outputs": [],
   "source": [
    "accuracy = []\n",
    "for i in range(2,20):\n",
    "    model = KNeighborsClassifier(n_neighbors=6)\n",
    "    model.fit(X_train, y_train)\n",
    "    scores = cross_val_score(model, X_train, y_train, cv=3, scoring='accuracy')\n",
    "    predictions = model.predict(X_test)\n",
    "    accuracy.append(accuracy_score(y_test,predictions))"
   ]
  },
  {
   "cell_type": "code",
   "execution_count": 111,
   "id": "6d1965f0",
   "metadata": {},
   "outputs": [
    {
     "data": {
      "text/plain": [
       "Text(0.5, 0, 'cv')"
      ]
     },
     "execution_count": 111,
     "metadata": {},
     "output_type": "execute_result"
    },
    {
     "data": {
      "image/png": "[encoded data removed]",
      "text/plain": [
       "<Figure size 720x432 with 1 Axes>"
      ]
     },
     "metadata": {
      "needs_background": "light"
     },
     "output_type": "display_data"
    }
   ],
   "source": [
    "plt.figure(figsize=(10,6))\n",
    "plt.plot(range(2,20),accuracy,color='blue',linestyle='--',marker='o',markerfacecolor='red',markersize=10)\n",
    "plt.title('Accuracy vs cv value')\n",
    "plt.xlabel('cv')"
   ]
  },
  {
   "cell_type": "code",
   "execution_count": 112,
   "id": "ce875c05",
   "metadata": {},
   "outputs": [],
   "source": [
    "accuracy = []\n",
    "for i in range(2,20):\n",
    "    model = RandomForestClassifier()\n",
    "    model.fit(X_train, y_train)\n",
    "    scores = cross_val_score(model, X_train, y_train, cv=i, scoring='accuracy')\n",
    "    predictions = model.predict(X_test)\n",
    "    accuracy.append(accuracy_score(y_test,predictions))"
   ]
  },
  {
   "cell_type": "code",
   "execution_count": 113,
   "id": "b2c602f4",
   "metadata": {},
   "outputs": [
    {
     "data": {
      "text/plain": [
       "Text(0.5, 0, 'cv')"
      ]
     },
     "execution_count": 113,
     "metadata": {},
     "output_type": "execute_result"
    },
    {
     "data": {
      "image/png": "[encoded data removed]",
      "text/plain": [
       "<Figure size 720x432 with 1 Axes>"
      ]
     },
     "metadata": {
      "needs_background": "light"
     },
     "output_type": "display_data"
    }
   ],
   "source": [
    "plt.figure(figsize=(10,6))\n",
    "plt.plot(range(2,20),accuracy,color='blue',linestyle='--',marker='o',markerfacecolor='red',markersize=10)\n",
    "plt.title('Accuracy vs cv value')\n",
    "plt.xlabel('cv')"
   ]
  },
  {
   "cell_type": "code",
   "execution_count": 117,
   "id": "b34c6d32",
   "metadata": {},
   "outputs": [],
   "source": [
    "model = RandomForestClassifier()\n",
    "model.fit(X_train, y_train)\n",
    "scores = cross_val_score(model, X_train, y_train, cv=10, scoring='accuracy')\n",
    "predictions = model.predict(X_test)"
   ]
  },
  {
   "cell_type": "code",
   "execution_count": 118,
   "id": "c4be152b",
   "metadata": {},
   "outputs": [
    {
     "name": "stdout",
     "output_type": "stream",
     "text": [
      "Accuracy Score: 0.9187279151943463\n",
      "\n",
      "\n",
      "              precision    recall  f1-score   support\n",
      "\n",
      "           0       0.93      0.99      0.96       263\n",
      "           1       0.00      0.00      0.00        20\n",
      "\n",
      "    accuracy                           0.92       283\n",
      "   macro avg       0.46      0.49      0.48       283\n",
      "weighted avg       0.86      0.92      0.89       283\n",
      "\n",
      "\n",
      "\n",
      "[[260   3]\n",
      " [ 20   0]]\n"
     ]
    }
   ],
   "source": [
    "print('Accuracy Score:',accuracy_score(y_test,predictions))\n",
    "print('\\n')\n",
    "print(classification_report(y_test,predictions))\n",
    "print('\\n')\n",
    "print(confusion_matrix(y_test,predictions))"
   ]
  },
  {
   "cell_type": "code",
   "execution_count": null,
   "id": "d162344a",
   "metadata": {},
   "outputs": [],
   "source": []
  }
 ],
 "metadata": {
  "kernelspec": {
   "display_name": "Python 3",
   "language": "python",
   "name": "python3"
  },
  "language_info": {
   "codemirror_mode": {
    "name": "ipython",
    "version": 3
   },
   "file_extension": ".py",
   "mimetype": "text/x-python",
   "name": "python",
   "nbconvert_exporter": "python",
   "pygments_lexer": "ipython3",
   "version": "3.8.8"
  }
 },
 "nbformat": 4,
 "nbformat_minor": 5
}
