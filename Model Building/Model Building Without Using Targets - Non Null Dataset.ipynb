{
 "cells": [
  {
   "cell_type": "code",
   "execution_count": 1,
   "id": "cf3ed3a0",
   "metadata": {},
   "outputs": [],
   "source": [
    "import numpy as np\n",
    "import pandas as pd\n",
    "import matplotlib.pyplot as plt\n",
    "import seaborn as sns\n",
    "%matplotlib inline"
   ]
  },
  {
   "cell_type": "code",
   "execution_count": 2,
   "id": "12a00984",
   "metadata": {},
   "outputs": [],
   "source": [
    "df = pd.read_csv('Clean Data_3.csv')"
   ]
  },
  {
   "cell_type": "code",
   "execution_count": 3,
   "id": "8cfcb99a",
   "metadata": {},
   "outputs": [
    {
     "data": {
      "text/html": [
       "<div>\n",
       "<style scoped>\n",
       "    .dataframe tbody tr th:only-of-type {\n",
       "        vertical-align: middle;\n",
       "    }\n",
       "\n",
       "    .dataframe tbody tr th {\n",
       "        vertical-align: top;\n",
       "    }\n",
       "\n",
       "    .dataframe thead th {\n",
       "        text-align: right;\n",
       "    }\n",
       "</style>\n",
       "<table border=\"1\" class=\"dataframe\">\n",
       "  <thead>\n",
       "    <tr style=\"text-align: right;\">\n",
       "      <th></th>\n",
       "      <th>Unnamed: 0</th>\n",
       "      <th>Age</th>\n",
       "      <th>Number of sexual partners</th>\n",
       "      <th>First sexual intercourse</th>\n",
       "      <th>Num of pregnancies</th>\n",
       "      <th>Smokes</th>\n",
       "      <th>Smokes (years)</th>\n",
       "      <th>Smokes (packs/year)</th>\n",
       "      <th>Hormonal Contraceptives</th>\n",
       "      <th>Hormonal Contraceptives (years)</th>\n",
       "      <th>...</th>\n",
       "      <th>STDs:HPV</th>\n",
       "      <th>STDs: Number of diagnosis</th>\n",
       "      <th>Dx:Cancer</th>\n",
       "      <th>Dx:CIN</th>\n",
       "      <th>Dx:HPV</th>\n",
       "      <th>Dx</th>\n",
       "      <th>Hinselmann</th>\n",
       "      <th>Schiller</th>\n",
       "      <th>Citology</th>\n",
       "      <th>Biopsy</th>\n",
       "    </tr>\n",
       "  </thead>\n",
       "  <tbody>\n",
       "    <tr>\n",
       "      <th>0</th>\n",
       "      <td>0</td>\n",
       "      <td>18</td>\n",
       "      <td>4.0</td>\n",
       "      <td>15.0</td>\n",
       "      <td>1.0</td>\n",
       "      <td>0.0</td>\n",
       "      <td>0.0</td>\n",
       "      <td>0.0</td>\n",
       "      <td>0.0</td>\n",
       "      <td>0.0</td>\n",
       "      <td>...</td>\n",
       "      <td>0.0</td>\n",
       "      <td>0</td>\n",
       "      <td>0</td>\n",
       "      <td>0</td>\n",
       "      <td>0</td>\n",
       "      <td>0</td>\n",
       "      <td>0</td>\n",
       "      <td>0</td>\n",
       "      <td>0</td>\n",
       "      <td>0</td>\n",
       "    </tr>\n",
       "    <tr>\n",
       "      <th>1</th>\n",
       "      <td>1</td>\n",
       "      <td>15</td>\n",
       "      <td>1.0</td>\n",
       "      <td>14.0</td>\n",
       "      <td>1.0</td>\n",
       "      <td>0.0</td>\n",
       "      <td>0.0</td>\n",
       "      <td>0.0</td>\n",
       "      <td>0.0</td>\n",
       "      <td>0.0</td>\n",
       "      <td>...</td>\n",
       "      <td>0.0</td>\n",
       "      <td>0</td>\n",
       "      <td>0</td>\n",
       "      <td>0</td>\n",
       "      <td>0</td>\n",
       "      <td>0</td>\n",
       "      <td>0</td>\n",
       "      <td>0</td>\n",
       "      <td>0</td>\n",
       "      <td>0</td>\n",
       "    </tr>\n",
       "    <tr>\n",
       "      <th>2</th>\n",
       "      <td>2</td>\n",
       "      <td>34</td>\n",
       "      <td>1.0</td>\n",
       "      <td>16.0</td>\n",
       "      <td>1.0</td>\n",
       "      <td>0.0</td>\n",
       "      <td>0.0</td>\n",
       "      <td>0.0</td>\n",
       "      <td>0.0</td>\n",
       "      <td>0.0</td>\n",
       "      <td>...</td>\n",
       "      <td>0.0</td>\n",
       "      <td>0</td>\n",
       "      <td>0</td>\n",
       "      <td>0</td>\n",
       "      <td>0</td>\n",
       "      <td>0</td>\n",
       "      <td>0</td>\n",
       "      <td>0</td>\n",
       "      <td>0</td>\n",
       "      <td>0</td>\n",
       "    </tr>\n",
       "    <tr>\n",
       "      <th>3</th>\n",
       "      <td>3</td>\n",
       "      <td>52</td>\n",
       "      <td>5.0</td>\n",
       "      <td>16.0</td>\n",
       "      <td>4.0</td>\n",
       "      <td>1.0</td>\n",
       "      <td>37.0</td>\n",
       "      <td>37.0</td>\n",
       "      <td>1.0</td>\n",
       "      <td>3.0</td>\n",
       "      <td>...</td>\n",
       "      <td>0.0</td>\n",
       "      <td>0</td>\n",
       "      <td>1</td>\n",
       "      <td>0</td>\n",
       "      <td>1</td>\n",
       "      <td>0</td>\n",
       "      <td>0</td>\n",
       "      <td>0</td>\n",
       "      <td>0</td>\n",
       "      <td>0</td>\n",
       "    </tr>\n",
       "    <tr>\n",
       "      <th>4</th>\n",
       "      <td>4</td>\n",
       "      <td>46</td>\n",
       "      <td>3.0</td>\n",
       "      <td>21.0</td>\n",
       "      <td>4.0</td>\n",
       "      <td>0.0</td>\n",
       "      <td>0.0</td>\n",
       "      <td>0.0</td>\n",
       "      <td>1.0</td>\n",
       "      <td>15.0</td>\n",
       "      <td>...</td>\n",
       "      <td>0.0</td>\n",
       "      <td>0</td>\n",
       "      <td>0</td>\n",
       "      <td>0</td>\n",
       "      <td>0</td>\n",
       "      <td>0</td>\n",
       "      <td>0</td>\n",
       "      <td>0</td>\n",
       "      <td>0</td>\n",
       "      <td>0</td>\n",
       "    </tr>\n",
       "  </tbody>\n",
       "</table>\n",
       "<p>5 rows × 33 columns</p>\n",
       "</div>"
      ],
      "text/plain": [
       "   Unnamed: 0  Age  Number of sexual partners  First sexual intercourse  \\\n",
       "0           0   18                        4.0                      15.0   \n",
       "1           1   15                        1.0                      14.0   \n",
       "2           2   34                        1.0                      16.0   \n",
       "3           3   52                        5.0                      16.0   \n",
       "4           4   46                        3.0                      21.0   \n",
       "\n",
       "   Num of pregnancies  Smokes  Smokes (years)  Smokes (packs/year)  \\\n",
       "0                 1.0     0.0             0.0                  0.0   \n",
       "1                 1.0     0.0             0.0                  0.0   \n",
       "2                 1.0     0.0             0.0                  0.0   \n",
       "3                 4.0     1.0            37.0                 37.0   \n",
       "4                 4.0     0.0             0.0                  0.0   \n",
       "\n",
       "   Hormonal Contraceptives  Hormonal Contraceptives (years)  ...  STDs:HPV  \\\n",
       "0                      0.0                              0.0  ...       0.0   \n",
       "1                      0.0                              0.0  ...       0.0   \n",
       "2                      0.0                              0.0  ...       0.0   \n",
       "3                      1.0                              3.0  ...       0.0   \n",
       "4                      1.0                             15.0  ...       0.0   \n",
       "\n",
       "   STDs: Number of diagnosis  Dx:Cancer  Dx:CIN  Dx:HPV  Dx  Hinselmann  \\\n",
       "0                          0          0       0       0   0           0   \n",
       "1                          0          0       0       0   0           0   \n",
       "2                          0          0       0       0   0           0   \n",
       "3                          0          1       0       1   0           0   \n",
       "4                          0          0       0       0   0           0   \n",
       "\n",
       "   Schiller  Citology  Biopsy  \n",
       "0         0         0       0  \n",
       "1         0         0       0  \n",
       "2         0         0       0  \n",
       "3         0         0       0  \n",
       "4         0         0       0  \n",
       "\n",
       "[5 rows x 33 columns]"
      ]
     },
     "execution_count": 3,
     "metadata": {},
     "output_type": "execute_result"
    }
   ],
   "source": [
    "df.head()"
   ]
  },
  {
   "cell_type": "code",
   "execution_count": 4,
   "id": "d55c2f43",
   "metadata": {},
   "outputs": [],
   "source": [
    "df.drop('Unnamed: 0',axis=1,inplace=True)"
   ]
  },
  {
   "cell_type": "code",
   "execution_count": 5,
   "id": "6a0d9968",
   "metadata": {},
   "outputs": [],
   "source": [
    "from sklearn.model_selection import train_test_split"
   ]
  },
  {
   "cell_type": "code",
   "execution_count": 6,
   "id": "4ddfe8c2",
   "metadata": {},
   "outputs": [],
   "source": [
    "X = df.drop(['Hinselmann','Schiller','Citology','Biopsy'],axis=1)\n",
    "y = df['Biopsy']"
   ]
  },
  {
   "cell_type": "code",
   "execution_count": 7,
   "id": "1da295d9",
   "metadata": {},
   "outputs": [],
   "source": [
    "X_train, X_test, y_train, y_test = train_test_split(X, y, test_size=0.33, random_state=101)"
   ]
  },
  {
   "cell_type": "code",
   "execution_count": 8,
   "id": "5c24de31",
   "metadata": {},
   "outputs": [],
   "source": [
    "from sklearn.model_selection import cross_val_score"
   ]
  },
  {
   "cell_type": "code",
   "execution_count": 9,
   "id": "01111916",
   "metadata": {},
   "outputs": [],
   "source": [
    "from sklearn.tree import DecisionTreeClassifier\n",
    "from sklearn.svm import SVC\n",
    "from sklearn.neighbors import KNeighborsClassifier\n",
    "from sklearn.linear_model import LogisticRegression\n",
    "from sklearn.ensemble import RandomForestClassifier"
   ]
  },
  {
   "cell_type": "code",
   "execution_count": 10,
   "id": "b4474083",
   "metadata": {},
   "outputs": [
    {
     "name": "stdout",
     "output_type": "stream",
     "text": [
      "[0.85245902 0.8852459  0.85245902 0.93442623 0.83606557 0.86885246\n",
      " 0.88333333 0.91666667]\n"
     ]
    }
   ],
   "source": [
    "model = DecisionTreeClassifier()\n",
    "model.fit(X_train, y_train)\n",
    "scores = cross_val_score(model, X_train, y_train, cv=8, scoring='accuracy')\n",
    "print(scores)"
   ]
  },
  {
   "cell_type": "code",
   "execution_count": 11,
   "id": "e89fcaef",
   "metadata": {},
   "outputs": [
    {
     "data": {
      "text/plain": [
       "DecisionTreeClassifier()"
      ]
     },
     "execution_count": 11,
     "metadata": {},
     "output_type": "execute_result"
    }
   ],
   "source": [
    "model.fit(X_train,y_train)"
   ]
  },
  {
   "cell_type": "code",
   "execution_count": 12,
   "id": "1dc8f11b",
   "metadata": {},
   "outputs": [],
   "source": [
    "predictions = model.predict(X_test)"
   ]
  },
  {
   "cell_type": "code",
   "execution_count": 13,
   "id": "60c839c9",
   "metadata": {},
   "outputs": [
    {
     "name": "stdout",
     "output_type": "stream",
     "text": [
      "Accuracy Score: 0.8791666666666667\n",
      "\n",
      "\n",
      "              precision    recall  f1-score   support\n",
      "\n",
      "           0       0.94      0.93      0.93       224\n",
      "           1       0.16      0.19      0.17        16\n",
      "\n",
      "    accuracy                           0.88       240\n",
      "   macro avg       0.55      0.56      0.55       240\n",
      "weighted avg       0.89      0.88      0.88       240\n",
      "\n",
      "\n",
      "\n",
      "[[208  16]\n",
      " [ 13   3]]\n"
     ]
    }
   ],
   "source": [
    "from sklearn.metrics import classification_report,confusion_matrix,accuracy_score\n",
    "\n",
    "print('Accuracy Score:',accuracy_score(y_test,predictions))\n",
    "print('\\n')\n",
    "print(classification_report(y_test,predictions))\n",
    "print('\\n')\n",
    "print(confusion_matrix(y_test,predictions))"
   ]
  },
  {
   "cell_type": "code",
   "execution_count": 14,
   "id": "83cc7ab0",
   "metadata": {},
   "outputs": [],
   "source": [
    "from sklearn.ensemble import ExtraTreesClassifier\n",
    "from sklearn.feature_selection import SelectFromModel"
   ]
  },
  {
   "cell_type": "code",
   "execution_count": 15,
   "id": "380cf135",
   "metadata": {},
   "outputs": [
    {
     "data": {
      "text/plain": [
       "(726, 28)"
      ]
     },
     "execution_count": 15,
     "metadata": {},
     "output_type": "execute_result"
    }
   ],
   "source": [
    "X.shape"
   ]
  },
  {
   "cell_type": "code",
   "execution_count": 16,
   "id": "c32abce0",
   "metadata": {},
   "outputs": [
    {
     "data": {
      "text/plain": [
       "array([1.95013035e-01, 1.06643985e-01, 1.44615314e-01, 1.09984105e-01,\n",
       "       1.38896148e-02, 4.04246901e-02, 3.20044183e-02, 2.46914603e-02,\n",
       "       1.51049554e-01, 2.08984008e-02, 3.44968358e-02, 6.07871917e-03,\n",
       "       6.70281963e-03, 5.48055507e-03, 1.20792281e-03, 7.43925106e-03,\n",
       "       3.45472281e-03, 9.43792514e-05, 1.51971647e-02, 3.15280644e-04,\n",
       "       1.26092589e-02, 6.67564037e-04, 1.06125095e-03, 8.39826744e-03,\n",
       "       1.79246157e-02, 4.45634074e-03, 1.72370771e-02, 1.79633966e-02])"
      ]
     },
     "execution_count": 16,
     "metadata": {},
     "output_type": "execute_result"
    }
   ],
   "source": [
    "clf = ExtraTreesClassifier(n_estimators=50)\n",
    "clf = clf.fit(X, y)\n",
    "clf.feature_importances_"
   ]
  },
  {
   "cell_type": "code",
   "execution_count": 17,
   "id": "bd9a7245",
   "metadata": {},
   "outputs": [],
   "source": [
    "feat_importances = pd.Series(clf.feature_importances_, index=X.columns)"
   ]
  },
  {
   "cell_type": "code",
   "execution_count": 18,
   "id": "76d161f6",
   "metadata": {},
   "outputs": [
    {
     "data": {
      "text/plain": [
       "Age                                   0.195013\n",
       "Number of sexual partners             0.106644\n",
       "First sexual intercourse              0.144615\n",
       "Num of pregnancies                    0.109984\n",
       "Smokes                                0.013890\n",
       "Smokes (years)                        0.040425\n",
       "Smokes (packs/year)                   0.032004\n",
       "Hormonal Contraceptives               0.024691\n",
       "Hormonal Contraceptives (years)       0.151050\n",
       "IUD                                   0.020898\n",
       "IUD (years)                           0.034497\n",
       "STDs                                  0.006079\n",
       "STDs (number)                         0.006703\n",
       "STDs:condylomatosis                   0.005481\n",
       "STDs:vaginal condylomatosis           0.001208\n",
       "STDs:vulvo-perineal condylomatosis    0.007439\n",
       "STDs:syphilis                         0.003455\n",
       "STDs:pelvic inflammatory disease      0.000094\n",
       "STDs:genital herpes                   0.015197\n",
       "STDs:molluscum contagiosum            0.000315\n",
       "STDs:HIV                              0.012609\n",
       "STDs:Hepatitis B                      0.000668\n",
       "STDs:HPV                              0.001061\n",
       "STDs: Number of diagnosis             0.008398\n",
       "Dx:Cancer                             0.017925\n",
       "Dx:CIN                                0.004456\n",
       "Dx:HPV                                0.017237\n",
       "Dx                                    0.017963\n",
       "dtype: float64"
      ]
     },
     "execution_count": 18,
     "metadata": {},
     "output_type": "execute_result"
    }
   ],
   "source": [
    "feat_importances"
   ]
  },
  {
   "cell_type": "code",
   "execution_count": 19,
   "id": "6e556dbe",
   "metadata": {},
   "outputs": [
    {
     "data": {
      "text/plain": [
       "<AxesSubplot:>"
      ]
     },
     "execution_count": 19,
     "metadata": {},
     "output_type": "execute_result"
    },
    {
     "data": {
      "image/png": "[encoded data removed]",
      "text/plain": [
       "<Figure size 432x288 with 1 Axes>"
      ]
     },
     "metadata": {
      "needs_background": "light"
     },
     "output_type": "display_data"
    }
   ],
   "source": [
    "feat_importances.nlargest(10).plot(kind='barh')"
   ]
  },
  {
   "cell_type": "code",
   "execution_count": 20,
   "id": "fc2bc02b",
   "metadata": {},
   "outputs": [],
   "source": [
    "model = SelectFromModel(clf, prefit=True)"
   ]
  },
  {
   "cell_type": "code",
   "execution_count": 21,
   "id": "389ab37c",
   "metadata": {},
   "outputs": [],
   "source": [
    "X_new = model.transform(X)"
   ]
  },
  {
   "cell_type": "code",
   "execution_count": 22,
   "id": "5d328273",
   "metadata": {},
   "outputs": [
    {
     "data": {
      "text/plain": [
       "(726, 6)"
      ]
     },
     "execution_count": 22,
     "metadata": {},
     "output_type": "execute_result"
    }
   ],
   "source": [
    "X_new.shape"
   ]
  },
  {
   "cell_type": "code",
   "execution_count": 23,
   "id": "d3f2453f",
   "metadata": {},
   "outputs": [],
   "source": [
    "X_train, X_test, y_train, y_test = train_test_split(X_new, y, test_size=0.33, random_state=101)"
   ]
  },
  {
   "cell_type": "code",
   "execution_count": 25,
   "id": "63ceded9",
   "metadata": {},
   "outputs": [],
   "source": [
    "new_model = DecisionTreeClassifier()"
   ]
  },
  {
   "cell_type": "code",
   "execution_count": 26,
   "id": "3d2a324c",
   "metadata": {},
   "outputs": [
    {
     "data": {
      "text/plain": [
       "DecisionTreeClassifier()"
      ]
     },
     "execution_count": 26,
     "metadata": {},
     "output_type": "execute_result"
    }
   ],
   "source": [
    "new_model.fit(X_train,y_train)"
   ]
  },
  {
   "cell_type": "code",
   "execution_count": 27,
   "id": "1c4120dc",
   "metadata": {},
   "outputs": [],
   "source": [
    "predictions = new_model.predict(X_test)"
   ]
  },
  {
   "cell_type": "code",
   "execution_count": 28,
   "id": "6b367fc5",
   "metadata": {},
   "outputs": [
    {
     "name": "stdout",
     "output_type": "stream",
     "text": [
      "Accuracy Score: 0.8666666666666667\n",
      "\n",
      "\n",
      "              precision    recall  f1-score   support\n",
      "\n",
      "           0       0.94      0.91      0.93       224\n",
      "           1       0.17      0.25      0.20        16\n",
      "\n",
      "    accuracy                           0.87       240\n",
      "   macro avg       0.56      0.58      0.56       240\n",
      "weighted avg       0.89      0.87      0.88       240\n",
      "\n",
      "\n",
      "\n",
      "[[204  20]\n",
      " [ 12   4]]\n"
     ]
    }
   ],
   "source": [
    "print('Accuracy Score:',accuracy_score(y_test,predictions))\n",
    "print('\\n')\n",
    "print(classification_report(y_test,predictions))\n",
    "print('\\n')\n",
    "print(confusion_matrix(y_test,predictions))"
   ]
  },
  {
   "cell_type": "code",
   "execution_count": 29,
   "id": "e89839e3",
   "metadata": {},
   "outputs": [],
   "source": [
    "import xgboost as xgb"
   ]
  },
  {
   "cell_type": "code",
   "execution_count": 30,
   "id": "7236f1d0",
   "metadata": {},
   "outputs": [],
   "source": [
    "xgb_cl = xgb.XGBClassifier()"
   ]
  },
  {
   "cell_type": "code",
   "execution_count": 31,
   "id": "5922c6c4",
   "metadata": {},
   "outputs": [
    {
     "data": {
      "text/plain": [
       "XGBClassifier(base_score=0.5, booster='gbtree', callbacks=None,\n",
       "              colsample_bylevel=1, colsample_bynode=1, colsample_bytree=1,\n",
       "              early_stopping_rounds=None, enable_categorical=False,\n",
       "              eval_metric=None, gamma=0, gpu_id=-1, grow_policy='depthwise',\n",
       "              importance_type=None, interaction_constraints='',\n",
       "              learning_rate=0.300000012, max_bin=256, max_cat_to_onehot=4,\n",
       "              max_delta_step=0, max_depth=6, max_leaves=0, min_child_weight=1,\n",
       "              missing=nan, monotone_constraints='()', n_estimators=100,\n",
       "              n_jobs=0, num_parallel_tree=1, predictor='auto', random_state=0,\n",
       "              reg_alpha=0, reg_lambda=1, ...)"
      ]
     },
     "execution_count": 31,
     "metadata": {},
     "output_type": "execute_result"
    }
   ],
   "source": [
    "xgb_cl.fit(X_train, y_train)"
   ]
  },
  {
   "cell_type": "code",
   "execution_count": 32,
   "id": "e9408c8a",
   "metadata": {},
   "outputs": [],
   "source": [
    "predictions = xgb_cl.predict(X_test)"
   ]
  },
  {
   "cell_type": "code",
   "execution_count": 33,
   "id": "54f8a09f",
   "metadata": {},
   "outputs": [
    {
     "name": "stdout",
     "output_type": "stream",
     "text": [
      "Accuracy Score: 0.9208333333333333\n",
      "\n",
      "\n",
      "              precision    recall  f1-score   support\n",
      "\n",
      "           0       0.94      0.98      0.96       224\n",
      "           1       0.20      0.06      0.10        16\n",
      "\n",
      "    accuracy                           0.92       240\n",
      "   macro avg       0.57      0.52      0.53       240\n",
      "weighted avg       0.89      0.92      0.90       240\n",
      "\n",
      "\n",
      "\n",
      "[[220   4]\n",
      " [ 15   1]]\n"
     ]
    }
   ],
   "source": [
    "print('Accuracy Score:',accuracy_score(y_test,predictions))\n",
    "print('\\n')\n",
    "print(classification_report(y_test,predictions))\n",
    "print('\\n')\n",
    "print(confusion_matrix(y_test,predictions))"
   ]
  },
  {
   "cell_type": "code",
   "execution_count": null,
   "id": "1330dccd",
   "metadata": {},
   "outputs": [],
   "source": []
  }
 ],
 "metadata": {
  "kernelspec": {
   "display_name": "Python 3",
   "language": "python",
   "name": "python3"
  },
  "language_info": {
   "codemirror_mode": {
    "name": "ipython",
    "version": 3
   },
   "file_extension": ".py",
   "mimetype": "text/x-python",
   "name": "python",
   "nbconvert_exporter": "python",
   "pygments_lexer": "ipython3",
   "version": "3.8.8"
  }
 },
 "nbformat": 4,
 "nbformat_minor": 5
}
